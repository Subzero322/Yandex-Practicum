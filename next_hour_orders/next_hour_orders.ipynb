{
 "cells": [
  {
   "cell_type": "markdown",
   "metadata": {
    "toc": true
   },
   "source": [
    "<h1>Содержание<span class=\"tocSkip\"></span></h1>\n",
    "<div class=\"toc\"><ul class=\"toc-item\"><li><span><a href=\"#Подготовка\" data-toc-modified-id=\"Подготовка-1\"><span class=\"toc-item-num\">1&nbsp;&nbsp;</span>Подготовка</a></span></li><li><span><a href=\"#Анализ\" data-toc-modified-id=\"Анализ-2\"><span class=\"toc-item-num\">2&nbsp;&nbsp;</span>Анализ</a></span><ul class=\"toc-item\"><li><ul class=\"toc-item\"><li><span><a href=\"#Для-примера-возьмём-обычный-рабочий-день-1-марта\" data-toc-modified-id=\"Для-примера-возьмём-обычный-рабочий-день-1-марта-2.0.1\"><span class=\"toc-item-num\">2.0.1&nbsp;&nbsp;</span>Для примера возьмём обычный рабочий день 1 марта</a></span></li><li><span><a href=\"#Можно-сделать-вывод,-что-пик-активности-составляет-с-21-до-00,-тк-в-это-время-скорее-всего-люди-возвращаются-домой-после-работы.-С-18-часов-так-же-заметен-подъем,-в-это-время-люди-так-же-возвращаются-с-работы.-Так-же-происходит-рост-активности-с-6-до-12-часов-утра.-Возможно-это-связано-с-тем,-что-в-это-время-люди-едут-на-работу\" data-toc-modified-id=\"Можно-сделать-вывод,-что-пик-активности-составляет-с-21-до-00,-тк-в-это-время-скорее-всего-люди-возвращаются-домой-после-работы.-С-18-часов-так-же-заметен-подъем,-в-это-время-люди-так-же-возвращаются-с-работы.-Так-же-происходит-рост-активности-с-6-до-12-часов-утра.-Возможно-это-связано-с-тем,-что-в-это-время-люди-едут-на-работу-2.0.2\"><span class=\"toc-item-num\">2.0.2&nbsp;&nbsp;</span>Можно сделать вывод, что пик активности составляет с 21 до 00, тк в это время скорее всего люди возвращаются домой после работы. С 18 часов так же заметен подъем, в это время люди так же возвращаются с работы. Так же происходит рост активности с 6 до 12 часов утра. Возможно это связано с тем, что в это время люди едут на работу</a></span></li><li><span><a href=\"#Стоит-проверить-всегда-ли-похожий-рост-активности.-Для-это-возьмем-ещё-2-других-случайных-дня:\" data-toc-modified-id=\"Стоит-проверить-всегда-ли-похожий-рост-активности.-Для-это-возьмем-ещё-2-других-случайных-дня:-2.0.3\"><span class=\"toc-item-num\">2.0.3&nbsp;&nbsp;</span>Стоит проверить всегда ли похожий рост активности. Для это возьмем ещё 2 других случайных дня:</a></span></li><li><span><a href=\"#Можно-заметить,-что-распределение-активности-всех-трех-графиков-очень-похоже,на-основании-этого-можно-подтвердить-вывод-выше.\" data-toc-modified-id=\"Можно-заметить,-что-распределение-активности-всех-трех-графиков-очень-похоже,на-основании-этого-можно-подтвердить-вывод-выше.-2.0.4\"><span class=\"toc-item-num\">2.0.4&nbsp;&nbsp;</span>Можно заметить, что распределение активности всех трех графиков очень похоже,на основании этого можно подтвердить вывод выше.</a></span></li><li><span><a href=\"#Рассмотрим-тренд-и-сезонность-на-разных-временных-промежутках:\" data-toc-modified-id=\"Рассмотрим-тренд-и-сезонность-на-разных-временных-промежутках:-2.0.5\"><span class=\"toc-item-num\">2.0.5&nbsp;&nbsp;</span>Рассмотрим тренд и сезонность на разных временных промежутках:</a></span></li></ul></li><li><span><a href=\"#На-основании-графиков-выше-можно-сделать-вывод,-что-все-наши-временные-ряды,--а-как-следствие-и-временной-ряд-родитель,-являются-стационарными.-Тренд-же-начинает-падать-после-понедельника,-затухать-на-середине-недели-и-расти-к-концу-недели.\" data-toc-modified-id=\"На-основании-графиков-выше-можно-сделать-вывод,-что-все-наши-временные-ряды,--а-как-следствие-и-временной-ряд-родитель,-являются-стационарными.-Тренд-же-начинает-падать-после-понедельника,-затухать-на-середине-недели-и-расти-к-концу-недели.-2.1\"><span class=\"toc-item-num\">2.1&nbsp;&nbsp;</span>На основании графиков выше можно сделать вывод, что все наши временные ряды,  а как следствие и временной ряд родитель, являются стационарными. Тренд же начинает падать после понедельника, затухать на середине недели и расти к концу недели.</a></span></li></ul></li><li><span><a href=\"#Обучение\" data-toc-modified-id=\"Обучение-3\"><span class=\"toc-item-num\">3&nbsp;&nbsp;</span>Обучение</a></span><ul class=\"toc-item\"><li><ul class=\"toc-item\"><li><span><a href=\"#Модель-RFR-показала-результат-выше\" data-toc-modified-id=\"Модель-RFR-показала-результат-выше-3.0.1\"><span class=\"toc-item-num\">3.0.1&nbsp;&nbsp;</span>Модель RFR показала результат выше</a></span></li></ul></li></ul></li><li><span><a href=\"#Тестирование\" data-toc-modified-id=\"Тестирование-4\"><span class=\"toc-item-num\">4&nbsp;&nbsp;</span>Тестирование</a></span><ul class=\"toc-item\"><li><ul class=\"toc-item\"><li><span><a href=\"#Вывод:-модель-успешно-справилась-с-поставленной-перед-ней-задачей,-а-именно-RMSE-=-9.51-при-условии-RMSE-<-48.\" data-toc-modified-id=\"Вывод:-модель-успешно-справилась-с-поставленной-перед-ней-задачей,-а-именно-RMSE-=-9.51-при-условии-RMSE-<-48.-4.0.1\"><span class=\"toc-item-num\">4.0.1&nbsp;&nbsp;</span>Вывод: модель успешно справилась с поставленной перед ней задачей, а именно RMSE = 9.51 при условии RMSE &lt; 48.</a></span></li></ul></li></ul></li><li><span><a href=\"#Чек-лист-проверки\" data-toc-modified-id=\"Чек-лист-проверки-5\"><span class=\"toc-item-num\">5&nbsp;&nbsp;</span>Чек-лист проверки</a></span></li></ul></div>"
   ]
  },
  {
   "cell_type": "markdown",
   "metadata": {},
   "source": [
    "#  Прогнозирование заказов такси"
   ]
  },
  {
   "cell_type": "markdown",
   "metadata": {},
   "source": [
    "Компания «Чётенькое такси» собрала исторические данные о заказах такси в аэропортах. Чтобы привлекать больше водителей в период пиковой нагрузки, нужно спрогнозировать количество заказов такси на следующий час. Постройте модель для такого предсказания.\n",
    "\n",
    "Значение метрики *RMSE* на тестовой выборке должно быть не больше 48.\n",
    "\n",
    "Нам нужно:\n",
    "\n",
    "1. Загрузить данные и выполнить их ресемплирование по одному часу.\n",
    "2. Проанализировать данные.\n",
    "3. Обучить разные модели с различными гиперпараметрами. Сделать тестовую выборку размером 10% от исходных данных.\n",
    "4. Проверить данные на тестовой выборке и сделать выводы.\n"
   ]
  },
  {
   "cell_type": "markdown",
   "metadata": {},
   "source": [
    "## Подготовка"
   ]
  },
  {
   "cell_type": "code",
   "execution_count": 89,
   "metadata": {},
   "outputs": [],
   "source": [
    "from sklearn.metrics import mean_squared_error\n",
    "import pandas as pd\n",
    "import numpy as np\n",
    "import matplotlib.pyplot as plt\n",
    "from sklearn.ensemble import RandomForestRegressor\n",
    "from sklearn.linear_model import SGDRegressor\n",
    "from sklearn.model_selection import RandomizedSearchCV\n",
    "from sklearn.preprocessing import StandardScaler\n",
    "from sklearn.pipeline import make_pipeline\n",
    "from sklearn.model_selection import train_test_split\n",
    "from sklearn.model_selection import TimeSeriesSplit\n",
    "from statsmodels.tsa.seasonal import seasonal_decompose"
   ]
  },
  {
   "cell_type": "code",
   "execution_count": 209,
   "metadata": {},
   "outputs": [],
   "source": [
    "def craft_pipeline(train_for_ml, target_1, rfr_flag=True):\n",
    "\n",
    "    \n",
    "    \n",
    "    if rfr_flag:\n",
    "        model = RandomForestRegressor(random_state=12345)\n",
    "        param_grid = {\n",
    "        'randomforestregressor__n_estimators': range(40, 110, 10),\n",
    "        'randomforestregressor__min_samples_split': range(2, 5),\n",
    "        'randomforestregressor__min_samples_leaf': (2, 3, 4)\n",
    "        }\n",
    "        pipline_model = make_pipeline(model)\n",
    "    else:\n",
    "        scaler = StandardScaler()\n",
    "        scaler.fit(train_for_ml) \n",
    "        train_for_ml = scaler.transform(train_for_ml)\n",
    "        \n",
    "        model = SGDRegressor(random_state=12345)\n",
    "        \n",
    "        param_grid = {\n",
    "            'sgdregressor__learning_rate': ['adaptive'],\n",
    "            'sgdregressor__alpha' : 10.0**-np.arange(1,7),\n",
    "            'sgdregressor__l1_ratio':[.05, .15, .5, .7, .9, .95, .99, 1],\n",
    "            'sgdregressor__max_iter': [2500]\n",
    "        }\n",
    "\n",
    "\n",
    "        #print(model.get_params().keys())\n",
    "        pipline_model = make_pipeline(model)\n",
    "\n",
    "    gs = RandomizedSearchCV(\n",
    "        pipline_model, \n",
    "        param_distributions=param_grid, \n",
    "        scoring='neg_mean_squared_error', \n",
    "        n_jobs=-1,\n",
    "        cv=TimeSeriesSplit()\n",
    "    )\n",
    "\n",
    "    gs_model1 = gs.fit(train_for_ml, target_1)\n",
    "    \n",
    "    gs_model1_best_score = gs_model1.best_score_ * -1\n",
    "    gs_model1_best_params = gs_model1.best_params_\n",
    "    print(f'best_score: {gs_model1_best_score**(1/2)}')\n",
    "    print(f'best_params: {gs_model1_best_params}')  \n",
    "    if rfr_flag:\n",
    "        return gs_model1.best_estimator_\n",
    "    else:\n",
    "        return gs_model1.best_estimator_, scaler"
   ]
  },
  {
   "cell_type": "code",
   "execution_count": 91,
   "metadata": {},
   "outputs": [
    {
     "data": {
      "text/html": [
       "<div>\n",
       "<style scoped>\n",
       "    .dataframe tbody tr th:only-of-type {\n",
       "        vertical-align: middle;\n",
       "    }\n",
       "\n",
       "    .dataframe tbody tr th {\n",
       "        vertical-align: top;\n",
       "    }\n",
       "\n",
       "    .dataframe thead th {\n",
       "        text-align: right;\n",
       "    }\n",
       "</style>\n",
       "<table border=\"1\" class=\"dataframe\">\n",
       "  <thead>\n",
       "    <tr style=\"text-align: right;\">\n",
       "      <th></th>\n",
       "      <th>num_orders</th>\n",
       "    </tr>\n",
       "    <tr>\n",
       "      <th>datetime</th>\n",
       "      <th></th>\n",
       "    </tr>\n",
       "  </thead>\n",
       "  <tbody>\n",
       "    <tr>\n",
       "      <th>2018-03-01 00:00:00</th>\n",
       "      <td>9</td>\n",
       "    </tr>\n",
       "    <tr>\n",
       "      <th>2018-03-01 00:10:00</th>\n",
       "      <td>14</td>\n",
       "    </tr>\n",
       "    <tr>\n",
       "      <th>2018-03-01 00:20:00</th>\n",
       "      <td>28</td>\n",
       "    </tr>\n",
       "    <tr>\n",
       "      <th>2018-03-01 00:30:00</th>\n",
       "      <td>20</td>\n",
       "    </tr>\n",
       "    <tr>\n",
       "      <th>2018-03-01 00:40:00</th>\n",
       "      <td>32</td>\n",
       "    </tr>\n",
       "    <tr>\n",
       "      <th>...</th>\n",
       "      <td>...</td>\n",
       "    </tr>\n",
       "    <tr>\n",
       "      <th>2018-08-31 23:10:00</th>\n",
       "      <td>32</td>\n",
       "    </tr>\n",
       "    <tr>\n",
       "      <th>2018-08-31 23:20:00</th>\n",
       "      <td>24</td>\n",
       "    </tr>\n",
       "    <tr>\n",
       "      <th>2018-08-31 23:30:00</th>\n",
       "      <td>27</td>\n",
       "    </tr>\n",
       "    <tr>\n",
       "      <th>2018-08-31 23:40:00</th>\n",
       "      <td>39</td>\n",
       "    </tr>\n",
       "    <tr>\n",
       "      <th>2018-08-31 23:50:00</th>\n",
       "      <td>53</td>\n",
       "    </tr>\n",
       "  </tbody>\n",
       "</table>\n",
       "<p>26496 rows × 1 columns</p>\n",
       "</div>"
      ],
      "text/plain": [
       "                     num_orders\n",
       "datetime                       \n",
       "2018-03-01 00:00:00           9\n",
       "2018-03-01 00:10:00          14\n",
       "2018-03-01 00:20:00          28\n",
       "2018-03-01 00:30:00          20\n",
       "2018-03-01 00:40:00          32\n",
       "...                         ...\n",
       "2018-08-31 23:10:00          32\n",
       "2018-08-31 23:20:00          24\n",
       "2018-08-31 23:30:00          27\n",
       "2018-08-31 23:40:00          39\n",
       "2018-08-31 23:50:00          53\n",
       "\n",
       "[26496 rows x 1 columns]"
      ]
     },
     "execution_count": 91,
     "metadata": {},
     "output_type": "execute_result"
    }
   ],
   "source": [
    "data = pd.read_csv('/datasets/taxi.csv', index_col=[0], parse_dates=[0])\n",
    "data"
   ]
  },
  {
   "cell_type": "code",
   "execution_count": 92,
   "metadata": {},
   "outputs": [
    {
     "name": "stdout",
     "output_type": "stream",
     "text": [
      "<class 'pandas.core.frame.DataFrame'>\n",
      "DatetimeIndex: 26496 entries, 2018-03-01 00:00:00 to 2018-08-31 23:50:00\n",
      "Data columns (total 1 columns):\n",
      " #   Column      Non-Null Count  Dtype\n",
      "---  ------      --------------  -----\n",
      " 0   num_orders  26496 non-null  int64\n",
      "dtypes: int64(1)\n",
      "memory usage: 414.0 KB\n"
     ]
    }
   ],
   "source": [
    "data.info()"
   ]
  },
  {
   "cell_type": "code",
   "execution_count": 93,
   "metadata": {},
   "outputs": [],
   "source": [
    "data.sort_index(inplace=True)"
   ]
  },
  {
   "cell_type": "code",
   "execution_count": 94,
   "metadata": {},
   "outputs": [],
   "source": [
    "data = data.resample('1H').sum()"
   ]
  },
  {
   "cell_type": "code",
   "execution_count": 95,
   "metadata": {},
   "outputs": [
    {
     "data": {
      "text/html": [
       "<div>\n",
       "<style scoped>\n",
       "    .dataframe tbody tr th:only-of-type {\n",
       "        vertical-align: middle;\n",
       "    }\n",
       "\n",
       "    .dataframe tbody tr th {\n",
       "        vertical-align: top;\n",
       "    }\n",
       "\n",
       "    .dataframe thead th {\n",
       "        text-align: right;\n",
       "    }\n",
       "</style>\n",
       "<table border=\"1\" class=\"dataframe\">\n",
       "  <thead>\n",
       "    <tr style=\"text-align: right;\">\n",
       "      <th></th>\n",
       "      <th>num_orders</th>\n",
       "    </tr>\n",
       "    <tr>\n",
       "      <th>datetime</th>\n",
       "      <th></th>\n",
       "    </tr>\n",
       "  </thead>\n",
       "  <tbody>\n",
       "    <tr>\n",
       "      <th>2018-03-01 00:00:00</th>\n",
       "      <td>124</td>\n",
       "    </tr>\n",
       "    <tr>\n",
       "      <th>2018-03-01 01:00:00</th>\n",
       "      <td>85</td>\n",
       "    </tr>\n",
       "    <tr>\n",
       "      <th>2018-03-01 02:00:00</th>\n",
       "      <td>71</td>\n",
       "    </tr>\n",
       "    <tr>\n",
       "      <th>2018-03-01 03:00:00</th>\n",
       "      <td>66</td>\n",
       "    </tr>\n",
       "    <tr>\n",
       "      <th>2018-03-01 04:00:00</th>\n",
       "      <td>43</td>\n",
       "    </tr>\n",
       "  </tbody>\n",
       "</table>\n",
       "</div>"
      ],
      "text/plain": [
       "                     num_orders\n",
       "datetime                       \n",
       "2018-03-01 00:00:00         124\n",
       "2018-03-01 01:00:00          85\n",
       "2018-03-01 02:00:00          71\n",
       "2018-03-01 03:00:00          66\n",
       "2018-03-01 04:00:00          43"
      ]
     },
     "execution_count": 95,
     "metadata": {},
     "output_type": "execute_result"
    }
   ],
   "source": [
    "data.head()"
   ]
  },
  {
   "cell_type": "markdown",
   "metadata": {},
   "source": [
    "## Анализ"
   ]
  },
  {
   "cell_type": "markdown",
   "metadata": {},
   "source": [
    "#### Для примера возьмём обычный рабочий день 1 марта"
   ]
  },
  {
   "cell_type": "code",
   "execution_count": 96,
   "metadata": {},
   "outputs": [
    {
     "data": {
      "image/png": "[encoded data removed]",
      "text/plain": [
       "<Figure size 432x288 with 1 Axes>"
      ]
     },
     "metadata": {
      "needs_background": "light"
     },
     "output_type": "display_data"
    }
   ],
   "source": [
    "data['2018-03-01 00:00:00':'2018-03-02 00:00:00'].plot()\n",
    "plt.show()"
   ]
  },
  {
   "cell_type": "markdown",
   "metadata": {},
   "source": [
    "#### Можно сделать вывод, что пик активности составляет с 21 до 00, тк в это время скорее всего люди возвращаются домой после работы. С 18 часов так же заметен подъем, в это время люди так же возвращаются с работы. Так же происходит рост активности с 6 до 12 часов утра. Возможно это связано с тем, что в это время люди едут на работу"
   ]
  },
  {
   "cell_type": "markdown",
   "metadata": {},
   "source": [
    "#### Стоит проверить всегда ли похожий рост активности. Для это возьмем ещё 2 других случайных дня:"
   ]
  },
  {
   "cell_type": "code",
   "execution_count": 97,
   "metadata": {},
   "outputs": [
    {
     "data": {
      "image/png": "[encoded data removed]",
      "text/plain": [
       "<Figure size 432x288 with 1 Axes>"
      ]
     },
     "metadata": {
      "needs_background": "light"
     },
     "output_type": "display_data"
    }
   ],
   "source": [
    "data['2018-03-08 00:00:00':'2018-03-09 00:00:00'].plot()\n",
    "plt.show()"
   ]
  },
  {
   "cell_type": "code",
   "execution_count": 98,
   "metadata": {},
   "outputs": [
    {
     "data": {
      "image/png": "[encoded data removed]",
      "text/plain": [
       "<Figure size 432x288 with 1 Axes>"
      ]
     },
     "metadata": {
      "needs_background": "light"
     },
     "output_type": "display_data"
    }
   ],
   "source": [
    "data['2018-03-13 00:00:00':'2018-03-14 00:00:00'].plot()\n",
    "plt.show()"
   ]
  },
  {
   "cell_type": "markdown",
   "metadata": {},
   "source": [
    "#### Можно заметить, что распределение активности всех трех графиков очень похоже,на основании этого можно подтвердить вывод выше."
   ]
  },
  {
   "cell_type": "markdown",
   "metadata": {},
   "source": [
    "#### Рассмотрим тренд и сезонность на разных временных промежутках:"
   ]
  },
  {
   "cell_type": "code",
   "execution_count": 99,
   "metadata": {},
   "outputs": [
    {
     "data": {
      "text/plain": [
       "<AxesSubplot:xlabel='datetime'>"
      ]
     },
     "execution_count": 99,
     "metadata": {},
     "output_type": "execute_result"
    },
    {
     "data": {
      "image/png": "[encoded data removed]",
      "text/plain": [
       "<Figure size 432x288 with 1 Axes>"
      ]
     },
     "metadata": {
      "needs_background": "light"
     },
     "output_type": "display_data"
    }
   ],
   "source": [
    "decomposed = seasonal_decompose(data['2018-03-01 00:00:00':'2018-04-01 00:00:00'])\n",
    "decomposed.trend.plot()\n",
    "decomposed.seasonal.plot()"
   ]
  },
  {
   "cell_type": "code",
   "execution_count": 100,
   "metadata": {},
   "outputs": [
    {
     "data": {
      "text/plain": [
       "<AxesSubplot:xlabel='datetime'>"
      ]
     },
     "execution_count": 100,
     "metadata": {},
     "output_type": "execute_result"
    },
    {
     "data": {
      "image/png": "[encoded data removed]",
      "text/plain": [
       "<Figure size 432x288 with 1 Axes>"
      ]
     },
     "metadata": {
      "needs_background": "light"
     },
     "output_type": "display_data"
    }
   ],
   "source": [
    "decomposed = seasonal_decompose(data['2018-04-01 00:00:00':'2018-05-01 00:00:00'])\n",
    "decomposed.trend.plot()\n",
    "decomposed.seasonal.plot()"
   ]
  },
  {
   "cell_type": "code",
   "execution_count": 101,
   "metadata": {},
   "outputs": [
    {
     "data": {
      "text/plain": [
       "<AxesSubplot:xlabel='datetime'>"
      ]
     },
     "execution_count": 101,
     "metadata": {},
     "output_type": "execute_result"
    },
    {
     "data": {
      "image/png": "[encoded data removed]",
      "text/plain": [
       "<Figure size 432x288 with 1 Axes>"
      ]
     },
     "metadata": {
      "needs_background": "light"
     },
     "output_type": "display_data"
    }
   ],
   "source": [
    "decomposed = seasonal_decompose(data['2018-05-01 00:00:00':'2018-06-01 00:00:00'])\n",
    "decomposed.trend.plot()\n",
    "decomposed.seasonal.plot()"
   ]
  },
  {
   "cell_type": "code",
   "execution_count": 102,
   "metadata": {},
   "outputs": [
    {
     "data": {
      "text/plain": [
       "<AxesSubplot:xlabel='datetime'>"
      ]
     },
     "execution_count": 102,
     "metadata": {},
     "output_type": "execute_result"
    },
    {
     "data": {
      "image/png": "[encoded data removed]",
      "text/plain": [
       "<Figure size 432x288 with 1 Axes>"
      ]
     },
     "metadata": {
      "needs_background": "light"
     },
     "output_type": "display_data"
    }
   ],
   "source": [
    "decomposed = seasonal_decompose(data['2018-06-01 00:00:00':'2018-07-01 00:00:00'])\n",
    "decomposed.trend.plot()\n",
    "decomposed.seasonal.plot()"
   ]
  },
  {
   "cell_type": "code",
   "execution_count": 103,
   "metadata": {},
   "outputs": [
    {
     "data": {
      "text/plain": [
       "<AxesSubplot:xlabel='datetime'>"
      ]
     },
     "execution_count": 103,
     "metadata": {},
     "output_type": "execute_result"
    },
    {
     "data": {
      "image/png": "[encoded data removed]",
      "text/plain": [
       "<Figure size 432x288 with 1 Axes>"
      ]
     },
     "metadata": {
      "needs_background": "light"
     },
     "output_type": "display_data"
    }
   ],
   "source": [
    "decomposed = seasonal_decompose(data['2018-07-01 00:00:00':'2018-08-01 00:00:00'])\n",
    "decomposed.trend.plot()\n",
    "decomposed.seasonal.plot()"
   ]
  },
  {
   "cell_type": "markdown",
   "metadata": {},
   "source": [
    "### На основании графиков выше можно сделать вывод, что все наши временные ряды,  а как следствие и временной ряд родитель, являются стационарными. Тренд же начинает падать после понедельника, затухать на середине недели и расти к концу недели."
   ]
  },
  {
   "cell_type": "code",
   "execution_count": 199,
   "metadata": {},
   "outputs": [],
   "source": [
    "def make_features(data, max_lag, rolling_mean_size):\n",
    "\n",
    "    data['hour'] = data.index.hour\n",
    "    data['dayofweek'] = data.index.dayofweek\n",
    "    \n",
    "    for lag in range(1, max_lag + 1):\n",
    "        data['lag_{}'.format(lag)] = data['num_orders'].shift(lag)\n",
    "\n",
    "    data['rolling_mean'] = data['num_orders'].shift().rolling(rolling_mean_size).mean()\n",
    "    \n",
    "make_features(data, 24, 3)"
   ]
  },
  {
   "cell_type": "code",
   "execution_count": 200,
   "metadata": {},
   "outputs": [],
   "source": [
    "data=data.dropna()"
   ]
  },
  {
   "cell_type": "markdown",
   "metadata": {},
   "source": [
    "## Обучение"
   ]
  },
  {
   "cell_type": "code",
   "execution_count": 212,
   "metadata": {},
   "outputs": [],
   "source": [
    "x_train, x_test, y_train, y_test = train_test_split(data.drop('num_orders', axis=1), data['num_orders'], shuffle=False, test_size=0.1, random_state=12345)"
   ]
  },
  {
   "cell_type": "code",
   "execution_count": 213,
   "metadata": {},
   "outputs": [
    {
     "name": "stdout",
     "output_type": "stream",
     "text": [
      "best_score: 25.455346088274094\n",
      "best_params: {'randomforestregressor__n_estimators': 50, 'randomforestregressor__min_samples_split': 4, 'randomforestregressor__min_samples_leaf': 2}\n",
      "CPU times: user 1min 6s, sys: 129 ms, total: 1min 6s\n",
      "Wall time: 1min 6s\n"
     ]
    }
   ],
   "source": [
    "%%time\n",
    "\n",
    "rfr_gs = craft_pipeline(x_train, y_train, rfr_flag=True)"
   ]
  },
  {
   "cell_type": "code",
   "execution_count": 214,
   "metadata": {},
   "outputs": [
    {
     "name": "stdout",
     "output_type": "stream",
     "text": [
      "best_score: 27.32152596638166\n",
      "best_params: {'sgdregressor__max_iter': 2500, 'sgdregressor__learning_rate': 'adaptive', 'sgdregressor__l1_ratio': 0.15, 'sgdregressor__alpha': 0.01}\n",
      "CPU times: user 2.5 s, sys: 4.8 s, total: 7.3 s\n",
      "Wall time: 7.31 s\n"
     ]
    }
   ],
   "source": [
    "%%time\n",
    "\n",
    "sgd_gs, scaler = craft_pipeline(x_train, y_train, rfr_flag=False)"
   ]
  },
  {
   "cell_type": "markdown",
   "metadata": {},
   "source": [
    "#### Модель RFR показала результат выше"
   ]
  },
  {
   "cell_type": "markdown",
   "metadata": {},
   "source": [
    "## Тестирование"
   ]
  },
  {
   "cell_type": "code",
   "execution_count": 215,
   "metadata": {},
   "outputs": [
    {
     "name": "stdout",
     "output_type": "stream",
     "text": [
      "41.86304388928447\n"
     ]
    }
   ],
   "source": [
    "print(mean_squared_error(y_test, rfr_gs.predict(x_test))**(1/2))"
   ]
  },
  {
   "cell_type": "markdown",
   "metadata": {},
   "source": [
    "#### Вывод: модель успешно справилась с поставленной перед ней задачей, а именно RMSE = 9.51 при условии RMSE < 48."
   ]
  }
 ],
 "metadata": {
  "ExecuteTimeLog": [
   {
    "duration": 574,
    "start_time": "2023-06-19T11:36:39.371Z"
   },
   {
    "duration": 126,
    "start_time": "2023-06-19T11:37:02.552Z"
   },
   {
    "duration": 60,
    "start_time": "2023-06-19T11:38:03.452Z"
   },
   {
    "duration": 11,
    "start_time": "2023-06-19T11:38:33.688Z"
   },
   {
    "duration": 1341,
    "start_time": "2023-06-19T11:38:44.151Z"
   },
   {
    "duration": 716,
    "start_time": "2023-06-19T11:38:55.480Z"
   },
   {
    "duration": 52,
    "start_time": "2023-06-19T11:39:30.976Z"
   },
   {
    "duration": 13,
    "start_time": "2023-06-19T11:39:36.239Z"
   },
   {
    "duration": 14,
    "start_time": "2023-06-19T11:40:38.505Z"
   },
   {
    "duration": 13,
    "start_time": "2023-06-19T11:40:42.147Z"
   },
   {
    "duration": 61,
    "start_time": "2023-06-19T11:41:08.254Z"
   },
   {
    "duration": 10,
    "start_time": "2023-06-19T11:41:08.609Z"
   },
   {
    "duration": 10,
    "start_time": "2023-06-19T11:41:09.141Z"
   },
   {
    "duration": 12,
    "start_time": "2023-06-19T11:41:11.586Z"
   },
   {
    "duration": 8,
    "start_time": "2023-06-19T11:41:39.043Z"
   },
   {
    "duration": 55,
    "start_time": "2023-06-19T11:43:37.606Z"
   },
   {
    "duration": 13,
    "start_time": "2023-06-19T11:43:38.183Z"
   },
   {
    "duration": 3,
    "start_time": "2023-06-19T11:43:38.914Z"
   },
   {
    "duration": 12,
    "start_time": "2023-06-19T11:43:39.504Z"
   },
   {
    "duration": 14,
    "start_time": "2023-06-19T11:43:42.035Z"
   },
   {
    "duration": 8,
    "start_time": "2023-06-19T11:44:58.444Z"
   },
   {
    "duration": 12,
    "start_time": "2023-06-19T11:44:59.283Z"
   },
   {
    "duration": 51,
    "start_time": "2023-06-19T11:45:07.408Z"
   },
   {
    "duration": 10,
    "start_time": "2023-06-19T11:45:07.645Z"
   },
   {
    "duration": 3,
    "start_time": "2023-06-19T11:45:08.027Z"
   },
   {
    "duration": 10,
    "start_time": "2023-06-19T11:45:08.388Z"
   },
   {
    "duration": 8,
    "start_time": "2023-06-19T11:45:17.444Z"
   },
   {
    "duration": 796,
    "start_time": "2023-06-19T11:45:45.027Z"
   },
   {
    "duration": 24,
    "start_time": "2023-06-19T11:47:22.247Z"
   },
   {
    "duration": 11,
    "start_time": "2023-06-19T11:47:33.934Z"
   },
   {
    "duration": 804,
    "start_time": "2023-06-19T11:47:59.784Z"
   },
   {
    "duration": 257,
    "start_time": "2023-06-19T11:48:09.233Z"
   },
   {
    "duration": 258,
    "start_time": "2023-06-19T11:48:16.084Z"
   },
   {
    "duration": 35,
    "start_time": "2023-06-19T11:48:49.732Z"
   },
   {
    "duration": 252,
    "start_time": "2023-06-19T11:49:04.047Z"
   },
   {
    "duration": 212,
    "start_time": "2023-06-19T11:49:21.277Z"
   },
   {
    "duration": 207,
    "start_time": "2023-06-19T11:49:33.252Z"
   },
   {
    "duration": 12,
    "start_time": "2023-06-19T11:49:49.282Z"
   },
   {
    "duration": 15,
    "start_time": "2023-06-19T11:49:49.472Z"
   },
   {
    "duration": 84,
    "start_time": "2023-06-19T11:49:58.301Z"
   },
   {
    "duration": 11,
    "start_time": "2023-06-19T11:49:58.894Z"
   },
   {
    "duration": 4,
    "start_time": "2023-06-19T11:49:59.237Z"
   },
   {
    "duration": 9,
    "start_time": "2023-06-19T11:49:59.476Z"
   },
   {
    "duration": 254,
    "start_time": "2023-06-19T11:49:59.687Z"
   },
   {
    "duration": 208,
    "start_time": "2023-06-19T11:54:30.574Z"
   },
   {
    "duration": 220,
    "start_time": "2023-06-19T11:55:20.067Z"
   },
   {
    "duration": 9,
    "start_time": "2023-06-19T12:03:47.126Z"
   },
   {
    "duration": 9,
    "start_time": "2023-06-19T12:07:16.697Z"
   },
   {
    "duration": 365,
    "start_time": "2023-06-19T12:07:20.749Z"
   },
   {
    "duration": 7,
    "start_time": "2023-06-19T12:07:24.302Z"
   },
   {
    "duration": 437,
    "start_time": "2023-06-19T12:08:07.205Z"
   },
   {
    "duration": 6215,
    "start_time": "2023-06-19T12:08:25.790Z"
   },
   {
    "duration": 8,
    "start_time": "2023-06-19T12:08:44.541Z"
   },
   {
    "duration": 7,
    "start_time": "2023-06-19T12:08:57.700Z"
   },
   {
    "duration": 6388,
    "start_time": "2023-06-19T12:08:57.960Z"
   },
   {
    "duration": 7,
    "start_time": "2023-06-19T12:09:13.050Z"
   },
   {
    "duration": 6140,
    "start_time": "2023-06-19T12:09:17.499Z"
   },
   {
    "duration": 226,
    "start_time": "2023-06-19T12:09:29.996Z"
   },
   {
    "duration": 6080,
    "start_time": "2023-06-19T12:09:48.987Z"
   },
   {
    "duration": 269,
    "start_time": "2023-06-19T12:09:55.070Z"
   },
   {
    "duration": 18,
    "start_time": "2023-06-19T12:11:17.009Z"
   },
   {
    "duration": 11,
    "start_time": "2023-06-19T12:11:31.422Z"
   },
   {
    "duration": 22,
    "start_time": "2023-06-19T12:12:00.037Z"
   },
   {
    "duration": 17,
    "start_time": "2023-06-19T12:12:12.573Z"
   },
   {
    "duration": 14,
    "start_time": "2023-06-19T12:13:47.557Z"
   },
   {
    "duration": 10,
    "start_time": "2023-06-19T12:14:06.979Z"
   },
   {
    "duration": 16,
    "start_time": "2023-06-19T12:14:11.040Z"
   },
   {
    "duration": 9,
    "start_time": "2023-06-19T12:14:23.447Z"
   },
   {
    "duration": 27,
    "start_time": "2023-06-19T12:14:55.367Z"
   },
   {
    "duration": 508,
    "start_time": "2023-06-19T12:15:04.791Z"
   },
   {
    "duration": 19,
    "start_time": "2023-06-19T12:16:30.746Z"
   },
   {
    "duration": 307,
    "start_time": "2023-06-19T12:16:35.857Z"
   },
   {
    "duration": 9,
    "start_time": "2023-06-19T12:18:55.529Z"
   },
   {
    "duration": 247,
    "start_time": "2023-06-19T12:19:06.070Z"
   },
   {
    "duration": 126,
    "start_time": "2023-06-19T12:21:36.330Z"
   },
   {
    "duration": 5,
    "start_time": "2023-06-19T12:21:52.787Z"
   },
   {
    "duration": 16,
    "start_time": "2023-06-19T12:22:08.395Z"
   },
   {
    "duration": 11,
    "start_time": "2023-06-19T12:22:18.635Z"
   },
   {
    "duration": 5,
    "start_time": "2023-06-19T12:22:33.636Z"
   },
   {
    "duration": 11,
    "start_time": "2023-06-19T12:22:37.774Z"
   },
   {
    "duration": 32,
    "start_time": "2023-06-19T12:22:53.926Z"
   },
   {
    "duration": 4,
    "start_time": "2023-06-19T12:23:34.440Z"
   },
   {
    "duration": 39,
    "start_time": "2023-06-19T12:23:34.446Z"
   },
   {
    "duration": 38,
    "start_time": "2023-06-19T12:23:34.488Z"
   },
   {
    "duration": 83,
    "start_time": "2023-06-19T12:23:34.529Z"
   },
   {
    "duration": 15,
    "start_time": "2023-06-19T12:23:34.614Z"
   },
   {
    "duration": 28,
    "start_time": "2023-06-19T12:23:34.631Z"
   },
   {
    "duration": 24,
    "start_time": "2023-06-19T12:23:34.670Z"
   },
   {
    "duration": 213,
    "start_time": "2023-06-19T12:23:34.697Z"
   },
   {
    "duration": 215,
    "start_time": "2023-06-19T12:23:34.912Z"
   },
   {
    "duration": 364,
    "start_time": "2023-06-19T12:23:35.131Z"
   },
   {
    "duration": 9,
    "start_time": "2023-06-19T12:23:35.497Z"
   },
   {
    "duration": 6761,
    "start_time": "2023-06-19T12:23:35.507Z"
   },
   {
    "duration": 265,
    "start_time": "2023-06-19T12:23:42.270Z"
   },
   {
    "duration": 12,
    "start_time": "2023-06-19T12:23:42.537Z"
   },
   {
    "duration": 37,
    "start_time": "2023-06-19T12:23:42.552Z"
   },
   {
    "duration": 24,
    "start_time": "2023-06-19T12:23:42.591Z"
   },
   {
    "duration": 10,
    "start_time": "2023-06-19T12:24:08.807Z"
   },
   {
    "duration": 5,
    "start_time": "2023-06-19T12:24:21.406Z"
   },
   {
    "duration": 8,
    "start_time": "2023-06-19T12:24:24.370Z"
   },
   {
    "duration": 4,
    "start_time": "2023-06-19T12:24:43.331Z"
   },
   {
    "duration": 12,
    "start_time": "2023-06-19T12:24:48.010Z"
   },
   {
    "duration": 8,
    "start_time": "2023-06-19T12:24:53.572Z"
   },
   {
    "duration": 2047,
    "start_time": "2023-06-19T12:26:19.439Z"
   },
   {
    "duration": 9,
    "start_time": "2023-06-19T12:26:21.488Z"
   },
   {
    "duration": 136,
    "start_time": "2023-06-19T12:26:21.503Z"
   },
   {
    "duration": 0,
    "start_time": "2023-06-19T12:26:21.643Z"
   },
   {
    "duration": 0,
    "start_time": "2023-06-19T12:26:21.644Z"
   },
   {
    "duration": 0,
    "start_time": "2023-06-19T12:26:21.653Z"
   },
   {
    "duration": 0,
    "start_time": "2023-06-19T12:26:21.654Z"
   },
   {
    "duration": 0,
    "start_time": "2023-06-19T12:26:21.656Z"
   },
   {
    "duration": 0,
    "start_time": "2023-06-19T12:26:21.657Z"
   },
   {
    "duration": 0,
    "start_time": "2023-06-19T12:26:21.658Z"
   },
   {
    "duration": 0,
    "start_time": "2023-06-19T12:26:21.659Z"
   },
   {
    "duration": 0,
    "start_time": "2023-06-19T12:26:21.661Z"
   },
   {
    "duration": 0,
    "start_time": "2023-06-19T12:26:21.662Z"
   },
   {
    "duration": 0,
    "start_time": "2023-06-19T12:26:21.664Z"
   },
   {
    "duration": 0,
    "start_time": "2023-06-19T12:26:21.665Z"
   },
   {
    "duration": 0,
    "start_time": "2023-06-19T12:26:21.666Z"
   },
   {
    "duration": 10,
    "start_time": "2023-06-19T12:27:25.763Z"
   },
   {
    "duration": 11,
    "start_time": "2023-06-19T12:27:26.096Z"
   },
   {
    "duration": 2226,
    "start_time": "2023-06-19T12:28:47.384Z"
   },
   {
    "duration": 15,
    "start_time": "2023-06-19T12:28:49.612Z"
   },
   {
    "duration": 163,
    "start_time": "2023-06-19T12:28:49.629Z"
   },
   {
    "duration": 21,
    "start_time": "2023-06-19T12:28:49.797Z"
   },
   {
    "duration": 7,
    "start_time": "2023-06-19T12:28:49.822Z"
   },
   {
    "duration": 19,
    "start_time": "2023-06-19T12:28:49.831Z"
   },
   {
    "duration": 393,
    "start_time": "2023-06-19T12:28:49.859Z"
   },
   {
    "duration": 296,
    "start_time": "2023-06-19T12:28:50.254Z"
   },
   {
    "duration": 310,
    "start_time": "2023-06-19T12:28:50.553Z"
   },
   {
    "duration": 10,
    "start_time": "2023-06-19T12:28:50.866Z"
   },
   {
    "duration": 7969,
    "start_time": "2023-06-19T12:28:50.878Z"
   },
   {
    "duration": 403,
    "start_time": "2023-06-19T12:28:58.849Z"
   },
   {
    "duration": 8,
    "start_time": "2023-06-19T12:28:59.255Z"
   },
   {
    "duration": 2404,
    "start_time": "2023-06-19T12:29:08.142Z"
   },
   {
    "duration": 8,
    "start_time": "2023-06-19T12:29:10.549Z"
   },
   {
    "duration": 190,
    "start_time": "2023-06-19T12:29:10.559Z"
   },
   {
    "duration": 30,
    "start_time": "2023-06-19T12:29:10.758Z"
   },
   {
    "duration": 23,
    "start_time": "2023-06-19T12:29:10.806Z"
   },
   {
    "duration": 75,
    "start_time": "2023-06-19T12:29:10.840Z"
   },
   {
    "duration": 404,
    "start_time": "2023-06-19T12:29:10.920Z"
   },
   {
    "duration": 348,
    "start_time": "2023-06-19T12:29:11.327Z"
   },
   {
    "duration": 367,
    "start_time": "2023-06-19T12:29:11.678Z"
   },
   {
    "duration": 15,
    "start_time": "2023-06-19T12:29:12.048Z"
   },
   {
    "duration": 19174,
    "start_time": "2023-06-19T12:29:12.066Z"
   },
   {
    "duration": 687,
    "start_time": "2023-06-19T12:29:31.243Z"
   },
   {
    "duration": 10,
    "start_time": "2023-06-19T12:29:31.932Z"
   },
   {
    "duration": 87,
    "start_time": "2023-06-19T15:19:46.545Z"
   },
   {
    "duration": 202,
    "start_time": "2023-06-19T15:25:42.615Z"
   },
   {
    "duration": 7,
    "start_time": "2023-06-19T15:25:42.819Z"
   },
   {
    "duration": 117,
    "start_time": "2023-06-19T15:25:42.827Z"
   },
   {
    "duration": 12,
    "start_time": "2023-06-19T15:25:42.947Z"
   },
   {
    "duration": 47,
    "start_time": "2023-06-19T15:25:42.961Z"
   },
   {
    "duration": 84,
    "start_time": "2023-06-19T15:25:43.010Z"
   },
   {
    "duration": 6,
    "start_time": "2023-06-19T15:25:45.650Z"
   },
   {
    "duration": 7,
    "start_time": "2023-06-19T15:25:46.225Z"
   },
   {
    "duration": 4,
    "start_time": "2023-06-19T15:26:01.722Z"
   },
   {
    "duration": 31,
    "start_time": "2023-06-19T15:26:01.728Z"
   },
   {
    "duration": 88,
    "start_time": "2023-06-19T15:26:01.761Z"
   },
   {
    "duration": 10,
    "start_time": "2023-06-19T15:26:01.851Z"
   },
   {
    "duration": 42,
    "start_time": "2023-06-19T15:26:01.863Z"
   },
   {
    "duration": 47,
    "start_time": "2023-06-19T15:26:01.907Z"
   },
   {
    "duration": 31,
    "start_time": "2023-06-19T15:26:01.955Z"
   },
   {
    "duration": 7,
    "start_time": "2023-06-19T15:26:06.433Z"
   },
   {
    "duration": 137,
    "start_time": "2023-06-19T15:26:07.297Z"
   },
   {
    "duration": 153,
    "start_time": "2023-06-19T15:26:08.909Z"
   },
   {
    "duration": 137,
    "start_time": "2023-06-19T15:26:09.125Z"
   },
   {
    "duration": 17,
    "start_time": "2023-06-19T15:28:36.791Z"
   },
   {
    "duration": 15,
    "start_time": "2023-06-19T15:29:12.173Z"
   },
   {
    "duration": 12,
    "start_time": "2023-06-19T15:29:25.812Z"
   },
   {
    "duration": 10,
    "start_time": "2023-06-19T15:29:34.164Z"
   },
   {
    "duration": 301,
    "start_time": "2023-06-19T15:29:50.559Z"
   },
   {
    "duration": 205,
    "start_time": "2023-06-19T15:30:05.284Z"
   },
   {
    "duration": 144,
    "start_time": "2023-06-19T15:30:41.419Z"
   },
   {
    "duration": 158,
    "start_time": "2023-06-19T15:32:35.284Z"
   },
   {
    "duration": 343,
    "start_time": "2023-06-19T15:35:54.673Z"
   },
   {
    "duration": 255,
    "start_time": "2023-06-19T15:35:55.992Z"
   },
   {
    "duration": 146,
    "start_time": "2023-06-19T15:36:03.585Z"
   },
   {
    "duration": 151,
    "start_time": "2023-06-19T15:36:13.317Z"
   },
   {
    "duration": 75,
    "start_time": "2023-06-19T15:38:56.893Z"
   },
   {
    "duration": 75,
    "start_time": "2023-06-19T15:39:31.388Z"
   },
   {
    "duration": 3,
    "start_time": "2023-06-19T15:39:40.313Z"
   },
   {
    "duration": 7,
    "start_time": "2023-06-19T15:39:40.318Z"
   },
   {
    "duration": 62,
    "start_time": "2023-06-19T15:39:40.327Z"
   },
   {
    "duration": 9,
    "start_time": "2023-06-19T15:39:40.390Z"
   },
   {
    "duration": 16,
    "start_time": "2023-06-19T15:39:40.402Z"
   },
   {
    "duration": 13,
    "start_time": "2023-06-19T15:39:40.420Z"
   },
   {
    "duration": 7,
    "start_time": "2023-06-19T15:39:40.435Z"
   },
   {
    "duration": 153,
    "start_time": "2023-06-19T15:39:40.443Z"
   },
   {
    "duration": 147,
    "start_time": "2023-06-19T15:39:40.597Z"
   },
   {
    "duration": 143,
    "start_time": "2023-06-19T15:39:40.753Z"
   },
   {
    "duration": 126,
    "start_time": "2023-06-19T15:39:40.898Z"
   },
   {
    "duration": 0,
    "start_time": "2023-06-19T15:39:41.026Z"
   },
   {
    "duration": 0,
    "start_time": "2023-06-19T15:39:41.027Z"
   },
   {
    "duration": 0,
    "start_time": "2023-06-19T15:39:41.028Z"
   },
   {
    "duration": 0,
    "start_time": "2023-06-19T15:39:41.029Z"
   },
   {
    "duration": 0,
    "start_time": "2023-06-19T15:39:41.030Z"
   },
   {
    "duration": 0,
    "start_time": "2023-06-19T15:39:41.031Z"
   },
   {
    "duration": 0,
    "start_time": "2023-06-19T15:39:41.032Z"
   },
   {
    "duration": 0,
    "start_time": "2023-06-19T15:39:41.033Z"
   },
   {
    "duration": 195,
    "start_time": "2023-06-19T15:41:21.359Z"
   },
   {
    "duration": 183,
    "start_time": "2023-06-19T15:41:22.169Z"
   },
   {
    "duration": 187,
    "start_time": "2023-06-19T15:41:39.532Z"
   },
   {
    "duration": 241,
    "start_time": "2023-06-19T15:42:18.395Z"
   },
   {
    "duration": 345,
    "start_time": "2023-06-19T15:42:51.378Z"
   },
   {
    "duration": 253,
    "start_time": "2023-06-19T15:43:25.605Z"
   },
   {
    "duration": 235,
    "start_time": "2023-06-19T15:43:41.324Z"
   },
   {
    "duration": 2997,
    "start_time": "2023-06-19T15:53:05.409Z"
   },
   {
    "duration": 9,
    "start_time": "2023-06-19T15:53:42.106Z"
   },
   {
    "duration": 18,
    "start_time": "2023-06-19T15:53:51.925Z"
   },
   {
    "duration": 7,
    "start_time": "2023-06-19T15:54:04.047Z"
   },
   {
    "duration": 357,
    "start_time": "2023-06-19T15:54:06.400Z"
   },
   {
    "duration": 193,
    "start_time": "2023-06-19T15:54:13.455Z"
   },
   {
    "duration": 5,
    "start_time": "2023-06-19T15:54:30.052Z"
   },
   {
    "duration": 26,
    "start_time": "2023-06-19T15:54:30.059Z"
   },
   {
    "duration": 100,
    "start_time": "2023-06-19T15:54:30.087Z"
   },
   {
    "duration": 10,
    "start_time": "2023-06-19T15:54:30.189Z"
   },
   {
    "duration": 22,
    "start_time": "2023-06-19T15:54:30.201Z"
   },
   {
    "duration": 35,
    "start_time": "2023-06-19T15:54:30.225Z"
   },
   {
    "duration": 17,
    "start_time": "2023-06-19T15:54:30.262Z"
   },
   {
    "duration": 175,
    "start_time": "2023-06-19T15:54:30.281Z"
   },
   {
    "duration": 179,
    "start_time": "2023-06-19T15:54:30.459Z"
   },
   {
    "duration": 158,
    "start_time": "2023-06-19T15:54:30.639Z"
   },
   {
    "duration": 237,
    "start_time": "2023-06-19T15:54:30.799Z"
   },
   {
    "duration": 243,
    "start_time": "2023-06-19T15:54:31.038Z"
   },
   {
    "duration": 240,
    "start_time": "2023-06-19T15:54:31.283Z"
   },
   {
    "duration": 244,
    "start_time": "2023-06-19T15:54:31.527Z"
   },
   {
    "duration": 219,
    "start_time": "2023-06-19T15:54:31.773Z"
   },
   {
    "duration": 9,
    "start_time": "2023-06-19T15:54:31.995Z"
   },
   {
    "duration": 78,
    "start_time": "2023-06-19T15:54:32.006Z"
   },
   {
    "duration": 4,
    "start_time": "2023-06-19T15:54:43.482Z"
   },
   {
    "duration": 21,
    "start_time": "2023-06-19T15:54:43.489Z"
   },
   {
    "duration": 63,
    "start_time": "2023-06-19T15:54:43.512Z"
   },
   {
    "duration": 9,
    "start_time": "2023-06-19T15:54:43.576Z"
   },
   {
    "duration": 5,
    "start_time": "2023-06-19T15:54:43.588Z"
   },
   {
    "duration": 14,
    "start_time": "2023-06-19T15:54:43.594Z"
   },
   {
    "duration": 156,
    "start_time": "2023-06-19T15:54:43.610Z"
   },
   {
    "duration": 160,
    "start_time": "2023-06-19T15:54:43.769Z"
   },
   {
    "duration": 166,
    "start_time": "2023-06-19T15:54:43.931Z"
   },
   {
    "duration": 176,
    "start_time": "2023-06-19T15:54:44.099Z"
   },
   {
    "duration": 236,
    "start_time": "2023-06-19T15:54:44.277Z"
   },
   {
    "duration": 282,
    "start_time": "2023-06-19T15:54:44.515Z"
   },
   {
    "duration": 223,
    "start_time": "2023-06-19T15:54:44.798Z"
   },
   {
    "duration": 252,
    "start_time": "2023-06-19T15:54:45.023Z"
   },
   {
    "duration": 263,
    "start_time": "2023-06-19T15:54:45.277Z"
   },
   {
    "duration": 17,
    "start_time": "2023-06-19T15:54:45.542Z"
   },
   {
    "duration": 28,
    "start_time": "2023-06-19T15:54:45.570Z"
   },
   {
    "duration": 14,
    "start_time": "2023-06-19T15:56:25.599Z"
   },
   {
    "duration": 9,
    "start_time": "2023-06-19T15:56:33.226Z"
   },
   {
    "duration": 7,
    "start_time": "2023-06-19T15:56:34.999Z"
   },
   {
    "duration": 317,
    "start_time": "2023-06-19T15:56:35.829Z"
   },
   {
    "duration": 180,
    "start_time": "2023-06-19T15:56:36.941Z"
   },
   {
    "duration": 203,
    "start_time": "2023-06-19T15:56:40.610Z"
   },
   {
    "duration": 11,
    "start_time": "2023-06-19T15:57:23.957Z"
   },
   {
    "duration": 27,
    "start_time": "2023-06-19T15:57:35.949Z"
   },
   {
    "duration": 15,
    "start_time": "2023-06-19T15:57:45.230Z"
   },
   {
    "duration": 13,
    "start_time": "2023-06-19T15:57:59.075Z"
   },
   {
    "duration": 12,
    "start_time": "2023-06-19T15:59:52.473Z"
   },
   {
    "duration": 13,
    "start_time": "2023-06-19T16:00:20.813Z"
   },
   {
    "duration": 10,
    "start_time": "2023-06-19T16:01:11.269Z"
   },
   {
    "duration": 7,
    "start_time": "2023-06-19T16:01:53.087Z"
   },
   {
    "duration": 10,
    "start_time": "2023-06-19T16:02:11.948Z"
   },
   {
    "duration": 12,
    "start_time": "2023-06-19T16:02:16.078Z"
   },
   {
    "duration": 7,
    "start_time": "2023-06-19T16:02:26.182Z"
   },
   {
    "duration": 8,
    "start_time": "2023-06-19T16:02:28.681Z"
   },
   {
    "duration": 551,
    "start_time": "2023-06-19T16:02:30.523Z"
   },
   {
    "duration": 6,
    "start_time": "2023-06-19T16:02:56.122Z"
   },
   {
    "duration": 12032,
    "start_time": "2023-06-19T16:02:56.717Z"
   },
   {
    "duration": 536,
    "start_time": "2023-06-19T16:03:08.753Z"
   },
   {
    "duration": 7,
    "start_time": "2023-06-19T16:03:51.906Z"
   },
   {
    "duration": 13774,
    "start_time": "2023-06-19T16:04:03.376Z"
   },
   {
    "duration": 417,
    "start_time": "2023-06-19T16:04:17.152Z"
   },
   {
    "duration": 5,
    "start_time": "2023-06-19T16:04:17.571Z"
   },
   {
    "duration": 7,
    "start_time": "2023-06-19T16:04:41.950Z"
   },
   {
    "duration": 7,
    "start_time": "2023-06-19T16:04:51.135Z"
   },
   {
    "duration": 10880,
    "start_time": "2023-06-19T16:04:51.806Z"
   },
   {
    "duration": 390,
    "start_time": "2023-06-19T16:05:02.688Z"
   },
   {
    "duration": 7,
    "start_time": "2023-06-19T16:05:03.080Z"
   },
   {
    "duration": 6,
    "start_time": "2023-06-19T16:05:56.648Z"
   },
   {
    "duration": 16126,
    "start_time": "2023-06-19T16:06:00.088Z"
   },
   {
    "duration": 398,
    "start_time": "2023-06-19T16:06:16.216Z"
   },
   {
    "duration": 5,
    "start_time": "2023-06-19T16:06:25.080Z"
   },
   {
    "duration": 5,
    "start_time": "2023-06-19T16:06:27.371Z"
   },
   {
    "duration": 6,
    "start_time": "2023-06-19T16:06:28.886Z"
   },
   {
    "duration": 5,
    "start_time": "2023-06-19T16:06:30.181Z"
   },
   {
    "duration": 5,
    "start_time": "2023-06-19T16:06:31.774Z"
   },
   {
    "duration": 4,
    "start_time": "2023-06-19T16:06:37.695Z"
   },
   {
    "duration": 5,
    "start_time": "2023-06-19T16:06:39.383Z"
   },
   {
    "duration": 5,
    "start_time": "2023-06-19T16:06:40.858Z"
   },
   {
    "duration": 4,
    "start_time": "2023-06-19T16:06:42.764Z"
   },
   {
    "duration": 5,
    "start_time": "2023-06-19T16:06:44.505Z"
   },
   {
    "duration": 5,
    "start_time": "2023-06-19T16:06:46.002Z"
   },
   {
    "duration": 13,
    "start_time": "2023-06-19T16:07:10.215Z"
   },
   {
    "duration": 11,
    "start_time": "2023-06-19T16:07:39.517Z"
   },
   {
    "duration": 6,
    "start_time": "2023-06-19T16:07:39.679Z"
   },
   {
    "duration": 6,
    "start_time": "2023-06-19T16:07:39.882Z"
   },
   {
    "duration": 6,
    "start_time": "2023-06-19T16:07:40.434Z"
   },
   {
    "duration": 20835,
    "start_time": "2023-06-19T16:07:41.030Z"
   },
   {
    "duration": 457,
    "start_time": "2023-06-19T16:08:01.867Z"
   },
   {
    "duration": 7,
    "start_time": "2023-06-19T16:08:02.325Z"
   },
   {
    "duration": 24,
    "start_time": "2023-06-19T16:08:02.334Z"
   },
   {
    "duration": 8,
    "start_time": "2023-06-19T16:08:33.300Z"
   },
   {
    "duration": 6,
    "start_time": "2023-06-19T16:08:33.487Z"
   },
   {
    "duration": 7,
    "start_time": "2023-06-19T16:08:33.688Z"
   },
   {
    "duration": 6,
    "start_time": "2023-06-19T16:08:34.233Z"
   },
   {
    "duration": 19367,
    "start_time": "2023-06-19T16:08:34.824Z"
   },
   {
    "duration": 420,
    "start_time": "2023-06-19T16:08:54.193Z"
   },
   {
    "duration": 6,
    "start_time": "2023-06-19T16:08:54.615Z"
   },
   {
    "duration": 40,
    "start_time": "2023-06-19T16:08:54.624Z"
   },
   {
    "duration": 6,
    "start_time": "2023-06-19T16:09:24.232Z"
   },
   {
    "duration": 421,
    "start_time": "2023-06-19T16:09:31.666Z"
   },
   {
    "duration": 5,
    "start_time": "2023-06-19T16:09:39.358Z"
   },
   {
    "duration": 5,
    "start_time": "2023-06-19T16:09:41.353Z"
   },
   {
    "duration": 5,
    "start_time": "2023-06-19T16:09:43.009Z"
   },
   {
    "duration": 4,
    "start_time": "2023-06-19T16:09:44.514Z"
   },
   {
    "duration": 455,
    "start_time": "2023-06-19T16:09:49.822Z"
   },
   {
    "duration": 5,
    "start_time": "2023-06-19T16:09:51.948Z"
   },
   {
    "duration": 4,
    "start_time": "2023-06-19T16:09:55.239Z"
   },
   {
    "duration": 5,
    "start_time": "2023-06-19T16:09:56.851Z"
   },
   {
    "duration": 13,
    "start_time": "2023-06-19T16:10:00.947Z"
   },
   {
    "duration": 13,
    "start_time": "2023-06-19T16:10:03.471Z"
   },
   {
    "duration": 13,
    "start_time": "2023-06-19T16:10:05.026Z"
   },
   {
    "duration": 13,
    "start_time": "2023-06-19T16:10:06.537Z"
   },
   {
    "duration": 7,
    "start_time": "2023-06-19T16:10:41.023Z"
   },
   {
    "duration": 41029,
    "start_time": "2023-06-19T16:10:45.707Z"
   },
   {
    "duration": 5,
    "start_time": "2023-06-19T16:11:30.415Z"
   },
   {
    "duration": 21,
    "start_time": "2023-06-19T16:11:35.174Z"
   },
   {
    "duration": 9,
    "start_time": "2023-06-19T16:12:11.994Z"
   },
   {
    "duration": 60631,
    "start_time": "2023-06-19T16:12:22.576Z"
   },
   {
    "duration": 24,
    "start_time": "2023-06-19T16:13:23.210Z"
   },
   {
    "duration": 22,
    "start_time": "2023-06-19T16:13:28.426Z"
   },
   {
    "duration": 22,
    "start_time": "2023-06-19T16:13:29.826Z"
   },
   {
    "duration": 6,
    "start_time": "2023-06-19T16:14:10.708Z"
   },
   {
    "duration": 53388,
    "start_time": "2023-06-19T16:14:16.227Z"
   },
   {
    "duration": 19,
    "start_time": "2023-06-19T16:15:09.617Z"
   },
   {
    "duration": 7,
    "start_time": "2023-06-19T16:15:55.424Z"
   },
   {
    "duration": 55350,
    "start_time": "2023-06-19T16:16:00.852Z"
   },
   {
    "duration": 20,
    "start_time": "2023-06-19T16:16:56.205Z"
   },
   {
    "duration": 11,
    "start_time": "2023-06-19T16:18:12.957Z"
   },
   {
    "duration": 349,
    "start_time": "2023-06-19T16:18:34.334Z"
   },
   {
    "duration": 20,
    "start_time": "2023-06-19T16:21:27.156Z"
   },
   {
    "duration": 8,
    "start_time": "2023-06-19T16:21:27.625Z"
   },
   {
    "duration": 12,
    "start_time": "2023-06-19T16:21:27.944Z"
   },
   {
    "duration": 7,
    "start_time": "2023-06-19T16:21:28.574Z"
   },
   {
    "duration": 174727,
    "start_time": "2023-06-19T16:21:29.219Z"
   },
   {
    "duration": 3914,
    "start_time": "2023-06-19T16:24:30.868Z"
   },
   {
    "duration": 7,
    "start_time": "2023-06-19T16:24:50.317Z"
   },
   {
    "duration": 7449,
    "start_time": "2023-06-19T16:24:56.128Z"
   },
   {
    "duration": 9,
    "start_time": "2023-06-19T16:25:25.341Z"
   },
   {
    "duration": 6,
    "start_time": "2023-06-19T16:25:52.226Z"
   },
   {
    "duration": 78385,
    "start_time": "2023-06-19T16:25:55.985Z"
   },
   {
    "duration": 15,
    "start_time": "2023-06-19T16:27:14.372Z"
   },
   {
    "duration": 6,
    "start_time": "2023-06-19T16:28:10.756Z"
   },
   {
    "duration": 66668,
    "start_time": "2023-06-19T16:28:11.287Z"
   },
   {
    "duration": 7316,
    "start_time": "2023-06-19T16:29:17.957Z"
   },
   {
    "duration": 15,
    "start_time": "2023-06-19T16:29:25.274Z"
   },
   {
    "duration": 68,
    "start_time": "2023-06-19T16:29:25.291Z"
   },
   {
    "duration": 18,
    "start_time": "2023-06-19T16:39:04.866Z"
   }
  ],
  "kernelspec": {
   "display_name": "Python 3 (ipykernel)",
   "language": "python",
   "name": "python3"
  },
  "language_info": {
   "codemirror_mode": {
    "name": "ipython",
    "version": 3
   },
   "file_extension": ".py",
   "mimetype": "text/x-python",
   "name": "python",
   "nbconvert_exporter": "python",
   "pygments_lexer": "ipython3",
   "version": "3.10.9"
  },
  "toc": {
   "base_numbering": 1,
   "nav_menu": {},
   "number_sections": true,
   "sideBar": true,
   "skip_h1_title": true,
   "title_cell": "Содержание",
   "title_sidebar": "Contents",
   "toc_cell": true,
   "toc_position": {
    "height": "calc(100% - 180px)",
    "left": "10px",
    "top": "150px",
    "width": "165px"
   },
   "toc_section_display": true,
   "toc_window_display": true
  }
 },
 "nbformat": 4,
 "nbformat_minor": 2
}
