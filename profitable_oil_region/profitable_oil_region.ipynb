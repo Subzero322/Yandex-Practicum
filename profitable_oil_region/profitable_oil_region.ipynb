{
 "cells": [
  {
   "cell_type": "markdown",
   "metadata": {},
   "source": [
    "# Выбор локации для скважины"
   ]
  },
  {
   "cell_type": "markdown",
   "metadata": {},
   "source": [
    "Допустим, мы работаем в добывающей компании «ГлавРосГосНефть». Нужно решить, где бурить новую скважину.\n",
    "\n",
    "Нам предоставлены пробы нефти в трёх регионах: в каждом 10 000 месторождений, где измерили качество нефти и объём её запасов. Построим модель машинного обучения, которая поможет определить регион, где добыча принесёт наибольшую прибыль. Проанализируем возможную прибыль и риски техникой *Bootstrap.*\n",
    "\n",
    "Шаги для выбора локации:\n",
    "\n",
    "- В избранном регионе ищут месторождения, для каждого определяют значения признаков;\n",
    "- Строят модель и оценивают объём запасов;\n",
    "- Выбирают месторождения с самым высокими оценками значений. Количество месторождений зависит от бюджета компании и стоимости разработки одной скважины;\n",
    "- Прибыль равна суммарной прибыли отобранных месторождений."
   ]
  },
  {
   "cell_type": "markdown",
   "metadata": {},
   "source": [
    "## Загрузка и подготовка данных"
   ]
  },
  {
   "cell_type": "code",
   "execution_count": 1,
   "metadata": {},
   "outputs": [],
   "source": [
    "import pandas as pd\n",
    "import numpy as np\n",
    "import seaborn as sns\n",
    "import matplotlib.pyplot as plt\n",
    "from sklearn.model_selection import train_test_split, cross_val_score\n",
    "from sklearn.linear_model import LinearRegression\n",
    "from sklearn.metrics import r2_score, mean_absolute_error\n",
    "from numpy.random import RandomState\n",
    "state = RandomState(12345)"
   ]
  },
  {
   "cell_type": "code",
   "execution_count": 2,
   "metadata": {},
   "outputs": [],
   "source": [
    "def rmse_mean(data, count=0):\n",
    "    x_train, x_valid, y_train, y_valid = train_test_split(data.drop('product', axis=1), data['product'], random_state=12345, test_size=.25)\n",
    "    lr = LinearRegression()\n",
    "    lr.fit(x_train, y_train)\n",
    "    lr_predict = lr.predict(x_valid)\n",
    "    rmse = mean_absolute_error(y_valid, lr_predict)**(1/2)\n",
    "    mean_value = lr_predict.mean()\n",
    "    print(f'Для региона {count} RMSE={rmse} и средний запас предсказанного сырья={mean_value}')\n",
    "    return lr, lr_predict"
   ]
  },
  {
   "cell_type": "code",
   "execution_count": 3,
   "metadata": {},
   "outputs": [],
   "source": [
    "#расчёт прибыли\n",
    "\n",
    "def profit(data, count=200, budget=10000000000, one_barrel=450000):\n",
    "    data = data.sort_values(by='predict', ascending=False)\n",
    "    selected = data['true'][:count] \n",
    "    gross_profit = selected.sum() * one_barrel - budget # валовая прибыль\n",
    "    return gross_profit\n",
    "    "
   ]
  },
  {
   "cell_type": "code",
   "execution_count": 4,
   "metadata": {},
   "outputs": [],
   "source": [
    "def bootstrap(data, state=RandomState(12345)):\n",
    "    \n",
    "    x_train, x_valid, y_train, y_valid = train_test_split(data.drop('product', axis=1), data['product'], random_state=12345, test_size=.25)\n",
    "    lr = LinearRegression()\n",
    "    lr.fit(x_train, y_train)\n",
    "    lr_predict = pd.DataFrame(lr.predict(x_valid), columns=['predict']).reset_index(drop=True)\n",
    "    y_valid = pd.DataFrame(y_valid).rename(columns={'product':'true'}).reset_index(drop=True)\n",
    "    \n",
    "    values = []\n",
    "    data_for_sample = pd.concat([y_valid, lr_predict], axis=1)#.sort_values(by='predict', ascending=False)\n",
    "    \n",
    "    for i in range(1000):\n",
    "    \n",
    "        data_subsample = data_for_sample.sample(n=500, replace=True, random_state=state)\n",
    "        \n",
    "\n",
    "        values.append(profit(data_subsample))\n",
    "\n",
    "    values = pd.Series(values)\n",
    "    lower = values.quantile(0.025) # < напишите код здесь>\n",
    "    upper = values.quantile(0.975)\n",
    "    mean = values.mean()\n",
    "    print(\"Средняя прибыль:\", mean)\n",
    "    print(\"2.5%-квантиль:\", lower)\n",
    "    print(\"97.5-квантиль:\", upper)\n",
    "    \n",
    "    values = pd.DataFrame(values, columns=['profit'])\n",
    "    minus_profit = values.loc[values['profit']<0].count()[0]\n",
    "    procent = (minus_profit / values.shape[0])*100\n",
    "    print(f'Риск убытков: {round(procent, 2)}%')"
   ]
  },
  {
   "cell_type": "code",
   "execution_count": 5,
   "metadata": {},
   "outputs": [],
   "source": [
    "geo_data1 = pd.read_csv('/datasets/geo_data_0.csv')\n",
    "geo_data2 = pd.read_csv('/datasets/geo_data_1.csv')\n",
    "geo_data3 = pd.read_csv('/datasets/geo_data_2.csv')"
   ]
  },
  {
   "cell_type": "code",
   "execution_count": 6,
   "metadata": {},
   "outputs": [
    {
     "data": {
      "text/html": [
       "<div>\n",
       "<style scoped>\n",
       "    .dataframe tbody tr th:only-of-type {\n",
       "        vertical-align: middle;\n",
       "    }\n",
       "\n",
       "    .dataframe tbody tr th {\n",
       "        vertical-align: top;\n",
       "    }\n",
       "\n",
       "    .dataframe thead th {\n",
       "        text-align: right;\n",
       "    }\n",
       "</style>\n",
       "<table border=\"1\" class=\"dataframe\">\n",
       "  <thead>\n",
       "    <tr style=\"text-align: right;\">\n",
       "      <th></th>\n",
       "      <th>id</th>\n",
       "      <th>f0</th>\n",
       "      <th>f1</th>\n",
       "      <th>f2</th>\n",
       "      <th>product</th>\n",
       "    </tr>\n",
       "  </thead>\n",
       "  <tbody>\n",
       "    <tr>\n",
       "      <th>0</th>\n",
       "      <td>txEyH</td>\n",
       "      <td>0.705745</td>\n",
       "      <td>-0.497823</td>\n",
       "      <td>1.221170</td>\n",
       "      <td>105.280062</td>\n",
       "    </tr>\n",
       "    <tr>\n",
       "      <th>1</th>\n",
       "      <td>2acmU</td>\n",
       "      <td>1.334711</td>\n",
       "      <td>-0.340164</td>\n",
       "      <td>4.365080</td>\n",
       "      <td>73.037750</td>\n",
       "    </tr>\n",
       "    <tr>\n",
       "      <th>2</th>\n",
       "      <td>409Wp</td>\n",
       "      <td>1.022732</td>\n",
       "      <td>0.151990</td>\n",
       "      <td>1.419926</td>\n",
       "      <td>85.265647</td>\n",
       "    </tr>\n",
       "    <tr>\n",
       "      <th>3</th>\n",
       "      <td>iJLyR</td>\n",
       "      <td>-0.032172</td>\n",
       "      <td>0.139033</td>\n",
       "      <td>2.978566</td>\n",
       "      <td>168.620776</td>\n",
       "    </tr>\n",
       "    <tr>\n",
       "      <th>4</th>\n",
       "      <td>Xdl7t</td>\n",
       "      <td>1.988431</td>\n",
       "      <td>0.155413</td>\n",
       "      <td>4.751769</td>\n",
       "      <td>154.036647</td>\n",
       "    </tr>\n",
       "  </tbody>\n",
       "</table>\n",
       "</div>"
      ],
      "text/plain": [
       "      id        f0        f1        f2     product\n",
       "0  txEyH  0.705745 -0.497823  1.221170  105.280062\n",
       "1  2acmU  1.334711 -0.340164  4.365080   73.037750\n",
       "2  409Wp  1.022732  0.151990  1.419926   85.265647\n",
       "3  iJLyR -0.032172  0.139033  2.978566  168.620776\n",
       "4  Xdl7t  1.988431  0.155413  4.751769  154.036647"
      ]
     },
     "execution_count": 6,
     "metadata": {},
     "output_type": "execute_result"
    }
   ],
   "source": [
    "geo_data1.head()"
   ]
  },
  {
   "cell_type": "code",
   "execution_count": 7,
   "metadata": {},
   "outputs": [
    {
     "data": {
      "text/html": [
       "<div>\n",
       "<style scoped>\n",
       "    .dataframe tbody tr th:only-of-type {\n",
       "        vertical-align: middle;\n",
       "    }\n",
       "\n",
       "    .dataframe tbody tr th {\n",
       "        vertical-align: top;\n",
       "    }\n",
       "\n",
       "    .dataframe thead th {\n",
       "        text-align: right;\n",
       "    }\n",
       "</style>\n",
       "<table border=\"1\" class=\"dataframe\">\n",
       "  <thead>\n",
       "    <tr style=\"text-align: right;\">\n",
       "      <th></th>\n",
       "      <th>id</th>\n",
       "      <th>f0</th>\n",
       "      <th>f1</th>\n",
       "      <th>f2</th>\n",
       "      <th>product</th>\n",
       "    </tr>\n",
       "  </thead>\n",
       "  <tbody>\n",
       "    <tr>\n",
       "      <th>0</th>\n",
       "      <td>kBEdx</td>\n",
       "      <td>-15.001348</td>\n",
       "      <td>-8.276000</td>\n",
       "      <td>-0.005876</td>\n",
       "      <td>3.179103</td>\n",
       "    </tr>\n",
       "    <tr>\n",
       "      <th>1</th>\n",
       "      <td>62mP7</td>\n",
       "      <td>14.272088</td>\n",
       "      <td>-3.475083</td>\n",
       "      <td>0.999183</td>\n",
       "      <td>26.953261</td>\n",
       "    </tr>\n",
       "    <tr>\n",
       "      <th>2</th>\n",
       "      <td>vyE1P</td>\n",
       "      <td>6.263187</td>\n",
       "      <td>-5.948386</td>\n",
       "      <td>5.001160</td>\n",
       "      <td>134.766305</td>\n",
       "    </tr>\n",
       "    <tr>\n",
       "      <th>3</th>\n",
       "      <td>KcrkZ</td>\n",
       "      <td>-13.081196</td>\n",
       "      <td>-11.506057</td>\n",
       "      <td>4.999415</td>\n",
       "      <td>137.945408</td>\n",
       "    </tr>\n",
       "    <tr>\n",
       "      <th>4</th>\n",
       "      <td>AHL4O</td>\n",
       "      <td>12.702195</td>\n",
       "      <td>-8.147433</td>\n",
       "      <td>5.004363</td>\n",
       "      <td>134.766305</td>\n",
       "    </tr>\n",
       "  </tbody>\n",
       "</table>\n",
       "</div>"
      ],
      "text/plain": [
       "      id         f0         f1        f2     product\n",
       "0  kBEdx -15.001348  -8.276000 -0.005876    3.179103\n",
       "1  62mP7  14.272088  -3.475083  0.999183   26.953261\n",
       "2  vyE1P   6.263187  -5.948386  5.001160  134.766305\n",
       "3  KcrkZ -13.081196 -11.506057  4.999415  137.945408\n",
       "4  AHL4O  12.702195  -8.147433  5.004363  134.766305"
      ]
     },
     "execution_count": 7,
     "metadata": {},
     "output_type": "execute_result"
    }
   ],
   "source": [
    "geo_data2.head()"
   ]
  },
  {
   "cell_type": "code",
   "execution_count": 8,
   "metadata": {},
   "outputs": [
    {
     "data": {
      "text/html": [
       "<div>\n",
       "<style scoped>\n",
       "    .dataframe tbody tr th:only-of-type {\n",
       "        vertical-align: middle;\n",
       "    }\n",
       "\n",
       "    .dataframe tbody tr th {\n",
       "        vertical-align: top;\n",
       "    }\n",
       "\n",
       "    .dataframe thead th {\n",
       "        text-align: right;\n",
       "    }\n",
       "</style>\n",
       "<table border=\"1\" class=\"dataframe\">\n",
       "  <thead>\n",
       "    <tr style=\"text-align: right;\">\n",
       "      <th></th>\n",
       "      <th>id</th>\n",
       "      <th>f0</th>\n",
       "      <th>f1</th>\n",
       "      <th>f2</th>\n",
       "      <th>product</th>\n",
       "    </tr>\n",
       "  </thead>\n",
       "  <tbody>\n",
       "    <tr>\n",
       "      <th>0</th>\n",
       "      <td>fwXo0</td>\n",
       "      <td>-1.146987</td>\n",
       "      <td>0.963328</td>\n",
       "      <td>-0.828965</td>\n",
       "      <td>27.758673</td>\n",
       "    </tr>\n",
       "    <tr>\n",
       "      <th>1</th>\n",
       "      <td>WJtFt</td>\n",
       "      <td>0.262778</td>\n",
       "      <td>0.269839</td>\n",
       "      <td>-2.530187</td>\n",
       "      <td>56.069697</td>\n",
       "    </tr>\n",
       "    <tr>\n",
       "      <th>2</th>\n",
       "      <td>ovLUW</td>\n",
       "      <td>0.194587</td>\n",
       "      <td>0.289035</td>\n",
       "      <td>-5.586433</td>\n",
       "      <td>62.871910</td>\n",
       "    </tr>\n",
       "    <tr>\n",
       "      <th>3</th>\n",
       "      <td>q6cA6</td>\n",
       "      <td>2.236060</td>\n",
       "      <td>-0.553760</td>\n",
       "      <td>0.930038</td>\n",
       "      <td>114.572842</td>\n",
       "    </tr>\n",
       "    <tr>\n",
       "      <th>4</th>\n",
       "      <td>WPMUX</td>\n",
       "      <td>-0.515993</td>\n",
       "      <td>1.716266</td>\n",
       "      <td>5.899011</td>\n",
       "      <td>149.600746</td>\n",
       "    </tr>\n",
       "  </tbody>\n",
       "</table>\n",
       "</div>"
      ],
      "text/plain": [
       "      id        f0        f1        f2     product\n",
       "0  fwXo0 -1.146987  0.963328 -0.828965   27.758673\n",
       "1  WJtFt  0.262778  0.269839 -2.530187   56.069697\n",
       "2  ovLUW  0.194587  0.289035 -5.586433   62.871910\n",
       "3  q6cA6  2.236060 -0.553760  0.930038  114.572842\n",
       "4  WPMUX -0.515993  1.716266  5.899011  149.600746"
      ]
     },
     "execution_count": 8,
     "metadata": {},
     "output_type": "execute_result"
    }
   ],
   "source": [
    "geo_data3.head()"
   ]
  },
  {
   "cell_type": "code",
   "execution_count": 9,
   "metadata": {},
   "outputs": [],
   "source": [
    "geo_data1 = geo_data1.iloc[:,1:]\n",
    "geo_data2 = geo_data2.iloc[:,1:]\n",
    "geo_data3 = geo_data3.iloc[:,1:]"
   ]
  },
  {
   "cell_type": "markdown",
   "metadata": {},
   "source": [
    "#### Откинем колонку id, тк она не несёт смысловой нагрузки для машинного обучения."
   ]
  },
  {
   "cell_type": "code",
   "execution_count": 10,
   "metadata": {},
   "outputs": [
    {
     "data": {
      "text/html": [
       "<div>\n",
       "<style scoped>\n",
       "    .dataframe tbody tr th:only-of-type {\n",
       "        vertical-align: middle;\n",
       "    }\n",
       "\n",
       "    .dataframe tbody tr th {\n",
       "        vertical-align: top;\n",
       "    }\n",
       "\n",
       "    .dataframe thead th {\n",
       "        text-align: right;\n",
       "    }\n",
       "</style>\n",
       "<table border=\"1\" class=\"dataframe\">\n",
       "  <thead>\n",
       "    <tr style=\"text-align: right;\">\n",
       "      <th></th>\n",
       "      <th>f0</th>\n",
       "      <th>f1</th>\n",
       "      <th>f2</th>\n",
       "      <th>product</th>\n",
       "    </tr>\n",
       "  </thead>\n",
       "  <tbody>\n",
       "    <tr>\n",
       "      <th>0</th>\n",
       "      <td>-15.001348</td>\n",
       "      <td>-8.276000</td>\n",
       "      <td>-0.005876</td>\n",
       "      <td>3.179103</td>\n",
       "    </tr>\n",
       "    <tr>\n",
       "      <th>1</th>\n",
       "      <td>14.272088</td>\n",
       "      <td>-3.475083</td>\n",
       "      <td>0.999183</td>\n",
       "      <td>26.953261</td>\n",
       "    </tr>\n",
       "    <tr>\n",
       "      <th>2</th>\n",
       "      <td>6.263187</td>\n",
       "      <td>-5.948386</td>\n",
       "      <td>5.001160</td>\n",
       "      <td>134.766305</td>\n",
       "    </tr>\n",
       "    <tr>\n",
       "      <th>3</th>\n",
       "      <td>-13.081196</td>\n",
       "      <td>-11.506057</td>\n",
       "      <td>4.999415</td>\n",
       "      <td>137.945408</td>\n",
       "    </tr>\n",
       "    <tr>\n",
       "      <th>4</th>\n",
       "      <td>12.702195</td>\n",
       "      <td>-8.147433</td>\n",
       "      <td>5.004363</td>\n",
       "      <td>134.766305</td>\n",
       "    </tr>\n",
       "  </tbody>\n",
       "</table>\n",
       "</div>"
      ],
      "text/plain": [
       "          f0         f1        f2     product\n",
       "0 -15.001348  -8.276000 -0.005876    3.179103\n",
       "1  14.272088  -3.475083  0.999183   26.953261\n",
       "2   6.263187  -5.948386  5.001160  134.766305\n",
       "3 -13.081196 -11.506057  4.999415  137.945408\n",
       "4  12.702195  -8.147433  5.004363  134.766305"
      ]
     },
     "execution_count": 10,
     "metadata": {},
     "output_type": "execute_result"
    }
   ],
   "source": [
    "geo_data2.head()"
   ]
  },
  {
   "cell_type": "code",
   "execution_count": 11,
   "metadata": {},
   "outputs": [
    {
     "data": {
      "text/plain": [
       "f0         0\n",
       "f1         0\n",
       "f2         0\n",
       "product    0\n",
       "dtype: int64"
      ]
     },
     "execution_count": 11,
     "metadata": {},
     "output_type": "execute_result"
    }
   ],
   "source": [
    "geo_data1.isna().sum()"
   ]
  },
  {
   "cell_type": "code",
   "execution_count": 12,
   "metadata": {},
   "outputs": [
    {
     "data": {
      "text/plain": [
       "f0         0\n",
       "f1         0\n",
       "f2         0\n",
       "product    0\n",
       "dtype: int64"
      ]
     },
     "execution_count": 12,
     "metadata": {},
     "output_type": "execute_result"
    }
   ],
   "source": [
    "geo_data2.isna().sum()"
   ]
  },
  {
   "cell_type": "code",
   "execution_count": 13,
   "metadata": {},
   "outputs": [
    {
     "data": {
      "text/plain": [
       "f0         0\n",
       "f1         0\n",
       "f2         0\n",
       "product    0\n",
       "dtype: int64"
      ]
     },
     "execution_count": 13,
     "metadata": {},
     "output_type": "execute_result"
    }
   ],
   "source": [
    "geo_data3.isna().sum()"
   ]
  },
  {
   "cell_type": "code",
   "execution_count": 14,
   "metadata": {},
   "outputs": [
    {
     "data": {
      "text/html": [
       "<div>\n",
       "<style scoped>\n",
       "    .dataframe tbody tr th:only-of-type {\n",
       "        vertical-align: middle;\n",
       "    }\n",
       "\n",
       "    .dataframe tbody tr th {\n",
       "        vertical-align: top;\n",
       "    }\n",
       "\n",
       "    .dataframe thead th {\n",
       "        text-align: right;\n",
       "    }\n",
       "</style>\n",
       "<table border=\"1\" class=\"dataframe\">\n",
       "  <thead>\n",
       "    <tr style=\"text-align: right;\">\n",
       "      <th></th>\n",
       "      <th>f0</th>\n",
       "      <th>f1</th>\n",
       "      <th>f2</th>\n",
       "      <th>product</th>\n",
       "    </tr>\n",
       "  </thead>\n",
       "  <tbody>\n",
       "    <tr>\n",
       "      <th>count</th>\n",
       "      <td>100000.000000</td>\n",
       "      <td>100000.000000</td>\n",
       "      <td>100000.000000</td>\n",
       "      <td>100000.000000</td>\n",
       "    </tr>\n",
       "    <tr>\n",
       "      <th>mean</th>\n",
       "      <td>0.500419</td>\n",
       "      <td>0.250143</td>\n",
       "      <td>2.502647</td>\n",
       "      <td>92.500000</td>\n",
       "    </tr>\n",
       "    <tr>\n",
       "      <th>std</th>\n",
       "      <td>0.871832</td>\n",
       "      <td>0.504433</td>\n",
       "      <td>3.248248</td>\n",
       "      <td>44.288691</td>\n",
       "    </tr>\n",
       "    <tr>\n",
       "      <th>min</th>\n",
       "      <td>-1.408605</td>\n",
       "      <td>-0.848218</td>\n",
       "      <td>-12.088328</td>\n",
       "      <td>0.000000</td>\n",
       "    </tr>\n",
       "    <tr>\n",
       "      <th>25%</th>\n",
       "      <td>-0.072580</td>\n",
       "      <td>-0.200881</td>\n",
       "      <td>0.287748</td>\n",
       "      <td>56.497507</td>\n",
       "    </tr>\n",
       "    <tr>\n",
       "      <th>50%</th>\n",
       "      <td>0.502360</td>\n",
       "      <td>0.250252</td>\n",
       "      <td>2.515969</td>\n",
       "      <td>91.849972</td>\n",
       "    </tr>\n",
       "    <tr>\n",
       "      <th>75%</th>\n",
       "      <td>1.073581</td>\n",
       "      <td>0.700646</td>\n",
       "      <td>4.715088</td>\n",
       "      <td>128.564089</td>\n",
       "    </tr>\n",
       "    <tr>\n",
       "      <th>max</th>\n",
       "      <td>2.362331</td>\n",
       "      <td>1.343769</td>\n",
       "      <td>16.003790</td>\n",
       "      <td>185.364347</td>\n",
       "    </tr>\n",
       "  </tbody>\n",
       "</table>\n",
       "</div>"
      ],
      "text/plain": [
       "                  f0             f1             f2        product\n",
       "count  100000.000000  100000.000000  100000.000000  100000.000000\n",
       "mean        0.500419       0.250143       2.502647      92.500000\n",
       "std         0.871832       0.504433       3.248248      44.288691\n",
       "min        -1.408605      -0.848218     -12.088328       0.000000\n",
       "25%        -0.072580      -0.200881       0.287748      56.497507\n",
       "50%         0.502360       0.250252       2.515969      91.849972\n",
       "75%         1.073581       0.700646       4.715088     128.564089\n",
       "max         2.362331       1.343769      16.003790     185.364347"
      ]
     },
     "execution_count": 14,
     "metadata": {},
     "output_type": "execute_result"
    }
   ],
   "source": [
    "geo_data1.describe()"
   ]
  },
  {
   "cell_type": "markdown",
   "metadata": {},
   "source": [
    "#### Вывод: данные чисты и не требуют дальнейшей обработки."
   ]
  },
  {
   "cell_type": "markdown",
   "metadata": {},
   "source": [
    "## Обучение и проверка модели"
   ]
  },
  {
   "cell_type": "markdown",
   "metadata": {},
   "source": [
    "### 1 регион:"
   ]
  },
  {
   "cell_type": "code",
   "execution_count": 15,
   "metadata": {},
   "outputs": [
    {
     "name": "stdout",
     "output_type": "stream",
     "text": [
      "Для региона 1 RMSE=5.560539612047675 и средний запас предсказанного сырья=92.59256778438035\n"
     ]
    }
   ],
   "source": [
    "lr1, pred1 = rmse_mean(geo_data1, count=1)"
   ]
  },
  {
   "cell_type": "markdown",
   "metadata": {},
   "source": [
    "### 2 регион:"
   ]
  },
  {
   "cell_type": "code",
   "execution_count": 16,
   "metadata": {},
   "outputs": [
    {
     "name": "stdout",
     "output_type": "stream",
     "text": [
      "Для региона 2 RMSE=0.8478008281503834 и средний запас предсказанного сырья=68.728546895446\n"
     ]
    }
   ],
   "source": [
    "lr2, pred2 = rmse_mean(geo_data2, count=2)"
   ]
  },
  {
   "cell_type": "markdown",
   "metadata": {},
   "source": [
    "### 3 регион:"
   ]
  },
  {
   "cell_type": "code",
   "execution_count": 17,
   "metadata": {},
   "outputs": [
    {
     "name": "stdout",
     "output_type": "stream",
     "text": [
      "Для региона 3 RMSE=5.726486890361473 и средний запас предсказанного сырья=94.96504596800489\n"
     ]
    }
   ],
   "source": [
    "lr3, pred3 = rmse_mean(geo_data3, count=3)"
   ]
  },
  {
   "cell_type": "markdown",
   "metadata": {},
   "source": [
    "#### Мне кажется, что для первого региона значение rmse относительно среднего предсказанного немного великовато, желательно получить 7 и ниже, однако если так подумать, то 15, в теории, тоже не особо плохо."
   ]
  },
  {
   "cell_type": "markdown",
   "metadata": {},
   "source": [
    "#### Для второго региона RMSE - идеал."
   ]
  },
  {
   "cell_type": "markdown",
   "metadata": {},
   "source": [
    "#### Для 3-его региона вывод аналогичен первому."
   ]
  },
  {
   "cell_type": "markdown",
   "metadata": {},
   "source": [
    "#### Вывод: модель показала адекватный rmse и адекватное среднее предсказания."
   ]
  },
  {
   "cell_type": "markdown",
   "metadata": {},
   "source": [
    "## Подготовка к расчёту прибыли"
   ]
  },
  {
   "cell_type": "code",
   "execution_count": 18,
   "metadata": {},
   "outputs": [],
   "source": [
    "budget = 10000000000\n",
    "all_counts = 500\n",
    "max_counts = 200\n",
    "one_barrel = 450 #прибыль с одной тонны (барреля) продукта (450 рублей)\n",
    "counts_barrel = 1000"
   ]
  },
  {
   "cell_type": "code",
   "execution_count": 19,
   "metadata": {},
   "outputs": [
    {
     "data": {
      "text/plain": [
       "111.11111111111111"
      ]
     },
     "execution_count": 19,
     "metadata": {},
     "output_type": "execute_result"
    }
   ],
   "source": [
    "profit_volume = budget / (one_barrel * counts_barrel * max_counts)\n",
    "profit_volume"
   ]
  },
  {
   "cell_type": "code",
   "execution_count": 20,
   "metadata": {},
   "outputs": [
    {
     "data": {
      "text/plain": [
       "92.59256778438035"
      ]
     },
     "execution_count": 20,
     "metadata": {},
     "output_type": "execute_result"
    }
   ],
   "source": [
    "pred1.mean()"
   ]
  },
  {
   "cell_type": "code",
   "execution_count": 21,
   "metadata": {},
   "outputs": [
    {
     "data": {
      "text/plain": [
       "68.728546895446"
      ]
     },
     "execution_count": 21,
     "metadata": {},
     "output_type": "execute_result"
    }
   ],
   "source": [
    "pred2.mean()"
   ]
  },
  {
   "cell_type": "code",
   "execution_count": 22,
   "metadata": {},
   "outputs": [
    {
     "data": {
      "text/plain": [
       "94.96504596800489"
      ]
     },
     "execution_count": 22,
     "metadata": {},
     "output_type": "execute_result"
    }
   ],
   "source": [
    "pred3.mean()"
   ]
  },
  {
   "cell_type": "markdown",
   "metadata": {},
   "source": [
    "#### Вывод: прогноз не внушительный... Так как если верить среднему, то в каждом регионе среднее меньше, чем нужно нам."
   ]
  },
  {
   "cell_type": "markdown",
   "metadata": {},
   "source": [
    "## Расчёт прибыли и рисков "
   ]
  },
  {
   "cell_type": "code",
   "execution_count": 23,
   "metadata": {},
   "outputs": [
    {
     "name": "stdout",
     "output_type": "stream",
     "text": [
      "Средняя прибыль: 396164984.8023711\n",
      "2.5%-квантиль: -111215545.89049526\n",
      "97.5-квантиль: 909766941.5534226\n",
      "Риск убытков: 6.9%\n"
     ]
    }
   ],
   "source": [
    "bootstrap(geo_data1)"
   ]
  },
  {
   "cell_type": "code",
   "execution_count": 24,
   "metadata": {},
   "outputs": [
    {
     "name": "stdout",
     "output_type": "stream",
     "text": [
      "Средняя прибыль: 461155817.2772397\n",
      "2.5%-квантиль: 78050810.7517417\n",
      "97.5-квантиль: 862952060.2637234\n",
      "Риск убытков: 0.7%\n"
     ]
    }
   ],
   "source": [
    "bootstrap(geo_data2)"
   ]
  },
  {
   "cell_type": "code",
   "execution_count": 25,
   "metadata": {},
   "outputs": [
    {
     "name": "stdout",
     "output_type": "stream",
     "text": [
      "Средняя прибыль: 392950475.17060447\n",
      "2.5%-квантиль: -112227625.37857565\n",
      "97.5-квантиль: 934562914.5511636\n",
      "Риск убытков: 6.5%\n"
     ]
    }
   ],
   "source": [
    "bootstrap(geo_data3)"
   ]
  },
  {
   "cell_type": "markdown",
   "metadata": {},
   "source": [
    "#### Вывод: финалистом стал 2-ий регион."
   ]
  },
  {
   "cell_type": "markdown",
   "metadata": {},
   "source": [
    "#### Вывод: с одной стороны 1 и 3 регионы вроде бы как богаче, но с другой там риск убытков выше, поэтому если брать риск как главный фактор выбора, то на основании Бутстрепа могу выдвинуть 2 регион."
   ]
  }
 ],
 "metadata": {
  "ExecuteTimeLog": [
   {
    "duration": 1638,
    "start_time": "2023-04-28T08:35:19.635Z"
   },
   {
    "duration": 23,
    "start_time": "2023-04-28T08:36:09.022Z"
   },
   {
    "duration": 690,
    "start_time": "2023-04-28T08:36:55.018Z"
   },
   {
    "duration": 15,
    "start_time": "2023-04-28T08:37:04.040Z"
   },
   {
    "duration": 12,
    "start_time": "2023-04-28T08:37:15.173Z"
   },
   {
    "duration": 10,
    "start_time": "2023-04-28T08:37:20.352Z"
   },
   {
    "duration": 11,
    "start_time": "2023-04-28T08:37:23.325Z"
   },
   {
    "duration": 14,
    "start_time": "2023-04-28T08:37:31.474Z"
   },
   {
    "duration": 39,
    "start_time": "2023-04-28T08:37:48.563Z"
   },
   {
    "duration": 9,
    "start_time": "2023-04-28T08:38:27.079Z"
   },
   {
    "duration": 9,
    "start_time": "2023-04-28T08:38:38.240Z"
   },
   {
    "duration": 9,
    "start_time": "2023-04-28T08:38:38.531Z"
   },
   {
    "duration": 8,
    "start_time": "2023-04-28T08:42:00.246Z"
   },
   {
    "duration": 20,
    "start_time": "2023-04-28T08:42:54.680Z"
   },
   {
    "duration": 113,
    "start_time": "2023-04-28T08:42:58.756Z"
   },
   {
    "duration": 15,
    "start_time": "2023-04-28T08:43:09.396Z"
   },
   {
    "duration": 5,
    "start_time": "2023-04-28T08:43:19.895Z"
   },
   {
    "duration": 8,
    "start_time": "2023-04-28T08:43:23.011Z"
   },
   {
    "duration": 349,
    "start_time": "2023-04-28T08:43:38.182Z"
   },
   {
    "duration": 9,
    "start_time": "2023-04-28T08:43:38.533Z"
   },
   {
    "duration": 2,
    "start_time": "2023-04-28T08:43:51.721Z"
   },
   {
    "duration": 343,
    "start_time": "2023-04-28T08:43:51.909Z"
   },
   {
    "duration": 9,
    "start_time": "2023-04-28T08:43:52.254Z"
   },
   {
    "duration": 8,
    "start_time": "2023-04-28T08:43:53.022Z"
   },
   {
    "duration": 7,
    "start_time": "2023-04-28T08:43:53.897Z"
   },
   {
    "duration": 7,
    "start_time": "2023-04-28T08:44:11.385Z"
   },
   {
    "duration": 335,
    "start_time": "2023-04-28T08:44:13.098Z"
   },
   {
    "duration": 8,
    "start_time": "2023-04-28T08:44:13.560Z"
   },
   {
    "duration": 9,
    "start_time": "2023-04-28T08:44:14.364Z"
   },
   {
    "duration": 7,
    "start_time": "2023-04-28T08:44:15.397Z"
   },
   {
    "duration": 5,
    "start_time": "2023-04-28T08:44:22.460Z"
   },
   {
    "duration": 8,
    "start_time": "2023-04-28T08:44:23.581Z"
   },
   {
    "duration": 346,
    "start_time": "2023-04-28T08:44:42.547Z"
   },
   {
    "duration": 8,
    "start_time": "2023-04-28T08:44:43.220Z"
   },
   {
    "duration": 10,
    "start_time": "2023-04-28T08:44:43.747Z"
   },
   {
    "duration": 11,
    "start_time": "2023-04-28T08:44:44.441Z"
   },
   {
    "duration": 9,
    "start_time": "2023-04-28T08:44:54.597Z"
   },
   {
    "duration": 8,
    "start_time": "2023-04-28T08:44:55.099Z"
   },
   {
    "duration": 6,
    "start_time": "2023-04-28T08:44:58.124Z"
   },
   {
    "duration": 6,
    "start_time": "2023-04-28T08:44:58.507Z"
   },
   {
    "duration": 6,
    "start_time": "2023-04-28T08:44:59.052Z"
   },
   {
    "duration": 22,
    "start_time": "2023-04-28T08:49:34.358Z"
   },
   {
    "duration": 11,
    "start_time": "2023-04-28T08:50:09.014Z"
   },
   {
    "duration": 5,
    "start_time": "2023-04-28T08:50:33.528Z"
   },
   {
    "duration": 20,
    "start_time": "2023-04-28T08:50:35.735Z"
   },
   {
    "duration": 19,
    "start_time": "2023-04-28T08:50:47.912Z"
   },
   {
    "duration": 20,
    "start_time": "2023-04-28T08:51:23.911Z"
   },
   {
    "duration": 10,
    "start_time": "2023-04-28T08:55:46.199Z"
   },
   {
    "duration": 6,
    "start_time": "2023-04-28T08:56:12.310Z"
   },
   {
    "duration": 16,
    "start_time": "2023-04-28T08:56:12.786Z"
   },
   {
    "duration": 10,
    "start_time": "2023-04-28T08:56:33.000Z"
   },
   {
    "duration": 12,
    "start_time": "2023-04-28T08:56:48.388Z"
   },
   {
    "duration": 10,
    "start_time": "2023-04-28T08:57:01.741Z"
   },
   {
    "duration": 16,
    "start_time": "2023-04-28T08:57:02.788Z"
   },
   {
    "duration": 5,
    "start_time": "2023-04-28T08:58:48.793Z"
   },
   {
    "duration": 5,
    "start_time": "2023-04-28T08:58:49.094Z"
   },
   {
    "duration": 15,
    "start_time": "2023-04-28T08:58:51.988Z"
   },
   {
    "duration": 9,
    "start_time": "2023-04-28T08:59:17.350Z"
   },
   {
    "duration": 8,
    "start_time": "2023-04-28T08:59:20.892Z"
   },
   {
    "duration": 10,
    "start_time": "2023-04-28T08:59:24.689Z"
   },
   {
    "duration": 10,
    "start_time": "2023-04-28T08:59:32.802Z"
   },
   {
    "duration": 6,
    "start_time": "2023-04-28T08:59:42.891Z"
   },
   {
    "duration": 11,
    "start_time": "2023-04-28T08:59:51.117Z"
   },
   {
    "duration": 14,
    "start_time": "2023-04-28T09:00:03.592Z"
   },
   {
    "duration": 21,
    "start_time": "2023-04-28T09:01:04.500Z"
   },
   {
    "duration": 11,
    "start_time": "2023-04-28T09:06:40.091Z"
   },
   {
    "duration": 14,
    "start_time": "2023-04-28T09:06:58.997Z"
   },
   {
    "duration": 11,
    "start_time": "2023-04-28T09:07:50.662Z"
   },
   {
    "duration": 2,
    "start_time": "2023-04-28T09:08:15.693Z"
   },
   {
    "duration": 13,
    "start_time": "2023-04-28T09:08:16.396Z"
   },
   {
    "duration": 12,
    "start_time": "2023-04-28T09:08:24.104Z"
   },
   {
    "duration": 18,
    "start_time": "2023-04-28T09:08:24.732Z"
   },
   {
    "duration": 3,
    "start_time": "2023-04-28T09:08:51.308Z"
   },
   {
    "duration": 15,
    "start_time": "2023-04-28T09:08:54.184Z"
   },
   {
    "duration": 16,
    "start_time": "2023-04-28T09:09:02.583Z"
   },
   {
    "duration": 4,
    "start_time": "2023-04-28T09:11:26.825Z"
   },
   {
    "duration": 5,
    "start_time": "2023-04-28T09:11:34.637Z"
   },
   {
    "duration": 13,
    "start_time": "2023-04-28T09:11:49.996Z"
   },
   {
    "duration": 3,
    "start_time": "2023-04-28T09:11:50.393Z"
   },
   {
    "duration": 3,
    "start_time": "2023-04-28T09:11:50.805Z"
   },
   {
    "duration": 105,
    "start_time": "2023-04-28T09:11:52.647Z"
   },
   {
    "duration": 18,
    "start_time": "2023-04-28T09:12:50.391Z"
   },
   {
    "duration": 3,
    "start_time": "2023-04-28T09:12:53.701Z"
   },
   {
    "duration": 17,
    "start_time": "2023-04-28T09:12:56.694Z"
   },
   {
    "duration": 12,
    "start_time": "2023-04-28T09:13:05.455Z"
   },
   {
    "duration": 7,
    "start_time": "2023-04-28T09:13:05.932Z"
   },
   {
    "duration": 14,
    "start_time": "2023-04-28T09:15:11.344Z"
   },
   {
    "duration": 5,
    "start_time": "2023-04-28T09:15:11.809Z"
   },
   {
    "duration": 4,
    "start_time": "2023-04-28T09:15:50.702Z"
   },
   {
    "duration": 5,
    "start_time": "2023-04-28T09:17:05.716Z"
   },
   {
    "duration": 4,
    "start_time": "2023-04-28T09:17:24.946Z"
   },
   {
    "duration": 39,
    "start_time": "2023-04-28T09:19:30.624Z"
   },
   {
    "duration": 4,
    "start_time": "2023-04-28T09:20:55.163Z"
   },
   {
    "duration": 4,
    "start_time": "2023-04-28T09:20:55.741Z"
   },
   {
    "duration": 9,
    "start_time": "2023-04-28T09:24:38.755Z"
   },
   {
    "duration": 10,
    "start_time": "2023-04-28T09:24:42.409Z"
   },
   {
    "duration": 4,
    "start_time": "2023-04-28T09:24:43.194Z"
   },
   {
    "duration": 4,
    "start_time": "2023-04-28T09:24:43.525Z"
   },
   {
    "duration": 5,
    "start_time": "2023-04-28T09:29:44.702Z"
   },
   {
    "duration": 19,
    "start_time": "2023-04-28T09:30:07.818Z"
   },
   {
    "duration": 18,
    "start_time": "2023-04-28T09:30:20.637Z"
   },
   {
    "duration": 23,
    "start_time": "2023-04-28T09:30:30.607Z"
   },
   {
    "duration": 4,
    "start_time": "2023-04-28T09:33:13.138Z"
   },
   {
    "duration": 19,
    "start_time": "2023-04-28T09:33:21.498Z"
   },
   {
    "duration": 18,
    "start_time": "2023-04-28T09:33:26.645Z"
   },
   {
    "duration": 19,
    "start_time": "2023-04-28T09:33:33.892Z"
   },
   {
    "duration": 18,
    "start_time": "2023-04-28T09:33:56.572Z"
   },
   {
    "duration": 17,
    "start_time": "2023-04-28T09:33:57.497Z"
   },
   {
    "duration": 18,
    "start_time": "2023-04-28T09:33:58.381Z"
   },
   {
    "duration": 7,
    "start_time": "2023-04-28T10:09:45.431Z"
   },
   {
    "duration": 2,
    "start_time": "2023-04-28T10:09:47.936Z"
   },
   {
    "duration": 3,
    "start_time": "2023-04-28T10:09:48.156Z"
   },
   {
    "duration": 2,
    "start_time": "2023-04-28T10:09:58.752Z"
   },
   {
    "duration": 4,
    "start_time": "2023-04-28T10:09:59.035Z"
   },
   {
    "duration": 3,
    "start_time": "2023-04-28T10:12:50.918Z"
   },
   {
    "duration": 4,
    "start_time": "2023-04-28T10:13:45.320Z"
   },
   {
    "duration": 2,
    "start_time": "2023-04-28T10:18:42.070Z"
   },
   {
    "duration": 4,
    "start_time": "2023-04-28T10:19:08.828Z"
   },
   {
    "duration": 4,
    "start_time": "2023-04-28T10:21:06.827Z"
   },
   {
    "duration": 4,
    "start_time": "2023-04-28T10:21:11.444Z"
   },
   {
    "duration": 4,
    "start_time": "2023-04-28T10:51:54.168Z"
   },
   {
    "duration": 5,
    "start_time": "2023-04-28T10:52:15.326Z"
   },
   {
    "duration": 18,
    "start_time": "2023-04-28T10:52:18.088Z"
   },
   {
    "duration": 20,
    "start_time": "2023-04-28T10:52:19.053Z"
   },
   {
    "duration": 18,
    "start_time": "2023-04-28T10:52:19.936Z"
   },
   {
    "duration": 3,
    "start_time": "2023-04-28T10:53:24.075Z"
   },
   {
    "duration": 8,
    "start_time": "2023-04-28T10:57:43.820Z"
   },
   {
    "duration": 8,
    "start_time": "2023-04-28T10:57:56.790Z"
   },
   {
    "duration": 9,
    "start_time": "2023-04-28T10:58:26.944Z"
   },
   {
    "duration": 8,
    "start_time": "2023-04-28T10:58:32.808Z"
   },
   {
    "duration": 9,
    "start_time": "2023-04-28T11:00:55.957Z"
   },
   {
    "duration": 9,
    "start_time": "2023-04-28T11:01:02.602Z"
   },
   {
    "duration": 8,
    "start_time": "2023-04-28T11:01:08.137Z"
   },
   {
    "duration": 8,
    "start_time": "2023-04-28T11:02:38.846Z"
   },
   {
    "duration": 3,
    "start_time": "2023-04-28T11:10:33.803Z"
   },
   {
    "duration": 10,
    "start_time": "2023-04-28T11:11:01.809Z"
   },
   {
    "duration": 10,
    "start_time": "2023-04-28T11:11:16.566Z"
   },
   {
    "duration": 9,
    "start_time": "2023-04-28T11:11:23.447Z"
   },
   {
    "duration": 8,
    "start_time": "2023-04-28T11:12:24.413Z"
   },
   {
    "duration": 8,
    "start_time": "2023-04-28T11:12:24.881Z"
   },
   {
    "duration": 7,
    "start_time": "2023-04-28T11:12:25.345Z"
   },
   {
    "duration": 4,
    "start_time": "2023-04-28T11:16:25.916Z"
   },
   {
    "duration": 16,
    "start_time": "2023-04-28T11:24:39.196Z"
   },
   {
    "duration": 14,
    "start_time": "2023-04-28T11:24:39.526Z"
   },
   {
    "duration": 5,
    "start_time": "2023-04-28T11:24:41.297Z"
   },
   {
    "duration": 10,
    "start_time": "2023-04-28T11:24:42.141Z"
   },
   {
    "duration": 10,
    "start_time": "2023-04-28T11:24:42.579Z"
   },
   {
    "duration": 10,
    "start_time": "2023-04-28T11:24:42.993Z"
   },
   {
    "duration": 5,
    "start_time": "2023-04-28T11:24:49.015Z"
   },
   {
    "duration": 4,
    "start_time": "2023-04-28T11:26:17.092Z"
   },
   {
    "duration": 5,
    "start_time": "2023-04-28T11:26:30.328Z"
   },
   {
    "duration": 3,
    "start_time": "2023-04-28T11:39:20.069Z"
   },
   {
    "duration": 5,
    "start_time": "2023-04-28T11:43:32.480Z"
   },
   {
    "duration": 149,
    "start_time": "2023-04-28T11:44:09.901Z"
   },
   {
    "duration": 5,
    "start_time": "2023-04-28T11:46:23.938Z"
   },
   {
    "duration": 98,
    "start_time": "2023-04-28T11:46:24.259Z"
   },
   {
    "duration": 5,
    "start_time": "2023-04-28T11:46:40.673Z"
   },
   {
    "duration": 1237,
    "start_time": "2023-04-28T11:46:41.102Z"
   },
   {
    "duration": 4,
    "start_time": "2023-04-28T11:46:56.828Z"
   },
   {
    "duration": 11,
    "start_time": "2023-04-28T11:46:57.434Z"
   },
   {
    "duration": 10,
    "start_time": "2023-04-28T11:46:57.777Z"
   },
   {
    "duration": 10,
    "start_time": "2023-04-28T11:46:58.122Z"
   },
   {
    "duration": 6,
    "start_time": "2023-04-28T11:47:02.675Z"
   },
   {
    "duration": 5,
    "start_time": "2023-04-28T11:48:22.856Z"
   },
   {
    "duration": 856,
    "start_time": "2023-04-28T11:48:23.178Z"
   },
   {
    "duration": 5,
    "start_time": "2023-04-28T11:48:45.722Z"
   },
   {
    "duration": 872,
    "start_time": "2023-04-28T11:48:45.994Z"
   },
   {
    "duration": 3,
    "start_time": "2023-04-28T11:49:28.100Z"
   },
   {
    "duration": 11,
    "start_time": "2023-04-28T11:49:28.708Z"
   },
   {
    "duration": 12,
    "start_time": "2023-04-28T11:49:28.945Z"
   },
   {
    "duration": 7,
    "start_time": "2023-04-28T11:49:40.848Z"
   },
   {
    "duration": 6,
    "start_time": "2023-04-28T11:49:41.182Z"
   },
   {
    "duration": 5,
    "start_time": "2023-04-28T11:49:46.426Z"
   },
   {
    "duration": 664,
    "start_time": "2023-04-28T11:49:47.442Z"
   },
   {
    "duration": 6,
    "start_time": "2023-04-28T11:49:55.625Z"
   },
   {
    "duration": 643,
    "start_time": "2023-04-28T11:49:56.671Z"
   },
   {
    "duration": 5,
    "start_time": "2023-04-28T11:51:18.692Z"
   },
   {
    "duration": 617,
    "start_time": "2023-04-28T11:51:20.493Z"
   },
   {
    "duration": 5,
    "start_time": "2023-04-28T11:51:44.847Z"
   },
   {
    "duration": 629,
    "start_time": "2023-04-28T11:51:45.168Z"
   },
   {
    "duration": 668,
    "start_time": "2023-04-28T11:52:02.255Z"
   },
   {
    "duration": 699,
    "start_time": "2023-04-28T11:52:02.925Z"
   },
   {
    "duration": 3,
    "start_time": "2023-04-28T11:53:27.037Z"
   },
   {
    "duration": 5,
    "start_time": "2023-04-28T11:53:27.329Z"
   },
   {
    "duration": 76,
    "start_time": "2023-04-28T11:53:29.574Z"
   },
   {
    "duration": 9,
    "start_time": "2023-04-28T11:53:53.038Z"
   },
   {
    "duration": 8,
    "start_time": "2023-04-28T11:54:44.563Z"
   },
   {
    "duration": 9,
    "start_time": "2023-04-28T11:54:45.050Z"
   },
   {
    "duration": 6,
    "start_time": "2023-04-28T11:54:55.455Z"
   },
   {
    "duration": 9,
    "start_time": "2023-04-28T11:54:55.901Z"
   },
   {
    "duration": 57,
    "start_time": "2023-04-28T11:55:04.993Z"
   },
   {
    "duration": 98,
    "start_time": "2023-04-28T11:55:14.560Z"
   },
   {
    "duration": 9,
    "start_time": "2023-04-28T11:55:14.803Z"
   },
   {
    "duration": 6,
    "start_time": "2023-04-28T11:55:33.437Z"
   },
   {
    "duration": 922,
    "start_time": "2023-04-28T11:55:33.832Z"
   },
   {
    "duration": 6,
    "start_time": "2023-04-28T11:56:03.513Z"
   },
   {
    "duration": 47,
    "start_time": "2023-04-28T11:56:04.103Z"
   },
   {
    "duration": 10,
    "start_time": "2023-04-28T11:56:11.217Z"
   },
   {
    "duration": 6,
    "start_time": "2023-04-28T11:56:29.034Z"
   },
   {
    "duration": 6,
    "start_time": "2023-04-28T11:56:46.041Z"
   },
   {
    "duration": 289,
    "start_time": "2023-04-28T11:56:46.432Z"
   },
   {
    "duration": 8,
    "start_time": "2023-04-28T11:56:54.549Z"
   },
   {
    "duration": 6,
    "start_time": "2023-04-28T11:57:24.575Z"
   },
   {
    "duration": 9,
    "start_time": "2023-04-28T11:57:24.956Z"
   },
   {
    "duration": 6,
    "start_time": "2023-04-28T11:57:46.969Z"
   },
   {
    "duration": 8,
    "start_time": "2023-04-28T11:57:47.277Z"
   },
   {
    "duration": 103,
    "start_time": "2023-04-28T11:57:54.250Z"
   },
   {
    "duration": 5,
    "start_time": "2023-04-28T11:57:56.879Z"
   },
   {
    "duration": 123,
    "start_time": "2023-04-28T11:57:57.227Z"
   },
   {
    "duration": 5,
    "start_time": "2023-04-28T11:58:06.808Z"
   },
   {
    "duration": 634,
    "start_time": "2023-04-28T11:58:07.103Z"
   },
   {
    "duration": 5,
    "start_time": "2023-04-28T11:58:55.802Z"
   },
   {
    "duration": 6,
    "start_time": "2023-04-28T11:58:56.143Z"
   },
   {
    "duration": 32,
    "start_time": "2023-04-28T11:58:56.527Z"
   },
   {
    "duration": 5,
    "start_time": "2023-04-28T11:59:03.373Z"
   },
   {
    "duration": 696,
    "start_time": "2023-04-28T11:59:03.717Z"
   },
   {
    "duration": 686,
    "start_time": "2023-04-28T11:59:04.913Z"
   },
   {
    "duration": 635,
    "start_time": "2023-04-28T11:59:06.092Z"
   },
   {
    "duration": 1433,
    "start_time": "2023-04-28T11:59:13.670Z"
   },
   {
    "duration": 6,
    "start_time": "2023-04-28T11:59:15.105Z"
   },
   {
    "duration": 398,
    "start_time": "2023-04-28T11:59:15.113Z"
   },
   {
    "duration": 12,
    "start_time": "2023-04-28T11:59:15.513Z"
   },
   {
    "duration": 23,
    "start_time": "2023-04-28T11:59:15.527Z"
   },
   {
    "duration": 30,
    "start_time": "2023-04-28T11:59:15.552Z"
   },
   {
    "duration": 12,
    "start_time": "2023-04-28T11:59:15.584Z"
   },
   {
    "duration": 18,
    "start_time": "2023-04-28T11:59:15.598Z"
   },
   {
    "duration": 19,
    "start_time": "2023-04-28T11:59:15.618Z"
   },
   {
    "duration": 35,
    "start_time": "2023-04-28T11:59:15.639Z"
   },
   {
    "duration": 13,
    "start_time": "2023-04-28T11:59:15.676Z"
   },
   {
    "duration": 53,
    "start_time": "2023-04-28T11:59:15.690Z"
   },
   {
    "duration": 110,
    "start_time": "2023-04-28T11:59:15.744Z"
   },
   {
    "duration": 104,
    "start_time": "2023-04-28T11:59:15.856Z"
   },
   {
    "duration": 94,
    "start_time": "2023-04-28T11:59:15.961Z"
   },
   {
    "duration": 93,
    "start_time": "2023-04-28T11:59:16.057Z"
   },
   {
    "duration": 98,
    "start_time": "2023-04-28T11:59:16.152Z"
   },
   {
    "duration": 12,
    "start_time": "2023-04-28T11:59:16.251Z"
   },
   {
    "duration": 8,
    "start_time": "2023-04-28T11:59:16.265Z"
   },
   {
    "duration": 649,
    "start_time": "2023-04-28T11:59:16.274Z"
   },
   {
    "duration": 664,
    "start_time": "2023-04-28T11:59:16.925Z"
   },
   {
    "duration": 632,
    "start_time": "2023-04-28T11:59:17.591Z"
   },
   {
    "duration": 5,
    "start_time": "2023-04-28T11:59:46.268Z"
   },
   {
    "duration": 665,
    "start_time": "2023-04-28T11:59:46.540Z"
   },
   {
    "duration": 607,
    "start_time": "2023-04-28T11:59:47.207Z"
   },
   {
    "duration": 684,
    "start_time": "2023-04-28T11:59:47.816Z"
   },
   {
    "duration": 11,
    "start_time": "2023-04-28T13:44:27.916Z"
   },
   {
    "duration": 4,
    "start_time": "2023-04-28T13:44:35.850Z"
   },
   {
    "duration": 4,
    "start_time": "2023-04-28T16:36:24.019Z"
   },
   {
    "duration": 4,
    "start_time": "2023-04-28T16:36:27.469Z"
   },
   {
    "duration": 5,
    "start_time": "2023-04-28T16:36:27.475Z"
   },
   {
    "duration": 351,
    "start_time": "2023-04-28T16:36:27.482Z"
   },
   {
    "duration": 9,
    "start_time": "2023-04-28T16:36:27.835Z"
   },
   {
    "duration": 9,
    "start_time": "2023-04-28T16:36:27.849Z"
   },
   {
    "duration": 9,
    "start_time": "2023-04-28T16:36:27.859Z"
   },
   {
    "duration": 11,
    "start_time": "2023-04-28T16:36:27.870Z"
   },
   {
    "duration": 13,
    "start_time": "2023-04-28T16:36:27.882Z"
   },
   {
    "duration": 8,
    "start_time": "2023-04-28T16:36:27.896Z"
   },
   {
    "duration": 5,
    "start_time": "2023-04-28T16:36:27.906Z"
   },
   {
    "duration": 5,
    "start_time": "2023-04-28T16:36:27.949Z"
   },
   {
    "duration": 37,
    "start_time": "2023-04-28T16:36:27.956Z"
   },
   {
    "duration": 60,
    "start_time": "2023-04-28T16:36:27.995Z"
   },
   {
    "duration": 106,
    "start_time": "2023-04-28T16:36:28.059Z"
   },
   {
    "duration": 186,
    "start_time": "2023-04-28T16:36:28.166Z"
   },
   {
    "duration": 3,
    "start_time": "2023-04-28T16:36:28.354Z"
   },
   {
    "duration": 196,
    "start_time": "2023-04-28T16:36:28.358Z"
   },
   {
    "duration": 4,
    "start_time": "2023-04-28T16:36:28.555Z"
   },
   {
    "duration": 5,
    "start_time": "2023-04-28T16:36:28.560Z"
   },
   {
    "duration": 621,
    "start_time": "2023-04-28T16:36:28.566Z"
   },
   {
    "duration": 620,
    "start_time": "2023-04-28T16:36:29.189Z"
   },
   {
    "duration": 644,
    "start_time": "2023-04-28T16:36:29.811Z"
   },
   {
    "duration": 3,
    "start_time": "2023-04-28T16:36:40.472Z"
   },
   {
    "duration": 7,
    "start_time": "2023-04-28T16:43:34.557Z"
   },
   {
    "duration": 641,
    "start_time": "2023-04-28T16:43:37.364Z"
   },
   {
    "duration": 616,
    "start_time": "2023-04-28T16:43:40.088Z"
   },
   {
    "duration": 642,
    "start_time": "2023-04-28T16:43:41.077Z"
   },
   {
    "duration": 4,
    "start_time": "2023-04-28T18:42:26.509Z"
   },
   {
    "duration": 3,
    "start_time": "2023-04-28T18:44:54.337Z"
   },
   {
    "duration": 4,
    "start_time": "2023-04-28T18:44:54.608Z"
   },
   {
    "duration": 4,
    "start_time": "2023-04-28T18:45:00.054Z"
   },
   {
    "duration": 4,
    "start_time": "2023-04-28T18:45:45.013Z"
   },
   {
    "duration": 4,
    "start_time": "2023-04-28T18:47:08.300Z"
   },
   {
    "duration": 5,
    "start_time": "2023-04-28T18:47:12.116Z"
   },
   {
    "duration": 4,
    "start_time": "2023-04-28T18:53:06.696Z"
   },
   {
    "duration": 3,
    "start_time": "2023-04-28T18:53:19.210Z"
   },
   {
    "duration": 4,
    "start_time": "2023-04-28T18:53:19.670Z"
   },
   {
    "duration": 4,
    "start_time": "2023-04-28T19:30:45.173Z"
   },
   {
    "duration": 4,
    "start_time": "2023-04-28T19:30:56.507Z"
   },
   {
    "duration": 3,
    "start_time": "2023-04-28T19:33:36.068Z"
   },
   {
    "duration": 8,
    "start_time": "2023-04-28T19:33:36.930Z"
   },
   {
    "duration": 723,
    "start_time": "2023-04-28T19:33:39.644Z"
   },
   {
    "duration": 654,
    "start_time": "2023-04-28T19:33:40.509Z"
   },
   {
    "duration": 703,
    "start_time": "2023-04-28T19:33:42.583Z"
   },
   {
    "duration": 7,
    "start_time": "2023-04-28T20:02:42.514Z"
   },
   {
    "duration": 795,
    "start_time": "2023-04-28T20:02:43.404Z"
   },
   {
    "duration": 777,
    "start_time": "2023-04-28T20:02:44.201Z"
   },
   {
    "duration": 764,
    "start_time": "2023-04-28T20:02:44.980Z"
   },
   {
    "duration": 3,
    "start_time": "2023-04-28T20:03:12.461Z"
   },
   {
    "duration": 5,
    "start_time": "2023-04-28T20:03:13.087Z"
   },
   {
    "duration": 731,
    "start_time": "2023-04-28T20:03:13.836Z"
   },
   {
    "duration": 663,
    "start_time": "2023-04-28T20:03:14.569Z"
   },
   {
    "duration": 702,
    "start_time": "2023-04-28T20:03:15.234Z"
   },
   {
    "duration": 3,
    "start_time": "2023-04-28T20:03:27.665Z"
   },
   {
    "duration": 6,
    "start_time": "2023-04-28T20:03:28.061Z"
   },
   {
    "duration": 659,
    "start_time": "2023-04-28T20:03:28.722Z"
   },
   {
    "duration": 677,
    "start_time": "2023-04-28T20:03:29.382Z"
   },
   {
    "duration": 685,
    "start_time": "2023-04-28T20:03:30.063Z"
   },
   {
    "duration": 4,
    "start_time": "2023-04-28T20:12:57.602Z"
   },
   {
    "duration": 7,
    "start_time": "2023-04-28T20:12:59.314Z"
   },
   {
    "duration": 315,
    "start_time": "2023-04-28T20:13:00.383Z"
   },
   {
    "duration": 56,
    "start_time": "2023-04-28T20:13:00.797Z"
   },
   {
    "duration": 8,
    "start_time": "2023-04-28T20:13:14.256Z"
   },
   {
    "duration": 171,
    "start_time": "2023-04-28T20:13:31.979Z"
   },
   {
    "duration": 6,
    "start_time": "2023-04-28T20:13:51.373Z"
   },
   {
    "duration": 199,
    "start_time": "2023-04-28T20:13:52.151Z"
   },
   {
    "duration": 3,
    "start_time": "2023-04-28T20:17:08.857Z"
   },
   {
    "duration": 4,
    "start_time": "2023-04-28T20:17:09.086Z"
   },
   {
    "duration": 6,
    "start_time": "2023-04-28T20:17:09.523Z"
   },
   {
    "duration": 228,
    "start_time": "2023-04-28T20:17:10.623Z"
   },
   {
    "duration": 3,
    "start_time": "2023-04-28T20:17:39.872Z"
   },
   {
    "duration": 5,
    "start_time": "2023-04-28T20:17:40.382Z"
   },
   {
    "duration": 188,
    "start_time": "2023-04-28T20:17:41.263Z"
   },
   {
    "duration": 3,
    "start_time": "2023-04-28T20:18:58.864Z"
   },
   {
    "duration": 6,
    "start_time": "2023-04-28T20:19:00.726Z"
   },
   {
    "duration": 159,
    "start_time": "2023-04-28T20:19:02.304Z"
   },
   {
    "duration": 5,
    "start_time": "2023-04-28T20:19:32.645Z"
   },
   {
    "duration": 3,
    "start_time": "2023-04-28T20:19:32.806Z"
   },
   {
    "duration": 5,
    "start_time": "2023-04-28T20:19:33.372Z"
   },
   {
    "duration": 172,
    "start_time": "2023-04-28T20:19:34.291Z"
   },
   {
    "duration": 3,
    "start_time": "2023-04-28T20:20:07.644Z"
   },
   {
    "duration": 4,
    "start_time": "2023-04-28T20:20:07.805Z"
   },
   {
    "duration": 8,
    "start_time": "2023-04-28T20:20:08.113Z"
   },
   {
    "duration": 51,
    "start_time": "2023-04-28T20:20:08.920Z"
   },
   {
    "duration": 3,
    "start_time": "2023-04-28T20:20:29.612Z"
   },
   {
    "duration": 4,
    "start_time": "2023-04-28T20:20:29.761Z"
   },
   {
    "duration": 5,
    "start_time": "2023-04-28T20:20:30.079Z"
   },
   {
    "duration": 201,
    "start_time": "2023-04-28T20:20:30.964Z"
   },
   {
    "duration": 3,
    "start_time": "2023-04-28T20:20:53.900Z"
   },
   {
    "duration": 4,
    "start_time": "2023-04-28T20:20:54.062Z"
   },
   {
    "duration": 6,
    "start_time": "2023-04-28T20:20:54.398Z"
   },
   {
    "duration": 114,
    "start_time": "2023-04-28T20:20:55.046Z"
   },
   {
    "duration": 3,
    "start_time": "2023-04-28T20:21:36.412Z"
   },
   {
    "duration": 3,
    "start_time": "2023-04-28T20:21:36.577Z"
   },
   {
    "duration": 5,
    "start_time": "2023-04-28T20:21:36.926Z"
   },
   {
    "duration": 100,
    "start_time": "2023-04-28T20:21:37.568Z"
   },
   {
    "duration": 3,
    "start_time": "2023-04-28T20:21:50.015Z"
   },
   {
    "duration": 5,
    "start_time": "2023-04-28T20:21:53.504Z"
   },
   {
    "duration": 216,
    "start_time": "2023-04-28T20:21:54.448Z"
   },
   {
    "duration": 3,
    "start_time": "2023-04-28T20:22:13.220Z"
   },
   {
    "duration": 8,
    "start_time": "2023-04-28T20:22:13.569Z"
   },
   {
    "duration": 235,
    "start_time": "2023-04-28T20:22:14.328Z"
   },
   {
    "duration": 4,
    "start_time": "2023-04-28T20:25:07.104Z"
   },
   {
    "duration": 5,
    "start_time": "2023-04-28T20:25:07.427Z"
   },
   {
    "duration": 221,
    "start_time": "2023-04-28T20:25:08.142Z"
   },
   {
    "duration": 129,
    "start_time": "2023-04-28T20:25:22.332Z"
   },
   {
    "duration": 5,
    "start_time": "2023-04-28T20:26:19.546Z"
   },
   {
    "duration": 10,
    "start_time": "2023-04-28T20:26:19.973Z"
   },
   {
    "duration": 177,
    "start_time": "2023-04-28T20:26:20.578Z"
   },
   {
    "duration": 5,
    "start_time": "2023-04-28T20:27:55.848Z"
   },
   {
    "duration": 66,
    "start_time": "2023-04-28T20:27:56.984Z"
   },
   {
    "duration": 98,
    "start_time": "2023-04-28T20:27:57.452Z"
   },
   {
    "duration": 10,
    "start_time": "2023-04-28T21:00:08.123Z"
   },
   {
    "duration": 6,
    "start_time": "2023-04-28T21:01:04.356Z"
   },
   {
    "duration": 228,
    "start_time": "2023-04-28T21:01:05.221Z"
   },
   {
    "duration": 7,
    "start_time": "2023-04-28T21:01:17.464Z"
   },
   {
    "duration": 82,
    "start_time": "2023-04-28T21:01:18.368Z"
   },
   {
    "duration": 6,
    "start_time": "2023-04-28T21:03:29.232Z"
   },
   {
    "duration": 103,
    "start_time": "2023-04-28T21:03:30.247Z"
   },
   {
    "duration": 5,
    "start_time": "2023-04-28T21:04:41.556Z"
   },
   {
    "duration": 78,
    "start_time": "2023-04-28T21:04:42.281Z"
   },
   {
    "duration": 8,
    "start_time": "2023-04-28T21:04:50.769Z"
   },
   {
    "duration": 227,
    "start_time": "2023-04-28T21:04:51.129Z"
   },
   {
    "duration": 6,
    "start_time": "2023-04-28T21:05:20.528Z"
   },
   {
    "duration": 68,
    "start_time": "2023-04-28T21:05:21.182Z"
   },
   {
    "duration": 6,
    "start_time": "2023-04-28T21:05:47.380Z"
   },
   {
    "duration": 116,
    "start_time": "2023-04-28T21:05:48.133Z"
   },
   {
    "duration": 6,
    "start_time": "2023-04-28T21:07:10.141Z"
   },
   {
    "duration": 141,
    "start_time": "2023-04-28T21:07:10.509Z"
   },
   {
    "duration": 6,
    "start_time": "2023-04-28T21:07:22.529Z"
   },
   {
    "duration": 181,
    "start_time": "2023-04-28T21:07:23.281Z"
   },
   {
    "duration": 8,
    "start_time": "2023-04-28T21:08:31.967Z"
   },
   {
    "duration": 501,
    "start_time": "2023-04-28T21:08:32.836Z"
   },
   {
    "duration": 6,
    "start_time": "2023-04-28T21:08:49.365Z"
   },
   {
    "duration": 38,
    "start_time": "2023-04-28T21:08:50.124Z"
   },
   {
    "duration": 6,
    "start_time": "2023-04-28T21:10:02.252Z"
   },
   {
    "duration": 42,
    "start_time": "2023-04-28T21:10:02.912Z"
   },
   {
    "duration": 6,
    "start_time": "2023-04-28T21:10:22.424Z"
   },
   {
    "duration": 112,
    "start_time": "2023-04-28T21:10:23.138Z"
   },
   {
    "duration": 6,
    "start_time": "2023-04-28T21:10:40.251Z"
   },
   {
    "duration": 454,
    "start_time": "2023-04-28T21:10:41.000Z"
   },
   {
    "duration": 6,
    "start_time": "2023-04-28T21:11:33.861Z"
   },
   {
    "duration": 330,
    "start_time": "2023-04-28T21:11:34.516Z"
   },
   {
    "duration": 6,
    "start_time": "2023-04-28T21:13:22.003Z"
   },
   {
    "duration": 131,
    "start_time": "2023-04-28T21:13:22.724Z"
   },
   {
    "duration": 6,
    "start_time": "2023-04-28T21:13:35.204Z"
   },
   {
    "duration": 210,
    "start_time": "2023-04-28T21:13:35.641Z"
   },
   {
    "duration": 200,
    "start_time": "2023-04-28T21:13:36.049Z"
   },
   {
    "duration": 6,
    "start_time": "2023-04-28T21:14:29.016Z"
   },
   {
    "duration": 203,
    "start_time": "2023-04-28T21:14:29.756Z"
   },
   {
    "duration": 234,
    "start_time": "2023-04-28T21:14:32.916Z"
   },
   {
    "duration": 6,
    "start_time": "2023-04-28T21:15:39.367Z"
   },
   {
    "duration": 202,
    "start_time": "2023-04-28T21:15:40.149Z"
   },
   {
    "duration": 6,
    "start_time": "2023-04-28T21:16:03.648Z"
   },
   {
    "duration": 128,
    "start_time": "2023-04-28T21:16:04.220Z"
   },
   {
    "duration": 9,
    "start_time": "2023-04-28T21:16:41.637Z"
   },
   {
    "duration": 211,
    "start_time": "2023-04-28T21:16:42.445Z"
   },
   {
    "duration": 10,
    "start_time": "2023-04-28T21:17:06.547Z"
   },
   {
    "duration": 6,
    "start_time": "2023-04-28T21:17:48.019Z"
   },
   {
    "duration": 167,
    "start_time": "2023-04-28T21:17:48.485Z"
   },
   {
    "duration": 6,
    "start_time": "2023-04-28T21:18:01.479Z"
   },
   {
    "duration": 232,
    "start_time": "2023-04-28T21:18:02.318Z"
   },
   {
    "duration": 5,
    "start_time": "2023-04-28T21:18:14.142Z"
   },
   {
    "duration": 167,
    "start_time": "2023-04-28T21:18:14.784Z"
   },
   {
    "duration": 6,
    "start_time": "2023-04-28T21:20:01.426Z"
   },
   {
    "duration": 154,
    "start_time": "2023-04-28T21:20:02.208Z"
   },
   {
    "duration": 6,
    "start_time": "2023-04-28T21:20:44.217Z"
   },
   {
    "duration": 131,
    "start_time": "2023-04-28T21:20:44.927Z"
   },
   {
    "duration": 6,
    "start_time": "2023-04-28T21:20:52.930Z"
   },
   {
    "duration": 220,
    "start_time": "2023-04-28T21:20:53.630Z"
   },
   {
    "duration": 7,
    "start_time": "2023-04-28T21:21:10.167Z"
   },
   {
    "duration": 131,
    "start_time": "2023-04-28T21:21:10.824Z"
   },
   {
    "duration": 9,
    "start_time": "2023-04-28T21:21:56.222Z"
   },
   {
    "duration": 147,
    "start_time": "2023-04-28T21:21:56.808Z"
   },
   {
    "duration": 9,
    "start_time": "2023-04-28T21:22:21.968Z"
   },
   {
    "duration": 241,
    "start_time": "2023-04-28T21:22:22.528Z"
   },
   {
    "duration": 6,
    "start_time": "2023-04-28T21:22:38.725Z"
   },
   {
    "duration": 196,
    "start_time": "2023-04-28T21:22:39.372Z"
   },
   {
    "duration": 6,
    "start_time": "2023-04-28T21:23:21.523Z"
   },
   {
    "duration": 132,
    "start_time": "2023-04-28T21:23:22.121Z"
   },
   {
    "duration": 6,
    "start_time": "2023-04-28T21:23:55.658Z"
   },
   {
    "duration": 176,
    "start_time": "2023-04-28T21:23:56.384Z"
   },
   {
    "duration": 6,
    "start_time": "2023-04-28T21:24:43.354Z"
   },
   {
    "duration": 207,
    "start_time": "2023-04-28T21:24:44.152Z"
   },
   {
    "duration": 9,
    "start_time": "2023-04-28T21:24:51.858Z"
   },
   {
    "duration": 42,
    "start_time": "2023-04-28T21:24:52.513Z"
   },
   {
    "duration": 7,
    "start_time": "2023-04-28T21:25:30.433Z"
   },
   {
    "duration": 172,
    "start_time": "2023-04-28T21:25:31.078Z"
   },
   {
    "duration": 9,
    "start_time": "2023-04-28T22:28:56.166Z"
   },
   {
    "duration": 1271,
    "start_time": "2023-04-28T22:28:56.801Z"
   },
   {
    "duration": 1257,
    "start_time": "2023-04-28T22:29:03.000Z"
   },
   {
    "duration": 6,
    "start_time": "2023-04-28T22:29:15.625Z"
   },
   {
    "duration": 1334,
    "start_time": "2023-04-28T22:29:16.215Z"
   },
   {
    "duration": 1293,
    "start_time": "2023-04-28T22:29:17.551Z"
   },
   {
    "duration": 1328,
    "start_time": "2023-04-28T22:29:18.846Z"
   },
   {
    "duration": 3,
    "start_time": "2023-04-28T22:30:32.247Z"
   },
   {
    "duration": 10,
    "start_time": "2023-04-28T22:30:32.704Z"
   },
   {
    "duration": 1284,
    "start_time": "2023-04-28T22:30:33.409Z"
   },
   {
    "duration": 1277,
    "start_time": "2023-04-28T22:30:34.695Z"
   },
   {
    "duration": 1330,
    "start_time": "2023-04-28T22:30:35.974Z"
   },
   {
    "duration": 3,
    "start_time": "2023-04-28T23:53:46.332Z"
   },
   {
    "duration": 6,
    "start_time": "2023-04-28T23:53:46.677Z"
   },
   {
    "duration": 72,
    "start_time": "2023-04-28T23:53:47.386Z"
   },
   {
    "duration": 3,
    "start_time": "2023-04-28T23:54:02.977Z"
   },
   {
    "duration": 6,
    "start_time": "2023-04-28T23:54:03.336Z"
   },
   {
    "duration": 497,
    "start_time": "2023-04-28T23:54:04.211Z"
   },
   {
    "duration": 3,
    "start_time": "2023-04-28T23:55:09.910Z"
   },
   {
    "duration": 6,
    "start_time": "2023-04-28T23:55:10.305Z"
   },
   {
    "duration": 502,
    "start_time": "2023-04-28T23:55:11.650Z"
   },
   {
    "duration": 3,
    "start_time": "2023-04-28T23:56:32.940Z"
   },
   {
    "duration": 10,
    "start_time": "2023-04-28T23:56:34.601Z"
   },
   {
    "duration": 1533,
    "start_time": "2023-04-28T23:56:36.926Z"
   },
   {
    "duration": 6,
    "start_time": "2023-04-28T23:57:21.758Z"
   },
   {
    "duration": 2423,
    "start_time": "2023-04-28T23:57:22.595Z"
   },
   {
    "duration": 3,
    "start_time": "2023-04-28T23:58:18.841Z"
   },
   {
    "duration": 6,
    "start_time": "2023-04-28T23:58:19.413Z"
   },
   {
    "duration": 614,
    "start_time": "2023-04-28T23:58:20.282Z"
   },
   {
    "duration": 3,
    "start_time": "2023-04-28T23:58:47.196Z"
   },
   {
    "duration": 10,
    "start_time": "2023-04-28T23:58:47.597Z"
   },
   {
    "duration": 720,
    "start_time": "2023-04-28T23:58:49.342Z"
   },
   {
    "duration": 7,
    "start_time": "2023-04-28T23:59:27.355Z"
   },
   {
    "duration": 661,
    "start_time": "2023-04-28T23:59:28.183Z"
   },
   {
    "duration": 3,
    "start_time": "2023-04-29T00:00:12.045Z"
   },
   {
    "duration": 6,
    "start_time": "2023-04-29T00:00:12.425Z"
   },
   {
    "duration": 2898,
    "start_time": "2023-04-29T00:00:13.291Z"
   },
   {
    "duration": 3,
    "start_time": "2023-04-29T00:00:29.170Z"
   },
   {
    "duration": 9,
    "start_time": "2023-04-29T00:00:30.894Z"
   },
   {
    "duration": 2970,
    "start_time": "2023-04-29T00:00:31.541Z"
   },
   {
    "duration": 5,
    "start_time": "2023-04-29T00:33:38.987Z"
   },
   {
    "duration": 10,
    "start_time": "2023-04-29T00:33:39.453Z"
   },
   {
    "duration": 3847,
    "start_time": "2023-04-29T00:33:40.262Z"
   },
   {
    "duration": 3,
    "start_time": "2023-04-29T00:33:51.469Z"
   },
   {
    "duration": 7,
    "start_time": "2023-04-29T00:33:51.822Z"
   },
   {
    "duration": 1834,
    "start_time": "2023-04-29T00:33:52.640Z"
   },
   {
    "duration": 4,
    "start_time": "2023-04-29T00:35:03.669Z"
   },
   {
    "duration": 10,
    "start_time": "2023-04-29T00:35:04.382Z"
   },
   {
    "duration": 819,
    "start_time": "2023-04-29T00:35:05.267Z"
   },
   {
    "duration": 831,
    "start_time": "2023-04-29T00:35:06.209Z"
   },
   {
    "duration": 858,
    "start_time": "2023-04-29T00:35:09.354Z"
   },
   {
    "duration": 1845,
    "start_time": "2023-04-29T08:19:20.931Z"
   },
   {
    "duration": 7,
    "start_time": "2023-04-29T08:19:22.779Z"
   },
   {
    "duration": 840,
    "start_time": "2023-04-29T08:19:22.789Z"
   },
   {
    "duration": 16,
    "start_time": "2023-04-29T08:19:23.633Z"
   },
   {
    "duration": 13,
    "start_time": "2023-04-29T08:19:23.651Z"
   },
   {
    "duration": 13,
    "start_time": "2023-04-29T08:19:23.666Z"
   },
   {
    "duration": 30,
    "start_time": "2023-04-29T08:19:23.681Z"
   },
   {
    "duration": 24,
    "start_time": "2023-04-29T08:19:23.712Z"
   },
   {
    "duration": 12,
    "start_time": "2023-04-29T08:19:23.738Z"
   },
   {
    "duration": 20,
    "start_time": "2023-04-29T08:19:23.752Z"
   },
   {
    "duration": 7,
    "start_time": "2023-04-29T08:19:23.774Z"
   },
   {
    "duration": 83,
    "start_time": "2023-04-29T08:19:23.782Z"
   },
   {
    "duration": 170,
    "start_time": "2023-04-29T08:19:23.867Z"
   },
   {
    "duration": 119,
    "start_time": "2023-04-29T08:19:24.045Z"
   },
   {
    "duration": 180,
    "start_time": "2023-04-29T08:19:24.167Z"
   },
   {
    "duration": 89,
    "start_time": "2023-04-29T08:19:24.350Z"
   },
   {
    "duration": 0,
    "start_time": "2023-04-29T08:19:24.444Z"
   },
   {
    "duration": 0,
    "start_time": "2023-04-29T08:19:24.447Z"
   },
   {
    "duration": 1,
    "start_time": "2023-04-29T08:19:24.535Z"
   },
   {
    "duration": 0,
    "start_time": "2023-04-29T08:19:24.538Z"
   },
   {
    "duration": 0,
    "start_time": "2023-04-29T08:19:24.540Z"
   },
   {
    "duration": 0,
    "start_time": "2023-04-29T08:19:24.542Z"
   },
   {
    "duration": 0,
    "start_time": "2023-04-29T08:19:24.543Z"
   },
   {
    "duration": 0,
    "start_time": "2023-04-29T08:19:24.545Z"
   },
   {
    "duration": 0,
    "start_time": "2023-04-29T08:19:24.546Z"
   },
   {
    "duration": 3,
    "start_time": "2023-04-29T08:19:39.837Z"
   },
   {
    "duration": 4,
    "start_time": "2023-04-29T08:19:40.033Z"
   },
   {
    "duration": 5,
    "start_time": "2023-04-29T08:19:40.255Z"
   },
   {
    "duration": 5,
    "start_time": "2023-04-29T08:19:40.469Z"
   },
   {
    "duration": 5,
    "start_time": "2023-04-29T08:19:40.711Z"
   },
   {
    "duration": 3,
    "start_time": "2023-04-29T08:19:41.707Z"
   },
   {
    "duration": 7,
    "start_time": "2023-04-29T08:19:42.316Z"
   },
   {
    "duration": 1102,
    "start_time": "2023-04-29T08:19:42.860Z"
   },
   {
    "duration": 1084,
    "start_time": "2023-04-29T08:19:43.964Z"
   },
   {
    "duration": 1087,
    "start_time": "2023-04-29T08:19:45.051Z"
   },
   {
    "duration": 4,
    "start_time": "2023-04-29T08:20:14.775Z"
   },
   {
    "duration": 7,
    "start_time": "2023-04-29T08:20:15.154Z"
   },
   {
    "duration": 879,
    "start_time": "2023-04-29T08:20:15.841Z"
   },
   {
    "duration": 914,
    "start_time": "2023-04-29T08:20:16.723Z"
   },
   {
    "duration": 866,
    "start_time": "2023-04-29T08:20:17.639Z"
   },
   {
    "duration": 4,
    "start_time": "2023-04-29T08:23:38.135Z"
   },
   {
    "duration": 7,
    "start_time": "2023-04-29T08:23:38.634Z"
   },
   {
    "duration": 990,
    "start_time": "2023-04-29T08:23:39.322Z"
   },
   {
    "duration": 1008,
    "start_time": "2023-04-29T08:23:40.314Z"
   },
   {
    "duration": 985,
    "start_time": "2023-04-29T08:23:41.324Z"
   },
   {
    "duration": 3,
    "start_time": "2023-04-29T08:42:09.264Z"
   },
   {
    "duration": 5,
    "start_time": "2023-04-29T08:42:44.405Z"
   },
   {
    "duration": 787,
    "start_time": "2023-04-29T08:42:45.182Z"
   },
   {
    "duration": 6,
    "start_time": "2023-04-29T08:42:53.787Z"
   },
   {
    "duration": 833,
    "start_time": "2023-04-29T08:42:54.736Z"
   },
   {
    "duration": 176,
    "start_time": "2023-04-29T08:44:34.114Z"
   },
   {
    "duration": 7,
    "start_time": "2023-04-29T08:44:42.397Z"
   },
   {
    "duration": 1070,
    "start_time": "2023-04-29T08:44:43.123Z"
   },
   {
    "duration": 8,
    "start_time": "2023-04-29T08:44:51.943Z"
   },
   {
    "duration": 959,
    "start_time": "2023-04-29T08:44:52.309Z"
   },
   {
    "duration": 7,
    "start_time": "2023-04-29T08:45:13.928Z"
   },
   {
    "duration": 914,
    "start_time": "2023-04-29T08:45:15.441Z"
   },
   {
    "duration": 6,
    "start_time": "2023-04-29T08:46:36.920Z"
   },
   {
    "duration": 870,
    "start_time": "2023-04-29T08:46:37.564Z"
   },
   {
    "duration": 6,
    "start_time": "2023-04-29T08:47:11.574Z"
   },
   {
    "duration": 843,
    "start_time": "2023-04-29T08:47:12.165Z"
   },
   {
    "duration": 7,
    "start_time": "2023-04-29T08:47:40.269Z"
   },
   {
    "duration": 889,
    "start_time": "2023-04-29T08:47:40.806Z"
   },
   {
    "duration": 7,
    "start_time": "2023-04-29T08:48:44.883Z"
   },
   {
    "duration": 950,
    "start_time": "2023-04-29T08:48:45.518Z"
   },
   {
    "duration": 7,
    "start_time": "2023-04-29T08:48:53.000Z"
   },
   {
    "duration": 917,
    "start_time": "2023-04-29T08:48:53.455Z"
   },
   {
    "duration": 7,
    "start_time": "2023-04-29T08:49:21.556Z"
   },
   {
    "duration": 853,
    "start_time": "2023-04-29T08:49:21.889Z"
   },
   {
    "duration": 6,
    "start_time": "2023-04-29T08:49:33.316Z"
   },
   {
    "duration": 875,
    "start_time": "2023-04-29T08:49:34.060Z"
   },
   {
    "duration": 7,
    "start_time": "2023-04-29T08:50:00.017Z"
   },
   {
    "duration": 0,
    "start_time": "2023-04-29T08:50:08.075Z"
   },
   {
    "duration": 0,
    "start_time": "2023-04-29T08:50:08.076Z"
   },
   {
    "duration": 3919,
    "start_time": "2023-04-29T08:50:14.098Z"
   },
   {
    "duration": 6,
    "start_time": "2023-04-29T08:50:20.218Z"
   },
   {
    "duration": 806,
    "start_time": "2023-04-29T08:50:20.955Z"
   },
   {
    "duration": 6,
    "start_time": "2023-04-29T08:50:34.944Z"
   },
   {
    "duration": 904,
    "start_time": "2023-04-29T08:50:35.592Z"
   },
   {
    "duration": 7,
    "start_time": "2023-04-29T08:50:41.448Z"
   },
   {
    "duration": 932,
    "start_time": "2023-04-29T08:50:41.948Z"
   },
   {
    "duration": 7,
    "start_time": "2023-04-29T08:50:50.197Z"
   },
   {
    "duration": 959,
    "start_time": "2023-04-29T08:50:50.717Z"
   },
   {
    "duration": 7,
    "start_time": "2023-04-29T08:51:01.201Z"
   },
   {
    "duration": 920,
    "start_time": "2023-04-29T08:51:01.595Z"
   },
   {
    "duration": 8,
    "start_time": "2023-04-29T08:51:09.397Z"
   },
   {
    "duration": 890,
    "start_time": "2023-04-29T08:51:09.968Z"
   },
   {
    "duration": 7,
    "start_time": "2023-04-29T08:51:25.167Z"
   },
   {
    "duration": 927,
    "start_time": "2023-04-29T08:51:25.616Z"
   },
   {
    "duration": 7,
    "start_time": "2023-04-29T08:53:13.651Z"
   },
   {
    "duration": 897,
    "start_time": "2023-04-29T08:53:14.582Z"
   },
   {
    "duration": 972,
    "start_time": "2023-04-29T08:53:28.701Z"
   },
   {
    "duration": 913,
    "start_time": "2023-04-29T08:53:29.675Z"
   },
   {
    "duration": 8,
    "start_time": "2023-04-29T08:53:46.990Z"
   },
   {
    "duration": 966,
    "start_time": "2023-04-29T08:53:47.700Z"
   },
   {
    "duration": 921,
    "start_time": "2023-04-29T08:53:48.668Z"
   },
   {
    "duration": 939,
    "start_time": "2023-04-29T08:53:53.250Z"
   },
   {
    "duration": 10,
    "start_time": "2023-04-29T08:55:41.849Z"
   },
   {
    "duration": 945,
    "start_time": "2023-04-29T08:55:42.374Z"
   },
   {
    "duration": 9,
    "start_time": "2023-04-29T08:55:49.521Z"
   },
   {
    "duration": 956,
    "start_time": "2023-04-29T08:55:50.007Z"
   },
   {
    "duration": 916,
    "start_time": "2023-04-29T08:55:50.965Z"
   },
   {
    "duration": 8,
    "start_time": "2023-04-29T08:56:00.506Z"
   },
   {
    "duration": 950,
    "start_time": "2023-04-29T08:56:01.007Z"
   },
   {
    "duration": 917,
    "start_time": "2023-04-29T08:56:01.959Z"
   },
   {
    "duration": 928,
    "start_time": "2023-04-29T08:56:02.878Z"
   },
   {
    "duration": 7,
    "start_time": "2023-04-29T10:06:37.155Z"
   },
   {
    "duration": 920,
    "start_time": "2023-04-29T10:06:44.643Z"
   },
   {
    "duration": 987,
    "start_time": "2023-04-29T10:06:56.133Z"
   },
   {
    "duration": 898,
    "start_time": "2023-04-29T10:06:57.249Z"
   },
   {
    "duration": 7,
    "start_time": "2023-04-29T10:09:38.544Z"
   },
   {
    "duration": 920,
    "start_time": "2023-04-29T10:09:44.022Z"
   },
   {
    "duration": 961,
    "start_time": "2023-04-29T10:09:49.299Z"
   },
   {
    "duration": 900,
    "start_time": "2023-04-29T10:09:50.871Z"
   },
   {
    "duration": 9,
    "start_time": "2023-04-29T10:10:10.649Z"
   },
   {
    "duration": 948,
    "start_time": "2023-04-29T10:10:14.232Z"
   },
   {
    "duration": 899,
    "start_time": "2023-04-29T10:10:15.182Z"
   },
   {
    "duration": 973,
    "start_time": "2023-04-29T10:10:16.083Z"
   },
   {
    "duration": 8,
    "start_time": "2023-04-29T10:10:40.138Z"
   },
   {
    "duration": 992,
    "start_time": "2023-04-29T10:10:43.429Z"
   },
   {
    "duration": 8,
    "start_time": "2023-04-29T10:10:59.957Z"
   },
   {
    "duration": 933,
    "start_time": "2023-04-29T10:11:05.525Z"
   },
   {
    "duration": 897,
    "start_time": "2023-04-29T10:11:12.141Z"
   },
   {
    "duration": 917,
    "start_time": "2023-04-29T10:11:13.040Z"
   },
   {
    "duration": 78,
    "start_time": "2023-04-29T10:28:24.081Z"
   },
   {
    "duration": 10,
    "start_time": "2023-04-29T10:37:51.055Z"
   },
   {
    "duration": 897,
    "start_time": "2023-04-29T10:37:57.083Z"
   },
   {
    "duration": 7,
    "start_time": "2023-04-29T11:04:20.583Z"
   },
   {
    "duration": 928,
    "start_time": "2023-04-29T11:04:25.699Z"
   },
   {
    "duration": 916,
    "start_time": "2023-04-29T11:04:30.095Z"
   },
   {
    "duration": 876,
    "start_time": "2023-04-29T11:04:31.013Z"
   },
   {
    "duration": 8,
    "start_time": "2023-04-29T11:10:31.545Z"
   },
   {
    "duration": 905,
    "start_time": "2023-04-29T11:10:34.600Z"
   },
   {
    "duration": 798,
    "start_time": "2023-04-29T11:10:40.475Z"
   },
   {
    "duration": 823,
    "start_time": "2023-04-29T11:10:41.895Z"
   },
   {
    "duration": 1570,
    "start_time": "2023-04-29T11:11:20.887Z"
   },
   {
    "duration": 5,
    "start_time": "2023-04-29T11:11:22.460Z"
   },
   {
    "duration": 9,
    "start_time": "2023-04-29T11:11:22.467Z"
   },
   {
    "duration": 8,
    "start_time": "2023-04-29T11:11:22.477Z"
   },
   {
    "duration": 412,
    "start_time": "2023-04-29T11:11:22.488Z"
   },
   {
    "duration": 13,
    "start_time": "2023-04-29T11:11:22.902Z"
   },
   {
    "duration": 17,
    "start_time": "2023-04-29T11:11:22.917Z"
   },
   {
    "duration": 9,
    "start_time": "2023-04-29T11:11:22.935Z"
   },
   {
    "duration": 13,
    "start_time": "2023-04-29T11:11:22.945Z"
   },
   {
    "duration": 16,
    "start_time": "2023-04-29T11:11:22.960Z"
   },
   {
    "duration": 9,
    "start_time": "2023-04-29T11:11:22.978Z"
   },
   {
    "duration": 6,
    "start_time": "2023-04-29T11:11:22.989Z"
   },
   {
    "duration": 39,
    "start_time": "2023-04-29T11:11:22.997Z"
   },
   {
    "duration": 39,
    "start_time": "2023-04-29T11:11:23.038Z"
   },
   {
    "duration": 66,
    "start_time": "2023-04-29T11:11:23.078Z"
   },
   {
    "duration": 113,
    "start_time": "2023-04-29T11:11:23.146Z"
   },
   {
    "duration": 112,
    "start_time": "2023-04-29T11:11:23.333Z"
   },
   {
    "duration": 87,
    "start_time": "2023-04-29T11:11:23.448Z"
   },
   {
    "duration": 106,
    "start_time": "2023-04-29T11:11:23.537Z"
   },
   {
    "duration": 13,
    "start_time": "2023-04-29T11:11:23.645Z"
   },
   {
    "duration": 9,
    "start_time": "2023-04-29T11:11:23.660Z"
   },
   {
    "duration": 6,
    "start_time": "2023-04-29T11:11:23.670Z"
   },
   {
    "duration": 887,
    "start_time": "2023-04-29T11:11:23.678Z"
   },
   {
    "duration": 836,
    "start_time": "2023-04-29T11:11:24.566Z"
   },
   {
    "duration": 900,
    "start_time": "2023-04-29T11:11:25.404Z"
   }
  ],
  "kernelspec": {
   "display_name": "Python 3 (ipykernel)",
   "language": "python",
   "name": "python3"
  },
  "language_info": {
   "codemirror_mode": {
    "name": "ipython",
    "version": 3
   },
   "file_extension": ".py",
   "mimetype": "text/x-python",
   "name": "python",
   "nbconvert_exporter": "python",
   "pygments_lexer": "ipython3",
   "version": "3.10.9"
  },
  "toc": {
   "base_numbering": 1,
   "nav_menu": {},
   "number_sections": true,
   "sideBar": true,
   "skip_h1_title": true,
   "title_cell": "Table of Contents",
   "title_sidebar": "Contents",
   "toc_cell": false,
   "toc_position": {},
   "toc_section_display": true,
   "toc_window_display": false
  }
 },
 "nbformat": 4,
 "nbformat_minor": 2
}
