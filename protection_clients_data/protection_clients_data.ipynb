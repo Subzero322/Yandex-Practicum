{
 "cells": [
  {
   "cell_type": "markdown",
   "metadata": {
    "toc": true
   },
   "source": [
    "<h1>Содержание<span class=\"tocSkip\"></span></h1>\n",
    "<div class=\"toc\"><ul class=\"toc-item\"><li><span><a href=\"#Загрузка-данных\" data-toc-modified-id=\"Загрузка-данных-1\"><span class=\"toc-item-num\">1&nbsp;&nbsp;</span>Загрузка данных</a></span></li><li><span><a href=\"#Умножение-матриц\" data-toc-modified-id=\"Умножение-матриц-2\"><span class=\"toc-item-num\">2&nbsp;&nbsp;</span>Умножение матриц</a></span><ul class=\"toc-item\"><li><span><a href=\"#Что-и-требовалось-доказать\" data-toc-modified-id=\"Что-и-требовалось-доказать-2.1\"><span class=\"toc-item-num\">2.1&nbsp;&nbsp;</span>Что и требовалось доказать</a></span></li><li><span><a href=\"#Да,-чуть-перемудрил-и-запутался...-Вроде-переделал\" data-toc-modified-id=\"Да,-чуть-перемудрил-и-запутался...-Вроде-переделал-2.2\"><span class=\"toc-item-num\">2.2&nbsp;&nbsp;</span>Да, чуть перемудрил и запутался... Вроде переделал</a></span></li></ul></li><li><span><a href=\"#Алгоритм-преобразования\" data-toc-modified-id=\"Алгоритм-преобразования-3\"><span class=\"toc-item-num\">3&nbsp;&nbsp;</span>Алгоритм преобразования</a></span></li><li><span><a href=\"#Проверка-алгоритма\" data-toc-modified-id=\"Проверка-алгоритма-4\"><span class=\"toc-item-num\">4&nbsp;&nbsp;</span>Проверка алгоритма</a></span><ul class=\"toc-item\"><li><span><a href=\"#Вывод:-в-этом-коде-мы-создаем-обратимую-матрицу-A,-преобразуем-данные-X,-обучаем-линейную-регрессию-на-исходных-данных-и-на-преобразованных-данных,-и-затем-проверяем,-что-метрика-R2-не-отличается-до-и-после-преобразования.-Если-метрика-R2-не-отличается,-то-мы-можем-утверждать,-что-качество-линейной-регрессии-не-меняется-после-преобразования.\" data-toc-modified-id=\"Вывод:-в-этом-коде-мы-создаем-обратимую-матрицу-A,-преобразуем-данные-X,-обучаем-линейную-регрессию-на-исходных-данных-и-на-преобразованных-данных,-и-затем-проверяем,-что-метрика-R2-не-отличается-до-и-после-преобразования.-Если-метрика-R2-не-отличается,-то-мы-можем-утверждать,-что-качество-линейной-регрессии-не-меняется-после-преобразования.-4.1\"><span class=\"toc-item-num\">4.1&nbsp;&nbsp;</span>Вывод: в этом коде мы создаем обратимую матрицу A, преобразуем данные X, обучаем линейную регрессию на исходных данных и на преобразованных данных, и затем проверяем, что метрика R2 не отличается до и после преобразования. Если метрика R2 не отличается, то мы можем утверждать, что качество линейной регрессии не меняется после преобразования.</a></span></li></ul></li><li><span><a href=\"#Чек-лист-проверки\" data-toc-modified-id=\"Чек-лист-проверки-5\"><span class=\"toc-item-num\">5&nbsp;&nbsp;</span>Чек-лист проверки</a></span></li><li><span><a href=\"#Общий-вывод:-исходя-из-проделанных-действий-было-установлено,-что-при-умножении-признаков-на-обратимую-матрицу-метрика-не-изменится.-Далее-была-проведена-проверка-алгоритма,-подтверждающего-это.\" data-toc-modified-id=\"Общий-вывод:-исходя-из-проделанных-действий-было-установлено,-что-при-умножении-признаков-на-обратимую-матрицу-метрика-не-изменится.-Далее-была-проведена-проверка-алгоритма,-подтверждающего-это.-6\"><span class=\"toc-item-num\">6&nbsp;&nbsp;</span>Общий вывод: исходя из проделанных действий было установлено, что при умножении признаков на обратимую матрицу метрика не изменится. Далее была проведена проверка алгоритма, подтверждающего это.</a></span></li></ul></div>"
   ]
  },
  {
   "cell_type": "markdown",
   "metadata": {},
   "source": [
    "# Защита персональных данных клиентов"
   ]
  },
  {
   "cell_type": "markdown",
   "metadata": {},
   "source": [
    "Нам нужно защитить данные клиентов страховой компании «Хоть потоп». Разработайте такой метод преобразования данных, чтобы по ним было сложно восстановить персональную информацию. Обоснуйте корректность его работы.\n",
    "\n",
    "Нужно защитить данные, чтобы при преобразовании качество моделей машинного обучения не ухудшилось."
   ]
  },
  {
   "cell_type": "markdown",
   "metadata": {},
   "source": [
    "## Загрузка данных"
   ]
  },
  {
   "cell_type": "code",
   "execution_count": 1,
   "metadata": {},
   "outputs": [
    {
     "data": {
      "text/html": [
       "<div>\n",
       "<style scoped>\n",
       "    .dataframe tbody tr th:only-of-type {\n",
       "        vertical-align: middle;\n",
       "    }\n",
       "\n",
       "    .dataframe tbody tr th {\n",
       "        vertical-align: top;\n",
       "    }\n",
       "\n",
       "    .dataframe thead th {\n",
       "        text-align: right;\n",
       "    }\n",
       "</style>\n",
       "<table border=\"1\" class=\"dataframe\">\n",
       "  <thead>\n",
       "    <tr style=\"text-align: right;\">\n",
       "      <th></th>\n",
       "      <th>Пол</th>\n",
       "      <th>Возраст</th>\n",
       "      <th>Зарплата</th>\n",
       "      <th>Члены семьи</th>\n",
       "      <th>Страховые выплаты</th>\n",
       "    </tr>\n",
       "  </thead>\n",
       "  <tbody>\n",
       "    <tr>\n",
       "      <th>0</th>\n",
       "      <td>1</td>\n",
       "      <td>41.0</td>\n",
       "      <td>49600.0</td>\n",
       "      <td>1</td>\n",
       "      <td>0</td>\n",
       "    </tr>\n",
       "    <tr>\n",
       "      <th>1</th>\n",
       "      <td>0</td>\n",
       "      <td>46.0</td>\n",
       "      <td>38000.0</td>\n",
       "      <td>1</td>\n",
       "      <td>1</td>\n",
       "    </tr>\n",
       "    <tr>\n",
       "      <th>2</th>\n",
       "      <td>0</td>\n",
       "      <td>29.0</td>\n",
       "      <td>21000.0</td>\n",
       "      <td>0</td>\n",
       "      <td>0</td>\n",
       "    </tr>\n",
       "    <tr>\n",
       "      <th>3</th>\n",
       "      <td>0</td>\n",
       "      <td>21.0</td>\n",
       "      <td>41700.0</td>\n",
       "      <td>2</td>\n",
       "      <td>0</td>\n",
       "    </tr>\n",
       "    <tr>\n",
       "      <th>4</th>\n",
       "      <td>1</td>\n",
       "      <td>28.0</td>\n",
       "      <td>26100.0</td>\n",
       "      <td>0</td>\n",
       "      <td>0</td>\n",
       "    </tr>\n",
       "  </tbody>\n",
       "</table>\n",
       "</div>"
      ],
      "text/plain": [
       "   Пол  Возраст  Зарплата  Члены семьи  Страховые выплаты\n",
       "0    1     41.0   49600.0            1                  0\n",
       "1    0     46.0   38000.0            1                  1\n",
       "2    0     29.0   21000.0            0                  0\n",
       "3    0     21.0   41700.0            2                  0\n",
       "4    1     28.0   26100.0            0                  0"
      ]
     },
     "execution_count": 1,
     "metadata": {},
     "output_type": "execute_result"
    }
   ],
   "source": [
    "import pandas as pd\n",
    "import numpy as np\n",
    "from sklearn.linear_model import LinearRegression\n",
    "from sklearn.metrics import r2_score\n",
    "\n",
    "data = pd.read_csv('/datasets/insurance.csv')\n",
    "data.head()"
   ]
  },
  {
   "cell_type": "code",
   "execution_count": 2,
   "metadata": {},
   "outputs": [
    {
     "data": {
      "text/plain": [
       "Пол                  0\n",
       "Возраст              0\n",
       "Зарплата             0\n",
       "Члены семьи          0\n",
       "Страховые выплаты    0\n",
       "dtype: int64"
      ]
     },
     "execution_count": 2,
     "metadata": {},
     "output_type": "execute_result"
    }
   ],
   "source": [
    "data.isna().sum()"
   ]
  },
  {
   "cell_type": "markdown",
   "metadata": {},
   "source": [
    "## Умножение матриц"
   ]
  },
  {
   "cell_type": "markdown",
   "metadata": {},
   "source": [
    "Обозначения:\n",
    "\n",
    "- $X$ — матрица признаков (нулевой столбец состоит из единиц)\n",
    "\n",
    "- $y$ — вектор целевого признака\n",
    "\n",
    "- $P$ — матрица, на которую умножаются признаки\n",
    "\n",
    "- $w$ — вектор весов линейной регрессии (нулевой элемент равен сдвигу)"
   ]
  },
  {
   "cell_type": "markdown",
   "metadata": {},
   "source": [
    "Предсказания:\n",
    "\n",
    "$$\n",
    "a = Xw\n",
    "$$\n",
    "\n",
    "Задача обучения:\n",
    "\n",
    "$$\n",
    "w = \\arg\\min_w MSE(Xw, y)\n",
    "$$\n",
    "\n",
    "Формула обучения:\n",
    "\n",
    "$$\n",
    "w = (X^T X)^{-1} X^T y\n",
    "$$"
   ]
  },
  {
   "cell_type": "markdown",
   "metadata": {},
   "source": [
    "**Ответ:** При умножении признаков на обратимую матрицу, качество линейной регрессии не изменится.\n",
    "\n",
    "**Обоснование:** Это связано с тем, что веса в линейной регрессии являются коэффициентами при признаках, которые остаются неизменными при линейном преобразовании (умножении на матрицу).\n"
   ]
  },
  {
   "cell_type": "markdown",
   "metadata": {},
   "source": [
    "Пусть дана исходная матрица признаков X размера m x n, где m - количество примеров, n - количество признаков. Кроме того, пусть дан вектор целевых значений y размера m.\n",
    "\n",
    "Тогда параметры линейной регрессии в исходной задаче могут быть вычислены как:\n",
    "$w = (X^T X)^{-1} X^T y$\n",
    "\n",
    "Пусть теперь дана обратимая матрица A размера n x n, на которую будут умножены признаки. Тогда новая матрица признаков будет вычислена как $X' = XA$.\n",
    "\n",
    "Новые параметры линейной регрессии можно вычислить как:\n",
    "$w' = (X'^T X')^{-1} X'^T y = (A^T X^T XA)^{-1} A^T X^T y$\n",
    "\n",
    "Однако, так как матрица A является обратимой, то A^T A также является обратимой матрицей, и можно переписать новые параметры линейной регрессии в следующем виде:\n",
    "$w' = A^{-1} (X^T X)^{-1} (A^T)^{-1} A^T X^T y$\n",
    "\n",
    "$w' = A^{-1} (X^T X)^{-1} E X^T y$\n",
    "\n",
    "$w' = A^{-1} (X^T X)^{-1} X^T y$\n",
    "\n",
    "\n",
    "Таким образом, параметры линейной регрессии в преобразованной задаче связаны с параметрами в исходной задаче через умножение на обратимую матрицу A."
   ]
  },
  {
   "cell_type": "markdown",
   "metadata": {},
   "source": [
    "$a' = X'w' = XA w' = XA A^{-1} (X^T X)^{-1} X^T y = XE (X^T X)^{-1} X^T y = X (X^T X)^{-1} X^T y $"
   ]
  },
  {
   "cell_type": "markdown",
   "metadata": {},
   "source": [
    "$a = Xw = X(X^T X)^{-1} X^T y$"
   ]
  },
  {
   "cell_type": "markdown",
   "metadata": {},
   "source": [
    "$X(X^T X)^{-1} X^T y = X(X^T X)^{-1} X^T y$\n",
    "\n",
    "$a = a'$"
   ]
  },
  {
   "cell_type": "markdown",
   "metadata": {},
   "source": [
    "Что и требовалось доказать"
   ]
  },
  {
   "cell_type": "markdown",
   "metadata": {},
   "source": [
    "## Алгоритм преобразования"
   ]
  },
  {
   "cell_type": "markdown",
   "metadata": {},
   "source": [
    "**Алгоритм**\n",
    "\n",
    "1. Считать данные в виде матрицы X и вектора y.\n",
    "2. Умножить матрицу признаков X на матрицу A, чтобы получить новую матрицу признаков X'.\n",
    "3. Решить задачу линейной регрессии для новой матрицы признаков X' и вектора целевых значений y, используя обычный метод наименьших квадратов.\n",
    "4. Вычислить новые параметры линейной регрессии w' по формуле:\n",
    "\n",
    "    $w' = (A^-1 (X^T X) (A^T)^-1) A^T X^T y$"
   ]
  },
  {
   "cell_type": "markdown",
   "metadata": {},
   "source": [
    "**Обоснование**\n",
    "\n",
    "Теперь докажем, почему качество линейной регрессии не поменяется при умножении признаков на обратимую матрицу $A$. \n",
    "\n",
    "Пусть даны исходная матрица признаков $X$ и вектор целевых значений $y$, и пусть $w$ - параметры линейной регрессии для этих данных. Тогда ошибка линейной регрессии для этих данных может быть выражена как:\n",
    "\n",
    "   $L(w) = ||Xw - y||^2$\n",
    "\n",
    "Теперь рассмотрим новую матрицу признаков $X' = XA$ и вектор целевых значений $y$. Тогда новые параметры линейной регрессии $w'$ могут быть выражены как:\n",
    "\n",
    "   $w' = (X'^T X')^{-1} X'^T y$\n",
    "   $w' = ((A^T X^T XA)^{-1}) A^T X^T y$\n",
    "\n",
    "Заметим, что:\n",
    "\n",
    "   $X'^T X' = (XA)^T XA = A^T X^T XA$\n",
    "\n",
    "Подставляя это выражение в формулу для новых параметров w', получаем:\n",
    "\n",
    "   $w' = ((A^T X^T XA)^{-1}) A^T X^T y$\n",
    "   $w' = ((X'^T X')^{-1}) X'^T y$\n",
    "\n",
    "Таким образом, ошибка линейной регрессии для новых данных может быть выражена как:\n",
    "\n",
    "   $L(w') = ||X'w' - y||^{2}$\n",
    "   $L(w') = ||XA (X'^T X')^{-1} X'^T y - y||^{2}$\n",
    "\n",
    "Теперь заметим, что:\n",
    "\n",
    "   $XA (X'^T X')^{-1} X'^T = XA ((A^T X^T XA)^{-1}) A^T X^T = X(X^T X)^{-1} X^T A A^{-1} = I$\n",
    "\n",
    "Используя это свойство, мы можем выразить ошибку линейной регрессии для новых данных через ошибку для исходных данных:\n",
    "\n",
    "   $L(w') = ||Iw - y||^{2}$\n",
    "   $L(w') = ||w - y||^{2}$\n",
    "\n",
    "Таким образом, ошибка линейной регрессии для новых данных равна ошибке для исходных данных, что означает, что качество линейной регрессии не поменяется при умножении признаков на обратимую матрицу A."
   ]
  },
  {
   "cell_type": "markdown",
   "metadata": {},
   "source": [
    "## Проверка алгоритма"
   ]
  },
  {
   "cell_type": "code",
   "execution_count": 3,
   "metadata": {},
   "outputs": [
    {
     "name": "stdout",
     "output_type": "stream",
     "text": [
      "R2 score before transformation: 0.4249\n",
      "R2 score after transformation: 0.4249\n"
     ]
    }
   ],
   "source": [
    "# Создаем обратимую матрицу\n",
    "X = data.iloc[:,:-1]\n",
    "y = data['Страховые выплаты']\n",
    "\n",
    "A = np.random.rand(4, 4)\n",
    "\n",
    "while np.linalg.det(A) == 0:\n",
    "    A = np.random.rand(4, 4)\n",
    "    \n",
    "A_inv = np.linalg.inv(A)\n",
    "\n",
    "# Преобразуем данные\n",
    "X_transformed = np.dot(X, A)\n",
    "\n",
    "# Обучаем линейную регрессию на исходных данных\n",
    "reg = LinearRegression().fit(X, y)\n",
    "y_pred = reg.predict(X)\n",
    "r2_orig = r2_score(y, y_pred)\n",
    "\n",
    "# Обучаем линейную регрессию на преобразованных данных\n",
    "reg_transformed = LinearRegression().fit(X_transformed, y)\n",
    "y_pred_transformed = reg_transformed.predict(X_transformed)\n",
    "r2_transformed = r2_score(y, y_pred_transformed)\n",
    "\n",
    "print(\"R2 score before transformation:\", round(r2_orig, 4))\n",
    "print(\"R2 score after transformation:\", round(r2_transformed, 4))"
   ]
  },
  {
   "cell_type": "code",
   "execution_count": 4,
   "metadata": {},
   "outputs": [],
   "source": [
    "transform_data = pd.DataFrame(np.dot(X_transformed, A_inv), columns=data.iloc[:,:-1].columns)\n",
    "transform_data['Пол'] = transform_data['Пол'].round().astype('int')\n",
    "transform_data['Члены семьи'] = transform_data['Члены семьи'].round().astype('int')"
   ]
  },
  {
   "cell_type": "code",
   "execution_count": 5,
   "metadata": {},
   "outputs": [
    {
     "data": {
      "text/html": [
       "<div>\n",
       "<style scoped>\n",
       "    .dataframe tbody tr th:only-of-type {\n",
       "        vertical-align: middle;\n",
       "    }\n",
       "\n",
       "    .dataframe tbody tr th {\n",
       "        vertical-align: top;\n",
       "    }\n",
       "\n",
       "    .dataframe thead th {\n",
       "        text-align: right;\n",
       "    }\n",
       "</style>\n",
       "<table border=\"1\" class=\"dataframe\">\n",
       "  <thead>\n",
       "    <tr style=\"text-align: right;\">\n",
       "      <th></th>\n",
       "      <th>Пол</th>\n",
       "      <th>Возраст</th>\n",
       "      <th>Зарплата</th>\n",
       "      <th>Члены семьи</th>\n",
       "    </tr>\n",
       "  </thead>\n",
       "  <tbody>\n",
       "    <tr>\n",
       "      <th>0</th>\n",
       "      <td>1</td>\n",
       "      <td>41.0</td>\n",
       "      <td>49600.0</td>\n",
       "      <td>1</td>\n",
       "    </tr>\n",
       "    <tr>\n",
       "      <th>1</th>\n",
       "      <td>0</td>\n",
       "      <td>46.0</td>\n",
       "      <td>38000.0</td>\n",
       "      <td>1</td>\n",
       "    </tr>\n",
       "    <tr>\n",
       "      <th>2</th>\n",
       "      <td>0</td>\n",
       "      <td>29.0</td>\n",
       "      <td>21000.0</td>\n",
       "      <td>0</td>\n",
       "    </tr>\n",
       "    <tr>\n",
       "      <th>3</th>\n",
       "      <td>0</td>\n",
       "      <td>21.0</td>\n",
       "      <td>41700.0</td>\n",
       "      <td>2</td>\n",
       "    </tr>\n",
       "    <tr>\n",
       "      <th>4</th>\n",
       "      <td>1</td>\n",
       "      <td>28.0</td>\n",
       "      <td>26100.0</td>\n",
       "      <td>0</td>\n",
       "    </tr>\n",
       "  </tbody>\n",
       "</table>\n",
       "</div>"
      ],
      "text/plain": [
       "   Пол  Возраст  Зарплата  Члены семьи\n",
       "0    1     41.0   49600.0            1\n",
       "1    0     46.0   38000.0            1\n",
       "2    0     29.0   21000.0            0\n",
       "3    0     21.0   41700.0            2\n",
       "4    1     28.0   26100.0            0"
      ]
     },
     "execution_count": 5,
     "metadata": {},
     "output_type": "execute_result"
    }
   ],
   "source": [
    "transform_data.head()"
   ]
  },
  {
   "cell_type": "code",
   "execution_count": 6,
   "metadata": {},
   "outputs": [
    {
     "data": {
      "text/html": [
       "<div>\n",
       "<style scoped>\n",
       "    .dataframe tbody tr th:only-of-type {\n",
       "        vertical-align: middle;\n",
       "    }\n",
       "\n",
       "    .dataframe tbody tr th {\n",
       "        vertical-align: top;\n",
       "    }\n",
       "\n",
       "    .dataframe thead th {\n",
       "        text-align: right;\n",
       "    }\n",
       "</style>\n",
       "<table border=\"1\" class=\"dataframe\">\n",
       "  <thead>\n",
       "    <tr style=\"text-align: right;\">\n",
       "      <th></th>\n",
       "      <th>Пол</th>\n",
       "      <th>Возраст</th>\n",
       "      <th>Зарплата</th>\n",
       "      <th>Члены семьи</th>\n",
       "    </tr>\n",
       "  </thead>\n",
       "  <tbody>\n",
       "    <tr>\n",
       "      <th>0</th>\n",
       "      <td>1</td>\n",
       "      <td>41.0</td>\n",
       "      <td>49600.0</td>\n",
       "      <td>1</td>\n",
       "    </tr>\n",
       "    <tr>\n",
       "      <th>1</th>\n",
       "      <td>0</td>\n",
       "      <td>46.0</td>\n",
       "      <td>38000.0</td>\n",
       "      <td>1</td>\n",
       "    </tr>\n",
       "    <tr>\n",
       "      <th>2</th>\n",
       "      <td>0</td>\n",
       "      <td>29.0</td>\n",
       "      <td>21000.0</td>\n",
       "      <td>0</td>\n",
       "    </tr>\n",
       "    <tr>\n",
       "      <th>3</th>\n",
       "      <td>0</td>\n",
       "      <td>21.0</td>\n",
       "      <td>41700.0</td>\n",
       "      <td>2</td>\n",
       "    </tr>\n",
       "    <tr>\n",
       "      <th>4</th>\n",
       "      <td>1</td>\n",
       "      <td>28.0</td>\n",
       "      <td>26100.0</td>\n",
       "      <td>0</td>\n",
       "    </tr>\n",
       "  </tbody>\n",
       "</table>\n",
       "</div>"
      ],
      "text/plain": [
       "   Пол  Возраст  Зарплата  Члены семьи\n",
       "0    1     41.0   49600.0            1\n",
       "1    0     46.0   38000.0            1\n",
       "2    0     29.0   21000.0            0\n",
       "3    0     21.0   41700.0            2\n",
       "4    1     28.0   26100.0            0"
      ]
     },
     "execution_count": 6,
     "metadata": {},
     "output_type": "execute_result"
    }
   ],
   "source": [
    "data.iloc[:,:-1].head()"
   ]
  },
  {
   "cell_type": "code",
   "execution_count": 7,
   "metadata": {},
   "outputs": [
    {
     "name": "stdout",
     "output_type": "stream",
     "text": [
      "<class 'pandas.core.frame.DataFrame'>\n",
      "RangeIndex: 5000 entries, 0 to 4999\n",
      "Data columns (total 4 columns):\n",
      " #   Column       Non-Null Count  Dtype  \n",
      "---  ------       --------------  -----  \n",
      " 0   Пол          5000 non-null   int64  \n",
      " 1   Возраст      5000 non-null   float64\n",
      " 2   Зарплата     5000 non-null   float64\n",
      " 3   Члены семьи  5000 non-null   int64  \n",
      "dtypes: float64(2), int64(2)\n",
      "memory usage: 156.4 KB\n"
     ]
    }
   ],
   "source": [
    "data.iloc[:,:-1].info()"
   ]
  },
  {
   "cell_type": "code",
   "execution_count": 8,
   "metadata": {},
   "outputs": [
    {
     "name": "stdout",
     "output_type": "stream",
     "text": [
      "<class 'pandas.core.frame.DataFrame'>\n",
      "RangeIndex: 5000 entries, 0 to 4999\n",
      "Data columns (total 4 columns):\n",
      " #   Column       Non-Null Count  Dtype  \n",
      "---  ------       --------------  -----  \n",
      " 0   Пол          5000 non-null   int64  \n",
      " 1   Возраст      5000 non-null   float64\n",
      " 2   Зарплата     5000 non-null   float64\n",
      " 3   Члены семьи  5000 non-null   int64  \n",
      "dtypes: float64(2), int64(2)\n",
      "memory usage: 156.4 KB\n"
     ]
    }
   ],
   "source": [
    "transform_data.info()"
   ]
  },
  {
   "cell_type": "markdown",
   "metadata": {},
   "source": [
    "### Вывод: в этом коде мы создаем обратимую матрицу A, преобразуем данные X, обучаем линейную регрессию на исходных данных и на преобразованных данных, и затем проверяем, что метрика R2 не отличается до и после преобразования. Если метрика R2 не отличается, то мы можем утверждать, что качество линейной регрессии не меняется после преобразования."
   ]
  },
  {
   "cell_type": "markdown",
   "metadata": {},
   "source": [
    "## Общий вывод: исходя из проделанных действий было установлено, что при умножении признаков на обратимую матрицу метрика не изменится. Далее была проведена проверка алгоритма, подтверждающего это."
   ]
  }
 ],
 "metadata": {
  "ExecuteTimeLog": [
   {
    "duration": 416,
    "start_time": "2023-05-30T16:29:13.544Z"
   },
   {
    "duration": 98,
    "start_time": "2023-05-30T16:29:53.033Z"
   },
   {
    "duration": 51,
    "start_time": "2023-05-31T11:35:52.636Z"
   },
   {
    "duration": 515,
    "start_time": "2023-05-31T11:35:55.740Z"
   },
   {
    "duration": 55,
    "start_time": "2023-05-31T11:35:58.283Z"
   },
   {
    "duration": 3,
    "start_time": "2023-05-31T11:36:23.462Z"
   },
   {
    "duration": 145,
    "start_time": "2023-05-31T11:37:20.177Z"
   },
   {
    "duration": 7,
    "start_time": "2023-05-31T11:45:33.853Z"
   },
   {
    "duration": 3,
    "start_time": "2023-05-31T11:45:43.946Z"
   },
   {
    "duration": 173,
    "start_time": "2023-05-31T11:45:44.747Z"
   },
   {
    "duration": 5,
    "start_time": "2023-05-31T11:45:58.437Z"
   },
   {
    "duration": 210,
    "start_time": "2023-05-31T11:45:59.974Z"
   },
   {
    "duration": 126,
    "start_time": "2023-05-31T11:46:10.588Z"
   },
   {
    "duration": 4,
    "start_time": "2023-05-31T11:46:14.977Z"
   },
   {
    "duration": 152,
    "start_time": "2023-05-31T11:46:15.371Z"
   },
   {
    "duration": 13,
    "start_time": "2023-05-31T11:46:49.471Z"
   },
   {
    "duration": 3,
    "start_time": "2023-05-31T11:46:57.913Z"
   },
   {
    "duration": 3,
    "start_time": "2023-05-31T11:46:58.980Z"
   },
   {
    "duration": 5,
    "start_time": "2023-05-31T11:46:59.676Z"
   },
   {
    "duration": 3,
    "start_time": "2023-05-31T11:47:23.250Z"
   },
   {
    "duration": 4,
    "start_time": "2023-05-31T11:47:23.593Z"
   },
   {
    "duration": 3,
    "start_time": "2023-05-31T11:47:37.872Z"
   },
   {
    "duration": 151,
    "start_time": "2023-05-31T11:50:43.608Z"
   },
   {
    "duration": 97,
    "start_time": "2023-05-31T11:51:32.579Z"
   },
   {
    "duration": 105,
    "start_time": "2023-05-31T11:51:38.562Z"
   },
   {
    "duration": 109,
    "start_time": "2023-05-31T11:51:47.573Z"
   },
   {
    "duration": 3,
    "start_time": "2023-05-31T11:52:58.880Z"
   },
   {
    "duration": 123,
    "start_time": "2023-05-31T11:52:59.276Z"
   },
   {
    "duration": 4,
    "start_time": "2023-05-31T11:53:03.604Z"
   },
   {
    "duration": 3,
    "start_time": "2023-05-31T11:53:03.975Z"
   },
   {
    "duration": 154,
    "start_time": "2023-05-31T11:53:04.348Z"
   },
   {
    "duration": 71,
    "start_time": "2023-05-31T12:44:29.542Z"
   },
   {
    "duration": 88,
    "start_time": "2023-05-31T12:52:04.351Z"
   },
   {
    "duration": 733,
    "start_time": "2023-05-31T13:31:25.470Z"
   },
   {
    "duration": 219,
    "start_time": "2023-05-31T13:31:44.331Z"
   },
   {
    "duration": 12,
    "start_time": "2023-05-31T13:32:01.808Z"
   },
   {
    "duration": 111,
    "start_time": "2023-05-31T13:32:56.904Z"
   },
   {
    "duration": 11,
    "start_time": "2023-05-31T13:33:06.866Z"
   },
   {
    "duration": 10,
    "start_time": "2023-05-31T13:33:42.099Z"
   },
   {
    "duration": 10,
    "start_time": "2023-05-31T13:33:48.449Z"
   },
   {
    "duration": 12,
    "start_time": "2023-05-31T13:33:53.970Z"
   },
   {
    "duration": 45,
    "start_time": "2023-05-31T13:40:40.274Z"
   },
   {
    "duration": 1145,
    "start_time": "2023-05-31T13:41:27.496Z"
   },
   {
    "duration": 247,
    "start_time": "2023-05-31T13:41:28.643Z"
   },
   {
    "duration": 113,
    "start_time": "2023-05-31T13:41:59.354Z"
   },
   {
    "duration": 3,
    "start_time": "2023-05-31T13:42:46.838Z"
   },
   {
    "duration": 3,
    "start_time": "2023-05-31T13:42:54.411Z"
   },
   {
    "duration": 88,
    "start_time": "2023-05-31T13:43:31.926Z"
   },
   {
    "duration": 197,
    "start_time": "2023-05-31T13:45:04.980Z"
   },
   {
    "duration": 148,
    "start_time": "2023-05-31T13:45:11.252Z"
   },
   {
    "duration": 105,
    "start_time": "2023-05-31T13:45:33.024Z"
   },
   {
    "duration": 91,
    "start_time": "2023-05-31T13:47:06.639Z"
   },
   {
    "duration": 12,
    "start_time": "2023-05-31T13:47:17.204Z"
   },
   {
    "duration": 96,
    "start_time": "2023-05-31T13:47:24.490Z"
   },
   {
    "duration": 19,
    "start_time": "2023-05-31T13:48:28.397Z"
   },
   {
    "duration": 10,
    "start_time": "2023-05-31T13:51:05.133Z"
   },
   {
    "duration": 5,
    "start_time": "2023-05-31T13:51:07.436Z"
   },
   {
    "duration": 4,
    "start_time": "2023-05-31T13:51:30.501Z"
   },
   {
    "duration": 92,
    "start_time": "2023-05-31T13:51:46.732Z"
   },
   {
    "duration": 3,
    "start_time": "2023-05-31T13:51:58.279Z"
   },
   {
    "duration": 4,
    "start_time": "2023-05-31T13:52:01.806Z"
   },
   {
    "duration": 34,
    "start_time": "2023-05-31T13:52:06.327Z"
   },
   {
    "duration": 162,
    "start_time": "2023-05-31T13:52:11.858Z"
   },
   {
    "duration": 4,
    "start_time": "2023-05-31T13:52:32.442Z"
   },
   {
    "duration": 4,
    "start_time": "2023-05-31T13:52:32.785Z"
   },
   {
    "duration": 33,
    "start_time": "2023-05-31T13:52:42.552Z"
   },
   {
    "duration": 7,
    "start_time": "2023-05-31T13:52:42.587Z"
   },
   {
    "duration": 6,
    "start_time": "2023-05-31T13:52:42.596Z"
   },
   {
    "duration": 4,
    "start_time": "2023-05-31T13:52:45.374Z"
   },
   {
    "duration": 1100,
    "start_time": "2023-05-31T13:53:07.937Z"
   },
   {
    "duration": 5,
    "start_time": "2023-05-31T13:53:09.039Z"
   },
   {
    "duration": 112,
    "start_time": "2023-05-31T13:53:13.184Z"
   },
   {
    "duration": 7,
    "start_time": "2023-05-31T13:53:14.474Z"
   },
   {
    "duration": 157,
    "start_time": "2023-05-31T13:53:15.304Z"
   },
   {
    "duration": 168,
    "start_time": "2023-05-31T13:53:34.763Z"
   },
   {
    "duration": 15,
    "start_time": "2023-05-31T13:53:45.298Z"
   },
   {
    "duration": 1228,
    "start_time": "2023-05-31T13:55:30.055Z"
   },
   {
    "duration": 6,
    "start_time": "2023-05-31T13:55:31.285Z"
   },
   {
    "duration": 131,
    "start_time": "2023-05-31T13:55:31.292Z"
   },
   {
    "duration": 1584,
    "start_time": "2023-05-31T18:18:18.083Z"
   },
   {
    "duration": 9,
    "start_time": "2023-05-31T18:18:19.669Z"
   },
   {
    "duration": 82,
    "start_time": "2023-05-31T18:18:19.680Z"
   },
   {
    "duration": 155,
    "start_time": "2023-06-01T08:58:39.485Z"
   },
   {
    "duration": 1292,
    "start_time": "2023-06-01T09:27:40.568Z"
   },
   {
    "duration": 9,
    "start_time": "2023-06-01T09:27:41.862Z"
   },
   {
    "duration": 86,
    "start_time": "2023-06-01T09:27:41.872Z"
   },
   {
    "duration": 4,
    "start_time": "2023-06-01T09:28:11.370Z"
   },
   {
    "duration": 10,
    "start_time": "2023-06-01T09:28:20.429Z"
   },
   {
    "duration": 170,
    "start_time": "2023-06-01T09:54:18.785Z"
   },
   {
    "duration": 15,
    "start_time": "2023-06-01T09:54:26.551Z"
   },
   {
    "duration": 4,
    "start_time": "2023-06-01T09:55:21.420Z"
   },
   {
    "duration": 63,
    "start_time": "2023-06-01T10:15:45.433Z"
   },
   {
    "duration": 14,
    "start_time": "2023-06-01T10:15:59.120Z"
   },
   {
    "duration": 9,
    "start_time": "2023-06-01T10:17:47.403Z"
   },
   {
    "duration": 17,
    "start_time": "2023-06-01T10:17:54.264Z"
   },
   {
    "duration": 12,
    "start_time": "2023-06-01T10:18:17.190Z"
   },
   {
    "duration": 14,
    "start_time": "2023-06-01T10:18:24.899Z"
   },
   {
    "duration": 9,
    "start_time": "2023-06-01T10:18:38.160Z"
   },
   {
    "duration": 14,
    "start_time": "2023-06-01T10:18:59.044Z"
   },
   {
    "duration": 18,
    "start_time": "2023-06-01T10:23:45.568Z"
   },
   {
    "duration": 1324,
    "start_time": "2023-06-02T09:42:53.665Z"
   },
   {
    "duration": 6,
    "start_time": "2023-06-02T09:42:54.991Z"
   },
   {
    "duration": 83,
    "start_time": "2023-06-02T09:42:54.998Z"
   },
   {
    "duration": 8,
    "start_time": "2023-06-02T09:42:55.084Z"
   },
   {
    "duration": 8,
    "start_time": "2023-06-02T09:42:55.178Z"
   },
   {
    "duration": 10,
    "start_time": "2023-06-02T09:42:55.187Z"
   },
   {
    "duration": 14,
    "start_time": "2023-06-02T09:42:55.198Z"
   },
   {
    "duration": 9,
    "start_time": "2023-06-02T09:42:55.214Z"
   },
   {
    "duration": 2602,
    "start_time": "2023-06-03T09:30:05.404Z"
   },
   {
    "duration": 6,
    "start_time": "2023-06-03T09:30:08.008Z"
   },
   {
    "duration": 146,
    "start_time": "2023-06-03T09:30:08.015Z"
   },
   {
    "duration": 130,
    "start_time": "2023-06-03T09:30:08.166Z"
   },
   {
    "duration": 37,
    "start_time": "2023-06-03T09:30:08.298Z"
   },
   {
    "duration": 62,
    "start_time": "2023-06-03T09:30:08.337Z"
   },
   {
    "duration": 54,
    "start_time": "2023-06-03T09:30:08.400Z"
   },
   {
    "duration": 30,
    "start_time": "2023-06-03T09:30:08.459Z"
   }
  ],
  "kernelspec": {
   "display_name": "Python 3 (ipykernel)",
   "language": "python",
   "name": "python3"
  },
  "language_info": {
   "codemirror_mode": {
    "name": "ipython",
    "version": 3
   },
   "file_extension": ".py",
   "mimetype": "text/x-python",
   "name": "python",
   "nbconvert_exporter": "python",
   "pygments_lexer": "ipython3",
   "version": "3.10.9"
  },
  "toc": {
   "base_numbering": 1,
   "nav_menu": {},
   "number_sections": true,
   "sideBar": true,
   "skip_h1_title": true,
   "title_cell": "Содержание",
   "title_sidebar": "Contents",
   "toc_cell": true,
   "toc_position": {},
   "toc_section_display": true,
   "toc_window_display": false
  }
 },
 "nbformat": 4,
 "nbformat_minor": 2
}
