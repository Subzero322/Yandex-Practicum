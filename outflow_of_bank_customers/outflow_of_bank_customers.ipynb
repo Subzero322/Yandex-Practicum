{
 "cells": [
  {
   "cell_type": "markdown",
   "id": "5a6bf25c",
   "metadata": {},
   "source": [
    "<h1>Содержание<span class=\"tocSkip\"></span></h1>\n",
    "<div class=\"toc\"><ul class=\"toc-item\"><li><span><a href=\"#Подготовка-данных\" data-toc-modified-id=\"Подготовка-данных-1\"><span class=\"toc-item-num\">1&nbsp;&nbsp;</span>Подготовка данных</a></span></li><li><span><a href=\"#Исследование-задачи\" data-toc-modified-id=\"Исследование-задачи-2\"><span class=\"toc-item-num\">2&nbsp;&nbsp;</span>Исследование задачи</a></span></li><li><span><a href=\"#Борьба-с-дисбалансом\" data-toc-modified-id=\"Борьба-с-дисбалансом-3\"><span class=\"toc-item-num\">3&nbsp;&nbsp;</span>Борьба с дисбалансом</a></span></li><li><span><a href=\"#Тестирование-модели\" data-toc-modified-id=\"Тестирование-модели-4\"><span class=\"toc-item-num\">4&nbsp;&nbsp;</span>Тестирование модели</a>"
   ]
  },
  {
   "cell_type": "markdown",
   "id": "610542ae",
   "metadata": {},
   "source": [
    "# Отток клиентов"
   ]
  },
  {
   "cell_type": "markdown",
   "id": "65ea8da0",
   "metadata": {},
   "source": [
    "Из «Бета-Банка» стали уходить клиенты. Каждый месяц. Немного, но заметно. Банковские маркетологи посчитали: сохранять текущих клиентов дешевле, чем привлекать новых.\n",
    "\n",
    "Нужно спрогнозировать, уйдёт клиент из банка в ближайшее время или нет. Нам предоставлены исторические данные о поведении клиентов и расторжении договоров с банком. \n",
    "\n",
    "Построим модель с предельно большим значением *F1*-меры.\n",
    "\n",
    "Дополнительно измерим *AUC-ROC*, сравним её значение с *F1*-мерой.\n",
    "\n",
    "Источник данных: [https://www.kaggle.com/barelydedicated/bank-customer-churn-modeling](https://www.kaggle.com/barelydedicated/bank-customer-churn-modeling)"
   ]
  },
  {
   "cell_type": "markdown",
   "id": "4a5d4b5a",
   "metadata": {},
   "source": [
    "## Подготовка данных"
   ]
  },
  {
   "cell_type": "code",
   "execution_count": 1,
   "id": "b97b40bf",
   "metadata": {},
   "outputs": [],
   "source": [
    "import pandas as pd\n",
    "import numpy as np\n",
    "from sklearn.model_selection import train_test_split\n",
    "from sklearn.ensemble import RandomForestClassifier\n",
    "from sklearn.linear_model import LogisticRegression as LR\n",
    "from sklearn.ensemble import GradientBoostingClassifier as GBC\n",
    "from sklearn.metrics import roc_auc_score as ras\n",
    "from sklearn.metrics import f1_score as f1\n",
    "from sklearn.preprocessing import OrdinalEncoder\n",
    "from sklearn.preprocessing import StandardScaler\n",
    "from sklearn.utils import shuffle\n",
    "from sklearn.model_selection import (StratifiedShuffleSplit, GridSearchCV)\n",
    "import os\n",
    "import matplotlib.pyplot as plt\n",
    "import seaborn as sns\n",
    "from sklearn.metrics import roc_curve\n",
    "from sklearn.preprocessing import OneHotEncoder\n",
    "pd.set_option('display.max_columns', None)"
   ]
  },
  {
   "cell_type": "code",
   "execution_count": 2,
   "id": "1d464a0b",
   "metadata": {},
   "outputs": [],
   "source": [
    "def roc(features, target, model):\n",
    "    pred_proba = model.predict_proba(features)\n",
    "    proba_one = pred_proba[:, 1]\n",
    "    print('roc_auc_score:', ras(target, proba_one))\n",
    "    print('F1-score:', f1(target, model.predict(features)))"
   ]
  },
  {
   "cell_type": "code",
   "execution_count": 3,
   "id": "f4fe2eb8",
   "metadata": {},
   "outputs": [],
   "source": [
    "def roc_plot(model, x_test, y_test):\n",
    "    proba_test = model.predict_proba(x_test)\n",
    "    proba_one_test = proba_test[:, 1]\n",
    "\n",
    "    fpr, tpr, thresholds = roc_curve(y_test, proba_one_test)\n",
    "\n",
    "    plt.figure()\n",
    "    plt.plot(fpr, tpr)\n",
    "    plt.xlim([0.0, 1.0])\n",
    "    plt.ylim([0.0, 1.0])\n",
    "    plt.xlabel('False Positive Rate')\n",
    "    plt.ylabel('True Positive Rate')\n",
    "    plt.title('ROC-кривая')\n",
    "    plt.show()\n",
    "    "
   ]
  },
  {
   "cell_type": "code",
   "execution_count": 4,
   "id": "a994ab26",
   "metadata": {},
   "outputs": [],
   "source": [
    "def split_data(features, target):\n",
    "    x_train, x_test, y_train, y_test = train_test_split(features, target,\n",
    "    test_size=0.2, random_state = 12345, stratify=target)\n",
    "\n",
    "\n",
    "    x_train, x_val, y_train, y_val = train_test_split(x_train, y_train, \n",
    "    test_size=0.2, random_state= 12345, stratify=y_train)\n",
    "    \n",
    "    return x_train, y_train, x_test, y_test, x_val, y_val"
   ]
  },
  {
   "cell_type": "code",
   "execution_count": 5,
   "id": "a4a14ff6",
   "metadata": {},
   "outputs": [],
   "source": [
    "def scale_data(x_train, x_valid, x_test, columns=['CreditScore', 'Age', 'Balance','Tenure', 'NumOfProducts', 'EstimatedSalary']):\n",
    "\n",
    "    scaler = StandardScaler()\n",
    "    \n",
    "   # x_valid.columns = x_train.columns.astype(str)\n",
    "   # x_test.columns = x_train.columns.astype(str)\n",
    "   # x_train.columns = x_train.columns.astype(str)\n",
    "    \n",
    "    scaler.fit(x_train.loc[:, columns]) \n",
    "    \n",
    "    x_train[columns] = scaler.transform(x_train.loc[:, columns])\n",
    "    x_valid[columns] = scaler.transform(x_valid.loc[:, columns]) \n",
    "    x_test[columns]= scaler.transform(x_test.loc[:, columns])\n",
    "\n",
    "    return x_train, x_valid, x_test\n"
   ]
  },
  {
   "cell_type": "code",
   "execution_count": 6,
   "id": "0c1df5f2",
   "metadata": {},
   "outputs": [],
   "source": [
    "def top_params_rfc(x_train, y_train, x_valid, y_valid,balance=False, f1=f1, n_estim=range(10, 110, 10), min_samp_split=range(2, 11, 1), min_samp_leaf=range(2,11, 1), max_dph=range(6, 46, 3)):\n",
    "    \n",
    "    f1_max=0\n",
    "    if balance==False:\n",
    "        for n_est in n_estim:\n",
    "            for min_spl in min_samp_split:\n",
    "                for min_lf in min_samp_leaf:\n",
    "                   # for max_d in max_dph:\n",
    "                    rfc = RandomForestClassifier(random_state=12345, n_estimators=n_est, min_samples_split=min_spl, min_samples_leaf=min_lf)\n",
    "                    rfc.fit(x_train, y_train)\n",
    "                    f_local = f1(y_valid, rfc.predict(x_valid))\n",
    "                    if f_local > f1_max:\n",
    "                        f1_max = f_local\n",
    "                        best_estimators = n_est\n",
    "                        best_samples_split = min_spl\n",
    "                        best_samples_leaf = min_lf\n",
    "                        best_rfc = rfc\n",
    "                      #  best_depth = max_d\n",
    "                        if f1_max > 0.6:        \n",
    "                            print('_______________________________________\\n')\n",
    "                            print(f'F1-score: {f1_max} на валидационной выборке')\n",
    "                            print(f'F1-score: {f1(y_train, rfc.predict(x_train))} на тренировочной выборке')\n",
    "                            print('\\n')\n",
    "                            print(f'estimator: {best_estimators}')\n",
    "                            print(f'samples_split: {best_samples_split}')\n",
    "                            print(f'samples_leaf: {best_samples_leaf}')\n",
    "                            #print(f'max_depth: {best_depth}')\n",
    "                            print('\\n')\n",
    "    else:\n",
    "        \n",
    "        for n_est in n_estim:\n",
    "            for min_spl in min_samp_split:\n",
    "                for min_lf in min_samp_leaf:\n",
    "                   # for max_d in max_dph:\n",
    "                    rfc = RandomForestClassifier(random_state=12345, n_estimators=n_est, min_samples_split=min_spl, min_samples_leaf=min_lf, class_weight='balanced')\n",
    "                    rfc.fit(x_train, y_train)\n",
    "                    f_local = f1(y_valid, rfc.predict(x_valid))\n",
    "                    if f_local > f1_max:\n",
    "                        f1_max = f_local\n",
    "                        best_estimators = n_est\n",
    "                        best_samples_split = min_spl\n",
    "                        best_samples_leaf = min_lf\n",
    "                        best_rfc = rfc\n",
    "                      #  best_depth = max_d\n",
    "                        if f1_max > 0.6:        \n",
    "                            print('_______________________________________\\n')\n",
    "                            print(f'F1-score: {f1_max} на валидационной выборке (with_balance)')\n",
    "                            print(f'F1-score: {f1(y_train, rfc.predict(x_train))} на тренировочной выборке (with_balance)')\n",
    "                            print('\\n')\n",
    "                            print(f'estimator: {best_estimators}')\n",
    "                            print(f'samples_split: {best_samples_split}')\n",
    "                            print(f'samples_leaf: {best_samples_leaf}')\n",
    "                            #print(f'max_depth: {best_depth}')\n",
    "                            print('\\n')\n",
    "\n",
    "    return best_rfc, best_estimators, best_samples_split, best_samples_leaf #best_crit"
   ]
  },
  {
   "cell_type": "code",
   "execution_count": 7,
   "id": "c0c00073",
   "metadata": {},
   "outputs": [],
   "source": [
    "def top_params_lr(x_train, y_train, x_valid, y_valid, f1=f1, pen=['l1', 'l2'], c_0_1=np.arange(0.1, 1.0, 0.1), balance=False):\n",
    "    f1_max=0\n",
    "    if balance==False:\n",
    "        \n",
    "        for p in pen:\n",
    "            \n",
    "            for c in (c_0_1):\n",
    "                \n",
    "                lr = LR(random_state=12345, penalty=p, C=c, solver='liblinear')\n",
    "                lr.fit(x_train, y_train)\n",
    "                f_local = f1(y_valid, lr.predict(x_valid))\n",
    "                if f_local > f1_max:\n",
    "                    f1_max = f_local\n",
    "                    best_penalty = p\n",
    "                    best_c = c\n",
    "                    best_lr = lr\n",
    "     \n",
    "                    print('_______________________________________\\n')\n",
    "                    print(f'F1-score: {f1_max} на валидационной выборке')\n",
    "                    print(f'F1-score: {f1(y_train, lr.predict(x_train))} на тренировочной выборке')\n",
    "                    print('\\n')\n",
    "                    print(f'best_penalty: {best_penalty}')\n",
    "                    print(f'best_c: {best_c}')                      \n",
    "                    print('\\n')\n",
    "    else:\n",
    "        for p in pen:\n",
    "            for c in (c_0_1):\n",
    "                lr = LR(random_state=12345, penalty=p, C=c, solver='liblinear', class_weight='balanced')\n",
    "                lr.fit(x_train, y_train)\n",
    "                f_local = f1(y_valid, lr.predict(x_valid))\n",
    "                if f_local > f1_max:\n",
    "                    f1_max = f_local\n",
    "                    best_penalty = p\n",
    "                    best_c = c\n",
    "                    best_lr = lr\n",
    "     \n",
    "                    print('_______________________________________\\n')\n",
    "                    print(f'F1-score: {f1_max} на валидационной выборке (with_balance)')\n",
    "                    print(f'F1-score: {f1(y_train, lr.predict(x_train))} на тренировочной выборке (with_balance)')\n",
    "                    print('\\n')\n",
    "                    print(f'best_penalty: {best_penalty}')\n",
    "                    print(f'best_c: {best_c}')                      \n",
    "                    print('\\n')\n",
    "    return best_lr, best_penalty, best_c"
   ]
  },
  {
   "cell_type": "code",
   "execution_count": 8,
   "id": "87de0794",
   "metadata": {},
   "outputs": [],
   "source": [
    "def ohe_for_train(x_train, x_valid, x_test, y_train, y_valid, y_test, columns=['Geography', 'Gender'] ):\n",
    "    \n",
    "#    data = features.join(target, on=target.index)\n",
    " #   data_onehot = data.copy()\n",
    "#    ohe = OneHotEncoder(drop = 'first', sparse = False)\n",
    "#    for col in columns:\n",
    "#        ohe = ohe.fit(data_onehot[[col]])\n",
    "#        encoded_data = pd.DataFrame(ohe.transform(data_onehot[[col]]))\n",
    "#        \n",
    "#        encoded_data.columns = ohe.get_feature_names()\n",
    "#        data_onehot = data_onehot.reset_index(drop=True)\n",
    "#        data_onehot = pd.concat([data_onehot, encoded_data],axis=1)\n",
    "#        data_onehot.drop(col, axis = 1, inplace = True)\n",
    "#        x_train = data_onehot.drop('Exited', axis=1)\n",
    "#        y_train = data_onehot['Exited']\n",
    "\n",
    "    features = [x_train, x_valid, x_test]\n",
    "    targets=[y_train, y_valid, y_test]\n",
    "    \n",
    "    \n",
    "    data_train = features[0].join(targets[0], on=targets[0].index)\n",
    "    data_valid = features[1].join(targets[1], on=targets[1].index)\n",
    "    data_test = features[2].join(targets[2], on=targets[2].index)\n",
    "    \n",
    "    data_train_ohe = data_train.copy()\n",
    "    data_valid_ohe = data_valid.copy()\n",
    "    data_test_ohe = data_valid.copy()\n",
    "    \n",
    "    ohe = OneHotEncoder(drop = 'first', sparse = False)\n",
    "    \n",
    "    for col in columns:\n",
    "        \n",
    "        ohe.fit(data_train_ohe[[col]])\n",
    "        \n",
    "        encoded_train_data = pd.DataFrame(ohe.transform(data_train_ohe[[col]]))\n",
    "        encoded_train_data.columns = ohe.get_feature_names()\n",
    "        data_train_ohe = data_train_ohe.reset_index(drop=True)\n",
    "        data_train_ohe = pd.concat([data_train_ohe, encoded_train_data],axis=1)\n",
    "        data_train_ohe.drop(col, axis=1, inplace=True)\n",
    "        \n",
    "        encoded_valid_data = pd.DataFrame(ohe.transform(data_valid_ohe[[col]]))\n",
    "        encoded_valid_data.columns = ohe.get_feature_names()\n",
    "        data_valid_ohe = data_valid_ohe.reset_index(drop=True)\n",
    "        data_valid_ohe = pd.concat([data_valid_ohe, encoded_valid_data],axis=1)\n",
    "        data_valid_ohe.drop(col, axis=1, inplace=True)\n",
    "        \n",
    "        encoded_test_data = pd.DataFrame(ohe.transform(data_test_ohe[[col]]))\n",
    "        encoded_test_data.columns = ohe.get_feature_names()\n",
    "        data_test_ohe = data_test_ohe.reset_index(drop=True)\n",
    "        data_test_ohe = pd.concat([data_test_ohe, encoded_test_data],axis=1)\n",
    "        data_test_ohe.drop(col, axis=1, inplace=True)\n",
    "        \n",
    "        \n",
    "    x_train = data_train_ohe.drop('Exited', axis=1)\n",
    "    y_train = data_train_ohe['Exited']\n",
    "    \n",
    "    x_valid = data_valid_ohe.drop('Exited', axis=1)\n",
    "    y_valid = data_valid_ohe['Exited']\n",
    "    \n",
    "    x_test = data_test_ohe.drop('Exited', axis=1)\n",
    "    y_test = data_test_ohe['Exited']\n",
    "           \n",
    "    return x_train, y_train, x_valid, y_valid, x_test, y_test\n",
    "        \n",
    "  #features=[x_train, x_valid, x_test], targets=[y_train, y_valid, y_test], columns=['Geography', 'Gender']  "
   ]
  },
  {
   "cell_type": "code",
   "execution_count": 10,
   "id": "bb427ccd",
   "metadata": {},
   "outputs": [
    {
     "data": {
      "text/html": [
       "<div>\n",
       "<style scoped>\n",
       "    .dataframe tbody tr th:only-of-type {\n",
       "        vertical-align: middle;\n",
       "    }\n",
       "\n",
       "    .dataframe tbody tr th {\n",
       "        vertical-align: top;\n",
       "    }\n",
       "\n",
       "    .dataframe thead th {\n",
       "        text-align: right;\n",
       "    }\n",
       "</style>\n",
       "<table border=\"1\" class=\"dataframe\">\n",
       "  <thead>\n",
       "    <tr style=\"text-align: right;\">\n",
       "      <th></th>\n",
       "      <th>RowNumber</th>\n",
       "      <th>CustomerId</th>\n",
       "      <th>Surname</th>\n",
       "      <th>CreditScore</th>\n",
       "      <th>Geography</th>\n",
       "      <th>Gender</th>\n",
       "      <th>Age</th>\n",
       "      <th>Tenure</th>\n",
       "      <th>Balance</th>\n",
       "      <th>NumOfProducts</th>\n",
       "      <th>HasCrCard</th>\n",
       "      <th>IsActiveMember</th>\n",
       "      <th>EstimatedSalary</th>\n",
       "      <th>Exited</th>\n",
       "    </tr>\n",
       "  </thead>\n",
       "  <tbody>\n",
       "    <tr>\n",
       "      <th>0</th>\n",
       "      <td>1</td>\n",
       "      <td>15634602</td>\n",
       "      <td>Hargrave</td>\n",
       "      <td>619</td>\n",
       "      <td>France</td>\n",
       "      <td>Female</td>\n",
       "      <td>42</td>\n",
       "      <td>2.0</td>\n",
       "      <td>0.00</td>\n",
       "      <td>1</td>\n",
       "      <td>1</td>\n",
       "      <td>1</td>\n",
       "      <td>101348.88</td>\n",
       "      <td>1</td>\n",
       "    </tr>\n",
       "    <tr>\n",
       "      <th>1</th>\n",
       "      <td>2</td>\n",
       "      <td>15647311</td>\n",
       "      <td>Hill</td>\n",
       "      <td>608</td>\n",
       "      <td>Spain</td>\n",
       "      <td>Female</td>\n",
       "      <td>41</td>\n",
       "      <td>1.0</td>\n",
       "      <td>83807.86</td>\n",
       "      <td>1</td>\n",
       "      <td>0</td>\n",
       "      <td>1</td>\n",
       "      <td>112542.58</td>\n",
       "      <td>0</td>\n",
       "    </tr>\n",
       "    <tr>\n",
       "      <th>2</th>\n",
       "      <td>3</td>\n",
       "      <td>15619304</td>\n",
       "      <td>Onio</td>\n",
       "      <td>502</td>\n",
       "      <td>France</td>\n",
       "      <td>Female</td>\n",
       "      <td>42</td>\n",
       "      <td>8.0</td>\n",
       "      <td>159660.80</td>\n",
       "      <td>3</td>\n",
       "      <td>1</td>\n",
       "      <td>0</td>\n",
       "      <td>113931.57</td>\n",
       "      <td>1</td>\n",
       "    </tr>\n",
       "    <tr>\n",
       "      <th>3</th>\n",
       "      <td>4</td>\n",
       "      <td>15701354</td>\n",
       "      <td>Boni</td>\n",
       "      <td>699</td>\n",
       "      <td>France</td>\n",
       "      <td>Female</td>\n",
       "      <td>39</td>\n",
       "      <td>1.0</td>\n",
       "      <td>0.00</td>\n",
       "      <td>2</td>\n",
       "      <td>0</td>\n",
       "      <td>0</td>\n",
       "      <td>93826.63</td>\n",
       "      <td>0</td>\n",
       "    </tr>\n",
       "    <tr>\n",
       "      <th>4</th>\n",
       "      <td>5</td>\n",
       "      <td>15737888</td>\n",
       "      <td>Mitchell</td>\n",
       "      <td>850</td>\n",
       "      <td>Spain</td>\n",
       "      <td>Female</td>\n",
       "      <td>43</td>\n",
       "      <td>2.0</td>\n",
       "      <td>125510.82</td>\n",
       "      <td>1</td>\n",
       "      <td>1</td>\n",
       "      <td>1</td>\n",
       "      <td>79084.10</td>\n",
       "      <td>0</td>\n",
       "    </tr>\n",
       "  </tbody>\n",
       "</table>\n",
       "</div>"
      ],
      "text/plain": [
       "   RowNumber  CustomerId   Surname  CreditScore Geography  Gender  Age  \\\n",
       "0          1    15634602  Hargrave          619    France  Female   42   \n",
       "1          2    15647311      Hill          608     Spain  Female   41   \n",
       "2          3    15619304      Onio          502    France  Female   42   \n",
       "3          4    15701354      Boni          699    France  Female   39   \n",
       "4          5    15737888  Mitchell          850     Spain  Female   43   \n",
       "\n",
       "   Tenure    Balance  NumOfProducts  HasCrCard  IsActiveMember  \\\n",
       "0     2.0       0.00              1          1               1   \n",
       "1     1.0   83807.86              1          0               1   \n",
       "2     8.0  159660.80              3          1               0   \n",
       "3     1.0       0.00              2          0               0   \n",
       "4     2.0  125510.82              1          1               1   \n",
       "\n",
       "   EstimatedSalary  Exited  \n",
       "0        101348.88       1  \n",
       "1        112542.58       0  \n",
       "2        113931.57       1  \n",
       "3         93826.63       0  \n",
       "4         79084.10       0  "
      ]
     },
     "execution_count": 10,
     "metadata": {},
     "output_type": "execute_result"
    }
   ],
   "source": [
    "try: data = pd.read_csv(os.getcwd() + '\\\\Churn_Modelling.csv')\n",
    "except: data = pd.read_csv('/datasets/Churn.csv')\n",
    "\n",
    "data.head()"
   ]
  },
  {
   "cell_type": "markdown",
   "id": "34b774b5",
   "metadata": {},
   "source": [
    "#### Первые 3 фичи не несут смысловой нагрузки для обучения модели, их можно откинуть"
   ]
  },
  {
   "cell_type": "code",
   "execution_count": 11,
   "id": "14ae4264",
   "metadata": {},
   "outputs": [
    {
     "data": {
      "text/html": [
       "<div>\n",
       "<style scoped>\n",
       "    .dataframe tbody tr th:only-of-type {\n",
       "        vertical-align: middle;\n",
       "    }\n",
       "\n",
       "    .dataframe tbody tr th {\n",
       "        vertical-align: top;\n",
       "    }\n",
       "\n",
       "    .dataframe thead th {\n",
       "        text-align: right;\n",
       "    }\n",
       "</style>\n",
       "<table border=\"1\" class=\"dataframe\">\n",
       "  <thead>\n",
       "    <tr style=\"text-align: right;\">\n",
       "      <th></th>\n",
       "      <th>CreditScore</th>\n",
       "      <th>Geography</th>\n",
       "      <th>Gender</th>\n",
       "      <th>Age</th>\n",
       "      <th>Tenure</th>\n",
       "      <th>Balance</th>\n",
       "      <th>NumOfProducts</th>\n",
       "      <th>HasCrCard</th>\n",
       "      <th>IsActiveMember</th>\n",
       "      <th>EstimatedSalary</th>\n",
       "      <th>Exited</th>\n",
       "    </tr>\n",
       "  </thead>\n",
       "  <tbody>\n",
       "    <tr>\n",
       "      <th>0</th>\n",
       "      <td>619</td>\n",
       "      <td>France</td>\n",
       "      <td>Female</td>\n",
       "      <td>42</td>\n",
       "      <td>2.0</td>\n",
       "      <td>0.00</td>\n",
       "      <td>1</td>\n",
       "      <td>1</td>\n",
       "      <td>1</td>\n",
       "      <td>101348.88</td>\n",
       "      <td>1</td>\n",
       "    </tr>\n",
       "    <tr>\n",
       "      <th>1</th>\n",
       "      <td>608</td>\n",
       "      <td>Spain</td>\n",
       "      <td>Female</td>\n",
       "      <td>41</td>\n",
       "      <td>1.0</td>\n",
       "      <td>83807.86</td>\n",
       "      <td>1</td>\n",
       "      <td>0</td>\n",
       "      <td>1</td>\n",
       "      <td>112542.58</td>\n",
       "      <td>0</td>\n",
       "    </tr>\n",
       "    <tr>\n",
       "      <th>2</th>\n",
       "      <td>502</td>\n",
       "      <td>France</td>\n",
       "      <td>Female</td>\n",
       "      <td>42</td>\n",
       "      <td>8.0</td>\n",
       "      <td>159660.80</td>\n",
       "      <td>3</td>\n",
       "      <td>1</td>\n",
       "      <td>0</td>\n",
       "      <td>113931.57</td>\n",
       "      <td>1</td>\n",
       "    </tr>\n",
       "    <tr>\n",
       "      <th>3</th>\n",
       "      <td>699</td>\n",
       "      <td>France</td>\n",
       "      <td>Female</td>\n",
       "      <td>39</td>\n",
       "      <td>1.0</td>\n",
       "      <td>0.00</td>\n",
       "      <td>2</td>\n",
       "      <td>0</td>\n",
       "      <td>0</td>\n",
       "      <td>93826.63</td>\n",
       "      <td>0</td>\n",
       "    </tr>\n",
       "    <tr>\n",
       "      <th>4</th>\n",
       "      <td>850</td>\n",
       "      <td>Spain</td>\n",
       "      <td>Female</td>\n",
       "      <td>43</td>\n",
       "      <td>2.0</td>\n",
       "      <td>125510.82</td>\n",
       "      <td>1</td>\n",
       "      <td>1</td>\n",
       "      <td>1</td>\n",
       "      <td>79084.10</td>\n",
       "      <td>0</td>\n",
       "    </tr>\n",
       "  </tbody>\n",
       "</table>\n",
       "</div>"
      ],
      "text/plain": [
       "   CreditScore Geography  Gender  Age  Tenure    Balance  NumOfProducts  \\\n",
       "0          619    France  Female   42     2.0       0.00              1   \n",
       "1          608     Spain  Female   41     1.0   83807.86              1   \n",
       "2          502    France  Female   42     8.0  159660.80              3   \n",
       "3          699    France  Female   39     1.0       0.00              2   \n",
       "4          850     Spain  Female   43     2.0  125510.82              1   \n",
       "\n",
       "   HasCrCard  IsActiveMember  EstimatedSalary  Exited  \n",
       "0          1               1        101348.88       1  \n",
       "1          0               1        112542.58       0  \n",
       "2          1               0        113931.57       1  \n",
       "3          0               0         93826.63       0  \n",
       "4          1               1         79084.10       0  "
      ]
     },
     "execution_count": 11,
     "metadata": {},
     "output_type": "execute_result"
    }
   ],
   "source": [
    "data = data.iloc[:,3:]\n",
    "data.head()"
   ]
  },
  {
   "cell_type": "code",
   "execution_count": 12,
   "id": "4349957a",
   "metadata": {},
   "outputs": [
    {
     "data": {
      "text/plain": [
       "(10000, 11)"
      ]
     },
     "execution_count": 12,
     "metadata": {},
     "output_type": "execute_result"
    }
   ],
   "source": [
    "data.shape"
   ]
  },
  {
   "cell_type": "code",
   "execution_count": 13,
   "id": "53708357",
   "metadata": {},
   "outputs": [
    {
     "data": {
      "text/plain": [
       "CreditScore          0\n",
       "Geography            0\n",
       "Gender               0\n",
       "Age                  0\n",
       "Tenure             909\n",
       "Balance              0\n",
       "NumOfProducts        0\n",
       "HasCrCard            0\n",
       "IsActiveMember       0\n",
       "EstimatedSalary      0\n",
       "Exited               0\n",
       "dtype: int64"
      ]
     },
     "execution_count": 13,
     "metadata": {},
     "output_type": "execute_result"
    }
   ],
   "source": [
    "data.isna().sum()"
   ]
  },
  {
   "cell_type": "markdown",
   "id": "93980fb6",
   "metadata": {},
   "source": [
    "#### Готово"
   ]
  },
  {
   "cell_type": "code",
   "execution_count": 14,
   "id": "dbd51fd3",
   "metadata": {},
   "outputs": [],
   "source": [
    "data = data.dropna(axis=0).reset_index(drop=True)"
   ]
  },
  {
   "cell_type": "code",
   "execution_count": 15,
   "id": "20888738",
   "metadata": {},
   "outputs": [
    {
     "data": {
      "text/plain": [
       "(9091, 11)"
      ]
     },
     "execution_count": 15,
     "metadata": {},
     "output_type": "execute_result"
    }
   ],
   "source": [
    "data.shape"
   ]
  },
  {
   "cell_type": "markdown",
   "id": "007741ce",
   "metadata": {},
   "source": [
    "#### Да, забыл про возраст, спасибо."
   ]
  },
  {
   "cell_type": "markdown",
   "id": "395e19a8",
   "metadata": {},
   "source": [
    "#### Готово. Не возможна в моём случае... Скину ссылку на статью: https://datastart.ru/blog/read/utechka-dannyh-v-machine-learning-kak-obnaruzhit-i-izbezhat-ee. Рекомендую ознакомиться..."
   ]
  },
  {
   "cell_type": "markdown",
   "id": "69fea5a5",
   "metadata": {},
   "source": [
    "## Исследование задачи"
   ]
  },
  {
   "cell_type": "markdown",
   "id": "58bfd544",
   "metadata": {},
   "source": [
    "#### Exited - это наш целевой признак. На его основе будет решаться задача классификации путём обучения с учителем с помощью метода случайного леса деревьев (в дальнейшем буду называть его RFC)."
   ]
  },
  {
   "cell_type": "code",
   "execution_count": 18,
   "id": "8495311a",
   "metadata": {},
   "outputs": [],
   "source": [
    "ones = (data.loc[data['Exited']==1, :].shape[0] / data.shape[0]) * 100\n",
    "zeros = (data.loc[data['Exited']==0, :].shape[0] / data.shape[0]) * 100"
   ]
  },
  {
   "cell_type": "code",
   "execution_count": 19,
   "id": "5445cdb1",
   "metadata": {},
   "outputs": [
    {
     "data": {
      "image/png": "[encoded data removed]",
      "text/plain": [
       "<Figure size 432x288 with 1 Axes>"
      ]
     },
     "metadata": {},
     "output_type": "display_data"
    }
   ],
   "source": [
    "shape_classes = [ones, zeros]\n",
    "labels = ['class 1', 'class 0']\n",
    "plt.pie(shape_classes, labels = labels, autopct='%.0f%%')\n",
    "plt.show()"
   ]
  },
  {
   "cell_type": "code",
   "execution_count": 20,
   "id": "bfa7fcb6",
   "metadata": {},
   "outputs": [],
   "source": [
    "x_train, y_train, x_test, y_test, x_valid, y_valid = split_data(data.drop(columns='Exited'), data['Exited'])\n",
    "x_train, x_valid, x_test = scale_data(x_train, x_valid, x_test)\n",
    "x_train, y_train, x_valid, y_valid, x_test, y_test = ohe_for_train(x_train, x_valid, x_test, y_train, y_valid, y_test, columns=['Geography', 'Gender'])"
   ]
  },
  {
   "cell_type": "markdown",
   "id": "b27b1bd7",
   "metadata": {},
   "source": [
    "#### В качестве первой модели возьмём RandomForestClassifier, так же обучим модель без гиперпараметров и с ними, чтобы показать разницу"
   ]
  },
  {
   "cell_type": "code",
   "execution_count": 21,
   "id": "77005c7b",
   "metadata": {},
   "outputs": [
    {
     "name": "stdout",
     "output_type": "stream",
     "text": [
      "CPU times: user 542 ms, sys: 18.7 ms, total: 560 ms\n",
      "Wall time: 565 ms\n"
     ]
    },
    {
     "data": {
      "text/plain": [
       "RandomForestClassifier(random_state=12345)"
      ]
     },
     "execution_count": 21,
     "metadata": {},
     "output_type": "execute_result"
    }
   ],
   "source": [
    "%%time\n",
    "\n",
    "rfc = RandomForestClassifier(random_state=12345)\n",
    "rfc.fit(x_train, y_train)"
   ]
  },
  {
   "cell_type": "code",
   "execution_count": 22,
   "id": "944c1d4d",
   "metadata": {},
   "outputs": [
    {
     "name": "stdout",
     "output_type": "stream",
     "text": [
      "roc_auc_score: 0.859918994202241\n",
      "F1-score: 0.569620253164557\n"
     ]
    },
    {
     "data": {
      "image/png": "[encoded data removed]",
      "text/plain": [
       "<Figure size 432x288 with 1 Axes>"
      ]
     },
     "metadata": {
      "needs_background": "light"
     },
     "output_type": "display_data"
    }
   ],
   "source": [
    "roc(x_valid, y_valid, rfc)\n",
    "roc_plot(rfc, x_valid, y_valid)"
   ]
  },
  {
   "cell_type": "markdown",
   "id": "7d7d9f00",
   "metadata": {},
   "source": [
    "#### Для сравнения поберём гиперпармаетры для RFC:"
   ]
  },
  {
   "cell_type": "code",
   "execution_count": 23,
   "id": "5c5ff43c",
   "metadata": {},
   "outputs": [
    {
     "name": "stdout",
     "output_type": "stream",
     "text": [
      "roc_auc_score: 0.8671894535452394\n",
      "F1-score: 0.5970149253731344\n"
     ]
    },
    {
     "data": {
      "image/png": "[encoded data removed]",
      "text/plain": [
       "<Figure size 432x288 with 1 Axes>"
      ]
     },
     "metadata": {
      "needs_background": "light"
     },
     "output_type": "display_data"
    },
    {
     "name": "stdout",
     "output_type": "stream",
     "text": [
      "CPU times: user 3min 53s, sys: 912 ms, total: 3min 54s\n",
      "Wall time: 3min 54s\n"
     ]
    }
   ],
   "source": [
    "%%time\n",
    "\n",
    "best_rfc, best_estimators, best_samples_split, best_samples_leaf = top_params_rfc(x_train, y_train, x_valid, y_valid)\n",
    "\n",
    "\n",
    "\n",
    "roc(x_valid, y_valid, best_rfc)\n",
    "roc_plot(best_rfc, x_valid, y_valid)"
   ]
  },
  {
   "cell_type": "markdown",
   "id": "f5bae4c3",
   "metadata": {},
   "source": [
    "#### В качестве второй модели возьмём LogisticRegression и так же обучим модель без гиперпараметров и с ними, чтобы показать разницу"
   ]
  },
  {
   "cell_type": "code",
   "execution_count": 24,
   "id": "3eba315a",
   "metadata": {},
   "outputs": [
    {
     "name": "stdout",
     "output_type": "stream",
     "text": [
      "roc_auc_score: 0.7644609596250356\n",
      "F1-score: 0.2914572864321608\n"
     ]
    },
    {
     "data": {
      "image/png": "[encoded data removed]",
      "text/plain": [
       "<Figure size 432x288 with 1 Axes>"
      ]
     },
     "metadata": {
      "needs_background": "light"
     },
     "output_type": "display_data"
    },
    {
     "name": "stdout",
     "output_type": "stream",
     "text": [
      "CPU times: user 231 ms, sys: 252 ms, total: 483 ms\n",
      "Wall time: 486 ms\n"
     ]
    }
   ],
   "source": [
    "%%time\n",
    "lr = LR(random_state=12345)\n",
    "lr.fit(x_train, y_train)\n",
    "\n",
    "\n",
    "\n",
    "roc(x_valid,y_valid, lr)\n",
    "roc_plot(lr, x_valid, y_valid)"
   ]
  },
  {
   "cell_type": "code",
   "execution_count": 25,
   "id": "601b5518",
   "metadata": {},
   "outputs": [
    {
     "name": "stdout",
     "output_type": "stream",
     "text": [
      "_______________________________________\n",
      "\n",
      "F1-score: 0.2864450127877238 на валидационной выборке\n",
      "F1-score: 0.28405422853453843 на тренировочной выборке\n",
      "\n",
      "\n",
      "best_penalty: l1\n",
      "best_c: 0.1\n",
      "\n",
      "\n",
      "_______________________________________\n",
      "\n",
      "F1-score: 0.28787878787878785 на валидационной выборке\n",
      "F1-score: 0.29389312977099236 на тренировочной выборке\n",
      "\n",
      "\n",
      "best_penalty: l1\n",
      "best_c: 0.5\n",
      "\n",
      "\n",
      "_______________________________________\n",
      "\n",
      "F1-score: 0.2914572864321608 на валидационной выборке\n",
      "F1-score: 0.29516539440203565 на тренировочной выборке\n",
      "\n",
      "\n",
      "best_penalty: l2\n",
      "best_c: 0.5\n",
      "\n",
      "\n",
      "roc_auc_score: 0.7645132964649373\n",
      "F1-score: 0.2914572864321608\n"
     ]
    },
    {
     "data": {
      "image/png": "[encoded data removed]",
      "text/plain": [
       "<Figure size 432x288 with 1 Axes>"
      ]
     },
     "metadata": {
      "needs_background": "light"
     },
     "output_type": "display_data"
    },
    {
     "name": "stdout",
     "output_type": "stream",
     "text": [
      "CPU times: user 655 ms, sys: 1.33 s, total: 1.99 s\n",
      "Wall time: 2.01 s\n"
     ]
    }
   ],
   "source": [
    "%%time\n",
    "best_lr, best_penalty, best_c = top_params_lr(x_train, y_train, x_valid, y_valid)\n",
    "roc(x_valid,y_valid, best_lr)\n",
    "roc_plot(best_lr, x_valid, y_valid)"
   ]
  },
  {
   "cell_type": "markdown",
   "id": "13704e9c",
   "metadata": {},
   "source": [
    "#### Метрика F1 модели LR не высока, возможно это связано с дизбалансом."
   ]
  },
  {
   "cell_type": "markdown",
   "id": "039fee3f",
   "metadata": {},
   "source": [
    "#### Вывод: RFC - стала победителем в двух метриках. Касательно самих метрик: можно и лучше. Очевидная нехватка борьбы с дисбалансом"
   ]
  },
  {
   "cell_type": "markdown",
   "id": "299f6794",
   "metadata": {},
   "source": [
    "## Борьба с дисбалансом"
   ]
  },
  {
   "cell_type": "code",
   "execution_count": 26,
   "id": "5badca09",
   "metadata": {},
   "outputs": [
    {
     "data": {
      "text/plain": [
       "(1854, 11)"
      ]
     },
     "execution_count": 26,
     "metadata": {},
     "output_type": "execute_result"
    }
   ],
   "source": [
    "data.loc[data['Exited']==1,:].shape"
   ]
  },
  {
   "cell_type": "code",
   "execution_count": 27,
   "id": "ae2fea42",
   "metadata": {},
   "outputs": [
    {
     "data": {
      "text/plain": [
       "(7237, 11)"
      ]
     },
     "execution_count": 27,
     "metadata": {},
     "output_type": "execute_result"
    }
   ],
   "source": [
    "data.loc[data['Exited']==0,:].shape"
   ]
  },
  {
   "cell_type": "markdown",
   "id": "41cfaddc",
   "metadata": {},
   "source": [
    "#### Дизбаланс очевиден"
   ]
  },
  {
   "cell_type": "markdown",
   "id": "9e64a724",
   "metadata": {},
   "source": [
    "#### Метод повышения размерности."
   ]
  },
  {
   "cell_type": "code",
   "execution_count": 28,
   "id": "5d283201",
   "metadata": {},
   "outputs": [],
   "source": [
    "def upsample(train, target, repeat=4):\n",
    "    \n",
    "    data = train.join(target, on=target.index)\n",
    "    zero = data[data['Exited']==0]\n",
    "    one = data[data['Exited']==1]\n",
    "    \n",
    "    result = pd.concat([zero] + [one] * repeat)\n",
    "    result = shuffle(\n",
    "    result, random_state=12345)\n",
    "    train = result.drop(columns='Exited')\n",
    "    target = result['Exited']\n",
    "    \n",
    "    return train, target"
   ]
  },
  {
   "cell_type": "markdown",
   "id": "bab2457c",
   "metadata": {},
   "source": [
    "#### Помимо метода повышения размерности - есть ещё и метод понижения."
   ]
  },
  {
   "cell_type": "code",
   "execution_count": 29,
   "id": "05e3d1f8",
   "metadata": {},
   "outputs": [],
   "source": [
    "def downsample(train, target, fraction=0.3):\n",
    "\n",
    "    \n",
    "    data = train.join(target, on=target.index)\n",
    "    zero = data[data['Exited']==0]\n",
    "\n",
    "    one = data[data['Exited']==1]\n",
    "\n",
    "    result = pd.concat(\n",
    "    [zero.sample(frac=fraction, random_state=12345)] + [one])\n",
    "    \n",
    "    result = shuffle(result, random_state=12345)\n",
    "    train = result.drop(columns='Exited')\n",
    "    target = result['Exited']\n",
    "    \n",
    "    return train, target"
   ]
  },
  {
   "cell_type": "code",
   "execution_count": 30,
   "id": "e8b05249",
   "metadata": {},
   "outputs": [],
   "source": [
    "x_train, y_train, x_test, y_test, x_valid, y_valid = split_data(data.drop(columns='Exited'), data['Exited'])\n",
    "x_train, x_valid, x_test = scale_data(x_train, x_valid, x_test)\n",
    "x_train, y_train, x_valid, y_valid, x_test, y_test = ohe_for_train(x_train, x_valid, x_test, y_train, y_valid, y_test, columns=['Geography', 'Gender'])"
   ]
  },
  {
   "cell_type": "markdown",
   "id": "1646ed24",
   "metadata": {},
   "source": [
    "#### Метод повышения размерности в действии"
   ]
  },
  {
   "cell_type": "code",
   "execution_count": 31,
   "id": "251de610",
   "metadata": {},
   "outputs": [],
   "source": [
    "x_train_up, y_train_up = upsample(x_train, y_train)"
   ]
  },
  {
   "cell_type": "code",
   "execution_count": 32,
   "id": "cb2c4274",
   "metadata": {},
   "outputs": [
    {
     "data": {
      "text/plain": [
       "0    4631\n",
       "1    1186\n",
       "Name: Exited, dtype: int64"
      ]
     },
     "execution_count": 32,
     "metadata": {},
     "output_type": "execute_result"
    }
   ],
   "source": [
    "y_train.value_counts()"
   ]
  },
  {
   "cell_type": "code",
   "execution_count": 33,
   "id": "7e692451",
   "metadata": {},
   "outputs": [
    {
     "data": {
      "text/plain": [
       "1    4744\n",
       "0    4631\n",
       "Name: Exited, dtype: int64"
      ]
     },
     "execution_count": 33,
     "metadata": {},
     "output_type": "execute_result"
    }
   ],
   "source": [
    "y_train_up.value_counts()"
   ]
  },
  {
   "cell_type": "markdown",
   "id": "bb44f37b",
   "metadata": {},
   "source": [
    "#### С помощью upsample повысил размерность класса 1"
   ]
  },
  {
   "cell_type": "markdown",
   "id": "bddda621",
   "metadata": {},
   "source": [
    "#### Начнём с RFC"
   ]
  },
  {
   "cell_type": "code",
   "execution_count": 34,
   "id": "397cb455",
   "metadata": {},
   "outputs": [
    {
     "name": "stdout",
     "output_type": "stream",
     "text": [
      "_______________________________________\n",
      "\n",
      "F1-score: 0.6033333333333334 на валидационной выборке\n",
      "F1-score: 0.9863811206986173 на тренировочной выборке\n",
      "\n",
      "\n",
      "estimator: 10\n",
      "samples_split: 6\n",
      "samples_leaf: 2\n",
      "\n",
      "\n",
      "_______________________________________\n",
      "\n",
      "F1-score: 0.617124394184168 на валидационной выборке\n",
      "F1-score: 0.9839261640568288 на тренировочной выборке\n",
      "\n",
      "\n",
      "estimator: 20\n",
      "samples_split: 2\n",
      "samples_leaf: 3\n",
      "\n",
      "\n",
      "_______________________________________\n",
      "\n",
      "F1-score: 0.6210045662100456 на валидационной выборке\n",
      "F1-score: 0.95296775518587 на тренировочной выборке\n",
      "\n",
      "\n",
      "estimator: 30\n",
      "samples_split: 2\n",
      "samples_leaf: 6\n",
      "\n",
      "\n",
      "_______________________________________\n",
      "\n",
      "F1-score: 0.6222222222222223 на валидационной выборке\n",
      "F1-score: 0.9068115336397827 на тренировочной выборке\n",
      "\n",
      "\n",
      "estimator: 30\n",
      "samples_split: 2\n",
      "samples_leaf: 10\n",
      "\n",
      "\n",
      "_______________________________________\n",
      "\n",
      "F1-score: 0.6259314456035767 на валидационной выборке\n",
      "F1-score: 0.9127405096203849 на тренировочной выборке\n",
      "\n",
      "\n",
      "estimator: 100\n",
      "samples_split: 2\n",
      "samples_leaf: 10\n",
      "\n",
      "\n",
      "CPU times: user 5min 35s, sys: 2.46 s, total: 5min 37s\n",
      "Wall time: 5min 39s\n"
     ]
    }
   ],
   "source": [
    "%%time\n",
    "\n",
    "best_rfc_up, best_estimators, best_samples_split, best_samples_leaf = top_params_rfc(x_train_up, y_train_up, x_valid, y_valid)"
   ]
  },
  {
   "cell_type": "code",
   "execution_count": 35,
   "id": "5fbbef36",
   "metadata": {},
   "outputs": [
    {
     "name": "stdout",
     "output_type": "stream",
     "text": [
      "roc_auc_score: 0.8750894087681653\n",
      "F1-score: 0.6259314456035767\n"
     ]
    },
    {
     "data": {
      "image/png": "[encoded data removed]",
      "text/plain": [
       "<Figure size 432x288 with 1 Axes>"
      ]
     },
     "metadata": {
      "needs_background": "light"
     },
     "output_type": "display_data"
    }
   ],
   "source": [
    "roc(x_valid,y_valid, best_rfc_up)\n",
    "roc_plot(best_rfc_up, x_valid, y_valid)"
   ]
  },
  {
   "cell_type": "markdown",
   "id": "bf63dcf2",
   "metadata": {},
   "source": [
    "#### Для сравнения возьмём LR"
   ]
  },
  {
   "cell_type": "code",
   "execution_count": 36,
   "id": "a83ca49b",
   "metadata": {},
   "outputs": [
    {
     "name": "stdout",
     "output_type": "stream",
     "text": [
      "_______________________________________\n",
      "\n",
      "F1-score: 0.5029239766081871 на валидационной выборке\n",
      "F1-score: 0.7084306646846464 на тренировочной выборке\n",
      "\n",
      "\n",
      "best_penalty: l1\n",
      "best_c: 0.1\n",
      "\n",
      "\n",
      "CPU times: user 860 ms, sys: 1.86 s, total: 2.72 s\n",
      "Wall time: 2.72 s\n"
     ]
    }
   ],
   "source": [
    "%%time\n",
    "\n",
    "best_lr_up, best_penalty, best_c = top_params_lr(x_train_up, y_train_up, x_valid, y_valid)"
   ]
  },
  {
   "cell_type": "code",
   "execution_count": 37,
   "id": "6921ed77",
   "metadata": {},
   "outputs": [
    {
     "name": "stdout",
     "output_type": "stream",
     "text": [
      "roc_auc_score: 0.7680954623959806\n",
      "F1-score: 0.5029239766081871\n"
     ]
    },
    {
     "data": {
      "image/png": "[encoded data removed]",
      "text/plain": [
       "<Figure size 432x288 with 1 Axes>"
      ]
     },
     "metadata": {
      "needs_background": "light"
     },
     "output_type": "display_data"
    }
   ],
   "source": [
    "roc(x_valid,y_valid, best_lr_up)\n",
    "roc_plot(best_lr_up, x_valid, y_valid)"
   ]
  },
  {
   "cell_type": "markdown",
   "id": "9645fe88",
   "metadata": {},
   "source": [
    "#### Метод понижения размерности:"
   ]
  },
  {
   "cell_type": "code",
   "execution_count": 38,
   "id": "02914724",
   "metadata": {},
   "outputs": [],
   "source": [
    "x_train_down, y_train_down = downsample(x_train, y_train, fraction=0.3)"
   ]
  },
  {
   "cell_type": "code",
   "execution_count": 39,
   "id": "b1c92a87",
   "metadata": {},
   "outputs": [
    {
     "data": {
      "text/plain": [
       "0    1389\n",
       "1    1186\n",
       "Name: Exited, dtype: int64"
      ]
     },
     "execution_count": 39,
     "metadata": {},
     "output_type": "execute_result"
    }
   ],
   "source": [
    "y_train_down.value_counts()"
   ]
  },
  {
   "cell_type": "code",
   "execution_count": 40,
   "id": "52527229",
   "metadata": {},
   "outputs": [
    {
     "data": {
      "text/plain": [
       "(5817,)"
      ]
     },
     "execution_count": 40,
     "metadata": {},
     "output_type": "execute_result"
    }
   ],
   "source": [
    "y_train.shape"
   ]
  },
  {
   "cell_type": "code",
   "execution_count": null,
   "id": "afac81eb",
   "metadata": {},
   "outputs": [
    {
     "name": "stdout",
     "output_type": "stream",
     "text": [
      "_______________________________________\n",
      "\n",
      "F1-score: 0.6036161335187762 на валидационной выборке\n",
      "F1-score: 0.8662309368191722 на тренировочной выборке\n",
      "\n",
      "\n",
      "estimator: 20\n",
      "samples_split: 2\n",
      "samples_leaf: 5\n",
      "\n",
      "\n",
      "_______________________________________\n",
      "\n",
      "F1-score: 0.6082036775106081 на валидационной выборке\n",
      "F1-score: 0.8492307692307692 на тренировочной выборке\n",
      "\n",
      "\n",
      "estimator: 30\n",
      "samples_split: 2\n",
      "samples_leaf: 6\n",
      "\n",
      "\n",
      "_______________________________________\n",
      "\n",
      "F1-score: 0.6100278551532033 на валидационной выборке\n",
      "F1-score: 0.9334485738980121 на тренировочной выборке\n",
      "\n",
      "\n",
      "estimator: 30\n",
      "samples_split: 7\n",
      "samples_leaf: 2\n",
      "\n",
      "\n"
     ]
    }
   ],
   "source": [
    "%%time\n",
    "\n",
    "best_rfc_down, best_estimators, best_samples_split, best_samples_leaf = top_params_rfc(x_train_down, y_train_down, x_valid, y_valid)\n",
    "roc(x_valid,y_valid, best_rfc_down)\n",
    "roc_plot(best_rfc_down, x_valid, y_valid)\n"
   ]
  },
  {
   "cell_type": "code",
   "execution_count": null,
   "id": "6963fbff",
   "metadata": {},
   "outputs": [],
   "source": [
    "%%time\n",
    "\n",
    "\n",
    "best_lr_down, best_penalty, best_c = top_params_lr(x_train_down, y_train_down, x_valid, y_valid)\n",
    "print('\\n')\n",
    "roc(x_valid, y_valid, best_lr_down)\n",
    "roc_plot(best_lr_down, x_valid, y_valid)"
   ]
  },
  {
   "cell_type": "markdown",
   "id": "1951b9bf",
   "metadata": {},
   "source": [
    "#### Способ №2. Балансировка"
   ]
  },
  {
   "cell_type": "code",
   "execution_count": null,
   "id": "6c89d393",
   "metadata": {},
   "outputs": [],
   "source": [
    "%%time\n",
    "print('RFC включая взвешивание классов и подбор гиперпараметров: ')\n",
    "\n",
    "best_rfc_balance, best_estimators, best_samples_split, best_samples_leaf = top_params_rfc(x_train, y_train, x_valid, y_valid, balance=True)"
   ]
  },
  {
   "cell_type": "code",
   "execution_count": null,
   "id": "70862aa5",
   "metadata": {},
   "outputs": [],
   "source": [
    "roc(x_valid, y_valid, best_rfc_balance)\n",
    "roc_plot(best_rfc_balance, x_valid, y_valid)"
   ]
  },
  {
   "cell_type": "code",
   "execution_count": null,
   "id": "19046ebf",
   "metadata": {},
   "outputs": [],
   "source": [
    "%%time\n",
    "print('LR включая взвешивание классов и подбор гиперпараметров: ')\n",
    "\n",
    "best_lr_balance, best_balance, best_balance = top_params_lr(x_train, y_train, x_valid, y_valid, balance=True)\n",
    "roc(x_valid, y_valid, best_lr_balance)\n",
    "roc_plot(best_lr_balance, x_valid, y_valid)"
   ]
  },
  {
   "cell_type": "markdown",
   "id": "bd6b31e7",
   "metadata": {},
   "source": [
    "#### Вывод: метод взешивания классов для нашей задачи наиболее эффективный, особенно в совокупности с подбором гиперпараметров и RFC"
   ]
  },
  {
   "cell_type": "markdown",
   "id": "a2d34717",
   "metadata": {},
   "source": [
    "## Тестирование модели"
   ]
  },
  {
   "cell_type": "code",
   "execution_count": null,
   "id": "c8f3ad29",
   "metadata": {},
   "outputs": [],
   "source": [
    "roc(x_test, y_test, best_rfc_balance)\n",
    "roc_plot(best_rfc_balance, x_test, y_test)"
   ]
  },
  {
   "cell_type": "markdown",
   "id": "9a87fcc8",
   "metadata": {},
   "source": [
    "### Вывод: качество заметно улучшилось, благодаря тому, что дизбаланс классов был более менее выровнен, проведена стандартизация (для LR), а так же произведён поиск гипер параметров. Однако наиболее эффектинвым способом для данной задачи сдал метод взвешивания классов. Улучшение отчётливо видно на наших метрика (roc_auc_score и F1-score)."
   ]
  },
  {
   "cell_type": "markdown",
   "id": "b3751cf5",
   "metadata": {},
   "source": [
    "# Общий вывод: После загрузки данных были откинуты ненужные фичи. Так же проведена работа с пропусками. Далее применён метод OneHotEncoder для кодирования строкового представления в цифровое. Затем написал функции для деления выборки на тренировочную, валидационную и тестовую для обучения моделей и стандартизации разделённых данных. А так же ещё две функции. Первая выводит roc_auc_score на основании вероятностей и F1-score, вторая же функция строит график на основании вероятностей и roc_auc_score. После чего обучил две модели random_forest_classifier и LogisticRegression. Касательно RFC: подбор улучшил наши метрики. Далее привёл 3 способа борьбы с дизбалансом: 1-ый - Upsample, 2-ой - Downsample и 3-ий - это взвешивание классов. Остановился на взвешивании классов, т.к.  метрики дали хороший результат. "
   ]
  }
 ],
 "metadata": {
  "ExecuteTimeLog": [
   {
    "duration": 5891,
    "start_time": "2023-04-13T12:46:12.132Z"
   },
   {
    "duration": 3,
    "start_time": "2023-04-13T12:46:18.026Z"
   },
   {
    "duration": 8,
    "start_time": "2023-04-13T12:46:18.034Z"
   },
   {
    "duration": 6,
    "start_time": "2023-04-13T12:46:18.044Z"
   },
   {
    "duration": 5,
    "start_time": "2023-04-13T12:46:18.052Z"
   },
   {
    "duration": 136,
    "start_time": "2023-04-13T12:46:18.059Z"
   },
   {
    "duration": 0,
    "start_time": "2023-04-13T12:46:18.197Z"
   },
   {
    "duration": 0,
    "start_time": "2023-04-13T12:46:18.198Z"
   },
   {
    "duration": 0,
    "start_time": "2023-04-13T12:46:18.199Z"
   },
   {
    "duration": 0,
    "start_time": "2023-04-13T12:46:18.201Z"
   },
   {
    "duration": 0,
    "start_time": "2023-04-13T12:46:18.202Z"
   },
   {
    "duration": 4,
    "start_time": "2023-04-13T12:46:39.282Z"
   },
   {
    "duration": 7,
    "start_time": "2023-04-13T12:46:39.288Z"
   },
   {
    "duration": 9,
    "start_time": "2023-04-13T12:46:39.297Z"
   },
   {
    "duration": 7,
    "start_time": "2023-04-13T12:46:39.308Z"
   },
   {
    "duration": 13,
    "start_time": "2023-04-13T12:46:39.316Z"
   },
   {
    "duration": 40,
    "start_time": "2023-04-13T12:46:39.331Z"
   },
   {
    "duration": 1579,
    "start_time": "2023-04-13T19:07:20.157Z"
   },
   {
    "duration": 3,
    "start_time": "2023-04-13T19:07:21.738Z"
   },
   {
    "duration": 17,
    "start_time": "2023-04-13T19:07:21.742Z"
   },
   {
    "duration": 20,
    "start_time": "2023-04-13T19:07:21.760Z"
   },
   {
    "duration": 21,
    "start_time": "2023-04-13T19:07:21.782Z"
   },
   {
    "duration": 85,
    "start_time": "2023-04-13T19:07:21.805Z"
   },
   {
    "duration": 13,
    "start_time": "2023-04-13T19:07:21.892Z"
   },
   {
    "duration": 38,
    "start_time": "2023-04-13T19:07:21.907Z"
   },
   {
    "duration": 41,
    "start_time": "2023-04-13T19:07:21.947Z"
   },
   {
    "duration": 10,
    "start_time": "2023-04-13T19:07:21.989Z"
   },
   {
    "duration": 221,
    "start_time": "2023-04-13T19:07:22.001Z"
   },
   {
    "duration": 17,
    "start_time": "2023-04-13T19:07:22.224Z"
   },
   {
    "duration": 0,
    "start_time": "2023-04-13T19:07:22.243Z"
   },
   {
    "duration": 0,
    "start_time": "2023-04-13T19:07:22.245Z"
   },
   {
    "duration": 0,
    "start_time": "2023-04-13T19:07:22.246Z"
   },
   {
    "duration": 0,
    "start_time": "2023-04-13T19:07:22.247Z"
   },
   {
    "duration": 0,
    "start_time": "2023-04-13T19:07:22.248Z"
   },
   {
    "duration": 0,
    "start_time": "2023-04-13T19:07:22.249Z"
   },
   {
    "duration": 0,
    "start_time": "2023-04-13T19:07:22.250Z"
   },
   {
    "duration": 0,
    "start_time": "2023-04-13T19:07:22.251Z"
   },
   {
    "duration": 0,
    "start_time": "2023-04-13T19:07:22.253Z"
   },
   {
    "duration": 0,
    "start_time": "2023-04-13T19:07:22.253Z"
   },
   {
    "duration": 0,
    "start_time": "2023-04-13T19:07:22.255Z"
   },
   {
    "duration": 0,
    "start_time": "2023-04-13T19:07:22.256Z"
   },
   {
    "duration": 0,
    "start_time": "2023-04-13T19:07:22.256Z"
   },
   {
    "duration": 0,
    "start_time": "2023-04-13T19:07:22.258Z"
   },
   {
    "duration": 0,
    "start_time": "2023-04-13T19:07:22.259Z"
   },
   {
    "duration": 1,
    "start_time": "2023-04-13T19:07:22.260Z"
   },
   {
    "duration": 0,
    "start_time": "2023-04-13T19:07:22.262Z"
   },
   {
    "duration": 0,
    "start_time": "2023-04-13T19:07:22.263Z"
   },
   {
    "duration": 0,
    "start_time": "2023-04-13T19:07:22.263Z"
   },
   {
    "duration": 0,
    "start_time": "2023-04-13T19:07:22.265Z"
   },
   {
    "duration": 0,
    "start_time": "2023-04-13T19:07:22.266Z"
   },
   {
    "duration": 0,
    "start_time": "2023-04-13T19:07:22.267Z"
   },
   {
    "duration": 0,
    "start_time": "2023-04-13T19:07:22.268Z"
   },
   {
    "duration": 4,
    "start_time": "2023-04-13T19:08:32.296Z"
   },
   {
    "duration": 8,
    "start_time": "2023-04-13T19:08:32.303Z"
   },
   {
    "duration": 12,
    "start_time": "2023-04-13T19:08:32.312Z"
   },
   {
    "duration": 9,
    "start_time": "2023-04-13T19:08:32.326Z"
   },
   {
    "duration": 9,
    "start_time": "2023-04-13T19:08:32.337Z"
   },
   {
    "duration": 58,
    "start_time": "2023-04-13T19:08:32.348Z"
   },
   {
    "duration": 13,
    "start_time": "2023-04-13T19:08:32.407Z"
   },
   {
    "duration": 8,
    "start_time": "2023-04-13T19:08:32.422Z"
   },
   {
    "duration": 27,
    "start_time": "2023-04-13T19:08:32.432Z"
   },
   {
    "duration": 10,
    "start_time": "2023-04-13T19:08:32.461Z"
   },
   {
    "duration": 98,
    "start_time": "2023-04-13T19:08:32.473Z"
   },
   {
    "duration": 16,
    "start_time": "2023-04-13T19:08:32.573Z"
   },
   {
    "duration": 1632,
    "start_time": "2023-04-13T19:54:44.344Z"
   },
   {
    "duration": 4,
    "start_time": "2023-04-13T19:54:45.978Z"
   },
   {
    "duration": 9,
    "start_time": "2023-04-13T19:54:45.984Z"
   },
   {
    "duration": 14,
    "start_time": "2023-04-13T19:54:45.995Z"
   },
   {
    "duration": 7,
    "start_time": "2023-04-13T19:54:46.011Z"
   },
   {
    "duration": 191,
    "start_time": "2023-04-13T19:54:47.474Z"
   },
   {
    "duration": 12,
    "start_time": "2023-04-13T19:55:51.426Z"
   },
   {
    "duration": 8,
    "start_time": "2023-04-13T19:55:52.374Z"
   },
   {
    "duration": 7,
    "start_time": "2023-04-13T19:56:36.448Z"
   },
   {
    "duration": 5,
    "start_time": "2023-04-13T19:57:01.207Z"
   },
   {
    "duration": 26,
    "start_time": "2023-04-13T19:57:04.010Z"
   },
   {
    "duration": 10,
    "start_time": "2023-04-13T19:57:08.510Z"
   },
   {
    "duration": 327,
    "start_time": "2023-04-13T19:57:09.140Z"
   },
   {
    "duration": 133,
    "start_time": "2023-04-13T19:57:11.382Z"
   },
   {
    "duration": 1426112,
    "start_time": "2023-04-13T19:57:16.394Z"
   },
   {
    "duration": 175,
    "start_time": "2023-04-13T20:21:02.508Z"
   },
   {
    "duration": 3,
    "start_time": "2023-04-13T20:21:02.685Z"
   },
   {
    "duration": 19,
    "start_time": "2023-04-13T20:21:02.690Z"
   },
   {
    "duration": 34,
    "start_time": "2023-04-13T20:21:02.711Z"
   },
   {
    "duration": 41,
    "start_time": "2023-04-13T20:21:02.747Z"
   },
   {
    "duration": 17,
    "start_time": "2023-04-13T20:21:02.789Z"
   },
   {
    "duration": 29,
    "start_time": "2023-04-13T20:21:02.807Z"
   },
   {
    "duration": 22,
    "start_time": "2023-04-13T20:21:02.837Z"
   },
   {
    "duration": 11,
    "start_time": "2023-04-13T20:21:02.863Z"
   },
   {
    "duration": 19,
    "start_time": "2023-04-13T20:21:02.876Z"
   },
   {
    "duration": 23,
    "start_time": "2023-04-13T20:21:02.896Z"
   },
   {
    "duration": 41,
    "start_time": "2023-04-13T20:21:02.921Z"
   },
   {
    "duration": 7,
    "start_time": "2023-04-13T20:21:02.964Z"
   },
   {
    "duration": 17,
    "start_time": "2023-04-13T20:21:02.973Z"
   },
   {
    "duration": 12,
    "start_time": "2023-04-13T20:21:02.991Z"
   },
   {
    "duration": 10,
    "start_time": "2023-04-13T20:21:03.004Z"
   },
   {
    "duration": 1428,
    "start_time": "2023-04-13T20:21:03.015Z"
   },
   {
    "duration": 118,
    "start_time": "2023-04-13T20:21:04.534Z"
   },
   {
    "duration": 25,
    "start_time": "2023-04-13T20:21:04.653Z"
   },
   {
    "duration": 16,
    "start_time": "2023-04-13T20:21:04.680Z"
   },
   {
    "duration": 663,
    "start_time": "2023-04-13T20:21:04.697Z"
   },
   {
    "duration": 307,
    "start_time": "2023-04-13T20:21:05.571Z"
   },
   {
    "duration": 2230,
    "start_time": "2023-04-14T11:56:16.788Z"
   },
   {
    "duration": 4,
    "start_time": "2023-04-14T11:56:19.020Z"
   },
   {
    "duration": 60,
    "start_time": "2023-04-14T11:56:19.026Z"
   },
   {
    "duration": 11,
    "start_time": "2023-04-14T11:56:19.091Z"
   },
   {
    "duration": 13,
    "start_time": "2023-04-14T11:56:19.105Z"
   },
   {
    "duration": 100,
    "start_time": "2023-04-14T11:56:19.119Z"
   },
   {
    "duration": 12,
    "start_time": "2023-04-14T11:56:19.221Z"
   },
   {
    "duration": 31,
    "start_time": "2023-04-14T11:56:19.235Z"
   },
   {
    "duration": 26,
    "start_time": "2023-04-14T11:56:19.268Z"
   },
   {
    "duration": 40,
    "start_time": "2023-04-14T11:56:19.296Z"
   },
   {
    "duration": 30,
    "start_time": "2023-04-14T11:56:19.337Z"
   },
   {
    "duration": 514,
    "start_time": "2023-04-14T11:56:19.376Z"
   },
   {
    "duration": 216,
    "start_time": "2023-04-14T11:56:19.896Z"
   },
   {
    "duration": 1690094,
    "start_time": "2023-04-14T11:56:20.117Z"
   },
   {
    "duration": 187,
    "start_time": "2023-04-14T12:24:30.213Z"
   },
   {
    "duration": 5,
    "start_time": "2023-04-14T12:24:30.402Z"
   },
   {
    "duration": 24,
    "start_time": "2023-04-14T12:24:30.409Z"
   },
   {
    "duration": 49,
    "start_time": "2023-04-14T12:24:30.435Z"
   },
   {
    "duration": 39,
    "start_time": "2023-04-14T12:24:30.486Z"
   },
   {
    "duration": 50,
    "start_time": "2023-04-14T12:24:30.527Z"
   },
   {
    "duration": 44,
    "start_time": "2023-04-14T12:24:30.579Z"
   },
   {
    "duration": 48,
    "start_time": "2023-04-14T12:24:30.624Z"
   },
   {
    "duration": 46,
    "start_time": "2023-04-14T12:24:30.675Z"
   },
   {
    "duration": 91,
    "start_time": "2023-04-14T12:24:30.723Z"
   },
   {
    "duration": 56,
    "start_time": "2023-04-14T12:24:30.816Z"
   },
   {
    "duration": 67,
    "start_time": "2023-04-14T12:24:30.874Z"
   },
   {
    "duration": 46,
    "start_time": "2023-04-14T12:24:30.943Z"
   },
   {
    "duration": 34,
    "start_time": "2023-04-14T12:24:30.991Z"
   },
   {
    "duration": 69,
    "start_time": "2023-04-14T12:24:31.026Z"
   },
   {
    "duration": 42,
    "start_time": "2023-04-14T12:24:31.097Z"
   },
   {
    "duration": 8718,
    "start_time": "2023-04-14T12:24:31.141Z"
   },
   {
    "duration": 51,
    "start_time": "2023-04-14T12:24:39.866Z"
   },
   {
    "duration": 55,
    "start_time": "2023-04-14T12:24:39.948Z"
   },
   {
    "duration": 81,
    "start_time": "2023-04-14T12:24:40.004Z"
   },
   {
    "duration": 1291,
    "start_time": "2023-04-14T12:24:40.087Z"
   },
   {
    "duration": 207,
    "start_time": "2023-04-14T12:24:41.381Z"
   },
   {
    "duration": 1830,
    "start_time": "2023-04-15T20:45:50.032Z"
   },
   {
    "duration": 4,
    "start_time": "2023-04-15T20:45:51.864Z"
   },
   {
    "duration": 24,
    "start_time": "2023-04-15T20:45:51.870Z"
   },
   {
    "duration": 12,
    "start_time": "2023-04-15T20:45:51.897Z"
   },
   {
    "duration": 13,
    "start_time": "2023-04-15T20:45:51.911Z"
   },
   {
    "duration": 209,
    "start_time": "2023-04-15T20:45:52.276Z"
   },
   {
    "duration": 28,
    "start_time": "2023-04-15T20:45:55.228Z"
   },
   {
    "duration": 5,
    "start_time": "2023-04-15T20:45:56.116Z"
   },
   {
    "duration": 12,
    "start_time": "2023-04-15T20:45:57.671Z"
   },
   {
    "duration": 16,
    "start_time": "2023-04-15T20:45:58.630Z"
   },
   {
    "duration": 4,
    "start_time": "2023-04-15T20:45:59.956Z"
   },
   {
    "duration": 39,
    "start_time": "2023-04-15T20:46:13.183Z"
   },
   {
    "duration": 79,
    "start_time": "2023-04-15T20:49:00.613Z"
   },
   {
    "duration": 127,
    "start_time": "2023-04-15T20:50:10.574Z"
   },
   {
    "duration": 7,
    "start_time": "2023-04-15T20:50:12.929Z"
   },
   {
    "duration": 6,
    "start_time": "2023-04-15T20:50:13.172Z"
   },
   {
    "duration": 154,
    "start_time": "2023-04-15T20:50:13.440Z"
   },
   {
    "duration": 13,
    "start_time": "2023-04-15T20:50:34.817Z"
   },
   {
    "duration": 11,
    "start_time": "2023-04-15T20:50:35.025Z"
   },
   {
    "duration": 59,
    "start_time": "2023-04-15T20:50:48.604Z"
   },
   {
    "duration": 15,
    "start_time": "2023-04-15T20:50:49.122Z"
   },
   {
    "duration": 5,
    "start_time": "2023-04-15T20:50:49.301Z"
   },
   {
    "duration": 10,
    "start_time": "2023-04-15T20:50:49.667Z"
   },
   {
    "duration": 11,
    "start_time": "2023-04-15T20:50:50.058Z"
   },
   {
    "duration": 5,
    "start_time": "2023-04-15T20:50:50.224Z"
   },
   {
    "duration": 41,
    "start_time": "2023-04-15T20:50:51.032Z"
   },
   {
    "duration": 7,
    "start_time": "2023-04-15T20:50:54.510Z"
   },
   {
    "duration": 5,
    "start_time": "2023-04-15T20:50:55.124Z"
   },
   {
    "duration": 145,
    "start_time": "2023-04-15T20:50:58.469Z"
   },
   {
    "duration": 16,
    "start_time": "2023-04-15T20:51:10.917Z"
   },
   {
    "duration": 77,
    "start_time": "2023-04-15T20:51:30.018Z"
   },
   {
    "duration": 31,
    "start_time": "2023-04-15T20:51:30.530Z"
   },
   {
    "duration": 6,
    "start_time": "2023-04-15T20:51:30.711Z"
   },
   {
    "duration": 11,
    "start_time": "2023-04-15T20:51:31.056Z"
   },
   {
    "duration": 11,
    "start_time": "2023-04-15T20:51:31.404Z"
   },
   {
    "duration": 6,
    "start_time": "2023-04-15T20:51:31.603Z"
   },
   {
    "duration": 38,
    "start_time": "2023-04-15T20:51:32.978Z"
   },
   {
    "duration": 23,
    "start_time": "2023-04-15T20:51:38.260Z"
   },
   {
    "duration": 5,
    "start_time": "2023-04-15T20:52:09.634Z"
   },
   {
    "duration": 23,
    "start_time": "2023-04-15T20:52:09.642Z"
   },
   {
    "duration": 14,
    "start_time": "2023-04-15T20:52:09.667Z"
   },
   {
    "duration": 10,
    "start_time": "2023-04-15T20:52:09.685Z"
   },
   {
    "duration": 9,
    "start_time": "2023-04-15T20:52:09.698Z"
   },
   {
    "duration": 72,
    "start_time": "2023-04-15T20:52:09.709Z"
   },
   {
    "duration": 22,
    "start_time": "2023-04-15T20:52:09.783Z"
   },
   {
    "duration": 11,
    "start_time": "2023-04-15T20:52:09.808Z"
   },
   {
    "duration": 14,
    "start_time": "2023-04-15T20:52:09.822Z"
   },
   {
    "duration": 20,
    "start_time": "2023-04-15T20:52:09.844Z"
   },
   {
    "duration": 5,
    "start_time": "2023-04-15T20:52:09.866Z"
   },
   {
    "duration": 33,
    "start_time": "2023-04-15T20:52:09.874Z"
   },
   {
    "duration": 47,
    "start_time": "2023-04-15T20:52:09.908Z"
   },
   {
    "duration": 35,
    "start_time": "2023-04-15T20:52:16.044Z"
   },
   {
    "duration": 137,
    "start_time": "2023-04-15T20:52:34.377Z"
   },
   {
    "duration": 18,
    "start_time": "2023-04-15T20:54:49.131Z"
   },
   {
    "duration": 5,
    "start_time": "2023-04-15T20:55:05.134Z"
   },
   {
    "duration": 36,
    "start_time": "2023-04-15T20:55:05.141Z"
   },
   {
    "duration": 21,
    "start_time": "2023-04-15T20:55:05.179Z"
   },
   {
    "duration": 21,
    "start_time": "2023-04-15T20:55:05.202Z"
   },
   {
    "duration": 34,
    "start_time": "2023-04-15T20:55:05.226Z"
   },
   {
    "duration": 72,
    "start_time": "2023-04-15T20:55:05.262Z"
   },
   {
    "duration": 18,
    "start_time": "2023-04-15T20:55:05.336Z"
   },
   {
    "duration": 14,
    "start_time": "2023-04-15T20:55:05.356Z"
   },
   {
    "duration": 15,
    "start_time": "2023-04-15T20:55:05.373Z"
   },
   {
    "duration": 22,
    "start_time": "2023-04-15T20:55:05.390Z"
   },
   {
    "duration": 8,
    "start_time": "2023-04-15T20:55:05.414Z"
   },
   {
    "duration": 76,
    "start_time": "2023-04-15T20:55:05.424Z"
   },
   {
    "duration": 14,
    "start_time": "2023-04-15T20:55:05.502Z"
   },
   {
    "duration": 19,
    "start_time": "2023-04-15T20:56:01.710Z"
   },
   {
    "duration": 5,
    "start_time": "2023-04-15T20:56:12.629Z"
   },
   {
    "duration": 11,
    "start_time": "2023-04-15T20:56:12.637Z"
   },
   {
    "duration": 14,
    "start_time": "2023-04-15T20:56:12.652Z"
   },
   {
    "duration": 10,
    "start_time": "2023-04-15T20:56:12.668Z"
   },
   {
    "duration": 204,
    "start_time": "2023-04-15T20:56:12.680Z"
   },
   {
    "duration": 72,
    "start_time": "2023-04-15T20:56:12.887Z"
   },
   {
    "duration": 15,
    "start_time": "2023-04-15T20:56:12.962Z"
   },
   {
    "duration": 8,
    "start_time": "2023-04-15T20:56:12.979Z"
   },
   {
    "duration": 16,
    "start_time": "2023-04-15T20:56:12.988Z"
   },
   {
    "duration": 9,
    "start_time": "2023-04-15T20:56:13.006Z"
   },
   {
    "duration": 39,
    "start_time": "2023-04-15T20:56:13.017Z"
   },
   {
    "duration": 28,
    "start_time": "2023-04-15T20:56:13.058Z"
   },
   {
    "duration": 18,
    "start_time": "2023-04-15T20:56:13.088Z"
   },
   {
    "duration": 24,
    "start_time": "2023-04-15T20:56:27.632Z"
   },
   {
    "duration": 31,
    "start_time": "2023-04-15T20:56:38.359Z"
   },
   {
    "duration": 7,
    "start_time": "2023-04-15T20:56:44.479Z"
   },
   {
    "duration": 9,
    "start_time": "2023-04-15T20:56:48.571Z"
   },
   {
    "duration": 25,
    "start_time": "2023-04-15T20:57:04.547Z"
   },
   {
    "duration": 9,
    "start_time": "2023-04-15T20:57:21.424Z"
   },
   {
    "duration": 135,
    "start_time": "2023-04-15T20:57:23.158Z"
   },
   {
    "duration": 5,
    "start_time": "2023-04-15T20:57:37.633Z"
   },
   {
    "duration": 4,
    "start_time": "2023-04-15T20:57:45.770Z"
   },
   {
    "duration": 257,
    "start_time": "2023-04-15T20:58:27.021Z"
   },
   {
    "duration": 4,
    "start_time": "2023-04-15T20:58:36.469Z"
   },
   {
    "duration": 10,
    "start_time": "2023-04-15T20:58:36.476Z"
   },
   {
    "duration": 9,
    "start_time": "2023-04-15T20:58:36.487Z"
   },
   {
    "duration": 31,
    "start_time": "2023-04-15T20:58:36.499Z"
   },
   {
    "duration": 28,
    "start_time": "2023-04-15T20:58:36.533Z"
   },
   {
    "duration": 74,
    "start_time": "2023-04-15T20:58:36.563Z"
   },
   {
    "duration": 18,
    "start_time": "2023-04-15T20:58:36.639Z"
   },
   {
    "duration": 17,
    "start_time": "2023-04-15T20:58:36.660Z"
   },
   {
    "duration": 22,
    "start_time": "2023-04-15T20:58:36.680Z"
   },
   {
    "duration": 34,
    "start_time": "2023-04-15T20:58:36.704Z"
   },
   {
    "duration": 28,
    "start_time": "2023-04-15T20:58:36.740Z"
   },
   {
    "duration": 32,
    "start_time": "2023-04-15T20:58:36.771Z"
   },
   {
    "duration": 7,
    "start_time": "2023-04-15T20:58:36.804Z"
   },
   {
    "duration": 6,
    "start_time": "2023-04-15T20:58:36.813Z"
   },
   {
    "duration": 9,
    "start_time": "2023-04-15T20:58:36.820Z"
   },
   {
    "duration": 14,
    "start_time": "2023-04-15T20:58:36.844Z"
   },
   {
    "duration": 128,
    "start_time": "2023-04-15T20:58:38.268Z"
   },
   {
    "duration": 85,
    "start_time": "2023-04-15T20:59:56.837Z"
   },
   {
    "duration": 82,
    "start_time": "2023-04-15T21:00:40.022Z"
   },
   {
    "duration": 40,
    "start_time": "2023-04-15T21:02:33.136Z"
   },
   {
    "duration": 16,
    "start_time": "2023-04-15T21:12:13.041Z"
   },
   {
    "duration": 21,
    "start_time": "2023-04-15T21:12:53.673Z"
   },
   {
    "duration": 8,
    "start_time": "2023-04-15T21:13:13.920Z"
   },
   {
    "duration": 55,
    "start_time": "2023-04-15T21:13:20.881Z"
   },
   {
    "duration": 14,
    "start_time": "2023-04-15T21:13:22.366Z"
   },
   {
    "duration": 4,
    "start_time": "2023-04-15T21:13:24.010Z"
   },
   {
    "duration": 9,
    "start_time": "2023-04-15T21:13:26.367Z"
   },
   {
    "duration": 8,
    "start_time": "2023-04-15T21:13:29.868Z"
   },
   {
    "duration": 13,
    "start_time": "2023-04-15T21:13:30.240Z"
   },
   {
    "duration": 8,
    "start_time": "2023-04-15T21:13:31.811Z"
   },
   {
    "duration": 28,
    "start_time": "2023-04-15T21:13:39.865Z"
   },
   {
    "duration": 8,
    "start_time": "2023-04-15T21:13:42.519Z"
   },
   {
    "duration": 74,
    "start_time": "2023-04-15T21:14:04.530Z"
   },
   {
    "duration": 31,
    "start_time": "2023-04-15T21:14:06.264Z"
   },
   {
    "duration": 7,
    "start_time": "2023-04-15T21:14:07.931Z"
   },
   {
    "duration": 11,
    "start_time": "2023-04-15T21:14:08.883Z"
   },
   {
    "duration": 10,
    "start_time": "2023-04-15T21:14:11.115Z"
   },
   {
    "duration": 4,
    "start_time": "2023-04-15T21:14:12.267Z"
   },
   {
    "duration": 13,
    "start_time": "2023-04-15T21:14:22.812Z"
   },
   {
    "duration": 8,
    "start_time": "2023-04-15T21:14:42.526Z"
   },
   {
    "duration": 26,
    "start_time": "2023-04-15T21:15:18.869Z"
   },
   {
    "duration": 9,
    "start_time": "2023-04-15T21:15:23.220Z"
   },
   {
    "duration": 14,
    "start_time": "2023-04-15T21:15:48.143Z"
   },
   {
    "duration": 8,
    "start_time": "2023-04-15T21:15:48.462Z"
   },
   {
    "duration": 16,
    "start_time": "2023-04-15T21:15:52.466Z"
   },
   {
    "duration": 24,
    "start_time": "2023-04-15T21:15:56.981Z"
   },
   {
    "duration": 8,
    "start_time": "2023-04-15T21:15:59.832Z"
   },
   {
    "duration": 4,
    "start_time": "2023-04-15T21:23:04.522Z"
   },
   {
    "duration": 57,
    "start_time": "2023-04-15T21:28:58.770Z"
   },
   {
    "duration": 30,
    "start_time": "2023-04-15T21:29:01.371Z"
   },
   {
    "duration": 9,
    "start_time": "2023-04-15T21:29:03.776Z"
   },
   {
    "duration": 8,
    "start_time": "2023-04-15T21:29:05.108Z"
   },
   {
    "duration": 8,
    "start_time": "2023-04-15T21:29:08.813Z"
   },
   {
    "duration": 7,
    "start_time": "2023-04-15T21:29:09.270Z"
   },
   {
    "duration": 15,
    "start_time": "2023-04-15T21:29:14.387Z"
   },
   {
    "duration": 20,
    "start_time": "2023-04-15T21:31:02.680Z"
   },
   {
    "duration": 19,
    "start_time": "2023-04-15T21:31:40.605Z"
   },
   {
    "duration": 25,
    "start_time": "2023-04-15T21:34:27.030Z"
   },
   {
    "duration": 31,
    "start_time": "2023-04-15T21:34:31.535Z"
   },
   {
    "duration": 33,
    "start_time": "2023-04-15T21:35:25.979Z"
   },
   {
    "duration": 48,
    "start_time": "2023-04-15T21:36:05.436Z"
   },
   {
    "duration": 32,
    "start_time": "2023-04-15T21:36:38.965Z"
   },
   {
    "duration": 11,
    "start_time": "2023-04-15T21:36:41.407Z"
   },
   {
    "duration": 15,
    "start_time": "2023-04-15T21:37:47.271Z"
   },
   {
    "duration": 20,
    "start_time": "2023-04-15T21:37:50.373Z"
   },
   {
    "duration": 21,
    "start_time": "2023-04-15T21:37:58.470Z"
   },
   {
    "duration": 10,
    "start_time": "2023-04-15T21:38:01.169Z"
   },
   {
    "duration": 33,
    "start_time": "2023-04-15T21:39:00.546Z"
   },
   {
    "duration": 21,
    "start_time": "2023-04-15T21:39:18.784Z"
   },
   {
    "duration": 44,
    "start_time": "2023-04-15T21:40:50.208Z"
   },
   {
    "duration": 59,
    "start_time": "2023-04-15T21:40:56.018Z"
   },
   {
    "duration": 39,
    "start_time": "2023-04-15T21:45:04.969Z"
   },
   {
    "duration": 57,
    "start_time": "2023-04-15T21:45:55.907Z"
   },
   {
    "duration": 31,
    "start_time": "2023-04-15T21:46:12.953Z"
   },
   {
    "duration": 61,
    "start_time": "2023-04-15T21:46:19.656Z"
   },
   {
    "duration": 29,
    "start_time": "2023-04-15T21:51:51.702Z"
   },
   {
    "duration": 70,
    "start_time": "2023-04-15T21:52:08.010Z"
   },
   {
    "duration": 14,
    "start_time": "2023-04-15T21:52:09.490Z"
   },
   {
    "duration": 10,
    "start_time": "2023-04-15T21:52:09.770Z"
   },
   {
    "duration": 7,
    "start_time": "2023-04-15T21:52:12.127Z"
   },
   {
    "duration": 27,
    "start_time": "2023-04-15T21:52:13.245Z"
   },
   {
    "duration": 55,
    "start_time": "2023-04-15T21:52:30.620Z"
   },
   {
    "duration": 32,
    "start_time": "2023-04-15T21:52:31.892Z"
   },
   {
    "duration": 86,
    "start_time": "2023-04-15T21:53:45.322Z"
   },
   {
    "duration": 25,
    "start_time": "2023-04-15T21:53:46.165Z"
   },
   {
    "duration": 17,
    "start_time": "2023-04-15T21:53:46.580Z"
   },
   {
    "duration": 8,
    "start_time": "2023-04-15T21:53:48.090Z"
   },
   {
    "duration": 9,
    "start_time": "2023-04-15T21:53:50.386Z"
   },
   {
    "duration": 5,
    "start_time": "2023-04-15T21:53:50.915Z"
   },
   {
    "duration": 8,
    "start_time": "2023-04-15T21:53:52.293Z"
   },
   {
    "duration": 23,
    "start_time": "2023-04-15T21:55:38.166Z"
   },
   {
    "duration": 13,
    "start_time": "2023-04-15T21:55:38.195Z"
   },
   {
    "duration": 9,
    "start_time": "2023-04-15T21:55:38.209Z"
   },
   {
    "duration": 13,
    "start_time": "2023-04-15T21:55:38.220Z"
   },
   {
    "duration": 72,
    "start_time": "2023-04-15T21:55:38.235Z"
   },
   {
    "duration": 105,
    "start_time": "2023-04-15T21:55:38.309Z"
   },
   {
    "duration": 13,
    "start_time": "2023-04-15T21:55:38.418Z"
   },
   {
    "duration": 32,
    "start_time": "2023-04-15T21:55:38.433Z"
   },
   {
    "duration": 34,
    "start_time": "2023-04-15T21:55:38.482Z"
   },
   {
    "duration": 8,
    "start_time": "2023-04-15T21:55:38.518Z"
   },
   {
    "duration": 5,
    "start_time": "2023-04-15T21:55:38.528Z"
   },
   {
    "duration": 69,
    "start_time": "2023-04-15T21:55:38.535Z"
   },
   {
    "duration": 4,
    "start_time": "2023-04-15T21:55:38.607Z"
   },
   {
    "duration": 14,
    "start_time": "2023-04-15T21:55:42.121Z"
   },
   {
    "duration": 45,
    "start_time": "2023-04-15T21:56:36.141Z"
   },
   {
    "duration": 12,
    "start_time": "2023-04-15T21:56:47.396Z"
   },
   {
    "duration": 5,
    "start_time": "2023-04-15T21:57:59.522Z"
   },
   {
    "duration": 64,
    "start_time": "2023-04-15T21:57:59.529Z"
   },
   {
    "duration": 26,
    "start_time": "2023-04-15T21:57:59.595Z"
   },
   {
    "duration": 88,
    "start_time": "2023-04-15T21:57:59.624Z"
   },
   {
    "duration": 7,
    "start_time": "2023-04-15T21:57:59.714Z"
   },
   {
    "duration": 154,
    "start_time": "2023-04-15T21:57:59.723Z"
   },
   {
    "duration": 30,
    "start_time": "2023-04-15T21:57:59.879Z"
   },
   {
    "duration": 12,
    "start_time": "2023-04-15T21:57:59.912Z"
   },
   {
    "duration": 12,
    "start_time": "2023-04-15T21:57:59.926Z"
   },
   {
    "duration": 72,
    "start_time": "2023-04-15T21:57:59.941Z"
   },
   {
    "duration": 17,
    "start_time": "2023-04-15T21:58:00.015Z"
   },
   {
    "duration": 70,
    "start_time": "2023-04-15T21:58:00.034Z"
   },
   {
    "duration": 58,
    "start_time": "2023-04-15T21:58:00.106Z"
   },
   {
    "duration": 16,
    "start_time": "2023-04-15T21:58:00.166Z"
   },
   {
    "duration": 93,
    "start_time": "2023-04-15T21:58:01.792Z"
   },
   {
    "duration": 60,
    "start_time": "2023-04-15T21:58:06.066Z"
   },
   {
    "duration": 35,
    "start_time": "2023-04-15T21:58:12.073Z"
   },
   {
    "duration": 200,
    "start_time": "2023-04-15T21:58:46.095Z"
   },
   {
    "duration": 5,
    "start_time": "2023-04-15T22:00:05.022Z"
   },
   {
    "duration": 16,
    "start_time": "2023-04-15T22:00:16.359Z"
   },
   {
    "duration": 70,
    "start_time": "2023-04-15T22:00:16.378Z"
   },
   {
    "duration": 68,
    "start_time": "2023-04-15T22:00:16.451Z"
   },
   {
    "duration": 11,
    "start_time": "2023-04-15T22:00:16.522Z"
   },
   {
    "duration": 90,
    "start_time": "2023-04-15T22:00:16.536Z"
   },
   {
    "duration": 106,
    "start_time": "2023-04-15T22:00:16.628Z"
   },
   {
    "duration": 19,
    "start_time": "2023-04-15T22:00:16.737Z"
   },
   {
    "duration": 60,
    "start_time": "2023-04-15T22:00:16.758Z"
   },
   {
    "duration": 14,
    "start_time": "2023-04-15T22:00:16.820Z"
   },
   {
    "duration": 27,
    "start_time": "2023-04-15T22:00:16.836Z"
   },
   {
    "duration": 52,
    "start_time": "2023-04-15T22:00:16.865Z"
   },
   {
    "duration": 17,
    "start_time": "2023-04-15T22:00:16.919Z"
   },
   {
    "duration": 96,
    "start_time": "2023-04-15T22:00:16.938Z"
   },
   {
    "duration": 15,
    "start_time": "2023-04-15T22:00:17.037Z"
   },
   {
    "duration": 151,
    "start_time": "2023-04-15T22:00:17.063Z"
   },
   {
    "duration": 31,
    "start_time": "2023-04-15T22:00:23.105Z"
   },
   {
    "duration": 11,
    "start_time": "2023-04-15T22:00:38.363Z"
   },
   {
    "duration": 52,
    "start_time": "2023-04-15T22:00:42.417Z"
   },
   {
    "duration": 40,
    "start_time": "2023-04-15T22:01:06.872Z"
   },
   {
    "duration": 53,
    "start_time": "2023-04-15T22:01:39.147Z"
   },
   {
    "duration": 23,
    "start_time": "2023-04-15T22:02:08.295Z"
   },
   {
    "duration": 9,
    "start_time": "2023-04-15T22:02:52.883Z"
   },
   {
    "duration": 20,
    "start_time": "2023-04-15T22:03:45.370Z"
   },
   {
    "duration": 19,
    "start_time": "2023-04-15T22:03:45.393Z"
   },
   {
    "duration": 14,
    "start_time": "2023-04-15T22:03:45.414Z"
   },
   {
    "duration": 74,
    "start_time": "2023-04-15T22:03:45.431Z"
   },
   {
    "duration": 10,
    "start_time": "2023-04-15T22:03:45.507Z"
   },
   {
    "duration": 95,
    "start_time": "2023-04-15T22:03:45.518Z"
   },
   {
    "duration": 14,
    "start_time": "2023-04-15T22:03:45.615Z"
   },
   {
    "duration": 9,
    "start_time": "2023-04-15T22:03:45.631Z"
   },
   {
    "duration": 69,
    "start_time": "2023-04-15T22:03:45.642Z"
   },
   {
    "duration": 47,
    "start_time": "2023-04-15T22:03:48.433Z"
   },
   {
    "duration": 19,
    "start_time": "2023-04-15T22:03:50.258Z"
   },
   {
    "duration": 6,
    "start_time": "2023-04-15T22:03:53.696Z"
   },
   {
    "duration": 12,
    "start_time": "2023-04-15T22:04:02.309Z"
   },
   {
    "duration": 27,
    "start_time": "2023-04-15T22:04:42.207Z"
   },
   {
    "duration": 9,
    "start_time": "2023-04-15T22:04:53.718Z"
   },
   {
    "duration": 28,
    "start_time": "2023-04-15T22:04:55.937Z"
   },
   {
    "duration": 8,
    "start_time": "2023-04-15T22:05:01.924Z"
   },
   {
    "duration": 8,
    "start_time": "2023-04-15T22:05:03.182Z"
   },
   {
    "duration": 41,
    "start_time": "2023-04-15T22:05:29.276Z"
   },
   {
    "duration": 14,
    "start_time": "2023-04-15T22:05:32.994Z"
   },
   {
    "duration": 5,
    "start_time": "2023-04-15T22:06:51.605Z"
   },
   {
    "duration": 6,
    "start_time": "2023-04-15T22:06:51.789Z"
   },
   {
    "duration": 7,
    "start_time": "2023-04-15T22:06:51.999Z"
   },
   {
    "duration": 4,
    "start_time": "2023-04-15T22:06:52.207Z"
   },
   {
    "duration": 5,
    "start_time": "2023-04-15T22:06:54.610Z"
   },
   {
    "duration": 95,
    "start_time": "2023-04-15T22:06:56.416Z"
   },
   {
    "duration": 14,
    "start_time": "2023-04-15T22:06:59.324Z"
   },
   {
    "duration": 9,
    "start_time": "2023-04-15T22:06:59.940Z"
   },
   {
    "duration": 10,
    "start_time": "2023-04-15T22:07:02.501Z"
   },
   {
    "duration": 8,
    "start_time": "2023-04-15T22:08:28.595Z"
   },
   {
    "duration": 16,
    "start_time": "2023-04-15T22:08:28.605Z"
   },
   {
    "duration": 9,
    "start_time": "2023-04-15T22:08:28.622Z"
   },
   {
    "duration": 43,
    "start_time": "2023-04-15T22:08:28.633Z"
   },
   {
    "duration": 36,
    "start_time": "2023-04-15T22:08:28.678Z"
   },
   {
    "duration": 91,
    "start_time": "2023-04-15T22:08:28.716Z"
   },
   {
    "duration": 14,
    "start_time": "2023-04-15T22:08:28.809Z"
   },
   {
    "duration": 21,
    "start_time": "2023-04-15T22:08:28.825Z"
   },
   {
    "duration": 66,
    "start_time": "2023-04-15T22:08:28.847Z"
   },
   {
    "duration": 11,
    "start_time": "2023-04-15T22:08:30.978Z"
   },
   {
    "duration": 4,
    "start_time": "2023-04-15T22:08:31.603Z"
   },
   {
    "duration": 25,
    "start_time": "2023-04-15T22:08:36.409Z"
   },
   {
    "duration": 12,
    "start_time": "2023-04-15T22:08:39.372Z"
   },
   {
    "duration": 56,
    "start_time": "2023-04-15T22:08:57.764Z"
   },
   {
    "duration": 427,
    "start_time": "2023-04-15T22:09:02.571Z"
   },
   {
    "duration": 188,
    "start_time": "2023-04-15T22:09:05.301Z"
   },
   {
    "duration": 743,
    "start_time": "2023-04-15T22:09:15.107Z"
   },
   {
    "duration": 119847,
    "start_time": "2023-04-15T22:09:29.400Z"
   },
   {
    "duration": 300,
    "start_time": "2023-04-15T22:13:05.223Z"
   },
   {
    "duration": 6,
    "start_time": "2023-04-15T22:13:33.763Z"
   },
   {
    "duration": 5,
    "start_time": "2023-04-15T22:31:42.992Z"
   },
   {
    "duration": 7,
    "start_time": "2023-04-15T22:31:42.999Z"
   },
   {
    "duration": 19,
    "start_time": "2023-04-15T22:31:43.008Z"
   },
   {
    "duration": 43,
    "start_time": "2023-04-15T22:31:43.028Z"
   },
   {
    "duration": 27,
    "start_time": "2023-04-15T22:31:43.074Z"
   },
   {
    "duration": 90,
    "start_time": "2023-04-15T22:31:43.103Z"
   },
   {
    "duration": 15,
    "start_time": "2023-04-15T22:31:43.198Z"
   },
   {
    "duration": 15,
    "start_time": "2023-04-15T22:31:43.215Z"
   },
   {
    "duration": 73,
    "start_time": "2023-04-15T22:31:43.232Z"
   },
   {
    "duration": 20,
    "start_time": "2023-04-15T22:31:43.308Z"
   },
   {
    "duration": 10,
    "start_time": "2023-04-15T22:31:43.330Z"
   },
   {
    "duration": 45,
    "start_time": "2023-04-15T22:31:43.360Z"
   },
   {
    "duration": 27,
    "start_time": "2023-04-15T22:31:43.407Z"
   },
   {
    "duration": 12,
    "start_time": "2023-04-15T22:31:43.437Z"
   },
   {
    "duration": 159,
    "start_time": "2023-04-15T22:31:43.453Z"
   },
   {
    "duration": 38,
    "start_time": "2023-04-15T22:31:43.614Z"
   },
   {
    "duration": 400,
    "start_time": "2023-04-15T22:31:43.655Z"
   },
   {
    "duration": 179,
    "start_time": "2023-04-15T22:31:44.058Z"
   },
   {
    "duration": 1640930,
    "start_time": "2023-04-15T22:31:44.239Z"
   },
   {
    "duration": 212,
    "start_time": "2023-04-15T22:59:05.171Z"
   },
   {
    "duration": 4,
    "start_time": "2023-04-15T22:59:05.385Z"
   },
   {
    "duration": 772,
    "start_time": "2023-04-15T22:59:05.391Z"
   },
   {
    "duration": 116696,
    "start_time": "2023-04-15T22:59:06.165Z"
   },
   {
    "duration": 477,
    "start_time": "2023-04-15T23:01:02.871Z"
   },
   {
    "duration": 7,
    "start_time": "2023-04-15T23:01:03.350Z"
   },
   {
    "duration": 28,
    "start_time": "2023-04-15T23:01:03.359Z"
   },
   {
    "duration": 19,
    "start_time": "2023-04-15T23:01:03.389Z"
   },
   {
    "duration": 24,
    "start_time": "2023-04-15T23:01:03.410Z"
   },
   {
    "duration": 39,
    "start_time": "2023-04-15T23:01:03.436Z"
   },
   {
    "duration": 22,
    "start_time": "2023-04-15T23:01:03.477Z"
   },
   {
    "duration": 20,
    "start_time": "2023-04-15T23:01:03.501Z"
   },
   {
    "duration": 23,
    "start_time": "2023-04-15T23:01:03.523Z"
   },
   {
    "duration": 11,
    "start_time": "2023-04-15T23:01:03.549Z"
   },
   {
    "duration": 46,
    "start_time": "2023-04-15T23:01:03.562Z"
   },
   {
    "duration": 0,
    "start_time": "2023-04-15T23:01:03.610Z"
   },
   {
    "duration": 0,
    "start_time": "2023-04-15T23:01:03.611Z"
   },
   {
    "duration": 0,
    "start_time": "2023-04-15T23:01:03.612Z"
   },
   {
    "duration": 0,
    "start_time": "2023-04-15T23:01:03.613Z"
   },
   {
    "duration": 0,
    "start_time": "2023-04-15T23:01:03.615Z"
   },
   {
    "duration": 0,
    "start_time": "2023-04-15T23:01:03.616Z"
   },
   {
    "duration": 0,
    "start_time": "2023-04-15T23:01:03.617Z"
   },
   {
    "duration": 0,
    "start_time": "2023-04-15T23:01:03.732Z"
   },
   {
    "duration": 0,
    "start_time": "2023-04-15T23:01:03.733Z"
   },
   {
    "duration": 0,
    "start_time": "2023-04-15T23:01:03.741Z"
   },
   {
    "duration": 0,
    "start_time": "2023-04-15T23:01:03.743Z"
   },
   {
    "duration": 0,
    "start_time": "2023-04-15T23:01:03.743Z"
   },
   {
    "duration": 0,
    "start_time": "2023-04-15T23:01:03.744Z"
   },
   {
    "duration": 0,
    "start_time": "2023-04-15T23:01:03.746Z"
   },
   {
    "duration": 291,
    "start_time": "2023-04-15T23:03:02.999Z"
   },
   {
    "duration": 9,
    "start_time": "2023-04-15T23:03:04.138Z"
   },
   {
    "duration": 7,
    "start_time": "2023-04-15T23:03:08.478Z"
   },
   {
    "duration": 11,
    "start_time": "2023-04-15T23:03:11.358Z"
   },
   {
    "duration": 5,
    "start_time": "2023-04-15T23:03:13.921Z"
   },
   {
    "duration": 5,
    "start_time": "2023-04-15T23:03:14.525Z"
   },
   {
    "duration": 13,
    "start_time": "2023-04-15T23:03:37.044Z"
   },
   {
    "duration": 14,
    "start_time": "2023-04-15T23:03:37.236Z"
   },
   {
    "duration": 11,
    "start_time": "2023-04-15T23:03:37.439Z"
   },
   {
    "duration": 6,
    "start_time": "2023-04-15T23:03:38.275Z"
   },
   {
    "duration": 6,
    "start_time": "2023-04-15T23:03:48.125Z"
   },
   {
    "duration": 18,
    "start_time": "2023-04-15T23:03:49.741Z"
   },
   {
    "duration": 8,
    "start_time": "2023-04-15T23:03:50.287Z"
   },
   {
    "duration": 7,
    "start_time": "2023-04-15T23:03:55.998Z"
   },
   {
    "duration": 25,
    "start_time": "2023-04-15T23:04:05.928Z"
   },
   {
    "duration": 14,
    "start_time": "2023-04-15T23:04:06.110Z"
   },
   {
    "duration": 3,
    "start_time": "2023-04-15T23:04:06.312Z"
   },
   {
    "duration": 23,
    "start_time": "2023-04-15T23:04:06.536Z"
   },
   {
    "duration": 27,
    "start_time": "2023-04-15T23:04:06.744Z"
   },
   {
    "duration": 7,
    "start_time": "2023-04-15T23:04:06.924Z"
   },
   {
    "duration": 7,
    "start_time": "2023-04-15T23:04:08.100Z"
   },
   {
    "duration": 28,
    "start_time": "2023-04-15T23:04:12.394Z"
   },
   {
    "duration": 323096,
    "start_time": "2023-04-15T23:04:27.120Z"
   },
   {
    "duration": 0,
    "start_time": "2023-04-15T23:09:50.219Z"
   },
   {
    "duration": 0,
    "start_time": "2023-04-15T23:09:50.220Z"
   },
   {
    "duration": 0,
    "start_time": "2023-04-15T23:09:50.221Z"
   },
   {
    "duration": 0,
    "start_time": "2023-04-15T23:09:50.222Z"
   },
   {
    "duration": 0,
    "start_time": "2023-04-15T23:09:50.223Z"
   },
   {
    "duration": 0,
    "start_time": "2023-04-15T23:09:50.224Z"
   },
   {
    "duration": 0,
    "start_time": "2023-04-15T23:09:50.225Z"
   },
   {
    "duration": 0,
    "start_time": "2023-04-15T23:09:50.227Z"
   },
   {
    "duration": 0,
    "start_time": "2023-04-15T23:09:50.228Z"
   },
   {
    "duration": 553,
    "start_time": "2023-04-15T23:10:01.121Z"
   },
   {
    "duration": 232,
    "start_time": "2023-04-15T23:10:06.363Z"
   },
   {
    "duration": 312,
    "start_time": "2023-04-15T23:10:42.701Z"
   },
   {
    "duration": 354,
    "start_time": "2023-04-15T23:10:48.213Z"
   },
   {
    "duration": 711,
    "start_time": "2023-04-15T23:11:04.164Z"
   },
   {
    "duration": 414,
    "start_time": "2023-04-15T23:11:23.370Z"
   },
   {
    "duration": 305,
    "start_time": "2023-04-15T23:11:28.467Z"
   },
   {
    "duration": 32,
    "start_time": "2023-04-15T23:11:46.289Z"
   },
   {
    "duration": 1094,
    "start_time": "2023-04-15T23:11:46.659Z"
   },
   {
    "duration": 611,
    "start_time": "2023-04-15T23:11:47.762Z"
   },
   {
    "duration": 13,
    "start_time": "2023-04-15T23:12:11.815Z"
   },
   {
    "duration": 644,
    "start_time": "2023-04-15T23:12:23.874Z"
   },
   {
    "duration": 234,
    "start_time": "2023-04-15T23:13:08.827Z"
   },
   {
    "duration": 303,
    "start_time": "2023-04-15T23:18:05.709Z"
   },
   {
    "duration": 504,
    "start_time": "2023-04-15T23:24:44.263Z"
   },
   {
    "duration": 711,
    "start_time": "2023-04-15T23:24:45.656Z"
   },
   {
    "duration": 243,
    "start_time": "2023-04-15T23:25:10.520Z"
   },
   {
    "duration": 6362,
    "start_time": "2023-04-15T23:26:44.135Z"
   },
   {
    "duration": 6,
    "start_time": "2023-04-15T23:26:58.456Z"
   },
   {
    "duration": 8,
    "start_time": "2023-04-15T23:26:58.464Z"
   },
   {
    "duration": 6,
    "start_time": "2023-04-15T23:26:58.474Z"
   },
   {
    "duration": 12,
    "start_time": "2023-04-15T23:26:58.482Z"
   },
   {
    "duration": 24,
    "start_time": "2023-04-15T23:26:58.495Z"
   },
   {
    "duration": 66,
    "start_time": "2023-04-15T23:26:58.521Z"
   },
   {
    "duration": 14,
    "start_time": "2023-04-15T23:26:58.589Z"
   },
   {
    "duration": 22,
    "start_time": "2023-04-15T23:26:58.605Z"
   },
   {
    "duration": 27,
    "start_time": "2023-04-15T23:26:58.629Z"
   },
   {
    "duration": 27,
    "start_time": "2023-04-15T23:26:58.659Z"
   },
   {
    "duration": 20,
    "start_time": "2023-04-15T23:26:58.688Z"
   },
   {
    "duration": 50,
    "start_time": "2023-04-15T23:26:58.710Z"
   },
   {
    "duration": 35,
    "start_time": "2023-04-15T23:26:58.762Z"
   },
   {
    "duration": 10,
    "start_time": "2023-04-15T23:26:58.799Z"
   },
   {
    "duration": 106,
    "start_time": "2023-04-15T23:26:58.811Z"
   },
   {
    "duration": 41,
    "start_time": "2023-04-15T23:26:58.919Z"
   },
   {
    "duration": 391,
    "start_time": "2023-04-15T23:26:58.962Z"
   },
   {
    "duration": 147,
    "start_time": "2023-04-15T23:26:59.356Z"
   },
   {
    "duration": 22,
    "start_time": "2023-04-15T23:28:54.982Z"
   },
   {
    "duration": 0,
    "start_time": "2023-04-15T23:28:55.007Z"
   },
   {
    "duration": 0,
    "start_time": "2023-04-15T23:28:55.008Z"
   },
   {
    "duration": 0,
    "start_time": "2023-04-15T23:28:55.009Z"
   },
   {
    "duration": 0,
    "start_time": "2023-04-15T23:28:55.011Z"
   },
   {
    "duration": 0,
    "start_time": "2023-04-15T23:28:55.012Z"
   },
   {
    "duration": 0,
    "start_time": "2023-04-15T23:28:55.013Z"
   },
   {
    "duration": 0,
    "start_time": "2023-04-15T23:28:55.014Z"
   },
   {
    "duration": 0,
    "start_time": "2023-04-15T23:28:55.015Z"
   },
   {
    "duration": 0,
    "start_time": "2023-04-15T23:28:55.016Z"
   },
   {
    "duration": 0,
    "start_time": "2023-04-15T23:28:55.017Z"
   },
   {
    "duration": 0,
    "start_time": "2023-04-15T23:28:55.018Z"
   },
   {
    "duration": 0,
    "start_time": "2023-04-15T23:28:55.019Z"
   },
   {
    "duration": 0,
    "start_time": "2023-04-15T23:28:55.019Z"
   },
   {
    "duration": 0,
    "start_time": "2023-04-15T23:28:55.020Z"
   },
   {
    "duration": 0,
    "start_time": "2023-04-15T23:28:55.041Z"
   },
   {
    "duration": 0,
    "start_time": "2023-04-15T23:28:55.051Z"
   },
   {
    "duration": 0,
    "start_time": "2023-04-15T23:28:55.054Z"
   },
   {
    "duration": 0,
    "start_time": "2023-04-15T23:28:55.055Z"
   },
   {
    "duration": 0,
    "start_time": "2023-04-15T23:28:55.056Z"
   },
   {
    "duration": 0,
    "start_time": "2023-04-15T23:28:55.057Z"
   },
   {
    "duration": 0,
    "start_time": "2023-04-15T23:28:55.058Z"
   },
   {
    "duration": 0,
    "start_time": "2023-04-15T23:28:55.059Z"
   },
   {
    "duration": 0,
    "start_time": "2023-04-15T23:28:55.060Z"
   },
   {
    "duration": 0,
    "start_time": "2023-04-15T23:28:55.061Z"
   },
   {
    "duration": 0,
    "start_time": "2023-04-15T23:28:55.063Z"
   },
   {
    "duration": 0,
    "start_time": "2023-04-15T23:28:55.064Z"
   },
   {
    "duration": 0,
    "start_time": "2023-04-15T23:28:55.065Z"
   },
   {
    "duration": 0,
    "start_time": "2023-04-15T23:28:55.066Z"
   },
   {
    "duration": 0,
    "start_time": "2023-04-15T23:28:55.067Z"
   },
   {
    "duration": 5,
    "start_time": "2023-04-15T23:30:09.098Z"
   },
   {
    "duration": 24,
    "start_time": "2023-04-15T23:30:09.105Z"
   },
   {
    "duration": 27,
    "start_time": "2023-04-15T23:30:09.132Z"
   },
   {
    "duration": 50,
    "start_time": "2023-04-15T23:30:09.161Z"
   },
   {
    "duration": 24,
    "start_time": "2023-04-15T23:30:09.213Z"
   },
   {
    "duration": 81,
    "start_time": "2023-04-15T23:30:09.239Z"
   },
   {
    "duration": 14,
    "start_time": "2023-04-15T23:30:09.321Z"
   },
   {
    "duration": 35,
    "start_time": "2023-04-15T23:30:09.337Z"
   },
   {
    "duration": 15,
    "start_time": "2023-04-15T23:30:09.373Z"
   },
   {
    "duration": 17,
    "start_time": "2023-04-15T23:30:09.391Z"
   },
   {
    "duration": 9,
    "start_time": "2023-04-15T23:30:09.410Z"
   },
   {
    "duration": 29,
    "start_time": "2023-04-15T23:30:09.420Z"
   },
   {
    "duration": 35,
    "start_time": "2023-04-15T23:30:09.452Z"
   },
   {
    "duration": 21,
    "start_time": "2023-04-15T23:30:09.488Z"
   },
   {
    "duration": 94,
    "start_time": "2023-04-15T23:30:09.511Z"
   },
   {
    "duration": 51,
    "start_time": "2023-04-15T23:30:09.607Z"
   },
   {
    "duration": 357,
    "start_time": "2023-04-15T23:30:09.660Z"
   },
   {
    "duration": 159,
    "start_time": "2023-04-15T23:30:10.018Z"
   },
   {
    "duration": 215370,
    "start_time": "2023-04-15T23:30:10.179Z"
   },
   {
    "duration": 191,
    "start_time": "2023-04-15T23:33:45.553Z"
   },
   {
    "duration": 6,
    "start_time": "2023-04-15T23:33:45.746Z"
   },
   {
    "duration": 711,
    "start_time": "2023-04-15T23:33:45.753Z"
   },
   {
    "duration": 104,
    "start_time": "2023-04-15T23:33:46.466Z"
   },
   {
    "duration": 292,
    "start_time": "2023-04-15T23:33:46.572Z"
   },
   {
    "duration": 4,
    "start_time": "2023-04-15T23:33:46.866Z"
   },
   {
    "duration": 13,
    "start_time": "2023-04-15T23:33:46.872Z"
   },
   {
    "duration": 14,
    "start_time": "2023-04-15T23:33:46.888Z"
   },
   {
    "duration": 7,
    "start_time": "2023-04-15T23:33:46.905Z"
   },
   {
    "duration": 7,
    "start_time": "2023-04-15T23:33:46.914Z"
   },
   {
    "duration": 16,
    "start_time": "2023-04-15T23:33:46.941Z"
   },
   {
    "duration": 19,
    "start_time": "2023-04-15T23:33:46.960Z"
   },
   {
    "duration": 3,
    "start_time": "2023-04-15T23:33:46.982Z"
   },
   {
    "duration": 12,
    "start_time": "2023-04-15T23:33:46.987Z"
   },
   {
    "duration": 11,
    "start_time": "2023-04-15T23:33:47.001Z"
   },
   {
    "duration": 42,
    "start_time": "2023-04-15T23:33:47.014Z"
   },
   {
    "duration": 14,
    "start_time": "2023-04-15T23:33:47.058Z"
   },
   {
    "duration": 420,
    "start_time": "2023-04-15T23:33:47.075Z"
   },
   {
    "duration": 215,
    "start_time": "2023-04-15T23:33:47.497Z"
   },
   {
    "duration": 717,
    "start_time": "2023-04-15T23:33:47.714Z"
   },
   {
    "duration": 245,
    "start_time": "2023-04-15T23:33:48.433Z"
   },
   {
    "duration": 749,
    "start_time": "2023-04-15T23:33:48.680Z"
   },
   {
    "duration": 358,
    "start_time": "2023-04-15T23:33:49.431Z"
   },
   {
    "duration": 477,
    "start_time": "2023-04-15T23:33:49.791Z"
   },
   {
    "duration": 30,
    "start_time": "2023-04-15T23:33:50.270Z"
   },
   {
    "duration": 840,
    "start_time": "2023-04-15T23:33:50.302Z"
   },
   {
    "duration": 580,
    "start_time": "2023-04-15T23:33:51.144Z"
   },
   {
    "duration": 523,
    "start_time": "2023-04-15T23:33:51.726Z"
   },
   {
    "duration": 197,
    "start_time": "2023-04-15T23:33:52.256Z"
   },
   {
    "duration": 41008,
    "start_time": "2023-04-16T06:07:09.135Z"
   },
   {
    "duration": 232,
    "start_time": "2023-04-16T06:07:50.145Z"
   },
   {
    "duration": 4,
    "start_time": "2023-04-16T06:07:50.379Z"
   },
   {
    "duration": 18,
    "start_time": "2023-04-16T06:07:50.386Z"
   },
   {
    "duration": 17,
    "start_time": "2023-04-16T06:07:50.406Z"
   },
   {
    "duration": 7,
    "start_time": "2023-04-16T06:07:50.425Z"
   },
   {
    "duration": 15,
    "start_time": "2023-04-16T06:07:50.434Z"
   },
   {
    "duration": 42,
    "start_time": "2023-04-16T06:07:50.450Z"
   },
   {
    "duration": 42,
    "start_time": "2023-04-16T06:07:50.494Z"
   },
   {
    "duration": 11,
    "start_time": "2023-04-16T06:07:50.539Z"
   },
   {
    "duration": 12,
    "start_time": "2023-04-16T06:07:50.551Z"
   },
   {
    "duration": 30,
    "start_time": "2023-04-16T06:07:50.565Z"
   },
   {
    "duration": 19,
    "start_time": "2023-04-16T06:07:50.597Z"
   },
   {
    "duration": 28,
    "start_time": "2023-04-16T06:07:50.618Z"
   },
   {
    "duration": 398,
    "start_time": "2023-04-16T06:07:50.648Z"
   },
   {
    "duration": 203,
    "start_time": "2023-04-16T06:07:51.048Z"
   },
   {
    "duration": 817,
    "start_time": "2023-04-16T06:07:51.254Z"
   },
   {
    "duration": 231,
    "start_time": "2023-04-16T06:07:52.073Z"
   },
   {
    "duration": 550,
    "start_time": "2023-04-16T06:07:52.306Z"
   },
   {
    "duration": 340,
    "start_time": "2023-04-16T06:07:52.857Z"
   },
   {
    "duration": 368,
    "start_time": "2023-04-16T06:07:53.199Z"
   },
   {
    "duration": 32,
    "start_time": "2023-04-16T06:07:53.569Z"
   },
   {
    "duration": 544,
    "start_time": "2023-04-16T06:07:53.603Z"
   },
   {
    "duration": 584,
    "start_time": "2023-04-16T06:07:54.149Z"
   },
   {
    "duration": 524,
    "start_time": "2023-04-16T06:07:54.740Z"
   },
   {
    "duration": 180,
    "start_time": "2023-04-16T06:08:01.288Z"
   },
   {
    "duration": 5,
    "start_time": "2023-04-16T06:14:59.683Z"
   },
   {
    "duration": 27,
    "start_time": "2023-04-16T06:14:59.690Z"
   },
   {
    "duration": 14,
    "start_time": "2023-04-16T06:14:59.718Z"
   },
   {
    "duration": 11,
    "start_time": "2023-04-16T06:14:59.734Z"
   },
   {
    "duration": 14,
    "start_time": "2023-04-16T06:14:59.747Z"
   },
   {
    "duration": 58,
    "start_time": "2023-04-16T06:14:59.763Z"
   },
   {
    "duration": 14,
    "start_time": "2023-04-16T06:14:59.823Z"
   },
   {
    "duration": 12,
    "start_time": "2023-04-16T06:14:59.839Z"
   },
   {
    "duration": 21,
    "start_time": "2023-04-16T06:14:59.852Z"
   },
   {
    "duration": 15,
    "start_time": "2023-04-16T06:14:59.874Z"
   },
   {
    "duration": 25,
    "start_time": "2023-04-16T06:14:59.891Z"
   },
   {
    "duration": 31,
    "start_time": "2023-04-16T06:14:59.918Z"
   },
   {
    "duration": 39,
    "start_time": "2023-04-16T06:14:59.951Z"
   },
   {
    "duration": 7,
    "start_time": "2023-04-16T06:14:59.993Z"
   },
   {
    "duration": 103,
    "start_time": "2023-04-16T06:15:00.001Z"
   },
   {
    "duration": 45,
    "start_time": "2023-04-16T06:15:00.105Z"
   },
   {
    "duration": 360,
    "start_time": "2023-04-16T06:15:00.152Z"
   },
   {
    "duration": 158,
    "start_time": "2023-04-16T06:15:00.514Z"
   },
   {
    "duration": 207475,
    "start_time": "2023-04-16T06:15:00.674Z"
   },
   {
    "duration": 179,
    "start_time": "2023-04-16T06:18:28.151Z"
   },
   {
    "duration": 9,
    "start_time": "2023-04-16T06:18:28.332Z"
   },
   {
    "duration": 624,
    "start_time": "2023-04-16T06:18:28.343Z"
   },
   {
    "duration": 42474,
    "start_time": "2023-04-16T06:18:28.969Z"
   },
   {
    "duration": 475,
    "start_time": "2023-04-16T06:19:11.445Z"
   },
   {
    "duration": 5,
    "start_time": "2023-04-16T06:19:11.922Z"
   },
   {
    "duration": 19,
    "start_time": "2023-04-16T06:19:11.928Z"
   },
   {
    "duration": 12,
    "start_time": "2023-04-16T06:19:11.948Z"
   },
   {
    "duration": 23,
    "start_time": "2023-04-16T06:19:11.962Z"
   },
   {
    "duration": 15,
    "start_time": "2023-04-16T06:19:11.987Z"
   },
   {
    "duration": 18,
    "start_time": "2023-04-16T06:19:12.004Z"
   },
   {
    "duration": 12,
    "start_time": "2023-04-16T06:19:12.024Z"
   },
   {
    "duration": 3,
    "start_time": "2023-04-16T06:19:12.039Z"
   },
   {
    "duration": 10,
    "start_time": "2023-04-16T06:19:12.043Z"
   },
   {
    "duration": 7,
    "start_time": "2023-04-16T06:19:12.056Z"
   },
   {
    "duration": 7,
    "start_time": "2023-04-16T06:19:12.065Z"
   },
   {
    "duration": 11,
    "start_time": "2023-04-16T06:19:12.074Z"
   },
   {
    "duration": 315,
    "start_time": "2023-04-16T06:19:12.088Z"
   },
   {
    "duration": 186,
    "start_time": "2023-04-16T06:19:12.406Z"
   },
   {
    "duration": 690,
    "start_time": "2023-04-16T06:19:12.594Z"
   },
   {
    "duration": 231,
    "start_time": "2023-04-16T06:19:13.285Z"
   },
   {
    "duration": 629,
    "start_time": "2023-04-16T06:19:13.520Z"
   },
   {
    "duration": 274,
    "start_time": "2023-04-16T06:19:14.151Z"
   },
   {
    "duration": 337,
    "start_time": "2023-04-16T06:19:14.427Z"
   },
   {
    "duration": 30,
    "start_time": "2023-04-16T06:19:14.766Z"
   },
   {
    "duration": 451,
    "start_time": "2023-04-16T06:19:14.798Z"
   },
   {
    "duration": 602,
    "start_time": "2023-04-16T06:19:15.251Z"
   },
   {
    "duration": 488,
    "start_time": "2023-04-16T06:19:15.855Z"
   },
   {
    "duration": 173,
    "start_time": "2023-04-16T06:19:16.345Z"
   },
   {
    "duration": 46863,
    "start_time": "2023-04-16T06:19:56.480Z"
   },
   {
    "duration": 301,
    "start_time": "2023-04-16T06:20:43.345Z"
   },
   {
    "duration": 4,
    "start_time": "2023-04-16T06:20:43.648Z"
   },
   {
    "duration": 7,
    "start_time": "2023-04-16T06:23:59.884Z"
   },
   {
    "duration": 7,
    "start_time": "2023-04-16T06:24:00.085Z"
   },
   {
    "duration": 4,
    "start_time": "2023-04-16T06:24:01.419Z"
   },
   {
    "duration": 5,
    "start_time": "2023-04-16T06:24:01.980Z"
   },
   {
    "duration": 11,
    "start_time": "2023-04-16T06:24:02.399Z"
   },
   {
    "duration": 15,
    "start_time": "2023-04-16T06:24:02.648Z"
   },
   {
    "duration": 3,
    "start_time": "2023-04-16T06:24:02.906Z"
   },
   {
    "duration": 8,
    "start_time": "2023-04-16T06:24:03.159Z"
   },
   {
    "duration": 8,
    "start_time": "2023-04-16T06:24:03.480Z"
   },
   {
    "duration": 8,
    "start_time": "2023-04-16T06:24:03.779Z"
   },
   {
    "duration": 7,
    "start_time": "2023-04-16T06:24:04.081Z"
   },
   {
    "duration": 283,
    "start_time": "2023-04-16T06:24:09.737Z"
   },
   {
    "duration": 205,
    "start_time": "2023-04-16T06:24:15.640Z"
   },
   {
    "duration": 690,
    "start_time": "2023-04-16T06:24:20.134Z"
   },
   {
    "duration": 372,
    "start_time": "2023-04-16T06:24:31.511Z"
   },
   {
    "duration": 552,
    "start_time": "2023-04-16T06:24:52.616Z"
   },
   {
    "duration": 295,
    "start_time": "2023-04-16T06:25:03.042Z"
   },
   {
    "duration": 457,
    "start_time": "2023-04-16T06:25:07.232Z"
   },
   {
    "duration": 31,
    "start_time": "2023-04-16T06:25:11.384Z"
   },
   {
    "duration": 1004,
    "start_time": "2023-04-16T06:25:11.938Z"
   },
   {
    "duration": 594,
    "start_time": "2023-04-16T06:25:25.087Z"
   },
   {
    "duration": 610,
    "start_time": "2023-04-16T06:25:30.379Z"
   },
   {
    "duration": 172,
    "start_time": "2023-04-16T06:25:38.327Z"
   },
   {
    "duration": 376,
    "start_time": "2023-04-16T06:26:55.684Z"
   },
   {
    "duration": 292,
    "start_time": "2023-04-16T06:27:03.412Z"
   },
   {
    "duration": 497,
    "start_time": "2023-04-16T06:27:08.745Z"
   },
   {
    "duration": 411,
    "start_time": "2023-04-16T06:27:23.006Z"
   },
   {
    "duration": 4,
    "start_time": "2023-04-16T06:28:29.443Z"
   },
   {
    "duration": 19,
    "start_time": "2023-04-16T06:28:29.450Z"
   },
   {
    "duration": 24,
    "start_time": "2023-04-16T06:28:29.471Z"
   },
   {
    "duration": 12,
    "start_time": "2023-04-16T06:28:29.497Z"
   },
   {
    "duration": 17,
    "start_time": "2023-04-16T06:28:29.511Z"
   },
   {
    "duration": 75,
    "start_time": "2023-04-16T06:28:29.530Z"
   },
   {
    "duration": 13,
    "start_time": "2023-04-16T06:28:29.607Z"
   },
   {
    "duration": 22,
    "start_time": "2023-04-16T06:28:29.622Z"
   },
   {
    "duration": 20,
    "start_time": "2023-04-16T06:28:29.646Z"
   },
   {
    "duration": 16,
    "start_time": "2023-04-16T06:28:29.668Z"
   },
   {
    "duration": 14,
    "start_time": "2023-04-16T06:28:29.686Z"
   },
   {
    "duration": 32,
    "start_time": "2023-04-16T06:28:29.701Z"
   },
   {
    "duration": 49,
    "start_time": "2023-04-16T06:28:29.735Z"
   },
   {
    "duration": 7,
    "start_time": "2023-04-16T06:28:29.786Z"
   },
   {
    "duration": 83,
    "start_time": "2023-04-16T06:28:29.794Z"
   },
   {
    "duration": 33,
    "start_time": "2023-04-16T06:28:31.975Z"
   },
   {
    "duration": 349,
    "start_time": "2023-04-16T06:28:38.630Z"
   },
   {
    "duration": 5,
    "start_time": "2023-04-16T06:28:38.981Z"
   },
   {
    "duration": 526,
    "start_time": "2023-04-16T06:31:42.744Z"
   },
   {
    "duration": 151067,
    "start_time": "2023-04-16T06:32:43.080Z"
   },
   {
    "duration": 21,
    "start_time": "2023-04-16T06:35:14.149Z"
   },
   {
    "duration": 113474,
    "start_time": "2023-04-16T06:35:14.973Z"
   },
   {
    "duration": 229,
    "start_time": "2023-04-16T06:37:08.449Z"
   },
   {
    "duration": 5,
    "start_time": "2023-04-16T06:38:16.374Z"
   },
   {
    "duration": 439,
    "start_time": "2023-04-16T06:38:20.118Z"
   },
   {
    "duration": 73,
    "start_time": "2023-04-16T06:39:46.239Z"
   },
   {
    "duration": 45,
    "start_time": "2023-04-16T06:41:41.144Z"
   },
   {
    "duration": 218152,
    "start_time": "2023-04-16T06:41:50.593Z"
   },
   {
    "duration": 456,
    "start_time": "2023-04-16T06:45:28.747Z"
   },
   {
    "duration": 4,
    "start_time": "2023-04-16T06:45:29.205Z"
   },
   {
    "duration": 110,
    "start_time": "2023-04-16T06:48:07.550Z"
   },
   {
    "duration": 110493,
    "start_time": "2023-04-16T06:48:21.456Z"
   },
   {
    "duration": 513,
    "start_time": "2023-04-16T06:50:11.951Z"
   },
   {
    "duration": 4,
    "start_time": "2023-04-16T06:50:12.466Z"
   },
   {
    "duration": 6,
    "start_time": "2023-04-16T06:53:00.951Z"
   },
   {
    "duration": 7,
    "start_time": "2023-04-16T06:53:01.250Z"
   },
   {
    "duration": 4,
    "start_time": "2023-04-16T06:53:02.591Z"
   },
   {
    "duration": 4,
    "start_time": "2023-04-16T06:53:03.051Z"
   },
   {
    "duration": 12,
    "start_time": "2023-04-16T06:53:03.291Z"
   },
   {
    "duration": 15,
    "start_time": "2023-04-16T06:53:03.508Z"
   },
   {
    "duration": 3,
    "start_time": "2023-04-16T06:53:03.741Z"
   },
   {
    "duration": 7,
    "start_time": "2023-04-16T06:53:03.972Z"
   },
   {
    "duration": 6,
    "start_time": "2023-04-16T06:53:04.196Z"
   },
   {
    "duration": 8,
    "start_time": "2023-04-16T06:53:04.419Z"
   },
   {
    "duration": 7,
    "start_time": "2023-04-16T06:53:04.630Z"
   },
   {
    "duration": 747,
    "start_time": "2023-04-16T06:53:05.049Z"
   },
   {
    "duration": 300,
    "start_time": "2023-04-16T06:53:05.798Z"
   },
   {
    "duration": 456,
    "start_time": "2023-04-16T06:53:06.100Z"
   },
   {
    "duration": 758,
    "start_time": "2023-04-16T06:53:06.559Z"
   },
   {
    "duration": 247,
    "start_time": "2023-04-16T06:53:07.319Z"
   },
   {
    "duration": 586,
    "start_time": "2023-04-16T06:53:07.568Z"
   },
   {
    "duration": 494,
    "start_time": "2023-04-16T06:53:08.157Z"
   },
   {
    "duration": 422,
    "start_time": "2023-04-16T06:53:08.653Z"
   },
   {
    "duration": 33,
    "start_time": "2023-04-16T06:53:09.078Z"
   },
   {
    "duration": 528,
    "start_time": "2023-04-16T06:53:09.113Z"
   },
   {
    "duration": 520,
    "start_time": "2023-04-16T06:53:09.643Z"
   },
   {
    "duration": 636,
    "start_time": "2023-04-16T06:53:10.165Z"
   },
   {
    "duration": 217,
    "start_time": "2023-04-16T06:53:11.696Z"
   },
   {
    "duration": 17,
    "start_time": "2023-04-16T06:57:10.114Z"
   },
   {
    "duration": 4,
    "start_time": "2023-04-16T06:57:10.533Z"
   },
   {
    "duration": 8,
    "start_time": "2023-04-16T06:57:10.733Z"
   },
   {
    "duration": 8,
    "start_time": "2023-04-16T06:57:10.969Z"
   },
   {
    "duration": 7,
    "start_time": "2023-04-16T06:57:11.250Z"
   },
   {
    "duration": 7,
    "start_time": "2023-04-16T06:57:11.543Z"
   },
   {
    "duration": 720,
    "start_time": "2023-04-16T06:57:13.525Z"
   },
   {
    "duration": 276,
    "start_time": "2023-04-16T06:57:16.513Z"
   },
   {
    "duration": 253,
    "start_time": "2023-04-16T06:57:28.613Z"
   },
   {
    "duration": 441,
    "start_time": "2023-04-16T06:57:31.437Z"
   },
   {
    "duration": 770,
    "start_time": "2023-04-16T07:04:37.085Z"
   },
   {
    "duration": 269,
    "start_time": "2023-04-16T07:04:37.933Z"
   },
   {
    "duration": 296,
    "start_time": "2023-04-16T07:05:14.451Z"
   },
   {
    "duration": 836,
    "start_time": "2023-04-16T07:06:25.430Z"
   },
   {
    "duration": 736,
    "start_time": "2023-04-16T07:06:34.826Z"
   },
   {
    "duration": 873,
    "start_time": "2023-04-16T07:07:23.016Z"
   },
   {
    "duration": 351,
    "start_time": "2023-04-16T07:07:24.114Z"
   },
   {
    "duration": 7,
    "start_time": "2023-04-16T07:08:44.436Z"
   },
   {
    "duration": 26,
    "start_time": "2023-04-16T07:08:44.445Z"
   },
   {
    "duration": 9,
    "start_time": "2023-04-16T07:08:44.474Z"
   },
   {
    "duration": 7,
    "start_time": "2023-04-16T07:08:44.485Z"
   },
   {
    "duration": 21,
    "start_time": "2023-04-16T07:08:44.494Z"
   },
   {
    "duration": 116,
    "start_time": "2023-04-16T07:08:44.518Z"
   },
   {
    "duration": 24,
    "start_time": "2023-04-16T07:08:44.636Z"
   },
   {
    "duration": 10,
    "start_time": "2023-04-16T07:08:44.663Z"
   },
   {
    "duration": 11,
    "start_time": "2023-04-16T07:08:44.675Z"
   },
   {
    "duration": 14,
    "start_time": "2023-04-16T07:08:44.690Z"
   },
   {
    "duration": 15,
    "start_time": "2023-04-16T07:08:44.706Z"
   },
   {
    "duration": 35,
    "start_time": "2023-04-16T07:08:44.723Z"
   },
   {
    "duration": 39,
    "start_time": "2023-04-16T07:08:44.760Z"
   },
   {
    "duration": 7,
    "start_time": "2023-04-16T07:08:44.802Z"
   },
   {
    "duration": 106,
    "start_time": "2023-04-16T07:08:44.811Z"
   },
   {
    "duration": 48,
    "start_time": "2023-04-16T07:08:44.919Z"
   },
   {
    "duration": 884,
    "start_time": "2023-04-16T07:08:44.969Z"
   },
   {
    "duration": 224,
    "start_time": "2023-04-16T07:08:45.859Z"
   },
   {
    "duration": 116708,
    "start_time": "2023-04-16T07:08:46.085Z"
   },
   {
    "duration": 294,
    "start_time": "2023-04-16T07:10:42.795Z"
   },
   {
    "duration": 6,
    "start_time": "2023-04-16T07:10:43.141Z"
   },
   {
    "duration": 575,
    "start_time": "2023-04-16T07:10:43.149Z"
   },
   {
    "duration": 54133,
    "start_time": "2023-04-16T07:10:43.726Z"
   },
   {
    "duration": 415,
    "start_time": "2023-04-16T07:11:37.861Z"
   },
   {
    "duration": 4,
    "start_time": "2023-04-16T07:11:38.279Z"
   },
   {
    "duration": 27,
    "start_time": "2023-04-16T07:11:38.285Z"
   },
   {
    "duration": 50,
    "start_time": "2023-04-16T07:11:38.314Z"
   },
   {
    "duration": 12,
    "start_time": "2023-04-16T07:11:38.369Z"
   },
   {
    "duration": 17,
    "start_time": "2023-04-16T07:11:38.383Z"
   },
   {
    "duration": 27,
    "start_time": "2023-04-16T07:11:38.402Z"
   },
   {
    "duration": 23,
    "start_time": "2023-04-16T07:11:38.431Z"
   },
   {
    "duration": 32,
    "start_time": "2023-04-16T07:11:38.456Z"
   },
   {
    "duration": 13,
    "start_time": "2023-04-16T07:11:38.490Z"
   },
   {
    "duration": 13,
    "start_time": "2023-04-16T07:11:38.506Z"
   },
   {
    "duration": 10,
    "start_time": "2023-04-16T07:11:38.521Z"
   },
   {
    "duration": 24,
    "start_time": "2023-04-16T07:11:38.533Z"
   },
   {
    "duration": 900,
    "start_time": "2023-04-16T07:11:38.559Z"
   },
   {
    "duration": 293,
    "start_time": "2023-04-16T07:11:39.461Z"
   },
   {
    "duration": 5,
    "start_time": "2023-04-16T07:11:39.760Z"
   },
   {
    "duration": 27,
    "start_time": "2023-04-16T07:11:39.767Z"
   },
   {
    "duration": 14,
    "start_time": "2023-04-16T07:11:39.796Z"
   },
   {
    "duration": 22,
    "start_time": "2023-04-16T07:11:39.812Z"
   },
   {
    "duration": 22,
    "start_time": "2023-04-16T07:11:39.836Z"
   },
   {
    "duration": 596,
    "start_time": "2023-04-16T07:11:39.860Z"
   },
   {
    "duration": 520,
    "start_time": "2023-04-16T07:11:40.459Z"
   },
   {
    "duration": 499,
    "start_time": "2023-04-16T07:11:40.980Z"
   },
   {
    "duration": 34,
    "start_time": "2023-04-16T07:11:41.481Z"
   },
   {
    "duration": 1047,
    "start_time": "2023-04-16T07:11:41.517Z"
   },
   {
    "duration": 762,
    "start_time": "2023-04-16T07:11:42.643Z"
   },
   {
    "duration": 693,
    "start_time": "2023-04-16T07:11:43.407Z"
   },
   {
    "duration": 250,
    "start_time": "2023-04-16T07:11:44.102Z"
   },
   {
    "duration": 1824,
    "start_time": "2023-04-16T07:12:15.392Z"
   },
   {
    "duration": 5,
    "start_time": "2023-04-16T07:12:17.218Z"
   },
   {
    "duration": 39,
    "start_time": "2023-04-16T07:12:17.225Z"
   },
   {
    "duration": 21,
    "start_time": "2023-04-16T07:12:17.267Z"
   },
   {
    "duration": 13,
    "start_time": "2023-04-16T07:12:17.291Z"
   },
   {
    "duration": 77,
    "start_time": "2023-04-16T07:12:17.306Z"
   },
   {
    "duration": 15,
    "start_time": "2023-04-16T07:12:17.386Z"
   },
   {
    "duration": 16,
    "start_time": "2023-04-16T07:12:17.403Z"
   },
   {
    "duration": 34,
    "start_time": "2023-04-16T07:12:17.421Z"
   },
   {
    "duration": 12,
    "start_time": "2023-04-16T07:12:17.459Z"
   },
   {
    "duration": 20,
    "start_time": "2023-04-16T07:12:17.473Z"
   },
   {
    "duration": 26,
    "start_time": "2023-04-16T07:12:17.496Z"
   },
   {
    "duration": 41,
    "start_time": "2023-04-16T07:12:17.524Z"
   },
   {
    "duration": 10,
    "start_time": "2023-04-16T07:12:17.567Z"
   },
   {
    "duration": 110,
    "start_time": "2023-04-16T07:12:17.579Z"
   },
   {
    "duration": 34,
    "start_time": "2023-04-16T07:12:17.691Z"
   },
   {
    "duration": 902,
    "start_time": "2023-04-16T07:12:17.727Z"
   },
   {
    "duration": 187,
    "start_time": "2023-04-16T07:12:18.631Z"
   },
   {
    "duration": 116515,
    "start_time": "2023-04-16T07:12:18.820Z"
   },
   {
    "duration": 371,
    "start_time": "2023-04-16T07:14:15.340Z"
   },
   {
    "duration": 5,
    "start_time": "2023-04-16T07:14:15.713Z"
   },
   {
    "duration": 468,
    "start_time": "2023-04-16T07:14:15.720Z"
   },
   {
    "duration": 57853,
    "start_time": "2023-04-16T07:14:16.191Z"
   },
   {
    "duration": 509,
    "start_time": "2023-04-16T07:15:14.054Z"
   },
   {
    "duration": 4,
    "start_time": "2023-04-16T07:15:14.565Z"
   },
   {
    "duration": 10,
    "start_time": "2023-04-16T07:15:14.571Z"
   },
   {
    "duration": 10,
    "start_time": "2023-04-16T07:15:14.584Z"
   },
   {
    "duration": 5,
    "start_time": "2023-04-16T07:15:14.599Z"
   },
   {
    "duration": 43,
    "start_time": "2023-04-16T07:15:14.606Z"
   },
   {
    "duration": 21,
    "start_time": "2023-04-16T07:15:14.653Z"
   },
   {
    "duration": 22,
    "start_time": "2023-04-16T07:15:14.676Z"
   },
   {
    "duration": 3,
    "start_time": "2023-04-16T07:15:14.700Z"
   },
   {
    "duration": 12,
    "start_time": "2023-04-16T07:15:14.706Z"
   },
   {
    "duration": 21,
    "start_time": "2023-04-16T07:15:14.720Z"
   },
   {
    "duration": 16,
    "start_time": "2023-04-16T07:15:14.749Z"
   },
   {
    "duration": 27,
    "start_time": "2023-04-16T07:15:14.767Z"
   },
   {
    "duration": 772,
    "start_time": "2023-04-16T07:15:14.796Z"
   },
   {
    "duration": 306,
    "start_time": "2023-04-16T07:15:15.570Z"
   },
   {
    "duration": 3,
    "start_time": "2023-04-16T07:15:15.878Z"
   },
   {
    "duration": 7,
    "start_time": "2023-04-16T07:15:15.883Z"
   },
   {
    "duration": 22,
    "start_time": "2023-04-16T07:15:15.893Z"
   },
   {
    "duration": 10,
    "start_time": "2023-04-16T07:15:15.918Z"
   },
   {
    "duration": 27,
    "start_time": "2023-04-16T07:15:15.931Z"
   },
   {
    "duration": 903,
    "start_time": "2023-04-16T07:15:15.961Z"
   },
   {
    "duration": 490,
    "start_time": "2023-04-16T07:15:16.867Z"
   },
   {
    "duration": 429,
    "start_time": "2023-04-16T07:15:17.361Z"
   },
   {
    "duration": 32,
    "start_time": "2023-04-16T07:15:17.792Z"
   },
   {
    "duration": 929,
    "start_time": "2023-04-16T07:15:17.826Z"
   },
   {
    "duration": 747,
    "start_time": "2023-04-16T07:15:18.758Z"
   },
   {
    "duration": 710,
    "start_time": "2023-04-16T07:15:19.507Z"
   },
   {
    "duration": 257,
    "start_time": "2023-04-16T07:15:20.220Z"
   },
   {
    "duration": 44,
    "start_time": "2023-04-16T07:18:46.611Z"
   },
   {
    "duration": 839,
    "start_time": "2023-04-16T07:18:47.210Z"
   },
   {
    "duration": 665,
    "start_time": "2023-04-16T07:18:54.201Z"
   },
   {
    "duration": 688,
    "start_time": "2023-04-16T07:19:09.049Z"
   },
   {
    "duration": 526,
    "start_time": "2023-04-16T07:19:57.258Z"
   },
   {
    "duration": 780,
    "start_time": "2023-04-16T07:20:51.593Z"
   },
   {
    "duration": 286,
    "start_time": "2023-04-16T07:20:54.279Z"
   },
   {
    "duration": 1224,
    "start_time": "2023-04-16T07:21:55.028Z"
   },
   {
    "duration": 54,
    "start_time": "2023-04-16T07:22:00.885Z"
   },
   {
    "duration": 939,
    "start_time": "2023-04-16T07:22:01.608Z"
   },
   {
    "duration": 680,
    "start_time": "2023-04-16T07:22:03.148Z"
   },
   {
    "duration": 1910,
    "start_time": "2023-04-16T07:28:26.002Z"
   },
   {
    "duration": 5,
    "start_time": "2023-04-16T07:28:27.914Z"
   },
   {
    "duration": 24,
    "start_time": "2023-04-16T07:28:27.921Z"
   },
   {
    "duration": 22,
    "start_time": "2023-04-16T07:28:27.950Z"
   },
   {
    "duration": 12,
    "start_time": "2023-04-16T07:28:27.974Z"
   },
   {
    "duration": 90,
    "start_time": "2023-04-16T07:28:27.988Z"
   },
   {
    "duration": 22,
    "start_time": "2023-04-16T07:28:28.080Z"
   },
   {
    "duration": 30,
    "start_time": "2023-04-16T07:28:28.104Z"
   },
   {
    "duration": 41,
    "start_time": "2023-04-16T07:28:28.136Z"
   },
   {
    "duration": 16,
    "start_time": "2023-04-16T07:28:28.182Z"
   },
   {
    "duration": 4,
    "start_time": "2023-04-16T07:28:28.201Z"
   },
   {
    "duration": 18,
    "start_time": "2023-04-16T07:28:28.207Z"
   },
   {
    "duration": 38,
    "start_time": "2023-04-16T07:28:28.227Z"
   },
   {
    "duration": 43,
    "start_time": "2023-04-16T07:28:28.268Z"
   },
   {
    "duration": 119,
    "start_time": "2023-04-16T07:28:28.314Z"
   },
   {
    "duration": 38,
    "start_time": "2023-04-16T07:28:28.442Z"
   },
   {
    "duration": 911,
    "start_time": "2023-04-16T07:28:28.482Z"
   },
   {
    "duration": 193,
    "start_time": "2023-04-16T07:28:29.395Z"
   },
   {
    "duration": 199263,
    "start_time": "2023-04-16T07:28:29.590Z"
   },
   {
    "duration": 219,
    "start_time": "2023-04-16T07:31:48.855Z"
   },
   {
    "duration": 5,
    "start_time": "2023-04-16T07:31:49.076Z"
   },
   {
    "duration": 579,
    "start_time": "2023-04-16T07:31:49.083Z"
   },
   {
    "duration": 48885,
    "start_time": "2023-04-16T07:31:49.664Z"
   },
   {
    "duration": 404,
    "start_time": "2023-04-16T07:32:38.552Z"
   },
   {
    "duration": 5,
    "start_time": "2023-04-16T07:32:38.959Z"
   },
   {
    "duration": 10,
    "start_time": "2023-04-16T07:32:38.966Z"
   },
   {
    "duration": 7,
    "start_time": "2023-04-16T07:32:38.978Z"
   },
   {
    "duration": 4,
    "start_time": "2023-04-16T07:32:38.989Z"
   },
   {
    "duration": 10,
    "start_time": "2023-04-16T07:32:38.994Z"
   },
   {
    "duration": 47,
    "start_time": "2023-04-16T07:32:39.006Z"
   },
   {
    "duration": 19,
    "start_time": "2023-04-16T07:32:39.056Z"
   },
   {
    "duration": 4,
    "start_time": "2023-04-16T07:32:39.077Z"
   },
   {
    "duration": 13,
    "start_time": "2023-04-16T07:32:39.083Z"
   },
   {
    "duration": 9,
    "start_time": "2023-04-16T07:32:39.098Z"
   },
   {
    "duration": 13,
    "start_time": "2023-04-16T07:32:39.109Z"
   },
   {
    "duration": 14,
    "start_time": "2023-04-16T07:32:39.143Z"
   },
   {
    "duration": 702,
    "start_time": "2023-04-16T07:32:39.159Z"
   },
   {
    "duration": 269,
    "start_time": "2023-04-16T07:32:39.863Z"
   },
   {
    "duration": 1187,
    "start_time": "2023-04-16T07:32:40.146Z"
   },
   {
    "duration": 443,
    "start_time": "2023-04-16T07:32:41.335Z"
   },
   {
    "duration": 501,
    "start_time": "2023-04-16T07:32:41.780Z"
   },
   {
    "duration": 33,
    "start_time": "2023-04-16T07:32:42.283Z"
   },
   {
    "duration": 730,
    "start_time": "2023-04-16T07:32:42.318Z"
   },
   {
    "duration": 839,
    "start_time": "2023-04-16T07:32:43.053Z"
   },
   {
    "duration": 685,
    "start_time": "2023-04-16T07:32:43.894Z"
   },
   {
    "duration": 239,
    "start_time": "2023-04-16T07:32:44.581Z"
   },
   {
    "duration": 675,
    "start_time": "2023-04-16T07:34:12.055Z"
   },
   {
    "duration": 260,
    "start_time": "2023-04-16T07:34:16.830Z"
   },
   {
    "duration": 248,
    "start_time": "2023-04-16T07:35:02.792Z"
   },
   {
    "duration": 274,
    "start_time": "2023-04-16T07:35:05.358Z"
   },
   {
    "duration": 672,
    "start_time": "2023-04-16T07:35:10.548Z"
   },
   {
    "duration": 401,
    "start_time": "2023-04-16T07:35:14.129Z"
   },
   {
    "duration": 287,
    "start_time": "2023-04-16T07:35:18.710Z"
   },
   {
    "duration": 271,
    "start_time": "2023-04-16T07:35:38.347Z"
   },
   {
    "duration": 879,
    "start_time": "2023-04-16T07:35:54.489Z"
   },
   {
    "duration": 970,
    "start_time": "2023-04-16T07:35:58.107Z"
   },
   {
    "duration": 12,
    "start_time": "2023-04-16T07:36:48.310Z"
   },
   {
    "duration": 14,
    "start_time": "2023-04-16T07:36:48.657Z"
   },
   {
    "duration": 3,
    "start_time": "2023-04-16T07:36:48.939Z"
   },
   {
    "duration": 16,
    "start_time": "2023-04-16T07:36:49.202Z"
   },
   {
    "duration": 7,
    "start_time": "2023-04-16T07:36:49.470Z"
   },
   {
    "duration": 8,
    "start_time": "2023-04-16T07:36:49.892Z"
   },
   {
    "duration": 7,
    "start_time": "2023-04-16T07:36:50.609Z"
   },
   {
    "duration": 680,
    "start_time": "2023-04-16T07:36:57.326Z"
   },
   {
    "duration": 258,
    "start_time": "2023-04-16T07:37:00.274Z"
   },
   {
    "duration": 272,
    "start_time": "2023-04-16T07:37:03.107Z"
   },
   {
    "duration": 744,
    "start_time": "2023-04-16T07:37:07.420Z"
   },
   {
    "duration": 449,
    "start_time": "2023-04-16T07:37:08.167Z"
   },
   {
    "duration": 549,
    "start_time": "2023-04-16T07:37:08.618Z"
   },
   {
    "duration": 33,
    "start_time": "2023-04-16T07:37:34.707Z"
   },
   {
    "duration": 958,
    "start_time": "2023-04-16T07:37:36.702Z"
   },
   {
    "duration": 613,
    "start_time": "2023-04-16T07:37:42.022Z"
   },
   {
    "duration": 771,
    "start_time": "2023-04-16T07:37:55.528Z"
   },
   {
    "duration": 240,
    "start_time": "2023-04-16T07:38:03.729Z"
   },
   {
    "duration": 5,
    "start_time": "2023-04-16T07:39:52.523Z"
   },
   {
    "duration": 8,
    "start_time": "2023-04-16T07:39:52.937Z"
   },
   {
    "duration": 12,
    "start_time": "2023-04-16T07:39:53.356Z"
   },
   {
    "duration": 14,
    "start_time": "2023-04-16T07:39:53.867Z"
   },
   {
    "duration": 3,
    "start_time": "2023-04-16T07:39:54.099Z"
   },
   {
    "duration": 8,
    "start_time": "2023-04-16T07:39:54.291Z"
   },
   {
    "duration": 7,
    "start_time": "2023-04-16T07:39:54.520Z"
   },
   {
    "duration": 9,
    "start_time": "2023-04-16T07:39:56.526Z"
   },
   {
    "duration": 8,
    "start_time": "2023-04-16T07:39:56.999Z"
   },
   {
    "duration": 5,
    "start_time": "2023-04-16T07:40:27.981Z"
   },
   {
    "duration": 124,
    "start_time": "2023-04-16T07:44:07.572Z"
   },
   {
    "duration": 12,
    "start_time": "2023-04-16T07:44:24.801Z"
   },
   {
    "duration": 6,
    "start_time": "2023-04-16T07:44:31.781Z"
   },
   {
    "duration": 6,
    "start_time": "2023-04-16T07:44:40.856Z"
   },
   {
    "duration": 13,
    "start_time": "2023-04-16T07:44:58.333Z"
   },
   {
    "duration": 5,
    "start_time": "2023-04-16T07:49:29.417Z"
   },
   {
    "duration": 39,
    "start_time": "2023-04-16T07:50:29.410Z"
   },
   {
    "duration": 1163,
    "start_time": "2023-04-16T07:50:29.884Z"
   },
   {
    "duration": 802,
    "start_time": "2023-04-16T07:50:31.050Z"
   },
   {
    "duration": 817,
    "start_time": "2023-04-16T07:50:39.736Z"
   },
   {
    "duration": 39,
    "start_time": "2023-04-16T08:12:21.530Z"
   },
   {
    "duration": 5,
    "start_time": "2023-04-16T08:22:33.413Z"
   },
   {
    "duration": 52,
    "start_time": "2023-04-16T08:22:36.343Z"
   },
   {
    "duration": 25,
    "start_time": "2023-04-16T08:22:41.052Z"
   },
   {
    "duration": 20,
    "start_time": "2023-04-16T08:23:09.786Z"
   },
   {
    "duration": 6,
    "start_time": "2023-04-16T08:37:07.722Z"
   },
   {
    "duration": 62,
    "start_time": "2023-04-16T08:37:14.574Z"
   },
   {
    "duration": 39,
    "start_time": "2023-04-16T08:37:35.378Z"
   },
   {
    "duration": 79,
    "start_time": "2023-04-16T08:37:36.739Z"
   },
   {
    "duration": 8,
    "start_time": "2023-04-16T08:38:37.490Z"
   },
   {
    "duration": 23,
    "start_time": "2023-04-16T08:38:58.469Z"
   },
   {
    "duration": 16,
    "start_time": "2023-04-16T08:39:01.983Z"
   },
   {
    "duration": 8,
    "start_time": "2023-04-16T08:39:07.186Z"
   },
   {
    "duration": 8,
    "start_time": "2023-04-16T08:39:47.097Z"
   },
   {
    "duration": 7,
    "start_time": "2023-04-16T08:40:00.182Z"
   },
   {
    "duration": 6,
    "start_time": "2023-04-16T08:40:50.372Z"
   },
   {
    "duration": 36,
    "start_time": "2023-04-16T08:40:50.692Z"
   },
   {
    "duration": 47,
    "start_time": "2023-04-16T08:40:51.173Z"
   },
   {
    "duration": 8,
    "start_time": "2023-04-16T08:40:52.390Z"
   },
   {
    "duration": 9,
    "start_time": "2023-04-16T08:41:07.634Z"
   },
   {
    "duration": 6,
    "start_time": "2023-04-16T08:41:41.986Z"
   },
   {
    "duration": 61,
    "start_time": "2023-04-16T08:41:42.597Z"
   },
   {
    "duration": 22,
    "start_time": "2023-04-16T08:41:50.063Z"
   },
   {
    "duration": 9,
    "start_time": "2023-04-16T08:41:52.775Z"
   },
   {
    "duration": 21,
    "start_time": "2023-04-16T08:42:14.798Z"
   },
   {
    "duration": 8,
    "start_time": "2023-04-16T08:42:15.189Z"
   },
   {
    "duration": 26,
    "start_time": "2023-04-16T08:42:23.329Z"
   },
   {
    "duration": 9,
    "start_time": "2023-04-16T08:42:23.726Z"
   },
   {
    "duration": 16,
    "start_time": "2023-04-16T08:42:46.001Z"
   },
   {
    "duration": 9,
    "start_time": "2023-04-16T08:42:46.384Z"
   },
   {
    "duration": 21,
    "start_time": "2023-04-16T08:42:51.911Z"
   },
   {
    "duration": 11,
    "start_time": "2023-04-16T08:42:52.246Z"
   },
   {
    "duration": 20,
    "start_time": "2023-04-16T08:43:01.090Z"
   },
   {
    "duration": 7,
    "start_time": "2023-04-16T08:43:01.487Z"
   },
   {
    "duration": 9,
    "start_time": "2023-04-16T08:43:02.573Z"
   },
   {
    "duration": 15,
    "start_time": "2023-04-16T08:43:14.216Z"
   },
   {
    "duration": 7,
    "start_time": "2023-04-16T08:43:14.517Z"
   },
   {
    "duration": 22,
    "start_time": "2023-04-16T08:43:57.466Z"
   },
   {
    "duration": 8,
    "start_time": "2023-04-16T08:43:57.822Z"
   },
   {
    "duration": 23,
    "start_time": "2023-04-16T08:44:05.438Z"
   },
   {
    "duration": 6,
    "start_time": "2023-04-16T08:44:05.784Z"
   },
   {
    "duration": 6,
    "start_time": "2023-04-16T08:44:07.816Z"
   },
   {
    "duration": 7,
    "start_time": "2023-04-16T08:45:26.301Z"
   },
   {
    "duration": 4,
    "start_time": "2023-04-16T08:45:27.228Z"
   },
   {
    "duration": 20,
    "start_time": "2023-04-16T08:45:43.871Z"
   },
   {
    "duration": 6,
    "start_time": "2023-04-16T08:45:44.206Z"
   },
   {
    "duration": 11,
    "start_time": "2023-04-16T08:48:12.574Z"
   },
   {
    "duration": 52,
    "start_time": "2023-04-16T08:48:14.658Z"
   },
   {
    "duration": 22,
    "start_time": "2023-04-16T08:48:15.396Z"
   },
   {
    "duration": 117,
    "start_time": "2023-04-16T08:49:08.717Z"
   },
   {
    "duration": 5,
    "start_time": "2023-04-16T08:49:21.586Z"
   },
   {
    "duration": 65,
    "start_time": "2023-04-16T08:49:22.639Z"
   },
   {
    "duration": 34,
    "start_time": "2023-04-16T08:49:23.683Z"
   },
   {
    "duration": 11,
    "start_time": "2023-04-16T08:49:40.336Z"
   },
   {
    "duration": 71,
    "start_time": "2023-04-16T08:49:40.594Z"
   },
   {
    "duration": 21,
    "start_time": "2023-04-16T08:49:41.118Z"
   },
   {
    "duration": 4,
    "start_time": "2023-04-16T08:50:26.877Z"
   },
   {
    "duration": 50,
    "start_time": "2023-04-16T08:50:27.224Z"
   },
   {
    "duration": 36,
    "start_time": "2023-04-16T08:50:27.816Z"
   },
   {
    "duration": 61,
    "start_time": "2023-04-16T08:50:52.302Z"
   },
   {
    "duration": 53,
    "start_time": "2023-04-16T08:51:00.228Z"
   },
   {
    "duration": 6,
    "start_time": "2023-04-16T08:53:37.921Z"
   },
   {
    "duration": 42,
    "start_time": "2023-04-16T08:53:41.885Z"
   },
   {
    "duration": 5,
    "start_time": "2023-04-16T08:54:34.602Z"
   },
   {
    "duration": 45,
    "start_time": "2023-04-16T08:54:35.640Z"
   },
   {
    "duration": 6,
    "start_time": "2023-04-16T08:54:59.067Z"
   },
   {
    "duration": 46,
    "start_time": "2023-04-16T08:55:00.681Z"
   },
   {
    "duration": 21,
    "start_time": "2023-04-16T08:55:02.985Z"
   },
   {
    "duration": 6,
    "start_time": "2023-04-16T08:55:24.729Z"
   },
   {
    "duration": 9,
    "start_time": "2023-04-16T08:55:42.946Z"
   },
   {
    "duration": 39,
    "start_time": "2023-04-16T08:55:43.373Z"
   },
   {
    "duration": 8,
    "start_time": "2023-04-16T08:55:48.381Z"
   },
   {
    "duration": 42,
    "start_time": "2023-04-16T08:55:48.688Z"
   },
   {
    "duration": 26,
    "start_time": "2023-04-16T08:55:50.179Z"
   },
   {
    "duration": 15,
    "start_time": "2023-04-16T08:55:53.070Z"
   },
   {
    "duration": 8,
    "start_time": "2023-04-16T08:55:55.906Z"
   },
   {
    "duration": 33,
    "start_time": "2023-04-16T08:57:26.261Z"
   },
   {
    "duration": 8,
    "start_time": "2023-04-16T08:57:42.063Z"
   },
   {
    "duration": 14,
    "start_time": "2023-04-16T08:57:44.924Z"
   },
   {
    "duration": 35,
    "start_time": "2023-04-16T08:58:12.893Z"
   },
   {
    "duration": 22,
    "start_time": "2023-04-16T08:58:13.266Z"
   },
   {
    "duration": 10,
    "start_time": "2023-04-16T08:58:13.662Z"
   },
   {
    "duration": 16,
    "start_time": "2023-04-16T08:58:15.307Z"
   },
   {
    "duration": 7,
    "start_time": "2023-04-16T08:58:15.778Z"
   },
   {
    "duration": 1131,
    "start_time": "2023-04-16T08:59:13.566Z"
   },
   {
    "duration": 347,
    "start_time": "2023-04-16T08:59:15.800Z"
   },
   {
    "duration": 920,
    "start_time": "2023-04-16T09:00:44.671Z"
   },
   {
    "duration": 54,
    "start_time": "2023-04-16T09:02:31.685Z"
   },
   {
    "duration": 291645,
    "start_time": "2023-04-16T09:02:44.257Z"
   },
   {
    "duration": 300,
    "start_time": "2023-04-16T09:07:35.906Z"
   },
   {
    "duration": 72145,
    "start_time": "2023-04-16T09:07:36.208Z"
   },
   {
    "duration": 425,
    "start_time": "2023-04-16T09:08:48.355Z"
   },
   {
    "duration": 6,
    "start_time": "2023-04-16T09:08:48.782Z"
   },
   {
    "duration": 5,
    "start_time": "2023-04-16T09:09:46.676Z"
   },
   {
    "duration": 328389,
    "start_time": "2023-04-16T09:10:35.735Z"
   },
   {
    "duration": 11,
    "start_time": "2023-04-16T09:16:04.127Z"
   },
   {
    "duration": 0,
    "start_time": "2023-04-16T09:16:04.140Z"
   },
   {
    "duration": 0,
    "start_time": "2023-04-16T09:16:04.152Z"
   },
   {
    "duration": 0,
    "start_time": "2023-04-16T09:16:04.154Z"
   },
   {
    "duration": 0,
    "start_time": "2023-04-16T09:16:04.155Z"
   },
   {
    "duration": 0,
    "start_time": "2023-04-16T09:16:04.165Z"
   },
   {
    "duration": 74435,
    "start_time": "2023-04-16T09:16:25.010Z"
   },
   {
    "duration": 430,
    "start_time": "2023-04-16T09:17:39.447Z"
   },
   {
    "duration": 39,
    "start_time": "2023-04-16T09:17:48.660Z"
   },
   {
    "duration": 15,
    "start_time": "2023-04-16T09:17:49.487Z"
   },
   {
    "duration": 7,
    "start_time": "2023-04-16T09:17:49.969Z"
   },
   {
    "duration": 7,
    "start_time": "2023-04-16T09:17:53.666Z"
   },
   {
    "duration": 474187,
    "start_time": "2023-04-16T09:17:55.448Z"
   },
   {
    "duration": 36,
    "start_time": "2023-04-16T09:25:49.637Z"
   },
   {
    "duration": 0,
    "start_time": "2023-04-16T09:25:49.678Z"
   },
   {
    "duration": 0,
    "start_time": "2023-04-16T09:25:49.680Z"
   },
   {
    "duration": 60700,
    "start_time": "2023-04-16T09:26:07.720Z"
   },
   {
    "duration": 752659,
    "start_time": "2023-04-16T09:27:26.616Z"
   },
   {
    "duration": 6,
    "start_time": "2023-04-16T09:39:59.277Z"
   },
   {
    "duration": 313,
    "start_time": "2023-04-16T09:42:06.183Z"
   },
   {
    "duration": 101,
    "start_time": "2023-04-16T09:43:19.108Z"
   },
   {
    "duration": 1780,
    "start_time": "2023-04-16T09:50:39.506Z"
   },
   {
    "duration": 3,
    "start_time": "2023-04-16T09:50:41.289Z"
   },
   {
    "duration": 24,
    "start_time": "2023-04-16T09:50:41.295Z"
   },
   {
    "duration": 51,
    "start_time": "2023-04-16T09:50:41.321Z"
   },
   {
    "duration": 47,
    "start_time": "2023-04-16T09:50:41.375Z"
   },
   {
    "duration": 143,
    "start_time": "2023-04-16T09:50:41.424Z"
   },
   {
    "duration": 21,
    "start_time": "2023-04-16T09:50:41.570Z"
   },
   {
    "duration": 6,
    "start_time": "2023-04-16T09:50:41.593Z"
   },
   {
    "duration": 46,
    "start_time": "2023-04-16T09:50:41.601Z"
   },
   {
    "duration": 20,
    "start_time": "2023-04-16T09:50:41.648Z"
   },
   {
    "duration": 46,
    "start_time": "2023-04-16T09:50:41.670Z"
   },
   {
    "duration": 73,
    "start_time": "2023-04-16T09:50:41.719Z"
   },
   {
    "duration": 33,
    "start_time": "2023-04-16T09:50:41.794Z"
   },
   {
    "duration": 11,
    "start_time": "2023-04-16T09:50:41.846Z"
   },
   {
    "duration": 128,
    "start_time": "2023-04-16T09:50:41.859Z"
   },
   {
    "duration": 38,
    "start_time": "2023-04-16T09:50:41.989Z"
   },
   {
    "duration": 1154,
    "start_time": "2023-04-16T09:50:42.029Z"
   },
   {
    "duration": 307,
    "start_time": "2023-04-16T09:50:43.185Z"
   },
   {
    "duration": 1188,
    "start_time": "2023-04-16T09:50:43.495Z"
   },
   {
    "duration": 7,
    "start_time": "2023-04-16T09:50:44.684Z"
   },
   {
    "duration": 12,
    "start_time": "2023-04-16T09:50:44.693Z"
   },
   {
    "duration": 8,
    "start_time": "2023-04-16T09:50:44.707Z"
   },
   {
    "duration": 30,
    "start_time": "2023-04-16T09:50:44.717Z"
   },
   {
    "duration": 65,
    "start_time": "2023-04-16T09:50:44.749Z"
   },
   {
    "duration": 23,
    "start_time": "2023-04-16T09:50:44.827Z"
   },
   {
    "duration": 31,
    "start_time": "2023-04-16T09:50:44.852Z"
   },
   {
    "duration": 17,
    "start_time": "2023-04-16T09:50:44.885Z"
   },
   {
    "duration": 8184086,
    "start_time": "2023-04-16T09:50:44.904Z"
   },
   {
    "duration": 15,
    "start_time": "2023-04-16T12:07:08.994Z"
   },
   {
    "duration": 409,
    "start_time": "2023-04-16T12:07:09.011Z"
   },
   {
    "duration": 165,
    "start_time": "2023-04-16T12:07:09.422Z"
   },
   {
    "duration": 58067,
    "start_time": "2023-04-16T12:07:09.590Z"
   },
   {
    "duration": 406,
    "start_time": "2023-04-16T12:08:07.669Z"
   },
   {
    "duration": 14,
    "start_time": "2023-04-16T12:08:08.077Z"
   },
   {
    "duration": 11,
    "start_time": "2023-04-16T12:08:08.093Z"
   },
   {
    "duration": 19,
    "start_time": "2023-04-16T12:08:08.106Z"
   },
   {
    "duration": 3078314,
    "start_time": "2023-04-16T12:08:08.151Z"
   },
   {
    "duration": 52390,
    "start_time": "2023-04-16T12:59:26.471Z"
   },
   {
    "duration": 5,
    "start_time": "2023-04-16T13:00:18.864Z"
   },
   {
    "duration": 11,
    "start_time": "2023-04-16T13:00:18.872Z"
   },
   {
    "duration": 147570,
    "start_time": "2023-04-16T13:00:18.887Z"
   },
   {
    "duration": 161022,
    "start_time": "2023-04-16T13:02:46.466Z"
   },
   {
    "duration": 322,
    "start_time": "2023-04-16T13:05:27.490Z"
   },
   {
    "duration": 473,
    "start_time": "2023-04-16T13:06:35.732Z"
   },
   {
    "duration": 1758,
    "start_time": "2023-04-16T13:06:55.750Z"
   },
   {
    "duration": 4,
    "start_time": "2023-04-16T13:06:57.511Z"
   },
   {
    "duration": 15,
    "start_time": "2023-04-16T13:06:57.517Z"
   },
   {
    "duration": 28,
    "start_time": "2023-04-16T13:06:57.534Z"
   },
   {
    "duration": 22,
    "start_time": "2023-04-16T13:06:57.566Z"
   },
   {
    "duration": 85,
    "start_time": "2023-04-16T13:06:57.590Z"
   },
   {
    "duration": 17,
    "start_time": "2023-04-16T13:06:57.677Z"
   },
   {
    "duration": 9,
    "start_time": "2023-04-16T13:06:57.696Z"
   },
   {
    "duration": 14,
    "start_time": "2023-04-16T13:06:57.706Z"
   },
   {
    "duration": 38,
    "start_time": "2023-04-16T13:06:57.722Z"
   },
   {
    "duration": 10,
    "start_time": "2023-04-16T13:06:57.762Z"
   },
   {
    "duration": 28,
    "start_time": "2023-04-16T13:06:57.774Z"
   },
   {
    "duration": 34,
    "start_time": "2023-04-16T13:06:57.804Z"
   },
   {
    "duration": 16,
    "start_time": "2023-04-16T13:06:57.841Z"
   },
   {
    "duration": 107,
    "start_time": "2023-04-16T13:06:57.860Z"
   },
   {
    "duration": 36,
    "start_time": "2023-04-16T13:06:57.969Z"
   },
   {
    "duration": 919,
    "start_time": "2023-04-16T13:06:58.007Z"
   },
   {
    "duration": 391,
    "start_time": "2023-04-16T13:06:58.928Z"
   },
   {
    "duration": 815,
    "start_time": "2023-04-16T13:06:59.321Z"
   },
   {
    "duration": 15,
    "start_time": "2023-04-16T13:07:00.145Z"
   },
   {
    "duration": 26,
    "start_time": "2023-04-16T13:07:00.162Z"
   },
   {
    "duration": 35,
    "start_time": "2023-04-16T13:07:00.191Z"
   },
   {
    "duration": 47,
    "start_time": "2023-04-16T13:07:00.228Z"
   },
   {
    "duration": 63,
    "start_time": "2023-04-16T13:07:00.277Z"
   },
   {
    "duration": 23,
    "start_time": "2023-04-16T13:07:00.344Z"
   },
   {
    "duration": 54,
    "start_time": "2023-04-16T13:07:00.369Z"
   },
   {
    "duration": 83,
    "start_time": "2023-04-16T13:07:00.425Z"
   },
   {
    "duration": 226191,
    "start_time": "2023-04-16T13:07:00.510Z"
   },
   {
    "duration": 14,
    "start_time": "2023-04-16T13:10:46.703Z"
   },
   {
    "duration": 0,
    "start_time": "2023-04-16T13:10:46.719Z"
   },
   {
    "duration": 0,
    "start_time": "2023-04-16T13:10:46.720Z"
   },
   {
    "duration": 0,
    "start_time": "2023-04-16T13:10:46.722Z"
   },
   {
    "duration": 0,
    "start_time": "2023-04-16T13:10:46.723Z"
   },
   {
    "duration": 0,
    "start_time": "2023-04-16T13:10:46.725Z"
   },
   {
    "duration": 0,
    "start_time": "2023-04-16T13:10:46.727Z"
   },
   {
    "duration": 0,
    "start_time": "2023-04-16T13:10:46.728Z"
   },
   {
    "duration": 0,
    "start_time": "2023-04-16T13:10:46.730Z"
   },
   {
    "duration": 0,
    "start_time": "2023-04-16T13:10:46.732Z"
   },
   {
    "duration": 0,
    "start_time": "2023-04-16T13:10:46.733Z"
   },
   {
    "duration": 0,
    "start_time": "2023-04-16T13:10:46.740Z"
   },
   {
    "duration": 0,
    "start_time": "2023-04-16T13:10:46.742Z"
   },
   {
    "duration": 0,
    "start_time": "2023-04-16T13:10:46.744Z"
   },
   {
    "duration": 0,
    "start_time": "2023-04-16T13:10:46.745Z"
   },
   {
    "duration": 1651,
    "start_time": "2023-04-16T13:10:51.010Z"
   },
   {
    "duration": 4,
    "start_time": "2023-04-16T13:10:52.664Z"
   },
   {
    "duration": 26,
    "start_time": "2023-04-16T13:10:52.670Z"
   },
   {
    "duration": 16,
    "start_time": "2023-04-16T13:10:52.698Z"
   },
   {
    "duration": 14,
    "start_time": "2023-04-16T13:10:52.718Z"
   },
   {
    "duration": 141,
    "start_time": "2023-04-16T13:10:52.734Z"
   },
   {
    "duration": 14,
    "start_time": "2023-04-16T13:10:52.878Z"
   },
   {
    "duration": 11,
    "start_time": "2023-04-16T13:10:52.894Z"
   },
   {
    "duration": 14,
    "start_time": "2023-04-16T13:10:52.907Z"
   },
   {
    "duration": 38,
    "start_time": "2023-04-16T13:10:52.923Z"
   },
   {
    "duration": 16,
    "start_time": "2023-04-16T13:10:52.963Z"
   },
   {
    "duration": 19,
    "start_time": "2023-04-16T13:10:52.980Z"
   },
   {
    "duration": 28,
    "start_time": "2023-04-16T13:10:53.001Z"
   },
   {
    "duration": 7,
    "start_time": "2023-04-16T13:10:53.032Z"
   },
   {
    "duration": 96,
    "start_time": "2023-04-16T13:10:53.041Z"
   },
   {
    "duration": 39,
    "start_time": "2023-04-16T13:10:53.140Z"
   },
   {
    "duration": 905,
    "start_time": "2023-04-16T13:10:53.181Z"
   },
   {
    "duration": 285,
    "start_time": "2023-04-16T13:10:54.088Z"
   },
   {
    "duration": 588,
    "start_time": "2023-04-16T13:10:54.375Z"
   },
   {
    "duration": 7,
    "start_time": "2023-04-16T13:10:54.965Z"
   },
   {
    "duration": 22,
    "start_time": "2023-04-16T13:10:54.975Z"
   },
   {
    "duration": 59,
    "start_time": "2023-04-16T13:10:54.999Z"
   },
   {
    "duration": 93,
    "start_time": "2023-04-16T13:10:55.060Z"
   },
   {
    "duration": 54,
    "start_time": "2023-04-16T13:10:55.155Z"
   },
   {
    "duration": 17,
    "start_time": "2023-04-16T13:10:55.211Z"
   },
   {
    "duration": 35,
    "start_time": "2023-04-16T13:10:55.231Z"
   },
   {
    "duration": 30,
    "start_time": "2023-04-16T13:10:55.268Z"
   },
   {
    "duration": 5755006,
    "start_time": "2023-04-16T13:10:55.300Z"
   },
   {
    "duration": 6,
    "start_time": "2023-04-16T14:46:50.308Z"
   },
   {
    "duration": 272,
    "start_time": "2023-04-16T14:46:50.315Z"
   },
   {
    "duration": 102,
    "start_time": "2023-04-16T14:46:50.589Z"
   },
   {
    "duration": 51157,
    "start_time": "2023-04-16T14:46:50.694Z"
   },
   {
    "duration": 502,
    "start_time": "2023-04-16T14:47:41.853Z"
   },
   {
    "duration": 15,
    "start_time": "2023-04-16T14:47:42.358Z"
   },
   {
    "duration": 6,
    "start_time": "2023-04-16T14:47:42.375Z"
   },
   {
    "duration": 10,
    "start_time": "2023-04-16T14:47:42.383Z"
   },
   {
    "duration": 747769,
    "start_time": "2023-04-16T14:47:42.395Z"
   },
   {
    "duration": 0,
    "start_time": "2023-04-16T15:00:10.167Z"
   },
   {
    "duration": 0,
    "start_time": "2023-04-16T15:00:10.169Z"
   },
   {
    "duration": 0,
    "start_time": "2023-04-16T15:00:10.171Z"
   },
   {
    "duration": 0,
    "start_time": "2023-04-16T15:00:10.172Z"
   },
   {
    "duration": 0,
    "start_time": "2023-04-16T15:00:10.174Z"
   },
   {
    "duration": 0,
    "start_time": "2023-04-16T15:00:10.174Z"
   },
   {
    "duration": 9,
    "start_time": "2023-04-16T15:00:34.136Z"
   },
   {
    "duration": 2067,
    "start_time": "2023-04-16T15:10:12.104Z"
   },
   {
    "duration": 4,
    "start_time": "2023-04-16T15:10:14.174Z"
   },
   {
    "duration": 20,
    "start_time": "2023-04-16T15:10:14.180Z"
   },
   {
    "duration": 19,
    "start_time": "2023-04-16T15:10:14.202Z"
   },
   {
    "duration": 35,
    "start_time": "2023-04-16T15:10:14.224Z"
   },
   {
    "duration": 73,
    "start_time": "2023-04-16T15:10:14.261Z"
   },
   {
    "duration": 16,
    "start_time": "2023-04-16T15:10:14.336Z"
   },
   {
    "duration": 36,
    "start_time": "2023-04-16T15:10:14.354Z"
   },
   {
    "duration": 17,
    "start_time": "2023-04-16T15:10:14.392Z"
   },
   {
    "duration": 32,
    "start_time": "2023-04-16T15:10:14.411Z"
   },
   {
    "duration": 15,
    "start_time": "2023-04-16T15:10:14.445Z"
   },
   {
    "duration": 38,
    "start_time": "2023-04-16T15:10:14.461Z"
   },
   {
    "duration": 46,
    "start_time": "2023-04-16T15:10:14.501Z"
   },
   {
    "duration": 8,
    "start_time": "2023-04-16T15:10:14.552Z"
   },
   {
    "duration": 106,
    "start_time": "2023-04-16T15:10:14.562Z"
   },
   {
    "duration": 35,
    "start_time": "2023-04-16T15:10:14.670Z"
   },
   {
    "duration": 886,
    "start_time": "2023-04-16T15:10:14.707Z"
   },
   {
    "duration": 289,
    "start_time": "2023-04-16T15:10:15.595Z"
   },
   {
    "duration": 558,
    "start_time": "2023-04-16T15:10:15.886Z"
   },
   {
    "duration": 7,
    "start_time": "2023-04-16T15:10:16.445Z"
   },
   {
    "duration": 9,
    "start_time": "2023-04-16T15:10:16.454Z"
   },
   {
    "duration": 5,
    "start_time": "2023-04-16T15:10:16.465Z"
   },
   {
    "duration": 8,
    "start_time": "2023-04-16T15:10:16.472Z"
   },
   {
    "duration": 68,
    "start_time": "2023-04-16T15:10:16.482Z"
   },
   {
    "duration": 19,
    "start_time": "2023-04-16T15:10:16.552Z"
   },
   {
    "duration": 6,
    "start_time": "2023-04-16T15:10:16.574Z"
   },
   {
    "duration": 36,
    "start_time": "2023-04-16T15:10:16.582Z"
   },
   {
    "duration": 5161731,
    "start_time": "2023-04-16T15:10:16.619Z"
   },
   {
    "duration": 14,
    "start_time": "2023-04-16T16:36:18.352Z"
   },
   {
    "duration": 0,
    "start_time": "2023-04-16T16:36:18.368Z"
   },
   {
    "duration": 0,
    "start_time": "2023-04-16T16:36:18.370Z"
   },
   {
    "duration": 0,
    "start_time": "2023-04-16T16:36:18.371Z"
   },
   {
    "duration": 0,
    "start_time": "2023-04-16T16:36:18.373Z"
   },
   {
    "duration": 0,
    "start_time": "2023-04-16T16:36:18.375Z"
   },
   {
    "duration": 0,
    "start_time": "2023-04-16T16:36:18.376Z"
   },
   {
    "duration": 0,
    "start_time": "2023-04-16T16:36:18.377Z"
   },
   {
    "duration": 0,
    "start_time": "2023-04-16T16:36:18.379Z"
   },
   {
    "duration": 0,
    "start_time": "2023-04-16T16:36:18.380Z"
   },
   {
    "duration": 0,
    "start_time": "2023-04-16T16:36:18.382Z"
   },
   {
    "duration": 0,
    "start_time": "2023-04-16T16:36:18.383Z"
   },
   {
    "duration": 0,
    "start_time": "2023-04-16T16:36:18.384Z"
   },
   {
    "duration": 0,
    "start_time": "2023-04-16T16:36:18.385Z"
   },
   {
    "duration": 0,
    "start_time": "2023-04-16T16:36:18.386Z"
   },
   {
    "duration": 0,
    "start_time": "2023-04-16T16:36:18.387Z"
   },
   {
    "duration": 2052,
    "start_time": "2023-04-16T16:36:41.610Z"
   },
   {
    "duration": 4,
    "start_time": "2023-04-16T16:36:43.665Z"
   },
   {
    "duration": 35,
    "start_time": "2023-04-16T16:36:43.672Z"
   },
   {
    "duration": 21,
    "start_time": "2023-04-16T16:36:43.709Z"
   },
   {
    "duration": 49,
    "start_time": "2023-04-16T16:36:43.732Z"
   },
   {
    "duration": 87,
    "start_time": "2023-04-16T16:36:43.784Z"
   },
   {
    "duration": 15,
    "start_time": "2023-04-16T16:36:43.872Z"
   },
   {
    "duration": 10,
    "start_time": "2023-04-16T16:36:43.889Z"
   },
   {
    "duration": 22,
    "start_time": "2023-04-16T16:36:43.901Z"
   },
   {
    "duration": 16,
    "start_time": "2023-04-16T16:36:43.925Z"
   },
   {
    "duration": 4,
    "start_time": "2023-04-16T16:36:43.943Z"
   },
   {
    "duration": 21,
    "start_time": "2023-04-16T16:36:43.949Z"
   },
   {
    "duration": 34,
    "start_time": "2023-04-16T16:36:43.972Z"
   },
   {
    "duration": 7,
    "start_time": "2023-04-16T16:36:44.010Z"
   },
   {
    "duration": 103,
    "start_time": "2023-04-16T16:36:44.019Z"
   },
   {
    "duration": 49,
    "start_time": "2023-04-16T16:36:44.124Z"
   },
   {
    "duration": 856,
    "start_time": "2023-04-16T16:36:44.175Z"
   },
   {
    "duration": 300,
    "start_time": "2023-04-16T16:36:45.033Z"
   },
   {
    "duration": 523,
    "start_time": "2023-04-16T16:36:45.341Z"
   },
   {
    "duration": 8,
    "start_time": "2023-04-16T16:36:45.867Z"
   },
   {
    "duration": 23,
    "start_time": "2023-04-16T16:36:45.876Z"
   },
   {
    "duration": 15,
    "start_time": "2023-04-16T16:36:45.901Z"
   },
   {
    "duration": 23,
    "start_time": "2023-04-16T16:36:45.918Z"
   },
   {
    "duration": 54,
    "start_time": "2023-04-16T16:36:45.944Z"
   },
   {
    "duration": 20,
    "start_time": "2023-04-16T16:36:46.001Z"
   },
   {
    "duration": 18,
    "start_time": "2023-04-16T16:36:46.024Z"
   },
   {
    "duration": 21,
    "start_time": "2023-04-16T16:36:46.045Z"
   },
   {
    "duration": 41612695,
    "start_time": "2023-04-16T16:36:46.069Z"
   },
   {
    "duration": 14,
    "start_time": "2023-04-17T04:10:18.766Z"
   },
   {
    "duration": 0,
    "start_time": "2023-04-17T04:10:18.782Z"
   },
   {
    "duration": 0,
    "start_time": "2023-04-17T04:10:18.783Z"
   },
   {
    "duration": 0,
    "start_time": "2023-04-17T04:10:18.785Z"
   },
   {
    "duration": 0,
    "start_time": "2023-04-17T04:10:18.786Z"
   },
   {
    "duration": 0,
    "start_time": "2023-04-17T04:10:18.788Z"
   },
   {
    "duration": 0,
    "start_time": "2023-04-17T04:10:18.789Z"
   },
   {
    "duration": 0,
    "start_time": "2023-04-17T04:10:18.791Z"
   },
   {
    "duration": 0,
    "start_time": "2023-04-17T04:10:18.792Z"
   },
   {
    "duration": 0,
    "start_time": "2023-04-17T04:10:18.794Z"
   },
   {
    "duration": 0,
    "start_time": "2023-04-17T04:10:18.795Z"
   },
   {
    "duration": 0,
    "start_time": "2023-04-17T04:10:18.797Z"
   },
   {
    "duration": 0,
    "start_time": "2023-04-17T04:10:18.799Z"
   },
   {
    "duration": 0,
    "start_time": "2023-04-17T04:10:18.800Z"
   },
   {
    "duration": 0,
    "start_time": "2023-04-17T04:10:18.801Z"
   },
   {
    "duration": 0,
    "start_time": "2023-04-17T04:10:18.842Z"
   },
   {
    "duration": 10,
    "start_time": "2023-04-17T04:10:41.613Z"
   },
   {
    "duration": 11,
    "start_time": "2023-04-17T04:10:47.364Z"
   },
   {
    "duration": 303944,
    "start_time": "2023-04-17T04:12:53.375Z"
   },
   {
    "duration": 16,
    "start_time": "2023-04-17T04:17:57.321Z"
   },
   {
    "duration": 0,
    "start_time": "2023-04-17T04:17:57.339Z"
   },
   {
    "duration": 0,
    "start_time": "2023-04-17T04:17:57.340Z"
   },
   {
    "duration": 0,
    "start_time": "2023-04-17T04:17:57.342Z"
   },
   {
    "duration": 0,
    "start_time": "2023-04-17T04:17:57.343Z"
   },
   {
    "duration": 0,
    "start_time": "2023-04-17T04:17:57.345Z"
   },
   {
    "duration": 0,
    "start_time": "2023-04-17T04:17:57.346Z"
   },
   {
    "duration": 0,
    "start_time": "2023-04-17T04:17:57.348Z"
   },
   {
    "duration": 0,
    "start_time": "2023-04-17T04:17:57.349Z"
   },
   {
    "duration": 0,
    "start_time": "2023-04-17T04:17:57.351Z"
   },
   {
    "duration": 0,
    "start_time": "2023-04-17T04:17:57.353Z"
   },
   {
    "duration": 0,
    "start_time": "2023-04-17T04:17:57.355Z"
   },
   {
    "duration": 0,
    "start_time": "2023-04-17T04:17:57.356Z"
   },
   {
    "duration": 1696,
    "start_time": "2023-04-17T04:18:01.930Z"
   },
   {
    "duration": 4,
    "start_time": "2023-04-17T04:18:03.628Z"
   },
   {
    "duration": 41,
    "start_time": "2023-04-17T04:18:03.634Z"
   },
   {
    "duration": 65,
    "start_time": "2023-04-17T04:18:03.677Z"
   },
   {
    "duration": 71,
    "start_time": "2023-04-17T04:18:03.744Z"
   },
   {
    "duration": 91,
    "start_time": "2023-04-17T04:18:03.817Z"
   },
   {
    "duration": 14,
    "start_time": "2023-04-17T04:18:03.909Z"
   },
   {
    "duration": 26,
    "start_time": "2023-04-17T04:18:03.925Z"
   },
   {
    "duration": 27,
    "start_time": "2023-04-17T04:18:03.953Z"
   },
   {
    "duration": 13,
    "start_time": "2023-04-17T04:18:03.984Z"
   },
   {
    "duration": 17,
    "start_time": "2023-04-17T04:18:03.999Z"
   },
   {
    "duration": 41,
    "start_time": "2023-04-17T04:18:04.018Z"
   },
   {
    "duration": 67,
    "start_time": "2023-04-17T04:18:04.061Z"
   },
   {
    "duration": 16,
    "start_time": "2023-04-17T04:18:04.130Z"
   },
   {
    "duration": 120,
    "start_time": "2023-04-17T04:18:04.148Z"
   },
   {
    "duration": 34,
    "start_time": "2023-04-17T04:18:04.270Z"
   },
   {
    "duration": 848,
    "start_time": "2023-04-17T04:18:04.306Z"
   },
   {
    "duration": 276,
    "start_time": "2023-04-17T04:18:05.156Z"
   },
   {
    "duration": 469,
    "start_time": "2023-04-17T04:18:05.433Z"
   },
   {
    "duration": 6,
    "start_time": "2023-04-17T04:18:05.904Z"
   },
   {
    "duration": 22,
    "start_time": "2023-04-17T04:18:05.911Z"
   },
   {
    "duration": 25,
    "start_time": "2023-04-17T04:18:05.935Z"
   },
   {
    "duration": 18,
    "start_time": "2023-04-17T04:18:05.962Z"
   },
   {
    "duration": 45,
    "start_time": "2023-04-17T04:18:05.983Z"
   },
   {
    "duration": 16,
    "start_time": "2023-04-17T04:18:06.031Z"
   },
   {
    "duration": 13,
    "start_time": "2023-04-17T04:18:06.049Z"
   },
   {
    "duration": 25,
    "start_time": "2023-04-17T04:18:06.064Z"
   },
   {
    "duration": 11090133,
    "start_time": "2023-04-17T04:18:06.093Z"
   },
   {
    "duration": 16,
    "start_time": "2023-04-17T07:22:56.229Z"
   },
   {
    "duration": 53,
    "start_time": "2023-04-17T07:22:56.248Z"
   },
   {
    "duration": 371,
    "start_time": "2023-04-17T07:22:56.303Z"
   },
   {
    "duration": 179,
    "start_time": "2023-04-17T07:22:56.677Z"
   },
   {
    "duration": 41093,
    "start_time": "2023-04-17T07:22:56.858Z"
   },
   {
    "duration": 402,
    "start_time": "2023-04-17T07:23:37.954Z"
   },
   {
    "duration": 20,
    "start_time": "2023-04-17T07:23:38.358Z"
   },
   {
    "duration": 7,
    "start_time": "2023-04-17T07:23:38.381Z"
   },
   {
    "duration": 12,
    "start_time": "2023-04-17T07:23:38.390Z"
   },
   {
    "duration": 4250208,
    "start_time": "2023-04-17T07:23:38.404Z"
   },
   {
    "duration": 0,
    "start_time": "2023-04-17T08:34:28.614Z"
   },
   {
    "duration": 0,
    "start_time": "2023-04-17T08:34:28.615Z"
   },
   {
    "duration": 0,
    "start_time": "2023-04-17T08:34:28.616Z"
   },
   {
    "duration": 0,
    "start_time": "2023-04-17T08:34:28.619Z"
   },
   {
    "duration": 0,
    "start_time": "2023-04-17T08:34:28.621Z"
   },
   {
    "duration": 0,
    "start_time": "2023-04-17T08:34:28.640Z"
   },
   {
    "duration": 2239,
    "start_time": "2023-04-17T08:34:49.374Z"
   },
   {
    "duration": 5,
    "start_time": "2023-04-17T08:34:51.615Z"
   },
   {
    "duration": 91,
    "start_time": "2023-04-17T08:34:51.622Z"
   },
   {
    "duration": 93,
    "start_time": "2023-04-17T08:34:51.715Z"
   },
   {
    "duration": 100,
    "start_time": "2023-04-17T08:34:51.812Z"
   },
   {
    "duration": 127,
    "start_time": "2023-04-17T08:34:51.915Z"
   },
   {
    "duration": 23,
    "start_time": "2023-04-17T08:34:52.053Z"
   },
   {
    "duration": 38,
    "start_time": "2023-04-17T08:34:52.079Z"
   },
   {
    "duration": 80,
    "start_time": "2023-04-17T08:34:52.119Z"
   },
   {
    "duration": 28,
    "start_time": "2023-04-17T08:34:52.202Z"
   },
   {
    "duration": 70,
    "start_time": "2023-04-17T08:34:52.232Z"
   },
   {
    "duration": 84,
    "start_time": "2023-04-17T08:34:52.304Z"
   },
   {
    "duration": 45,
    "start_time": "2023-04-17T08:34:52.390Z"
   },
   {
    "duration": 57,
    "start_time": "2023-04-17T08:34:52.439Z"
   },
   {
    "duration": 180,
    "start_time": "2023-04-17T08:34:52.499Z"
   },
   {
    "duration": 44,
    "start_time": "2023-04-17T08:34:52.681Z"
   },
   {
    "duration": 998,
    "start_time": "2023-04-17T08:34:52.727Z"
   },
   {
    "duration": 337,
    "start_time": "2023-04-17T08:34:53.727Z"
   },
   {
    "duration": 1031,
    "start_time": "2023-04-17T08:34:54.077Z"
   },
   {
    "duration": 11,
    "start_time": "2023-04-17T08:34:55.111Z"
   },
   {
    "duration": 88,
    "start_time": "2023-04-17T08:34:55.124Z"
   },
   {
    "duration": 19,
    "start_time": "2023-04-17T08:34:55.215Z"
   },
   {
    "duration": 74,
    "start_time": "2023-04-17T08:34:55.236Z"
   },
   {
    "duration": 117,
    "start_time": "2023-04-17T08:34:55.312Z"
   },
   {
    "duration": 100,
    "start_time": "2023-04-17T08:34:55.431Z"
   },
   {
    "duration": 94,
    "start_time": "2023-04-17T08:34:55.534Z"
   },
   {
    "duration": 75,
    "start_time": "2023-04-17T08:34:55.630Z"
   },
   {
    "duration": 115310,
    "start_time": "2023-04-17T08:34:55.708Z"
   },
   {
    "duration": 15,
    "start_time": "2023-04-17T08:36:51.020Z"
   },
   {
    "duration": 0,
    "start_time": "2023-04-17T08:36:51.038Z"
   },
   {
    "duration": 0,
    "start_time": "2023-04-17T08:36:51.039Z"
   },
   {
    "duration": 1,
    "start_time": "2023-04-17T08:36:51.040Z"
   },
   {
    "duration": 0,
    "start_time": "2023-04-17T08:36:51.043Z"
   },
   {
    "duration": 0,
    "start_time": "2023-04-17T08:36:51.043Z"
   },
   {
    "duration": 0,
    "start_time": "2023-04-17T08:36:51.044Z"
   },
   {
    "duration": 0,
    "start_time": "2023-04-17T08:36:51.045Z"
   },
   {
    "duration": 0,
    "start_time": "2023-04-17T08:36:51.046Z"
   },
   {
    "duration": 0,
    "start_time": "2023-04-17T08:36:51.046Z"
   },
   {
    "duration": 0,
    "start_time": "2023-04-17T08:36:51.048Z"
   },
   {
    "duration": 0,
    "start_time": "2023-04-17T08:36:51.052Z"
   },
   {
    "duration": 0,
    "start_time": "2023-04-17T08:36:51.054Z"
   },
   {
    "duration": 0,
    "start_time": "2023-04-17T08:36:51.056Z"
   },
   {
    "duration": 0,
    "start_time": "2023-04-17T08:36:51.058Z"
   },
   {
    "duration": 0,
    "start_time": "2023-04-17T08:36:51.059Z"
   },
   {
    "duration": 2063,
    "start_time": "2023-04-17T08:37:12.478Z"
   },
   {
    "duration": 9,
    "start_time": "2023-04-17T08:37:14.546Z"
   },
   {
    "duration": 44,
    "start_time": "2023-04-17T08:37:14.557Z"
   },
   {
    "duration": 11,
    "start_time": "2023-04-17T08:37:14.603Z"
   },
   {
    "duration": 12,
    "start_time": "2023-04-17T08:37:14.617Z"
   },
   {
    "duration": 131,
    "start_time": "2023-04-17T08:37:14.632Z"
   },
   {
    "duration": 26,
    "start_time": "2023-04-17T08:37:14.766Z"
   },
   {
    "duration": 35,
    "start_time": "2023-04-17T08:37:14.794Z"
   },
   {
    "duration": 75,
    "start_time": "2023-04-17T08:37:14.832Z"
   },
   {
    "duration": 21,
    "start_time": "2023-04-17T08:37:14.912Z"
   },
   {
    "duration": 14,
    "start_time": "2023-04-17T08:37:14.935Z"
   },
   {
    "duration": 82,
    "start_time": "2023-04-17T08:37:14.956Z"
   },
   {
    "duration": 129,
    "start_time": "2023-04-17T08:37:15.045Z"
   },
   {
    "duration": 24,
    "start_time": "2023-04-17T08:37:15.185Z"
   },
   {
    "duration": 121,
    "start_time": "2023-04-17T08:37:15.211Z"
   },
   {
    "duration": 47,
    "start_time": "2023-04-17T08:37:15.340Z"
   },
   {
    "duration": 1117,
    "start_time": "2023-04-17T08:37:15.397Z"
   },
   {
    "duration": 422,
    "start_time": "2023-04-17T08:37:16.519Z"
   },
   {
    "duration": 1082,
    "start_time": "2023-04-17T08:37:16.943Z"
   },
   {
    "duration": 9,
    "start_time": "2023-04-17T08:37:18.027Z"
   },
   {
    "duration": 76,
    "start_time": "2023-04-17T08:37:18.041Z"
   },
   {
    "duration": 11,
    "start_time": "2023-04-17T08:37:18.119Z"
   },
   {
    "duration": 19,
    "start_time": "2023-04-17T08:37:18.132Z"
   },
   {
    "duration": 95,
    "start_time": "2023-04-17T08:37:18.154Z"
   },
   {
    "duration": 22,
    "start_time": "2023-04-17T08:37:18.251Z"
   },
   {
    "duration": 26,
    "start_time": "2023-04-17T08:37:18.283Z"
   },
   {
    "duration": 15,
    "start_time": "2023-04-17T08:37:18.311Z"
   },
   {
    "duration": 5000504,
    "start_time": "2023-04-17T08:37:18.328Z"
   },
   {
    "duration": 22,
    "start_time": "2023-04-17T10:00:38.834Z"
   },
   {
    "duration": 45,
    "start_time": "2023-04-17T10:00:38.859Z"
   },
   {
    "duration": 378,
    "start_time": "2023-04-17T10:00:38.906Z"
   },
   {
    "duration": 102,
    "start_time": "2023-04-17T10:00:39.286Z"
   },
   {
    "duration": 52475,
    "start_time": "2023-04-17T10:00:39.390Z"
   },
   {
    "duration": 455,
    "start_time": "2023-04-17T10:01:31.880Z"
   },
   {
    "duration": 22,
    "start_time": "2023-04-17T10:01:32.338Z"
   },
   {
    "duration": 68,
    "start_time": "2023-04-17T10:01:32.363Z"
   },
   {
    "duration": 67,
    "start_time": "2023-04-17T10:01:32.434Z"
   },
   {
    "duration": 1967884,
    "start_time": "2023-04-17T10:01:32.503Z"
   },
   {
    "duration": 44572,
    "start_time": "2023-04-17T10:34:20.389Z"
   },
   {
    "duration": 373,
    "start_time": "2023-04-17T10:35:04.964Z"
   },
   {
    "duration": 0,
    "start_time": "2023-04-17T10:35:05.339Z"
   },
   {
    "duration": 0,
    "start_time": "2023-04-17T10:35:05.341Z"
   },
   {
    "duration": 0,
    "start_time": "2023-04-17T10:35:05.343Z"
   },
   {
    "duration": 1,
    "start_time": "2023-04-17T10:35:05.344Z"
   },
   {
    "duration": 473,
    "start_time": "2023-04-17T17:39:10.268Z"
   },
   {
    "duration": 2052,
    "start_time": "2023-04-17T17:43:21.563Z"
   },
   {
    "duration": 6,
    "start_time": "2023-04-17T17:43:23.620Z"
   },
   {
    "duration": 58,
    "start_time": "2023-04-17T17:43:23.629Z"
   },
   {
    "duration": 10,
    "start_time": "2023-04-17T17:43:23.690Z"
   },
   {
    "duration": 20,
    "start_time": "2023-04-17T17:43:23.706Z"
   },
   {
    "duration": 135,
    "start_time": "2023-04-17T17:43:23.729Z"
   },
   {
    "duration": 27,
    "start_time": "2023-04-17T17:43:23.871Z"
   },
   {
    "duration": 21,
    "start_time": "2023-04-17T17:43:23.901Z"
   },
   {
    "duration": 24,
    "start_time": "2023-04-17T17:43:23.931Z"
   },
   {
    "duration": 68,
    "start_time": "2023-04-17T17:43:23.965Z"
   },
   {
    "duration": 53,
    "start_time": "2023-04-17T17:43:24.035Z"
   },
   {
    "duration": 69,
    "start_time": "2023-04-17T17:43:24.096Z"
   },
   {
    "duration": 42,
    "start_time": "2023-04-17T17:43:24.175Z"
   },
   {
    "duration": 11,
    "start_time": "2023-04-17T17:43:24.222Z"
   },
   {
    "duration": 158,
    "start_time": "2023-04-17T17:43:24.235Z"
   },
   {
    "duration": 80,
    "start_time": "2023-04-17T17:43:24.395Z"
   },
   {
    "duration": 879,
    "start_time": "2023-04-17T17:43:24.484Z"
   },
   {
    "duration": 312,
    "start_time": "2023-04-17T17:43:25.374Z"
   },
   {
    "duration": 846,
    "start_time": "2023-04-17T17:43:25.688Z"
   },
   {
    "duration": 14,
    "start_time": "2023-04-17T17:43:26.536Z"
   },
   {
    "duration": 75,
    "start_time": "2023-04-17T17:43:26.554Z"
   },
   {
    "duration": 37,
    "start_time": "2023-04-17T17:43:26.632Z"
   },
   {
    "duration": 41,
    "start_time": "2023-04-17T17:43:26.671Z"
   },
   {
    "duration": 92,
    "start_time": "2023-04-17T17:43:26.715Z"
   },
   {
    "duration": 39,
    "start_time": "2023-04-17T17:43:26.817Z"
   },
   {
    "duration": 32,
    "start_time": "2023-04-17T17:43:26.859Z"
   },
   {
    "duration": 39,
    "start_time": "2023-04-17T17:43:26.897Z"
   },
   {
    "duration": 4369201,
    "start_time": "2023-04-17T17:43:26.939Z"
   },
   {
    "duration": 21,
    "start_time": "2023-04-17T18:56:16.142Z"
   },
   {
    "duration": 11,
    "start_time": "2023-04-17T18:56:16.165Z"
   },
   {
    "duration": 231,
    "start_time": "2023-04-17T18:56:16.178Z"
   },
   {
    "duration": 93,
    "start_time": "2023-04-17T18:56:16.411Z"
   },
   {
    "duration": 48459,
    "start_time": "2023-04-17T18:56:16.505Z"
   },
   {
    "duration": 412,
    "start_time": "2023-04-17T18:57:04.967Z"
   },
   {
    "duration": 13,
    "start_time": "2023-04-17T18:57:05.381Z"
   },
   {
    "duration": 10,
    "start_time": "2023-04-17T18:57:05.396Z"
   },
   {
    "duration": 26,
    "start_time": "2023-04-17T18:57:05.408Z"
   },
   {
    "duration": 1611567,
    "start_time": "2023-04-17T18:57:05.436Z"
   },
   {
    "duration": 47205,
    "start_time": "2023-04-17T19:23:57.005Z"
   },
   {
    "duration": 6,
    "start_time": "2023-04-17T19:24:44.212Z"
   },
   {
    "duration": 22,
    "start_time": "2023-04-17T19:24:44.221Z"
   },
   {
    "duration": 124994,
    "start_time": "2023-04-17T19:24:44.258Z"
   },
   {
    "duration": 1864742,
    "start_time": "2023-04-17T19:26:49.259Z"
   },
   {
    "duration": 360,
    "start_time": "2023-04-17T19:57:54.007Z"
   },
   {
    "duration": 2921,
    "start_time": "2023-04-17T19:59:02.468Z"
   },
   {
    "duration": 9,
    "start_time": "2023-04-17T19:59:05.392Z"
   },
   {
    "duration": 157,
    "start_time": "2023-04-17T19:59:05.404Z"
   },
   {
    "duration": 197,
    "start_time": "2023-04-17T19:59:05.564Z"
   },
   {
    "duration": 207,
    "start_time": "2023-04-17T19:59:05.765Z"
   },
   {
    "duration": 231,
    "start_time": "2023-04-17T19:59:05.975Z"
   },
   {
    "duration": 108,
    "start_time": "2023-04-17T19:59:06.209Z"
   },
   {
    "duration": 218,
    "start_time": "2023-04-17T19:59:06.319Z"
   },
   {
    "duration": 194,
    "start_time": "2023-04-17T19:59:06.540Z"
   },
   {
    "duration": 136,
    "start_time": "2023-04-17T19:59:06.737Z"
   },
   {
    "duration": 144,
    "start_time": "2023-04-17T19:59:06.881Z"
   },
   {
    "duration": 186,
    "start_time": "2023-04-17T19:59:07.053Z"
   },
   {
    "duration": 199,
    "start_time": "2023-04-17T19:59:07.251Z"
   },
   {
    "duration": 46,
    "start_time": "2023-04-17T19:59:07.461Z"
   },
   {
    "duration": 420,
    "start_time": "2023-04-17T19:59:07.517Z"
   },
   {
    "duration": 62,
    "start_time": "2023-04-17T19:59:07.950Z"
   },
   {
    "duration": 1492,
    "start_time": "2023-04-17T19:59:08.025Z"
   },
   {
    "duration": 545,
    "start_time": "2023-04-17T19:59:09.526Z"
   },
   {
    "duration": 1069,
    "start_time": "2023-04-17T19:59:10.083Z"
   },
   {
    "duration": 15,
    "start_time": "2023-04-17T19:59:11.160Z"
   },
   {
    "duration": 194,
    "start_time": "2023-04-17T19:59:11.187Z"
   },
   {
    "duration": 173,
    "start_time": "2023-04-17T19:59:11.392Z"
   },
   {
    "duration": 130,
    "start_time": "2023-04-17T19:59:11.579Z"
   },
   {
    "duration": 221,
    "start_time": "2023-04-17T19:59:11.716Z"
   },
   {
    "duration": 157,
    "start_time": "2023-04-17T19:59:11.940Z"
   },
   {
    "duration": 191,
    "start_time": "2023-04-17T19:59:12.101Z"
   },
   {
    "duration": 198,
    "start_time": "2023-04-17T19:59:12.295Z"
   },
   {
    "duration": 6390,
    "start_time": "2023-04-17T19:59:12.495Z"
   },
   {
    "duration": 21,
    "start_time": "2023-04-17T19:59:18.888Z"
   },
   {
    "duration": 0,
    "start_time": "2023-04-17T19:59:18.921Z"
   },
   {
    "duration": 0,
    "start_time": "2023-04-17T19:59:18.924Z"
   },
   {
    "duration": 0,
    "start_time": "2023-04-17T19:59:18.929Z"
   },
   {
    "duration": 0,
    "start_time": "2023-04-17T19:59:18.932Z"
   },
   {
    "duration": 0,
    "start_time": "2023-04-17T19:59:18.935Z"
   },
   {
    "duration": 0,
    "start_time": "2023-04-17T19:59:18.943Z"
   },
   {
    "duration": 0,
    "start_time": "2023-04-17T19:59:18.945Z"
   },
   {
    "duration": 0,
    "start_time": "2023-04-17T19:59:18.947Z"
   },
   {
    "duration": 0,
    "start_time": "2023-04-17T19:59:18.949Z"
   },
   {
    "duration": 0,
    "start_time": "2023-04-17T19:59:18.957Z"
   },
   {
    "duration": 0,
    "start_time": "2023-04-17T19:59:18.960Z"
   },
   {
    "duration": 0,
    "start_time": "2023-04-17T19:59:18.966Z"
   },
   {
    "duration": 0,
    "start_time": "2023-04-17T19:59:18.968Z"
   },
   {
    "duration": 0,
    "start_time": "2023-04-17T19:59:18.970Z"
   },
   {
    "duration": 0,
    "start_time": "2023-04-17T19:59:18.978Z"
   },
   {
    "duration": 10,
    "start_time": "2023-04-17T20:03:18.963Z"
   },
   {
    "duration": 9,
    "start_time": "2023-04-17T20:03:22.779Z"
   },
   {
    "duration": 54,
    "start_time": "2023-04-17T20:03:22.791Z"
   },
   {
    "duration": 99,
    "start_time": "2023-04-17T20:03:22.852Z"
   },
   {
    "duration": 81,
    "start_time": "2023-04-17T20:03:22.955Z"
   },
   {
    "duration": 90,
    "start_time": "2023-04-17T20:03:23.047Z"
   },
   {
    "duration": 215,
    "start_time": "2023-04-17T20:03:23.139Z"
   },
   {
    "duration": 52,
    "start_time": "2023-04-17T20:03:23.356Z"
   },
   {
    "duration": 25,
    "start_time": "2023-04-17T20:03:23.413Z"
   },
   {
    "duration": 89,
    "start_time": "2023-04-17T20:03:23.440Z"
   },
   {
    "duration": 29,
    "start_time": "2023-04-17T20:03:23.531Z"
   },
   {
    "duration": 75,
    "start_time": "2023-04-17T20:03:23.562Z"
   },
   {
    "duration": 97,
    "start_time": "2023-04-17T20:03:23.639Z"
   },
   {
    "duration": 99,
    "start_time": "2023-04-17T20:03:23.738Z"
   },
   {
    "duration": 44,
    "start_time": "2023-04-17T20:03:23.841Z"
   },
   {
    "duration": 300,
    "start_time": "2023-04-17T20:03:23.894Z"
   },
   {
    "duration": 63,
    "start_time": "2023-04-17T20:03:24.198Z"
   },
   {
    "duration": 1128,
    "start_time": "2023-04-17T20:03:24.263Z"
   },
   {
    "duration": 400,
    "start_time": "2023-04-17T20:03:25.393Z"
   },
   {
    "duration": 575,
    "start_time": "2023-04-17T20:03:25.798Z"
   },
   {
    "duration": 10,
    "start_time": "2023-04-17T20:03:26.379Z"
   },
   {
    "duration": 33,
    "start_time": "2023-04-17T20:03:26.400Z"
   },
   {
    "duration": 57,
    "start_time": "2023-04-17T20:03:26.436Z"
   },
   {
    "duration": 80,
    "start_time": "2023-04-17T20:03:26.500Z"
   },
   {
    "duration": 151,
    "start_time": "2023-04-17T20:03:26.587Z"
   },
   {
    "duration": 42,
    "start_time": "2023-04-17T20:03:26.740Z"
   },
   {
    "duration": 108,
    "start_time": "2023-04-17T20:03:26.794Z"
   },
   {
    "duration": 196,
    "start_time": "2023-04-17T20:03:26.905Z"
   },
   {
    "duration": 1253562,
    "start_time": "2023-04-17T20:03:27.104Z"
   },
   {
    "duration": 23,
    "start_time": "2023-04-17T20:24:20.676Z"
   },
   {
    "duration": 0,
    "start_time": "2023-04-17T20:24:20.710Z"
   },
   {
    "duration": 1,
    "start_time": "2023-04-17T20:24:20.711Z"
   },
   {
    "duration": 0,
    "start_time": "2023-04-17T20:24:20.713Z"
   },
   {
    "duration": 0,
    "start_time": "2023-04-17T20:24:20.719Z"
   },
   {
    "duration": 0,
    "start_time": "2023-04-17T20:24:20.720Z"
   },
   {
    "duration": 0,
    "start_time": "2023-04-17T20:24:20.722Z"
   },
   {
    "duration": 0,
    "start_time": "2023-04-17T20:24:20.724Z"
   },
   {
    "duration": 0,
    "start_time": "2023-04-17T20:24:20.726Z"
   },
   {
    "duration": 0,
    "start_time": "2023-04-17T20:24:20.728Z"
   },
   {
    "duration": 0,
    "start_time": "2023-04-17T20:24:20.730Z"
   },
   {
    "duration": 0,
    "start_time": "2023-04-17T20:24:20.731Z"
   },
   {
    "duration": 0,
    "start_time": "2023-04-17T20:24:20.734Z"
   },
   {
    "duration": 0,
    "start_time": "2023-04-17T20:24:20.735Z"
   },
   {
    "duration": 0,
    "start_time": "2023-04-17T20:24:20.736Z"
   },
   {
    "duration": 0,
    "start_time": "2023-04-17T20:24:20.738Z"
   },
   {
    "duration": 0,
    "start_time": "2023-04-17T20:24:20.752Z"
   },
   {
    "duration": 0,
    "start_time": "2023-04-17T20:24:20.759Z"
   },
   {
    "duration": 16,
    "start_time": "2023-04-17T20:25:01.413Z"
   },
   {
    "duration": 8,
    "start_time": "2023-04-17T20:25:13.259Z"
   },
   {
    "duration": 97,
    "start_time": "2023-04-17T20:25:25.820Z"
   },
   {
    "duration": 2626,
    "start_time": "2023-04-17T20:25:52.719Z"
   },
   {
    "duration": 16,
    "start_time": "2023-04-17T20:25:55.361Z"
   },
   {
    "duration": 208,
    "start_time": "2023-04-17T20:25:55.379Z"
   },
   {
    "duration": 126,
    "start_time": "2023-04-17T20:25:55.590Z"
   },
   {
    "duration": 89,
    "start_time": "2023-04-17T20:25:55.719Z"
   },
   {
    "duration": 7,
    "start_time": "2023-04-17T20:25:55.810Z"
   },
   {
    "duration": 201,
    "start_time": "2023-04-17T20:25:55.819Z"
   },
   {
    "duration": 0,
    "start_time": "2023-04-17T20:25:56.030Z"
   },
   {
    "duration": 0,
    "start_time": "2023-04-17T20:25:56.036Z"
   },
   {
    "duration": 0,
    "start_time": "2023-04-17T20:25:56.038Z"
   },
   {
    "duration": 0,
    "start_time": "2023-04-17T20:25:56.042Z"
   },
   {
    "duration": 0,
    "start_time": "2023-04-17T20:25:56.044Z"
   },
   {
    "duration": 0,
    "start_time": "2023-04-17T20:25:56.046Z"
   },
   {
    "duration": 0,
    "start_time": "2023-04-17T20:25:56.050Z"
   },
   {
    "duration": 0,
    "start_time": "2023-04-17T20:25:56.051Z"
   },
   {
    "duration": 0,
    "start_time": "2023-04-17T20:25:56.059Z"
   },
   {
    "duration": 0,
    "start_time": "2023-04-17T20:25:56.060Z"
   },
   {
    "duration": 0,
    "start_time": "2023-04-17T20:25:56.062Z"
   },
   {
    "duration": 0,
    "start_time": "2023-04-17T20:25:56.063Z"
   },
   {
    "duration": 0,
    "start_time": "2023-04-17T20:25:56.065Z"
   },
   {
    "duration": 0,
    "start_time": "2023-04-17T20:25:56.067Z"
   },
   {
    "duration": 0,
    "start_time": "2023-04-17T20:25:56.073Z"
   },
   {
    "duration": 0,
    "start_time": "2023-04-17T20:25:56.075Z"
   },
   {
    "duration": 0,
    "start_time": "2023-04-17T20:25:56.077Z"
   },
   {
    "duration": 0,
    "start_time": "2023-04-17T20:25:56.078Z"
   },
   {
    "duration": 0,
    "start_time": "2023-04-17T20:25:56.083Z"
   },
   {
    "duration": 0,
    "start_time": "2023-04-17T20:25:56.093Z"
   },
   {
    "duration": 0,
    "start_time": "2023-04-17T20:25:56.095Z"
   },
   {
    "duration": 0,
    "start_time": "2023-04-17T20:25:56.096Z"
   },
   {
    "duration": 0,
    "start_time": "2023-04-17T20:25:56.105Z"
   },
   {
    "duration": 0,
    "start_time": "2023-04-17T20:25:56.112Z"
   },
   {
    "duration": 0,
    "start_time": "2023-04-17T20:25:56.114Z"
   },
   {
    "duration": 0,
    "start_time": "2023-04-17T20:25:56.116Z"
   },
   {
    "duration": 0,
    "start_time": "2023-04-17T20:25:56.118Z"
   },
   {
    "duration": 0,
    "start_time": "2023-04-17T20:25:56.121Z"
   },
   {
    "duration": 0,
    "start_time": "2023-04-17T20:25:56.123Z"
   },
   {
    "duration": 0,
    "start_time": "2023-04-17T20:25:56.132Z"
   },
   {
    "duration": 0,
    "start_time": "2023-04-17T20:25:56.133Z"
   },
   {
    "duration": 0,
    "start_time": "2023-04-17T20:25:56.134Z"
   },
   {
    "duration": 0,
    "start_time": "2023-04-17T20:25:56.153Z"
   },
   {
    "duration": 0,
    "start_time": "2023-04-17T20:25:56.158Z"
   },
   {
    "duration": 0,
    "start_time": "2023-04-17T20:25:56.164Z"
   },
   {
    "duration": 0,
    "start_time": "2023-04-17T20:25:56.178Z"
   },
   {
    "duration": 0,
    "start_time": "2023-04-17T20:25:56.179Z"
   },
   {
    "duration": 0,
    "start_time": "2023-04-17T20:25:56.180Z"
   },
   {
    "duration": 0,
    "start_time": "2023-04-17T20:25:56.182Z"
   },
   {
    "duration": 0,
    "start_time": "2023-04-17T20:25:56.184Z"
   },
   {
    "duration": 261,
    "start_time": "2023-04-17T20:26:46.472Z"
   },
   {
    "duration": 6,
    "start_time": "2023-04-17T20:27:03.028Z"
   },
   {
    "duration": 63,
    "start_time": "2023-04-17T20:27:03.037Z"
   },
   {
    "duration": 52,
    "start_time": "2023-04-17T20:27:03.103Z"
   },
   {
    "duration": 84,
    "start_time": "2023-04-17T20:27:03.160Z"
   },
   {
    "duration": 94,
    "start_time": "2023-04-17T20:27:03.246Z"
   },
   {
    "duration": 78,
    "start_time": "2023-04-17T20:27:03.349Z"
   },
   {
    "duration": 166,
    "start_time": "2023-04-17T20:27:03.429Z"
   },
   {
    "duration": 0,
    "start_time": "2023-04-17T20:27:03.598Z"
   },
   {
    "duration": 0,
    "start_time": "2023-04-17T20:27:03.599Z"
   },
   {
    "duration": 0,
    "start_time": "2023-04-17T20:27:03.600Z"
   },
   {
    "duration": 0,
    "start_time": "2023-04-17T20:27:03.601Z"
   },
   {
    "duration": 0,
    "start_time": "2023-04-17T20:27:03.603Z"
   },
   {
    "duration": 0,
    "start_time": "2023-04-17T20:27:03.606Z"
   },
   {
    "duration": 0,
    "start_time": "2023-04-17T20:27:03.607Z"
   },
   {
    "duration": 0,
    "start_time": "2023-04-17T20:27:03.608Z"
   },
   {
    "duration": 0,
    "start_time": "2023-04-17T20:27:03.609Z"
   },
   {
    "duration": 0,
    "start_time": "2023-04-17T20:27:03.610Z"
   },
   {
    "duration": 0,
    "start_time": "2023-04-17T20:27:03.611Z"
   },
   {
    "duration": 0,
    "start_time": "2023-04-17T20:27:03.611Z"
   },
   {
    "duration": 0,
    "start_time": "2023-04-17T20:27:03.613Z"
   },
   {
    "duration": 0,
    "start_time": "2023-04-17T20:27:03.614Z"
   },
   {
    "duration": 0,
    "start_time": "2023-04-17T20:27:03.615Z"
   },
   {
    "duration": 0,
    "start_time": "2023-04-17T20:27:03.616Z"
   },
   {
    "duration": 0,
    "start_time": "2023-04-17T20:27:03.617Z"
   },
   {
    "duration": 0,
    "start_time": "2023-04-17T20:27:03.618Z"
   },
   {
    "duration": 0,
    "start_time": "2023-04-17T20:27:03.621Z"
   },
   {
    "duration": 0,
    "start_time": "2023-04-17T20:27:03.623Z"
   },
   {
    "duration": 0,
    "start_time": "2023-04-17T20:27:03.624Z"
   },
   {
    "duration": 0,
    "start_time": "2023-04-17T20:27:03.625Z"
   },
   {
    "duration": 4,
    "start_time": "2023-04-17T20:27:20.562Z"
   },
   {
    "duration": 24,
    "start_time": "2023-04-17T20:27:22.783Z"
   },
   {
    "duration": 6,
    "start_time": "2023-04-17T20:27:26.932Z"
   },
   {
    "duration": 92,
    "start_time": "2023-04-17T20:27:26.946Z"
   },
   {
    "duration": 99,
    "start_time": "2023-04-17T20:27:27.040Z"
   },
   {
    "duration": 81,
    "start_time": "2023-04-17T20:27:27.150Z"
   },
   {
    "duration": 156,
    "start_time": "2023-04-17T20:27:27.237Z"
   },
   {
    "duration": 23,
    "start_time": "2023-04-17T20:27:27.397Z"
   },
   {
    "duration": 188,
    "start_time": "2023-04-17T20:27:27.423Z"
   },
   {
    "duration": 0,
    "start_time": "2023-04-17T20:27:27.618Z"
   },
   {
    "duration": 0,
    "start_time": "2023-04-17T20:27:27.623Z"
   },
   {
    "duration": 0,
    "start_time": "2023-04-17T20:27:27.624Z"
   },
   {
    "duration": 0,
    "start_time": "2023-04-17T20:27:27.626Z"
   },
   {
    "duration": 0,
    "start_time": "2023-04-17T20:27:27.628Z"
   },
   {
    "duration": 0,
    "start_time": "2023-04-17T20:27:27.629Z"
   },
   {
    "duration": 0,
    "start_time": "2023-04-17T20:27:27.631Z"
   },
   {
    "duration": 0,
    "start_time": "2023-04-17T20:27:27.634Z"
   },
   {
    "duration": 0,
    "start_time": "2023-04-17T20:27:27.635Z"
   },
   {
    "duration": 0,
    "start_time": "2023-04-17T20:27:27.637Z"
   },
   {
    "duration": 0,
    "start_time": "2023-04-17T20:27:27.639Z"
   },
   {
    "duration": 0,
    "start_time": "2023-04-17T20:27:27.648Z"
   },
   {
    "duration": 0,
    "start_time": "2023-04-17T20:27:27.651Z"
   },
   {
    "duration": 0,
    "start_time": "2023-04-17T20:27:27.654Z"
   },
   {
    "duration": 0,
    "start_time": "2023-04-17T20:27:27.656Z"
   },
   {
    "duration": 0,
    "start_time": "2023-04-17T20:27:27.658Z"
   },
   {
    "duration": 0,
    "start_time": "2023-04-17T20:27:27.660Z"
   },
   {
    "duration": 0,
    "start_time": "2023-04-17T20:27:27.664Z"
   },
   {
    "duration": 0,
    "start_time": "2023-04-17T20:27:27.666Z"
   },
   {
    "duration": 0,
    "start_time": "2023-04-17T20:27:27.687Z"
   },
   {
    "duration": 0,
    "start_time": "2023-04-17T20:27:27.690Z"
   },
   {
    "duration": 0,
    "start_time": "2023-04-17T20:27:27.692Z"
   },
   {
    "duration": 23,
    "start_time": "2023-04-17T20:27:31.930Z"
   },
   {
    "duration": 2043,
    "start_time": "2023-04-17T20:27:47.700Z"
   },
   {
    "duration": 16,
    "start_time": "2023-04-17T20:27:49.745Z"
   },
   {
    "duration": 52,
    "start_time": "2023-04-17T20:27:49.763Z"
   },
   {
    "duration": 15,
    "start_time": "2023-04-17T20:27:49.817Z"
   },
   {
    "duration": 66,
    "start_time": "2023-04-17T20:27:49.834Z"
   },
   {
    "duration": 17,
    "start_time": "2023-04-17T20:27:49.902Z"
   },
   {
    "duration": 130,
    "start_time": "2023-04-17T20:27:49.921Z"
   },
   {
    "duration": 0,
    "start_time": "2023-04-17T20:27:50.056Z"
   },
   {
    "duration": 0,
    "start_time": "2023-04-17T20:27:50.058Z"
   },
   {
    "duration": 1,
    "start_time": "2023-04-17T20:27:50.067Z"
   },
   {
    "duration": 0,
    "start_time": "2023-04-17T20:27:50.070Z"
   },
   {
    "duration": 1,
    "start_time": "2023-04-17T20:27:50.071Z"
   },
   {
    "duration": 0,
    "start_time": "2023-04-17T20:27:50.073Z"
   },
   {
    "duration": 0,
    "start_time": "2023-04-17T20:27:50.075Z"
   },
   {
    "duration": 0,
    "start_time": "2023-04-17T20:27:50.077Z"
   },
   {
    "duration": 0,
    "start_time": "2023-04-17T20:27:50.078Z"
   },
   {
    "duration": 0,
    "start_time": "2023-04-17T20:27:50.079Z"
   },
   {
    "duration": 0,
    "start_time": "2023-04-17T20:27:50.081Z"
   },
   {
    "duration": 0,
    "start_time": "2023-04-17T20:27:50.084Z"
   },
   {
    "duration": 0,
    "start_time": "2023-04-17T20:27:50.085Z"
   },
   {
    "duration": 0,
    "start_time": "2023-04-17T20:27:50.086Z"
   },
   {
    "duration": 0,
    "start_time": "2023-04-17T20:27:50.086Z"
   },
   {
    "duration": 0,
    "start_time": "2023-04-17T20:27:50.087Z"
   },
   {
    "duration": 0,
    "start_time": "2023-04-17T20:27:50.088Z"
   },
   {
    "duration": 0,
    "start_time": "2023-04-17T20:27:50.089Z"
   },
   {
    "duration": 0,
    "start_time": "2023-04-17T20:27:50.093Z"
   },
   {
    "duration": 0,
    "start_time": "2023-04-17T20:27:50.094Z"
   },
   {
    "duration": 0,
    "start_time": "2023-04-17T20:27:50.095Z"
   },
   {
    "duration": 0,
    "start_time": "2023-04-17T20:27:50.095Z"
   },
   {
    "duration": 0,
    "start_time": "2023-04-17T20:27:50.096Z"
   },
   {
    "duration": 7,
    "start_time": "2023-04-17T20:28:13.309Z"
   },
   {
    "duration": 11,
    "start_time": "2023-04-17T20:28:13.320Z"
   },
   {
    "duration": 38,
    "start_time": "2023-04-17T20:28:13.334Z"
   },
   {
    "duration": 39,
    "start_time": "2023-04-17T20:28:13.376Z"
   },
   {
    "duration": 16,
    "start_time": "2023-04-17T20:28:13.417Z"
   },
   {
    "duration": 59,
    "start_time": "2023-04-17T20:28:13.436Z"
   },
   {
    "duration": 16,
    "start_time": "2023-04-17T20:28:13.500Z"
   },
   {
    "duration": 117,
    "start_time": "2023-04-17T20:28:13.519Z"
   },
   {
    "duration": 29,
    "start_time": "2023-04-17T20:28:13.639Z"
   },
   {
    "duration": 28,
    "start_time": "2023-04-17T20:28:13.684Z"
   },
   {
    "duration": 14,
    "start_time": "2023-04-17T20:28:13.714Z"
   },
   {
    "duration": 16,
    "start_time": "2023-04-17T20:28:13.730Z"
   },
   {
    "duration": 37,
    "start_time": "2023-04-17T20:28:13.748Z"
   },
   {
    "duration": 35,
    "start_time": "2023-04-17T20:28:13.787Z"
   },
   {
    "duration": 73,
    "start_time": "2023-04-17T20:28:13.824Z"
   },
   {
    "duration": 15,
    "start_time": "2023-04-17T20:28:13.904Z"
   },
   {
    "duration": 114,
    "start_time": "2023-04-17T20:28:13.921Z"
   },
   {
    "duration": 70,
    "start_time": "2023-04-17T20:28:14.037Z"
   },
   {
    "duration": 955,
    "start_time": "2023-04-17T20:28:14.110Z"
   },
   {
    "duration": 329,
    "start_time": "2023-04-17T20:28:15.068Z"
   },
   {
    "duration": 1278,
    "start_time": "2023-04-17T20:28:15.403Z"
   },
   {
    "duration": 13,
    "start_time": "2023-04-17T20:28:16.686Z"
   },
   {
    "duration": 34,
    "start_time": "2023-04-17T20:28:16.702Z"
   },
   {
    "duration": 84,
    "start_time": "2023-04-17T20:28:16.739Z"
   },
   {
    "duration": 20,
    "start_time": "2023-04-17T20:28:16.825Z"
   },
   {
    "duration": 124,
    "start_time": "2023-04-17T20:28:16.847Z"
   },
   {
    "duration": 24,
    "start_time": "2023-04-17T20:28:16.973Z"
   },
   {
    "duration": 51,
    "start_time": "2023-04-17T20:28:17.001Z"
   },
   {
    "duration": 57,
    "start_time": "2023-04-17T20:28:17.054Z"
   },
   {
    "duration": 5,
    "start_time": "2023-04-17T20:28:17.113Z"
   },
   {
    "duration": 205,
    "start_time": "2023-04-17T20:28:19.617Z"
   },
   {
    "duration": 12,
    "start_time": "2023-04-17T20:29:11.481Z"
   },
   {
    "duration": 190,
    "start_time": "2023-04-17T20:29:18.126Z"
   },
   {
    "duration": 8,
    "start_time": "2023-04-17T20:30:21.222Z"
   },
   {
    "duration": 210,
    "start_time": "2023-04-17T20:30:29.312Z"
   },
   {
    "duration": 24,
    "start_time": "2023-04-17T20:30:45.971Z"
   },
   {
    "duration": 518,
    "start_time": "2023-04-17T20:30:52.920Z"
   },
   {
    "duration": 94,
    "start_time": "2023-04-17T20:32:14.779Z"
   },
   {
    "duration": 114,
    "start_time": "2023-04-17T20:32:24.363Z"
   },
   {
    "duration": 14,
    "start_time": "2023-04-17T20:32:44.976Z"
   },
   {
    "duration": 524,
    "start_time": "2023-04-17T20:32:49.065Z"
   },
   {
    "duration": 10,
    "start_time": "2023-04-17T20:33:21.475Z"
   },
   {
    "duration": 91,
    "start_time": "2023-04-17T20:33:33.422Z"
   },
   {
    "duration": 11,
    "start_time": "2023-04-17T20:33:42.474Z"
   },
   {
    "duration": 9,
    "start_time": "2023-04-17T20:33:59.724Z"
   },
   {
    "duration": 215328,
    "start_time": "2023-04-17T20:34:08.273Z"
   },
   {
    "duration": 7,
    "start_time": "2023-04-17T20:37:43.608Z"
   },
   {
    "duration": 7,
    "start_time": "2023-04-17T20:42:17.211Z"
   },
   {
    "duration": 429045,
    "start_time": "2023-04-17T20:42:23.692Z"
   },
   {
    "duration": 0,
    "start_time": "2023-04-17T20:49:32.739Z"
   },
   {
    "duration": 9,
    "start_time": "2023-04-17T20:50:56.711Z"
   },
   {
    "duration": 15,
    "start_time": "2023-04-17T20:51:43.171Z"
   },
   {
    "duration": 18,
    "start_time": "2023-04-17T20:51:49.998Z"
   },
   {
    "duration": 9,
    "start_time": "2023-04-17T20:52:08.007Z"
   },
   {
    "duration": 11630,
    "start_time": "2023-04-17T20:52:20.108Z"
   },
   {
    "duration": 0,
    "start_time": "2023-04-17T20:52:31.747Z"
   },
   {
    "duration": 6,
    "start_time": "2023-04-17T20:53:05.404Z"
   },
   {
    "duration": 279598,
    "start_time": "2023-04-17T20:53:17.239Z"
   },
   {
    "duration": 15,
    "start_time": "2023-04-17T20:57:56.839Z"
   },
   {
    "duration": 13728,
    "start_time": "2023-04-17T20:58:23.059Z"
   },
   {
    "duration": 17,
    "start_time": "2023-04-17T20:59:14.268Z"
   },
   {
    "duration": 15,
    "start_time": "2023-04-17T21:00:11.576Z"
   },
   {
    "duration": 6,
    "start_time": "2023-04-17T21:02:48.597Z"
   },
   {
    "duration": 44731,
    "start_time": "2023-04-17T21:02:53.501Z"
   },
   {
    "duration": 18,
    "start_time": "2023-04-17T21:03:50.672Z"
   },
   {
    "duration": 16380,
    "start_time": "2023-04-17T21:03:59.718Z"
   },
   {
    "duration": 6,
    "start_time": "2023-04-17T21:04:23.588Z"
   },
   {
    "duration": 614435,
    "start_time": "2023-04-17T21:04:29.383Z"
   },
   {
    "duration": 4,
    "start_time": "2023-04-17T21:14:43.822Z"
   },
   {
    "duration": 9,
    "start_time": "2023-04-17T21:15:36.126Z"
   },
   {
    "duration": 139,
    "start_time": "2023-04-17T21:15:52.376Z"
   },
   {
    "duration": 11,
    "start_time": "2023-04-17T21:16:18.588Z"
   },
   {
    "duration": 57029,
    "start_time": "2023-04-17T21:16:25.224Z"
   },
   {
    "duration": 517795,
    "start_time": "2023-04-17T21:17:31.195Z"
   },
   {
    "duration": 8,
    "start_time": "2023-04-17T21:29:06.717Z"
   },
   {
    "duration": 9390,
    "start_time": "2023-04-17T21:29:27.431Z"
   },
   {
    "duration": 15,
    "start_time": "2023-04-17T21:30:55.370Z"
   },
   {
    "duration": 10031,
    "start_time": "2023-04-17T21:31:12.706Z"
   },
   {
    "duration": 7,
    "start_time": "2023-04-17T21:31:38.018Z"
   },
   {
    "duration": 10922,
    "start_time": "2023-04-17T21:31:42.866Z"
   },
   {
    "duration": 7,
    "start_time": "2023-04-17T21:32:52.922Z"
   },
   {
    "duration": 510819,
    "start_time": "2023-04-17T21:33:08.625Z"
   },
   {
    "duration": 4,
    "start_time": "2023-04-17T21:41:39.446Z"
   },
   {
    "duration": 39,
    "start_time": "2023-04-17T21:43:27.068Z"
   },
   {
    "duration": 11,
    "start_time": "2023-04-17T21:44:34.815Z"
   },
   {
    "duration": 242,
    "start_time": "2023-04-17T21:44:43.468Z"
   },
   {
    "duration": 12,
    "start_time": "2023-04-17T21:46:29.061Z"
   },
   {
    "duration": 190,
    "start_time": "2023-04-17T21:48:40.182Z"
   },
   {
    "duration": 13,
    "start_time": "2023-04-17T21:49:02.760Z"
   },
   {
    "duration": 6,
    "start_time": "2023-04-17T21:49:08.170Z"
   },
   {
    "duration": 64687,
    "start_time": "2023-04-17T21:49:18.637Z"
   },
   {
    "duration": 13,
    "start_time": "2023-04-17T21:50:41.194Z"
   },
   {
    "duration": 11,
    "start_time": "2023-04-17T21:50:51.608Z"
   },
   {
    "duration": 90,
    "start_time": "2023-04-18T09:16:25.866Z"
   },
   {
    "duration": 50,
    "start_time": "2023-04-18T09:16:52.370Z"
   },
   {
    "duration": 1519,
    "start_time": "2023-04-18T09:16:56.818Z"
   },
   {
    "duration": 3,
    "start_time": "2023-04-18T09:16:58.339Z"
   },
   {
    "duration": 4,
    "start_time": "2023-04-18T09:16:58.344Z"
   },
   {
    "duration": 14,
    "start_time": "2023-04-18T09:16:58.350Z"
   },
   {
    "duration": 4,
    "start_time": "2023-04-18T09:16:58.365Z"
   },
   {
    "duration": 8,
    "start_time": "2023-04-18T09:16:58.371Z"
   },
   {
    "duration": 8,
    "start_time": "2023-04-18T09:17:34.749Z"
   },
   {
    "duration": 4,
    "start_time": "2023-04-18T09:17:53.306Z"
   },
   {
    "duration": 8,
    "start_time": "2023-04-18T09:17:53.312Z"
   },
   {
    "duration": 4,
    "start_time": "2023-04-18T09:17:53.321Z"
   },
   {
    "duration": 5,
    "start_time": "2023-04-18T09:17:53.327Z"
   },
   {
    "duration": 4,
    "start_time": "2023-04-18T09:17:53.334Z"
   },
   {
    "duration": 7,
    "start_time": "2023-04-18T09:17:53.340Z"
   },
   {
    "duration": 8,
    "start_time": "2023-04-18T09:17:53.349Z"
   },
   {
    "duration": 362,
    "start_time": "2023-04-18T09:17:53.359Z"
   },
   {
    "duration": 13,
    "start_time": "2023-04-18T09:17:53.723Z"
   },
   {
    "duration": 11,
    "start_time": "2023-04-18T09:17:53.739Z"
   },
   {
    "duration": 13,
    "start_time": "2023-04-18T09:17:53.751Z"
   },
   {
    "duration": 15,
    "start_time": "2023-04-18T09:17:53.765Z"
   },
   {
    "duration": 4,
    "start_time": "2023-04-18T09:17:53.781Z"
   },
   {
    "duration": 11,
    "start_time": "2023-04-18T09:17:53.786Z"
   },
   {
    "duration": 25,
    "start_time": "2023-04-18T09:17:53.799Z"
   },
   {
    "duration": 5,
    "start_time": "2023-04-18T09:17:53.826Z"
   },
   {
    "duration": 94,
    "start_time": "2023-04-18T09:17:53.832Z"
   },
   {
    "duration": 40,
    "start_time": "2023-04-18T09:17:53.927Z"
   },
   {
    "duration": 656,
    "start_time": "2023-04-18T09:17:53.969Z"
   },
   {
    "duration": 246,
    "start_time": "2023-04-18T09:17:54.626Z"
   },
   {
    "duration": 599,
    "start_time": "2023-04-18T09:17:54.874Z"
   },
   {
    "duration": 5,
    "start_time": "2023-04-18T09:17:55.475Z"
   },
   {
    "duration": 13,
    "start_time": "2023-04-18T09:17:55.482Z"
   },
   {
    "duration": 5,
    "start_time": "2023-04-18T09:17:55.496Z"
   },
   {
    "duration": 5,
    "start_time": "2023-04-18T09:17:55.502Z"
   },
   {
    "duration": 36,
    "start_time": "2023-04-18T09:17:55.509Z"
   },
   {
    "duration": 90,
    "start_time": "2023-04-18T09:17:55.563Z"
   },
   {
    "duration": 5,
    "start_time": "2023-04-18T09:17:55.662Z"
   },
   {
    "duration": 16,
    "start_time": "2023-04-18T09:17:55.669Z"
   },
   {
    "duration": 393145,
    "start_time": "2023-04-18T09:17:55.686Z"
   },
   {
    "duration": 206,
    "start_time": "2023-04-18T09:24:29.024Z"
   },
   {
    "duration": 7,
    "start_time": "2023-04-18T09:27:52.530Z"
   },
   {
    "duration": 203,
    "start_time": "2023-04-18T09:28:34.214Z"
   },
   {
    "duration": 60315,
    "start_time": "2023-04-18T09:29:38.951Z"
   },
   {
    "duration": 422407,
    "start_time": "2023-04-18T09:30:44.522Z"
   },
   {
    "duration": 0,
    "start_time": "2023-04-18T09:37:46.943Z"
   },
   {
    "duration": 78,
    "start_time": "2023-04-18T09:42:32.830Z"
   },
   {
    "duration": 6,
    "start_time": "2023-04-18T09:43:02.743Z"
   },
   {
    "duration": 83,
    "start_time": "2023-04-18T09:43:09.854Z"
   },
   {
    "duration": 7,
    "start_time": "2023-04-18T09:43:45.127Z"
   },
   {
    "duration": 191,
    "start_time": "2023-04-18T09:43:50.102Z"
   },
   {
    "duration": 8,
    "start_time": "2023-04-18T09:44:27.813Z"
   },
   {
    "duration": 9,
    "start_time": "2023-04-18T09:44:52.978Z"
   },
   {
    "duration": 6,
    "start_time": "2023-04-18T09:45:03.116Z"
   },
   {
    "duration": 216,
    "start_time": "2023-04-18T09:48:27.185Z"
   },
   {
    "duration": 5,
    "start_time": "2023-04-18T09:48:47.750Z"
   },
   {
    "duration": 6,
    "start_time": "2023-04-18T09:48:52.924Z"
   },
   {
    "duration": 5,
    "start_time": "2023-04-18T09:49:02.368Z"
   },
   {
    "duration": 8,
    "start_time": "2023-04-18T09:50:07.441Z"
   },
   {
    "duration": 79,
    "start_time": "2023-04-18T09:50:11.429Z"
   },
   {
    "duration": 71,
    "start_time": "2023-04-18T09:55:35.429Z"
   },
   {
    "duration": 9,
    "start_time": "2023-04-18T09:55:44.377Z"
   },
   {
    "duration": 220,
    "start_time": "2023-04-18T09:55:53.968Z"
   },
   {
    "duration": 54,
    "start_time": "2023-04-18T09:58:17.369Z"
   },
   {
    "duration": 15,
    "start_time": "2023-04-18T09:58:18.260Z"
   },
   {
    "duration": 233,
    "start_time": "2023-04-18T09:58:22.476Z"
   },
   {
    "duration": 11,
    "start_time": "2023-04-18T09:58:59.173Z"
   },
   {
    "duration": 197,
    "start_time": "2023-04-18T09:59:15.193Z"
   },
   {
    "duration": 6,
    "start_time": "2023-04-18T09:59:28.822Z"
   },
   {
    "duration": 22,
    "start_time": "2023-04-18T09:59:33.152Z"
   },
   {
    "duration": 512,
    "start_time": "2023-04-18T10:02:10.071Z"
   },
   {
    "duration": 313,
    "start_time": "2023-04-18T10:02:31.530Z"
   },
   {
    "duration": 95,
    "start_time": "2023-04-18T10:03:27.381Z"
   },
   {
    "duration": 292,
    "start_time": "2023-04-18T10:03:29.375Z"
   },
   {
    "duration": 340,
    "start_time": "2023-04-18T10:23:40.425Z"
   },
   {
    "duration": 298,
    "start_time": "2023-04-18T10:23:41.178Z"
   },
   {
    "duration": 133,
    "start_time": "2023-04-18T10:23:50.040Z"
   },
   {
    "duration": 303,
    "start_time": "2023-04-18T10:23:50.365Z"
   },
   {
    "duration": 238,
    "start_time": "2023-04-18T10:23:56.227Z"
   },
   {
    "duration": 275,
    "start_time": "2023-04-18T10:23:56.925Z"
   },
   {
    "duration": 51,
    "start_time": "2023-04-18T10:24:02.421Z"
   },
   {
    "duration": 288,
    "start_time": "2023-04-18T10:24:02.713Z"
   },
   {
    "duration": 52,
    "start_time": "2023-04-18T10:24:07.137Z"
   },
   {
    "duration": 47,
    "start_time": "2023-04-18T10:24:10.925Z"
   },
   {
    "duration": 332,
    "start_time": "2023-04-18T10:24:11.451Z"
   },
   {
    "duration": 206,
    "start_time": "2023-04-18T10:24:15.257Z"
   },
   {
    "duration": 300,
    "start_time": "2023-04-18T10:24:15.651Z"
   },
   {
    "duration": 4,
    "start_time": "2023-04-18T10:27:08.335Z"
   },
   {
    "duration": 6,
    "start_time": "2023-04-18T10:29:57.936Z"
   },
   {
    "duration": 186,
    "start_time": "2023-04-18T10:30:17.513Z"
   },
   {
    "duration": 7,
    "start_time": "2023-04-18T10:30:42.205Z"
   },
   {
    "duration": 7,
    "start_time": "2023-04-18T10:32:45.317Z"
   },
   {
    "duration": 7,
    "start_time": "2023-04-18T10:32:46.936Z"
   },
   {
    "duration": 365,
    "start_time": "2023-04-18T11:03:30.562Z"
   },
   {
    "duration": 467409,
    "start_time": "2023-04-18T11:03:37.256Z"
   },
   {
    "duration": 15,
    "start_time": "2023-04-18T11:11:24.675Z"
   },
   {
    "duration": 261,
    "start_time": "2023-04-18T11:11:24.693Z"
   },
   {
    "duration": 14,
    "start_time": "2023-04-18T11:11:24.957Z"
   },
   {
    "duration": 15,
    "start_time": "2023-04-18T11:13:23.776Z"
   },
   {
    "duration": 337,
    "start_time": "2023-04-18T11:14:18.009Z"
   },
   {
    "duration": 1634,
    "start_time": "2023-04-18T11:15:09.480Z"
   },
   {
    "duration": 4,
    "start_time": "2023-04-18T11:15:11.117Z"
   },
   {
    "duration": 31,
    "start_time": "2023-04-18T11:15:11.122Z"
   },
   {
    "duration": 26,
    "start_time": "2023-04-18T11:15:11.155Z"
   },
   {
    "duration": 17,
    "start_time": "2023-04-18T11:15:11.184Z"
   },
   {
    "duration": 22,
    "start_time": "2023-04-18T11:15:11.204Z"
   },
   {
    "duration": 77,
    "start_time": "2023-04-18T11:15:11.229Z"
   },
   {
    "duration": 0,
    "start_time": "2023-04-18T11:15:11.309Z"
   },
   {
    "duration": 0,
    "start_time": "2023-04-18T11:15:11.311Z"
   },
   {
    "duration": 0,
    "start_time": "2023-04-18T11:15:11.313Z"
   },
   {
    "duration": 0,
    "start_time": "2023-04-18T11:15:11.316Z"
   },
   {
    "duration": 0,
    "start_time": "2023-04-18T11:15:11.317Z"
   },
   {
    "duration": 0,
    "start_time": "2023-04-18T11:15:11.318Z"
   },
   {
    "duration": 0,
    "start_time": "2023-04-18T11:15:11.320Z"
   },
   {
    "duration": 0,
    "start_time": "2023-04-18T11:15:11.321Z"
   },
   {
    "duration": 0,
    "start_time": "2023-04-18T11:15:11.322Z"
   },
   {
    "duration": 0,
    "start_time": "2023-04-18T11:15:11.324Z"
   },
   {
    "duration": 0,
    "start_time": "2023-04-18T11:15:11.325Z"
   },
   {
    "duration": 0,
    "start_time": "2023-04-18T11:15:11.326Z"
   },
   {
    "duration": 0,
    "start_time": "2023-04-18T11:15:11.328Z"
   },
   {
    "duration": 0,
    "start_time": "2023-04-18T11:15:11.329Z"
   },
   {
    "duration": 0,
    "start_time": "2023-04-18T11:15:11.330Z"
   },
   {
    "duration": 0,
    "start_time": "2023-04-18T11:15:11.331Z"
   },
   {
    "duration": 0,
    "start_time": "2023-04-18T11:15:11.333Z"
   },
   {
    "duration": 0,
    "start_time": "2023-04-18T11:15:11.334Z"
   },
   {
    "duration": 0,
    "start_time": "2023-04-18T11:15:11.336Z"
   },
   {
    "duration": 0,
    "start_time": "2023-04-18T11:15:11.337Z"
   },
   {
    "duration": 0,
    "start_time": "2023-04-18T11:15:11.338Z"
   },
   {
    "duration": 0,
    "start_time": "2023-04-18T11:15:11.340Z"
   },
   {
    "duration": 0,
    "start_time": "2023-04-18T11:15:11.342Z"
   },
   {
    "duration": 0,
    "start_time": "2023-04-18T11:15:11.343Z"
   },
   {
    "duration": 0,
    "start_time": "2023-04-18T11:15:11.344Z"
   },
   {
    "duration": 0,
    "start_time": "2023-04-18T11:15:11.346Z"
   },
   {
    "duration": 0,
    "start_time": "2023-04-18T11:15:11.363Z"
   },
   {
    "duration": 0,
    "start_time": "2023-04-18T11:15:11.363Z"
   },
   {
    "duration": 0,
    "start_time": "2023-04-18T11:15:11.364Z"
   },
   {
    "duration": 10,
    "start_time": "2023-04-18T11:15:49.611Z"
   },
   {
    "duration": 9,
    "start_time": "2023-04-18T11:15:49.623Z"
   },
   {
    "duration": 11,
    "start_time": "2023-04-18T11:15:49.634Z"
   },
   {
    "duration": 8,
    "start_time": "2023-04-18T11:15:49.648Z"
   },
   {
    "duration": 12,
    "start_time": "2023-04-18T11:15:49.658Z"
   },
   {
    "duration": 12,
    "start_time": "2023-04-18T11:15:49.675Z"
   },
   {
    "duration": 68,
    "start_time": "2023-04-18T11:15:49.689Z"
   },
   {
    "duration": 0,
    "start_time": "2023-04-18T11:15:49.761Z"
   },
   {
    "duration": 0,
    "start_time": "2023-04-18T11:15:49.777Z"
   },
   {
    "duration": 0,
    "start_time": "2023-04-18T11:15:49.778Z"
   },
   {
    "duration": 0,
    "start_time": "2023-04-18T11:15:49.779Z"
   },
   {
    "duration": 0,
    "start_time": "2023-04-18T11:15:49.783Z"
   },
   {
    "duration": 0,
    "start_time": "2023-04-18T11:15:49.784Z"
   },
   {
    "duration": 0,
    "start_time": "2023-04-18T11:15:49.785Z"
   },
   {
    "duration": 0,
    "start_time": "2023-04-18T11:15:49.787Z"
   },
   {
    "duration": 0,
    "start_time": "2023-04-18T11:15:49.789Z"
   },
   {
    "duration": 0,
    "start_time": "2023-04-18T11:15:49.790Z"
   },
   {
    "duration": 0,
    "start_time": "2023-04-18T11:15:49.791Z"
   },
   {
    "duration": 0,
    "start_time": "2023-04-18T11:15:49.792Z"
   },
   {
    "duration": 0,
    "start_time": "2023-04-18T11:15:49.793Z"
   },
   {
    "duration": 0,
    "start_time": "2023-04-18T11:15:49.794Z"
   },
   {
    "duration": 0,
    "start_time": "2023-04-18T11:15:49.795Z"
   },
   {
    "duration": 0,
    "start_time": "2023-04-18T11:15:49.796Z"
   },
   {
    "duration": 0,
    "start_time": "2023-04-18T11:15:49.797Z"
   },
   {
    "duration": 0,
    "start_time": "2023-04-18T11:15:49.800Z"
   },
   {
    "duration": 0,
    "start_time": "2023-04-18T11:15:49.801Z"
   },
   {
    "duration": 0,
    "start_time": "2023-04-18T11:15:49.803Z"
   },
   {
    "duration": 0,
    "start_time": "2023-04-18T11:15:49.804Z"
   },
   {
    "duration": 0,
    "start_time": "2023-04-18T11:15:49.805Z"
   },
   {
    "duration": 0,
    "start_time": "2023-04-18T11:15:49.807Z"
   },
   {
    "duration": 0,
    "start_time": "2023-04-18T11:15:49.808Z"
   },
   {
    "duration": 0,
    "start_time": "2023-04-18T11:15:49.810Z"
   },
   {
    "duration": 0,
    "start_time": "2023-04-18T11:15:49.811Z"
   },
   {
    "duration": 0,
    "start_time": "2023-04-18T11:15:49.813Z"
   },
   {
    "duration": 0,
    "start_time": "2023-04-18T11:15:49.814Z"
   },
   {
    "duration": 6,
    "start_time": "2023-04-18T11:16:07.940Z"
   },
   {
    "duration": 9,
    "start_time": "2023-04-18T11:16:07.948Z"
   },
   {
    "duration": 29,
    "start_time": "2023-04-18T11:16:07.958Z"
   },
   {
    "duration": 30,
    "start_time": "2023-04-18T11:16:07.992Z"
   },
   {
    "duration": 35,
    "start_time": "2023-04-18T11:16:08.023Z"
   },
   {
    "duration": 17,
    "start_time": "2023-04-18T11:16:08.060Z"
   },
   {
    "duration": 9,
    "start_time": "2023-04-18T11:16:08.080Z"
   },
   {
    "duration": 7,
    "start_time": "2023-04-18T11:16:08.093Z"
   },
   {
    "duration": 58,
    "start_time": "2023-04-18T11:16:08.103Z"
   },
   {
    "duration": 16,
    "start_time": "2023-04-18T11:16:08.164Z"
   },
   {
    "duration": 32,
    "start_time": "2023-04-18T11:16:08.182Z"
   },
   {
    "duration": 8,
    "start_time": "2023-04-18T11:16:08.216Z"
   },
   {
    "duration": 11,
    "start_time": "2023-04-18T11:16:08.226Z"
   },
   {
    "duration": 7,
    "start_time": "2023-04-18T11:16:08.238Z"
   },
   {
    "duration": 25,
    "start_time": "2023-04-18T11:16:08.247Z"
   },
   {
    "duration": 60,
    "start_time": "2023-04-18T11:16:08.274Z"
   },
   {
    "duration": 18,
    "start_time": "2023-04-18T11:16:08.336Z"
   },
   {
    "duration": 117,
    "start_time": "2023-04-18T11:16:08.356Z"
   },
   {
    "duration": 48,
    "start_time": "2023-04-18T11:16:08.475Z"
   },
   {
    "duration": 815,
    "start_time": "2023-04-18T11:16:08.525Z"
   },
   {
    "duration": 307,
    "start_time": "2023-04-18T11:16:09.341Z"
   },
   {
    "duration": 543,
    "start_time": "2023-04-18T11:16:09.650Z"
   },
   {
    "duration": 6,
    "start_time": "2023-04-18T11:16:10.195Z"
   },
   {
    "duration": 20,
    "start_time": "2023-04-18T11:16:10.203Z"
   },
   {
    "duration": 18,
    "start_time": "2023-04-18T11:16:10.225Z"
   },
   {
    "duration": 31,
    "start_time": "2023-04-18T11:16:10.244Z"
   },
   {
    "duration": 40,
    "start_time": "2023-04-18T11:16:10.283Z"
   },
   {
    "duration": 18,
    "start_time": "2023-04-18T11:16:10.326Z"
   },
   {
    "duration": 15,
    "start_time": "2023-04-18T11:16:10.346Z"
   },
   {
    "duration": 31,
    "start_time": "2023-04-18T11:16:10.362Z"
   },
   {
    "duration": 6127,
    "start_time": "2023-04-18T11:16:10.398Z"
   },
   {
    "duration": 11,
    "start_time": "2023-04-18T11:16:16.528Z"
   },
   {
    "duration": 0,
    "start_time": "2023-04-18T11:16:16.542Z"
   },
   {
    "duration": 0,
    "start_time": "2023-04-18T11:16:16.543Z"
   },
   {
    "duration": 0,
    "start_time": "2023-04-18T11:16:16.545Z"
   },
   {
    "duration": 622,
    "start_time": "2023-04-18T11:16:20.880Z"
   },
   {
    "duration": 350,
    "start_time": "2023-04-18T11:16:25.628Z"
   },
   {
    "duration": 8,
    "start_time": "2023-04-18T11:16:45.527Z"
   },
   {
    "duration": 208,
    "start_time": "2023-04-18T11:16:54.416Z"
   },
   {
    "duration": 7,
    "start_time": "2023-04-18T11:17:40.242Z"
   },
   {
    "duration": 2690,
    "start_time": "2023-04-18T11:18:04.816Z"
   },
   {
    "duration": 327,
    "start_time": "2023-04-18T11:18:12.354Z"
   },
   {
    "duration": 7,
    "start_time": "2023-04-18T11:19:02.213Z"
   },
   {
    "duration": 9,
    "start_time": "2023-04-18T11:19:20.822Z"
   },
   {
    "duration": 151,
    "start_time": "2023-04-18T11:19:44.228Z"
   },
   {
    "duration": 428,
    "start_time": "2023-04-18T11:19:44.620Z"
   },
   {
    "duration": 461,
    "start_time": "2023-04-18T11:19:56.314Z"
   },
   {
    "duration": 405,
    "start_time": "2023-04-18T11:19:56.784Z"
   },
   {
    "duration": 11,
    "start_time": "2023-04-18T11:21:15.518Z"
   },
   {
    "duration": 2716,
    "start_time": "2023-04-18T11:21:29.275Z"
   },
   {
    "duration": 335,
    "start_time": "2023-04-18T11:21:35.078Z"
   },
   {
    "duration": 21,
    "start_time": "2023-04-18T11:21:46.449Z"
   },
   {
    "duration": 7,
    "start_time": "2023-04-18T11:21:46.821Z"
   },
   {
    "duration": 5,
    "start_time": "2023-04-18T11:21:48.348Z"
   },
   {
    "duration": 175464,
    "start_time": "2023-04-18T11:22:09.047Z"
   },
   {
    "duration": 1775,
    "start_time": "2023-04-18T11:25:04.513Z"
   },
   {
    "duration": 60,
    "start_time": "2023-04-18T11:25:06.291Z"
   },
   {
    "duration": 50,
    "start_time": "2023-04-18T11:25:06.354Z"
   },
   {
    "duration": 1526,
    "start_time": "2023-04-18T11:33:10.421Z"
   },
   {
    "duration": 4,
    "start_time": "2023-04-18T11:33:11.949Z"
   },
   {
    "duration": 14,
    "start_time": "2023-04-18T11:33:11.955Z"
   },
   {
    "duration": 9,
    "start_time": "2023-04-18T11:33:11.972Z"
   },
   {
    "duration": 6,
    "start_time": "2023-04-18T11:33:11.984Z"
   },
   {
    "duration": 8,
    "start_time": "2023-04-18T11:33:11.992Z"
   },
   {
    "duration": 7,
    "start_time": "2023-04-18T11:33:12.001Z"
   },
   {
    "duration": 9,
    "start_time": "2023-04-18T11:33:12.009Z"
   },
   {
    "duration": 66,
    "start_time": "2023-04-18T11:33:12.019Z"
   },
   {
    "duration": 13,
    "start_time": "2023-04-18T11:33:12.087Z"
   },
   {
    "duration": 7,
    "start_time": "2023-04-18T11:33:12.102Z"
   },
   {
    "duration": 10,
    "start_time": "2023-04-18T11:33:12.111Z"
   },
   {
    "duration": 12,
    "start_time": "2023-04-18T11:33:12.123Z"
   },
   {
    "duration": 12,
    "start_time": "2023-04-18T11:33:12.162Z"
   },
   {
    "duration": 20,
    "start_time": "2023-04-18T11:33:12.175Z"
   },
   {
    "duration": 76,
    "start_time": "2023-04-18T11:33:12.197Z"
   },
   {
    "duration": 5,
    "start_time": "2023-04-18T11:34:03.948Z"
   },
   {
    "duration": 168,
    "start_time": "2023-04-18T11:34:10.325Z"
   },
   {
    "duration": 182,
    "start_time": "2023-04-18T11:39:08.530Z"
   },
   {
    "duration": 26,
    "start_time": "2023-04-18T11:39:30.269Z"
   },
   {
    "duration": 21,
    "start_time": "2023-04-18T11:39:36.781Z"
   },
   {
    "duration": 6,
    "start_time": "2023-04-18T11:41:00.170Z"
   },
   {
    "duration": 29,
    "start_time": "2023-04-18T11:41:13.331Z"
   },
   {
    "duration": 46,
    "start_time": "2023-04-18T11:41:36.651Z"
   },
   {
    "duration": 832,
    "start_time": "2023-04-18T11:41:41.261Z"
   },
   {
    "duration": 293,
    "start_time": "2023-04-18T11:41:46.834Z"
   },
   {
    "duration": 373,
    "start_time": "2023-04-18T11:41:56.244Z"
   },
   {
    "duration": 1493,
    "start_time": "2023-04-18T11:43:09.726Z"
   },
   {
    "duration": 4,
    "start_time": "2023-04-18T11:43:11.221Z"
   },
   {
    "duration": 17,
    "start_time": "2023-04-18T11:43:11.226Z"
   },
   {
    "duration": 4,
    "start_time": "2023-04-18T11:43:11.246Z"
   },
   {
    "duration": 15,
    "start_time": "2023-04-18T11:43:11.252Z"
   },
   {
    "duration": 22,
    "start_time": "2023-04-18T11:43:11.272Z"
   },
   {
    "duration": 10,
    "start_time": "2023-04-18T11:43:11.296Z"
   },
   {
    "duration": 15,
    "start_time": "2023-04-18T11:43:11.308Z"
   },
   {
    "duration": 15,
    "start_time": "2023-04-18T11:43:11.324Z"
   },
   {
    "duration": 101,
    "start_time": "2023-04-18T11:43:11.342Z"
   },
   {
    "duration": 33,
    "start_time": "2023-04-18T11:43:11.449Z"
   },
   {
    "duration": 5,
    "start_time": "2023-04-18T11:43:11.489Z"
   },
   {
    "duration": 15,
    "start_time": "2023-04-18T11:43:11.496Z"
   },
   {
    "duration": 43,
    "start_time": "2023-04-18T11:43:11.513Z"
   },
   {
    "duration": 15,
    "start_time": "2023-04-18T11:43:11.558Z"
   },
   {
    "duration": 16,
    "start_time": "2023-04-18T11:43:11.579Z"
   },
   {
    "duration": 47,
    "start_time": "2023-04-18T11:43:11.596Z"
   },
   {
    "duration": 3,
    "start_time": "2023-04-18T11:43:11.645Z"
   },
   {
    "duration": 17,
    "start_time": "2023-04-18T11:43:11.650Z"
   },
   {
    "duration": 90,
    "start_time": "2023-04-18T11:43:11.669Z"
   },
   {
    "duration": 44,
    "start_time": "2023-04-18T11:43:11.761Z"
   },
   {
    "duration": 750,
    "start_time": "2023-04-18T11:43:11.807Z"
   },
   {
    "duration": 277,
    "start_time": "2023-04-18T11:43:12.563Z"
   },
   {
    "duration": 530,
    "start_time": "2023-04-18T11:43:12.842Z"
   },
   {
    "duration": 7,
    "start_time": "2023-04-18T11:43:13.376Z"
   },
   {
    "duration": 8,
    "start_time": "2023-04-18T11:43:13.385Z"
   },
   {
    "duration": 5,
    "start_time": "2023-04-18T11:43:13.395Z"
   },
   {
    "duration": 15,
    "start_time": "2023-04-18T11:43:13.405Z"
   },
   {
    "duration": 66,
    "start_time": "2023-04-18T11:43:13.422Z"
   },
   {
    "duration": 15,
    "start_time": "2023-04-18T11:43:13.490Z"
   },
   {
    "duration": 5,
    "start_time": "2023-04-18T11:43:13.507Z"
   },
   {
    "duration": 5,
    "start_time": "2023-04-18T11:43:13.514Z"
   },
   {
    "duration": 422531,
    "start_time": "2023-04-18T11:43:13.521Z"
   },
   {
    "duration": 290,
    "start_time": "2023-04-18T11:50:16.054Z"
   },
   {
    "duration": 350,
    "start_time": "2023-04-18T11:50:16.347Z"
   },
   {
    "duration": 513,
    "start_time": "2023-04-18T11:50:16.701Z"
   },
   {
    "duration": 2961,
    "start_time": "2023-04-18T11:50:17.216Z"
   },
   {
    "duration": 491,
    "start_time": "2023-04-18T11:50:20.181Z"
   },
   {
    "duration": 21,
    "start_time": "2023-04-18T11:50:20.676Z"
   },
   {
    "duration": 6,
    "start_time": "2023-04-18T11:50:20.698Z"
   },
   {
    "duration": 15,
    "start_time": "2023-04-18T11:50:20.706Z"
   },
   {
    "duration": 163292,
    "start_time": "2023-04-18T11:50:20.723Z"
   },
   {
    "duration": 1360,
    "start_time": "2023-04-18T11:53:04.017Z"
   },
   {
    "duration": 301733,
    "start_time": "2023-04-18T11:53:05.379Z"
   },
   {
    "duration": 199,
    "start_time": "2023-04-18T11:58:07.114Z"
   },
   {
    "duration": 82522,
    "start_time": "2023-04-18T11:58:07.315Z"
   },
   {
    "duration": 311,
    "start_time": "2023-04-18T11:59:29.839Z"
   },
   {
    "duration": 2166,
    "start_time": "2023-04-18T11:59:40.919Z"
   },
   {
    "duration": 305,
    "start_time": "2023-04-18T12:00:01.029Z"
   },
   {
    "duration": 201,
    "start_time": "2023-04-18T12:00:15.215Z"
   },
   {
    "duration": 7,
    "start_time": "2023-04-18T12:18:45.186Z"
   },
   {
    "duration": 8,
    "start_time": "2023-04-18T12:18:45.196Z"
   },
   {
    "duration": 6,
    "start_time": "2023-04-18T12:18:45.206Z"
   },
   {
    "duration": 4,
    "start_time": "2023-04-18T12:18:45.213Z"
   },
   {
    "duration": 4,
    "start_time": "2023-04-18T12:18:45.219Z"
   },
   {
    "duration": 26,
    "start_time": "2023-04-18T12:18:45.225Z"
   },
   {
    "duration": 24,
    "start_time": "2023-04-18T12:18:45.266Z"
   },
   {
    "duration": 6,
    "start_time": "2023-04-18T12:18:45.294Z"
   },
   {
    "duration": 56,
    "start_time": "2023-04-18T12:18:45.302Z"
   },
   {
    "duration": 30,
    "start_time": "2023-04-18T12:18:45.361Z"
   },
   {
    "duration": 8,
    "start_time": "2023-04-18T12:18:45.395Z"
   },
   {
    "duration": 10,
    "start_time": "2023-04-18T12:18:45.406Z"
   },
   {
    "duration": 11,
    "start_time": "2023-04-18T12:18:45.418Z"
   },
   {
    "duration": 5,
    "start_time": "2023-04-18T12:18:45.431Z"
   },
   {
    "duration": 27,
    "start_time": "2023-04-18T12:18:45.438Z"
   },
   {
    "duration": 21,
    "start_time": "2023-04-18T12:18:45.471Z"
   },
   {
    "duration": 105,
    "start_time": "2023-04-18T12:18:45.495Z"
   },
   {
    "duration": 48,
    "start_time": "2023-04-18T12:18:45.602Z"
   },
   {
    "duration": 90,
    "start_time": "2023-04-18T12:18:45.652Z"
   },
   {
    "duration": 16,
    "start_time": "2023-04-18T12:18:45.744Z"
   },
   {
    "duration": 0,
    "start_time": "2023-04-18T12:18:45.766Z"
   },
   {
    "duration": 0,
    "start_time": "2023-04-18T12:18:45.768Z"
   },
   {
    "duration": 0,
    "start_time": "2023-04-18T12:18:45.769Z"
   },
   {
    "duration": 0,
    "start_time": "2023-04-18T12:18:45.770Z"
   },
   {
    "duration": 0,
    "start_time": "2023-04-18T12:18:45.772Z"
   },
   {
    "duration": 0,
    "start_time": "2023-04-18T12:18:45.773Z"
   },
   {
    "duration": 0,
    "start_time": "2023-04-18T12:18:45.774Z"
   },
   {
    "duration": 0,
    "start_time": "2023-04-18T12:18:45.776Z"
   },
   {
    "duration": 0,
    "start_time": "2023-04-18T12:18:45.777Z"
   },
   {
    "duration": 0,
    "start_time": "2023-04-18T12:18:45.779Z"
   },
   {
    "duration": 0,
    "start_time": "2023-04-18T12:18:45.780Z"
   },
   {
    "duration": 0,
    "start_time": "2023-04-18T12:18:45.781Z"
   },
   {
    "duration": 0,
    "start_time": "2023-04-18T12:18:45.783Z"
   },
   {
    "duration": 0,
    "start_time": "2023-04-18T12:18:45.784Z"
   },
   {
    "duration": 0,
    "start_time": "2023-04-18T12:18:45.785Z"
   },
   {
    "duration": 0,
    "start_time": "2023-04-18T12:18:45.786Z"
   },
   {
    "duration": 0,
    "start_time": "2023-04-18T12:18:45.788Z"
   },
   {
    "duration": 0,
    "start_time": "2023-04-18T12:18:45.789Z"
   },
   {
    "duration": 0,
    "start_time": "2023-04-18T12:18:45.791Z"
   },
   {
    "duration": 0,
    "start_time": "2023-04-18T12:18:45.792Z"
   },
   {
    "duration": 0,
    "start_time": "2023-04-18T12:18:45.794Z"
   },
   {
    "duration": 0,
    "start_time": "2023-04-18T12:18:45.796Z"
   },
   {
    "duration": 8,
    "start_time": "2023-04-18T12:19:25.329Z"
   },
   {
    "duration": 33,
    "start_time": "2023-04-18T12:20:43.315Z"
   },
   {
    "duration": 4,
    "start_time": "2023-04-18T12:22:18.811Z"
   },
   {
    "duration": 55,
    "start_time": "2023-04-18T12:22:29.511Z"
   },
   {
    "duration": 80,
    "start_time": "2023-04-18T12:22:37.738Z"
   },
   {
    "duration": 4,
    "start_time": "2023-04-18T12:23:02.840Z"
   },
   {
    "duration": 20,
    "start_time": "2023-04-18T12:23:02.847Z"
   },
   {
    "duration": 15,
    "start_time": "2023-04-18T12:23:02.869Z"
   },
   {
    "duration": 10,
    "start_time": "2023-04-18T12:23:02.887Z"
   },
   {
    "duration": 4,
    "start_time": "2023-04-18T12:23:02.900Z"
   },
   {
    "duration": 119,
    "start_time": "2023-04-18T12:23:02.906Z"
   },
   {
    "duration": 29,
    "start_time": "2023-04-18T12:23:03.028Z"
   },
   {
    "duration": 15,
    "start_time": "2023-04-18T12:23:03.058Z"
   },
   {
    "duration": 66,
    "start_time": "2023-04-18T12:23:03.075Z"
   },
   {
    "duration": 12,
    "start_time": "2023-04-18T12:23:03.143Z"
   },
   {
    "duration": 31,
    "start_time": "2023-04-18T12:23:03.157Z"
   },
   {
    "duration": 22,
    "start_time": "2023-04-18T12:23:03.190Z"
   },
   {
    "duration": 8,
    "start_time": "2023-04-18T12:23:03.214Z"
   },
   {
    "duration": 8,
    "start_time": "2023-04-18T12:23:03.223Z"
   },
   {
    "duration": 11,
    "start_time": "2023-04-18T12:23:03.233Z"
   },
   {
    "duration": 14,
    "start_time": "2023-04-18T12:23:03.245Z"
   },
   {
    "duration": 30,
    "start_time": "2023-04-18T12:23:03.261Z"
   },
   {
    "duration": 117,
    "start_time": "2023-04-18T12:23:03.292Z"
   },
   {
    "duration": 77,
    "start_time": "2023-04-18T12:23:03.412Z"
   },
   {
    "duration": 19,
    "start_time": "2023-04-18T12:23:03.492Z"
   },
   {
    "duration": 101,
    "start_time": "2023-04-18T12:23:03.513Z"
   },
   {
    "duration": 15,
    "start_time": "2023-04-18T12:23:03.616Z"
   },
   {
    "duration": 0,
    "start_time": "2023-04-18T12:23:03.634Z"
   },
   {
    "duration": 0,
    "start_time": "2023-04-18T12:23:03.635Z"
   },
   {
    "duration": 0,
    "start_time": "2023-04-18T12:23:03.636Z"
   },
   {
    "duration": 0,
    "start_time": "2023-04-18T12:23:03.637Z"
   },
   {
    "duration": 0,
    "start_time": "2023-04-18T12:23:03.638Z"
   },
   {
    "duration": 0,
    "start_time": "2023-04-18T12:23:03.639Z"
   },
   {
    "duration": 0,
    "start_time": "2023-04-18T12:23:03.640Z"
   },
   {
    "duration": 0,
    "start_time": "2023-04-18T12:23:03.641Z"
   },
   {
    "duration": 0,
    "start_time": "2023-04-18T12:23:03.642Z"
   },
   {
    "duration": 0,
    "start_time": "2023-04-18T12:23:03.643Z"
   },
   {
    "duration": 0,
    "start_time": "2023-04-18T12:23:03.644Z"
   },
   {
    "duration": 0,
    "start_time": "2023-04-18T12:23:03.645Z"
   },
   {
    "duration": 0,
    "start_time": "2023-04-18T12:23:03.646Z"
   },
   {
    "duration": 0,
    "start_time": "2023-04-18T12:23:03.647Z"
   },
   {
    "duration": 0,
    "start_time": "2023-04-18T12:23:03.649Z"
   },
   {
    "duration": 0,
    "start_time": "2023-04-18T12:23:03.649Z"
   },
   {
    "duration": 0,
    "start_time": "2023-04-18T12:23:03.651Z"
   },
   {
    "duration": 0,
    "start_time": "2023-04-18T12:23:03.652Z"
   },
   {
    "duration": 1,
    "start_time": "2023-04-18T12:23:03.653Z"
   },
   {
    "duration": 0,
    "start_time": "2023-04-18T12:23:03.654Z"
   },
   {
    "duration": 0,
    "start_time": "2023-04-18T12:23:03.656Z"
   },
   {
    "duration": 0,
    "start_time": "2023-04-18T12:23:03.656Z"
   },
   {
    "duration": 6,
    "start_time": "2023-04-18T12:25:57.722Z"
   },
   {
    "duration": 93,
    "start_time": "2023-04-18T12:26:05.389Z"
   },
   {
    "duration": 9,
    "start_time": "2023-04-18T12:26:05.749Z"
   },
   {
    "duration": 4,
    "start_time": "2023-04-18T12:26:57.635Z"
   },
   {
    "duration": 83,
    "start_time": "2023-04-18T12:27:20.433Z"
   },
   {
    "duration": 5,
    "start_time": "2023-04-18T12:27:45.631Z"
   },
   {
    "duration": 91,
    "start_time": "2023-04-18T12:27:46.023Z"
   },
   {
    "duration": 9,
    "start_time": "2023-04-18T12:28:03.914Z"
   },
   {
    "duration": 63,
    "start_time": "2023-04-18T12:28:05.126Z"
   },
   {
    "duration": 4,
    "start_time": "2023-04-18T12:29:56.636Z"
   },
   {
    "duration": 70,
    "start_time": "2023-04-18T12:29:57.036Z"
   },
   {
    "duration": 4,
    "start_time": "2023-04-18T12:30:18.530Z"
   },
   {
    "duration": 57,
    "start_time": "2023-04-18T12:30:19.027Z"
   },
   {
    "duration": 7,
    "start_time": "2023-04-18T12:30:58.394Z"
   },
   {
    "duration": 91,
    "start_time": "2023-04-18T12:30:59.137Z"
   },
   {
    "duration": 4,
    "start_time": "2023-04-18T12:31:14.053Z"
   },
   {
    "duration": 71,
    "start_time": "2023-04-18T12:31:14.828Z"
   },
   {
    "duration": 7,
    "start_time": "2023-04-18T12:31:36.124Z"
   },
   {
    "duration": 77,
    "start_time": "2023-04-18T12:31:37.031Z"
   },
   {
    "duration": 4,
    "start_time": "2023-04-18T12:32:23.628Z"
   },
   {
    "duration": 85,
    "start_time": "2023-04-18T12:32:24.053Z"
   },
   {
    "duration": 18,
    "start_time": "2023-04-18T12:32:39.191Z"
   },
   {
    "duration": 83,
    "start_time": "2023-04-18T12:32:39.618Z"
   },
   {
    "duration": 5,
    "start_time": "2023-04-18T12:33:16.490Z"
   },
   {
    "duration": 71,
    "start_time": "2023-04-18T12:33:17.025Z"
   },
   {
    "duration": 4,
    "start_time": "2023-04-18T12:33:26.423Z"
   },
   {
    "duration": 45,
    "start_time": "2023-04-18T12:33:27.197Z"
   },
   {
    "duration": 23,
    "start_time": "2023-04-18T12:33:32.390Z"
   },
   {
    "duration": 17,
    "start_time": "2023-04-18T12:34:00.900Z"
   },
   {
    "duration": 6,
    "start_time": "2023-04-18T12:34:52.426Z"
   },
   {
    "duration": 52,
    "start_time": "2023-04-18T12:34:53.324Z"
   },
   {
    "duration": 7,
    "start_time": "2023-04-18T12:35:02.819Z"
   },
   {
    "duration": 4,
    "start_time": "2023-04-18T12:41:23.611Z"
   },
   {
    "duration": 84,
    "start_time": "2023-04-18T12:41:24.653Z"
   },
   {
    "duration": 6,
    "start_time": "2023-04-18T12:41:26.330Z"
   },
   {
    "duration": 35,
    "start_time": "2023-04-18T12:41:57.789Z"
   },
   {
    "duration": 65,
    "start_time": "2023-04-18T12:43:09.026Z"
   },
   {
    "duration": 11,
    "start_time": "2023-04-18T12:43:13.794Z"
   },
   {
    "duration": 51,
    "start_time": "2023-04-18T12:43:14.193Z"
   },
   {
    "duration": 23,
    "start_time": "2023-04-18T12:43:15.625Z"
   },
   {
    "duration": 8,
    "start_time": "2023-04-18T12:43:19.589Z"
   },
   {
    "duration": 5,
    "start_time": "2023-04-18T12:44:32.326Z"
   },
   {
    "duration": 55,
    "start_time": "2023-04-18T12:44:33.289Z"
   },
   {
    "duration": 19,
    "start_time": "2023-04-18T12:44:33.755Z"
   },
   {
    "duration": 12,
    "start_time": "2023-04-18T12:44:40.093Z"
   },
   {
    "duration": 83,
    "start_time": "2023-04-18T12:45:17.125Z"
   },
   {
    "duration": 7,
    "start_time": "2023-04-18T12:45:17.514Z"
   },
   {
    "duration": 800,
    "start_time": "2023-04-18T12:45:19.117Z"
   },
   {
    "duration": 35,
    "start_time": "2023-04-18T12:45:24.081Z"
   },
   {
    "duration": 128,
    "start_time": "2023-04-18T13:32:30.004Z"
   },
   {
    "duration": 6,
    "start_time": "2023-04-18T13:32:38.195Z"
   },
   {
    "duration": 5,
    "start_time": "2023-04-18T13:33:34.512Z"
   },
   {
    "duration": 5,
    "start_time": "2023-04-18T13:33:34.992Z"
   },
   {
    "duration": 63,
    "start_time": "2023-04-18T13:34:26.701Z"
   },
   {
    "duration": 5,
    "start_time": "2023-04-18T13:35:31.593Z"
   },
   {
    "duration": 81,
    "start_time": "2023-04-18T13:35:36.223Z"
   },
   {
    "duration": 7,
    "start_time": "2023-04-18T13:38:28.892Z"
   },
   {
    "duration": 71,
    "start_time": "2023-04-18T13:38:48.015Z"
   },
   {
    "duration": 5,
    "start_time": "2023-04-18T13:41:18.912Z"
   },
   {
    "duration": 59,
    "start_time": "2023-04-18T13:41:30.951Z"
   },
   {
    "duration": 5,
    "start_time": "2023-04-18T13:41:46.749Z"
   },
   {
    "duration": 279,
    "start_time": "2023-04-18T13:41:50.576Z"
   },
   {
    "duration": 4,
    "start_time": "2023-04-18T13:42:58.728Z"
   },
   {
    "duration": 20,
    "start_time": "2023-04-18T13:43:07.324Z"
   },
   {
    "duration": 63,
    "start_time": "2023-04-18T13:43:11.663Z"
   },
   {
    "duration": 75,
    "start_time": "2023-04-18T13:43:23.620Z"
   },
   {
    "duration": 66,
    "start_time": "2023-04-18T13:43:46.543Z"
   },
   {
    "duration": 50,
    "start_time": "2023-04-18T13:48:37.792Z"
   },
   {
    "duration": 21,
    "start_time": "2023-04-18T13:48:58.733Z"
   },
   {
    "duration": 14,
    "start_time": "2023-04-18T13:49:09.692Z"
   },
   {
    "duration": 6,
    "start_time": "2023-04-18T13:51:14.192Z"
   },
   {
    "duration": 31,
    "start_time": "2023-04-18T13:51:25.314Z"
   },
   {
    "duration": 6,
    "start_time": "2023-04-18T13:51:29.023Z"
   },
   {
    "duration": 49,
    "start_time": "2023-04-18T13:53:07.018Z"
   },
   {
    "duration": 828,
    "start_time": "2023-04-18T13:53:07.389Z"
   },
   {
    "duration": 22,
    "start_time": "2023-04-18T13:53:16.384Z"
   },
   {
    "duration": 63,
    "start_time": "2023-04-18T13:53:26.801Z"
   },
   {
    "duration": 6,
    "start_time": "2023-04-18T14:02:24.329Z"
   },
   {
    "duration": 68,
    "start_time": "2023-04-18T14:02:29.091Z"
   },
   {
    "duration": 4,
    "start_time": "2023-04-18T14:06:19.889Z"
   },
   {
    "duration": 55,
    "start_time": "2023-04-18T14:06:25.387Z"
   },
   {
    "duration": 5,
    "start_time": "2023-04-18T14:07:02.433Z"
   },
   {
    "duration": 5,
    "start_time": "2023-04-18T14:07:53.189Z"
   },
   {
    "duration": 6,
    "start_time": "2023-04-18T14:07:53.939Z"
   },
   {
    "duration": 45,
    "start_time": "2023-04-18T14:07:58.316Z"
   },
   {
    "duration": 6,
    "start_time": "2023-04-18T14:08:25.536Z"
   },
   {
    "duration": 22,
    "start_time": "2023-04-18T14:08:28.782Z"
   },
   {
    "duration": 48,
    "start_time": "2023-04-18T14:08:33.215Z"
   },
   {
    "duration": 14,
    "start_time": "2023-04-18T15:15:29.793Z"
   },
   {
    "duration": 13,
    "start_time": "2023-04-18T15:15:42.735Z"
   },
   {
    "duration": 8,
    "start_time": "2023-04-18T15:15:55.205Z"
   },
   {
    "duration": 15,
    "start_time": "2023-04-18T15:16:25.735Z"
   },
   {
    "duration": 14,
    "start_time": "2023-04-18T15:17:27.628Z"
   },
   {
    "duration": 7,
    "start_time": "2023-04-18T15:18:05.983Z"
   },
   {
    "duration": 39,
    "start_time": "2023-04-18T15:18:31.233Z"
   },
   {
    "duration": 30,
    "start_time": "2023-04-18T15:18:41.445Z"
   },
   {
    "duration": 5,
    "start_time": "2023-04-18T15:18:53.423Z"
   },
   {
    "duration": 6,
    "start_time": "2023-04-18T15:18:53.639Z"
   },
   {
    "duration": 58,
    "start_time": "2023-04-18T15:18:54.135Z"
   },
   {
    "duration": 6,
    "start_time": "2023-04-18T15:19:18.333Z"
   },
   {
    "duration": 19,
    "start_time": "2023-04-18T15:19:20.013Z"
   },
   {
    "duration": 43,
    "start_time": "2023-04-18T15:19:29.251Z"
   },
   {
    "duration": 51,
    "start_time": "2023-04-18T15:19:34.543Z"
   },
   {
    "duration": 92,
    "start_time": "2023-04-18T15:51:30.512Z"
   },
   {
    "duration": 25,
    "start_time": "2023-04-18T15:51:42.585Z"
   },
   {
    "duration": 13,
    "start_time": "2023-04-18T15:52:03.647Z"
   },
   {
    "duration": 8,
    "start_time": "2023-04-18T15:52:33.911Z"
   },
   {
    "duration": 22,
    "start_time": "2023-04-18T15:52:34.438Z"
   },
   {
    "duration": 20,
    "start_time": "2023-04-18T15:52:56.631Z"
   },
   {
    "duration": 49,
    "start_time": "2023-04-18T15:53:07.236Z"
   },
   {
    "duration": 19,
    "start_time": "2023-04-18T15:53:13.717Z"
   },
   {
    "duration": 57,
    "start_time": "2023-04-18T15:53:18.355Z"
   },
   {
    "duration": 8,
    "start_time": "2023-04-18T15:55:49.810Z"
   },
   {
    "duration": 20,
    "start_time": "2023-04-18T15:55:51.912Z"
   },
   {
    "duration": 29,
    "start_time": "2023-04-18T15:55:55.255Z"
   },
   {
    "duration": 10,
    "start_time": "2023-04-18T15:56:31.427Z"
   },
   {
    "duration": 18,
    "start_time": "2023-04-18T15:56:32.813Z"
   },
   {
    "duration": 70,
    "start_time": "2023-04-18T15:56:34.525Z"
   },
   {
    "duration": 9,
    "start_time": "2023-04-18T15:56:44.520Z"
   },
   {
    "duration": 18,
    "start_time": "2023-04-18T15:56:44.941Z"
   },
   {
    "duration": 55,
    "start_time": "2023-04-18T15:56:46.721Z"
   },
   {
    "duration": 9,
    "start_time": "2023-04-18T15:59:08.821Z"
   },
   {
    "duration": 94,
    "start_time": "2023-04-18T15:59:19.521Z"
   },
   {
    "duration": 9,
    "start_time": "2023-04-18T16:00:18.832Z"
   },
   {
    "duration": 81,
    "start_time": "2023-04-18T16:00:47.113Z"
   },
   {
    "duration": 26,
    "start_time": "2023-04-18T16:00:47.817Z"
   },
   {
    "duration": 42,
    "start_time": "2023-04-18T16:00:55.953Z"
   },
   {
    "duration": 5,
    "start_time": "2023-04-18T16:01:01.031Z"
   },
   {
    "duration": 10,
    "start_time": "2023-04-18T16:01:09.446Z"
   },
   {
    "duration": 6,
    "start_time": "2023-04-18T16:01:15.209Z"
   },
   {
    "duration": 6,
    "start_time": "2023-04-18T16:01:18.440Z"
   },
   {
    "duration": 802,
    "start_time": "2023-04-18T16:01:30.221Z"
   },
   {
    "duration": 274,
    "start_time": "2023-04-18T16:01:34.423Z"
   },
   {
    "duration": 91,
    "start_time": "2023-04-18T16:04:24.744Z"
   },
   {
    "duration": 863,
    "start_time": "2023-04-18T16:04:25.546Z"
   },
   {
    "duration": 302,
    "start_time": "2023-04-18T16:04:32.216Z"
   },
   {
    "duration": 163053,
    "start_time": "2023-04-18T16:04:58.131Z"
   },
   {
    "duration": 0,
    "start_time": "2023-04-18T16:07:41.186Z"
   },
   {
    "duration": 0,
    "start_time": "2023-04-18T16:07:41.187Z"
   },
   {
    "duration": 1717,
    "start_time": "2023-04-18T16:07:45.109Z"
   },
   {
    "duration": 3,
    "start_time": "2023-04-18T16:07:46.828Z"
   },
   {
    "duration": 8,
    "start_time": "2023-04-18T16:07:46.832Z"
   },
   {
    "duration": 3,
    "start_time": "2023-04-18T16:07:46.842Z"
   },
   {
    "duration": 3,
    "start_time": "2023-04-18T16:07:46.847Z"
   },
   {
    "duration": 14,
    "start_time": "2023-04-18T16:07:46.863Z"
   },
   {
    "duration": 11,
    "start_time": "2023-04-18T16:07:46.879Z"
   },
   {
    "duration": 175,
    "start_time": "2023-04-18T16:07:46.893Z"
   },
   {
    "duration": 0,
    "start_time": "2023-04-18T16:07:47.073Z"
   },
   {
    "duration": 0,
    "start_time": "2023-04-18T16:07:47.078Z"
   },
   {
    "duration": 0,
    "start_time": "2023-04-18T16:07:47.080Z"
   },
   {
    "duration": 0,
    "start_time": "2023-04-18T16:07:47.081Z"
   },
   {
    "duration": 0,
    "start_time": "2023-04-18T16:07:47.082Z"
   },
   {
    "duration": 0,
    "start_time": "2023-04-18T16:07:47.084Z"
   },
   {
    "duration": 0,
    "start_time": "2023-04-18T16:07:47.085Z"
   },
   {
    "duration": 0,
    "start_time": "2023-04-18T16:07:47.086Z"
   },
   {
    "duration": 0,
    "start_time": "2023-04-18T16:07:47.087Z"
   },
   {
    "duration": 0,
    "start_time": "2023-04-18T16:07:47.089Z"
   },
   {
    "duration": 0,
    "start_time": "2023-04-18T16:07:47.090Z"
   },
   {
    "duration": 0,
    "start_time": "2023-04-18T16:07:47.092Z"
   },
   {
    "duration": 0,
    "start_time": "2023-04-18T16:07:47.093Z"
   },
   {
    "duration": 0,
    "start_time": "2023-04-18T16:07:47.094Z"
   },
   {
    "duration": 0,
    "start_time": "2023-04-18T16:07:47.096Z"
   },
   {
    "duration": 0,
    "start_time": "2023-04-18T16:07:47.096Z"
   },
   {
    "duration": 0,
    "start_time": "2023-04-18T16:07:47.097Z"
   },
   {
    "duration": 0,
    "start_time": "2023-04-18T16:07:47.099Z"
   },
   {
    "duration": 0,
    "start_time": "2023-04-18T16:07:47.100Z"
   },
   {
    "duration": 0,
    "start_time": "2023-04-18T16:07:47.103Z"
   },
   {
    "duration": 0,
    "start_time": "2023-04-18T16:07:47.106Z"
   },
   {
    "duration": 0,
    "start_time": "2023-04-18T16:07:47.107Z"
   },
   {
    "duration": 0,
    "start_time": "2023-04-18T16:07:47.109Z"
   },
   {
    "duration": 0,
    "start_time": "2023-04-18T16:07:47.110Z"
   },
   {
    "duration": 0,
    "start_time": "2023-04-18T16:07:47.111Z"
   },
   {
    "duration": 0,
    "start_time": "2023-04-18T16:07:47.112Z"
   },
   {
    "duration": 0,
    "start_time": "2023-04-18T16:07:47.113Z"
   },
   {
    "duration": 0,
    "start_time": "2023-04-18T16:07:47.115Z"
   },
   {
    "duration": 0,
    "start_time": "2023-04-18T16:07:47.116Z"
   },
   {
    "duration": 0,
    "start_time": "2023-04-18T16:07:47.117Z"
   },
   {
    "duration": 0,
    "start_time": "2023-04-18T16:07:47.118Z"
   },
   {
    "duration": 0,
    "start_time": "2023-04-18T16:07:47.119Z"
   },
   {
    "duration": 0,
    "start_time": "2023-04-18T16:07:47.120Z"
   },
   {
    "duration": 0,
    "start_time": "2023-04-18T16:07:47.121Z"
   },
   {
    "duration": 0,
    "start_time": "2023-04-18T16:07:47.121Z"
   },
   {
    "duration": 0,
    "start_time": "2023-04-18T16:07:47.163Z"
   },
   {
    "duration": 0,
    "start_time": "2023-04-18T16:07:47.165Z"
   },
   {
    "duration": 0,
    "start_time": "2023-04-18T16:07:47.166Z"
   },
   {
    "duration": 0,
    "start_time": "2023-04-18T16:07:47.167Z"
   },
   {
    "duration": 0,
    "start_time": "2023-04-18T16:07:47.168Z"
   },
   {
    "duration": 1,
    "start_time": "2023-04-18T16:07:47.169Z"
   },
   {
    "duration": 0,
    "start_time": "2023-04-18T16:07:47.171Z"
   },
   {
    "duration": 10,
    "start_time": "2023-04-18T16:10:04.998Z"
   },
   {
    "duration": 16,
    "start_time": "2023-04-18T16:10:14.341Z"
   },
   {
    "duration": 14,
    "start_time": "2023-04-18T16:10:32.509Z"
   },
   {
    "duration": 17,
    "start_time": "2023-04-18T16:10:48.226Z"
   },
   {
    "duration": 4,
    "start_time": "2023-04-18T16:11:33.260Z"
   },
   {
    "duration": 79,
    "start_time": "2023-04-18T16:11:56.736Z"
   },
   {
    "duration": 20,
    "start_time": "2023-04-18T16:11:59.925Z"
   },
   {
    "duration": 5,
    "start_time": "2023-04-18T16:12:00.123Z"
   },
   {
    "duration": 18,
    "start_time": "2023-04-18T16:12:00.765Z"
   },
   {
    "duration": 14,
    "start_time": "2023-04-18T16:12:01.238Z"
   },
   {
    "duration": 10,
    "start_time": "2023-04-18T16:12:01.470Z"
   },
   {
    "duration": 3,
    "start_time": "2023-04-18T16:12:02.189Z"
   },
   {
    "duration": 3,
    "start_time": "2023-04-18T16:12:02.416Z"
   },
   {
    "duration": 9,
    "start_time": "2023-04-18T16:12:05.055Z"
   },
   {
    "duration": 129,
    "start_time": "2023-04-18T16:12:05.238Z"
   },
   {
    "duration": 90,
    "start_time": "2023-04-18T16:12:05.423Z"
   },
   {
    "duration": 68,
    "start_time": "2023-04-18T16:12:42.541Z"
   },
   {
    "duration": 66,
    "start_time": "2023-04-18T16:16:56.141Z"
   },
   {
    "duration": 112,
    "start_time": "2023-04-18T16:18:00.722Z"
   },
   {
    "duration": 70,
    "start_time": "2023-04-18T16:18:15.785Z"
   },
   {
    "duration": 8,
    "start_time": "2023-04-18T16:19:47.617Z"
   },
   {
    "duration": 9,
    "start_time": "2023-04-18T16:20:24.981Z"
   },
   {
    "duration": 61,
    "start_time": "2023-04-18T16:20:49.213Z"
   },
   {
    "duration": 80,
    "start_time": "2023-04-18T16:21:07.254Z"
   },
   {
    "duration": 61,
    "start_time": "2023-04-18T16:21:15.635Z"
   },
   {
    "duration": 9,
    "start_time": "2023-04-18T16:23:10.788Z"
   },
   {
    "duration": 8,
    "start_time": "2023-04-18T16:24:25.425Z"
   },
   {
    "duration": 43,
    "start_time": "2023-04-18T16:24:31.986Z"
   },
   {
    "duration": 22,
    "start_time": "2023-04-18T16:26:57.833Z"
   },
   {
    "duration": 7,
    "start_time": "2023-04-18T16:27:10.325Z"
   },
   {
    "duration": 7,
    "start_time": "2023-04-18T16:28:43.617Z"
   },
   {
    "duration": 88,
    "start_time": "2023-04-18T16:29:01.449Z"
   },
   {
    "duration": 761,
    "start_time": "2023-04-18T16:29:07.647Z"
   },
   {
    "duration": 1568,
    "start_time": "2023-04-18T16:29:23.584Z"
   },
   {
    "duration": 3,
    "start_time": "2023-04-18T16:29:25.154Z"
   },
   {
    "duration": 25,
    "start_time": "2023-04-18T16:29:25.158Z"
   },
   {
    "duration": 14,
    "start_time": "2023-04-18T16:29:25.186Z"
   },
   {
    "duration": 9,
    "start_time": "2023-04-18T16:29:25.202Z"
   },
   {
    "duration": 7,
    "start_time": "2023-04-18T16:29:25.213Z"
   },
   {
    "duration": 9,
    "start_time": "2023-04-18T16:29:25.222Z"
   },
   {
    "duration": 8,
    "start_time": "2023-04-18T16:29:25.232Z"
   },
   {
    "duration": 13,
    "start_time": "2023-04-18T16:29:25.242Z"
   },
   {
    "duration": 89,
    "start_time": "2023-04-18T16:29:25.257Z"
   },
   {
    "duration": 11,
    "start_time": "2023-04-18T16:29:25.348Z"
   },
   {
    "duration": 23,
    "start_time": "2023-04-18T16:29:25.360Z"
   },
   {
    "duration": 21,
    "start_time": "2023-04-18T16:29:25.386Z"
   },
   {
    "duration": 9,
    "start_time": "2023-04-18T16:29:25.409Z"
   },
   {
    "duration": 4,
    "start_time": "2023-04-18T16:29:25.419Z"
   },
   {
    "duration": 3,
    "start_time": "2023-04-18T16:29:25.424Z"
   },
   {
    "duration": 6,
    "start_time": "2023-04-18T16:29:25.428Z"
   },
   {
    "duration": 7,
    "start_time": "2023-04-18T16:29:25.435Z"
   },
   {
    "duration": 104,
    "start_time": "2023-04-18T16:29:25.444Z"
   },
   {
    "duration": 96,
    "start_time": "2023-04-18T16:29:25.550Z"
   },
   {
    "duration": 798,
    "start_time": "2023-04-18T16:29:25.648Z"
   },
   {
    "duration": 283,
    "start_time": "2023-04-18T16:29:26.448Z"
   },
   {
    "duration": 301945,
    "start_time": "2023-04-18T16:29:26.733Z"
   },
   {
    "duration": 889,
    "start_time": "2023-04-18T16:34:28.680Z"
   },
   {
    "duration": 2610,
    "start_time": "2023-04-18T16:34:29.570Z"
   },
   {
    "duration": 9,
    "start_time": "2023-04-18T16:34:32.183Z"
   },
   {
    "duration": 35,
    "start_time": "2023-04-18T16:34:32.194Z"
   },
   {
    "duration": 5,
    "start_time": "2023-04-18T16:34:32.232Z"
   },
   {
    "duration": 38,
    "start_time": "2023-04-18T16:34:32.238Z"
   },
   {
    "duration": 219,
    "start_time": "2023-04-18T16:34:32.278Z"
   },
   {
    "duration": 0,
    "start_time": "2023-04-18T16:34:32.499Z"
   },
   {
    "duration": 0,
    "start_time": "2023-04-18T16:34:32.500Z"
   },
   {
    "duration": 0,
    "start_time": "2023-04-18T16:34:32.501Z"
   },
   {
    "duration": 0,
    "start_time": "2023-04-18T16:34:32.503Z"
   },
   {
    "duration": 0,
    "start_time": "2023-04-18T16:34:32.504Z"
   },
   {
    "duration": 0,
    "start_time": "2023-04-18T16:34:32.505Z"
   },
   {
    "duration": 0,
    "start_time": "2023-04-18T16:34:32.506Z"
   },
   {
    "duration": 0,
    "start_time": "2023-04-18T16:34:32.507Z"
   },
   {
    "duration": 0,
    "start_time": "2023-04-18T16:34:32.508Z"
   },
   {
    "duration": 0,
    "start_time": "2023-04-18T16:34:32.509Z"
   },
   {
    "duration": 0,
    "start_time": "2023-04-18T16:34:32.514Z"
   },
   {
    "duration": 0,
    "start_time": "2023-04-18T16:34:32.515Z"
   },
   {
    "duration": 0,
    "start_time": "2023-04-18T16:34:32.515Z"
   },
   {
    "duration": 0,
    "start_time": "2023-04-18T16:34:32.516Z"
   },
   {
    "duration": 0,
    "start_time": "2023-04-18T16:34:32.517Z"
   },
   {
    "duration": 0,
    "start_time": "2023-04-18T16:34:32.518Z"
   },
   {
    "duration": 102,
    "start_time": "2023-04-18T16:36:25.612Z"
   },
   {
    "duration": 13,
    "start_time": "2023-04-18T16:36:25.948Z"
   },
   {
    "duration": 5,
    "start_time": "2023-04-18T16:36:26.136Z"
   },
   {
    "duration": 6,
    "start_time": "2023-04-18T16:36:26.329Z"
   },
   {
    "duration": 447733,
    "start_time": "2023-04-18T16:36:27.087Z"
   },
   {
    "duration": 230,
    "start_time": "2023-04-18T16:43:54.822Z"
   },
   {
    "duration": 2819,
    "start_time": "2023-04-18T16:43:55.054Z"
   },
   {
    "duration": 379,
    "start_time": "2023-04-18T16:43:57.881Z"
   },
   {
    "duration": 19,
    "start_time": "2023-04-18T16:43:58.262Z"
   },
   {
    "duration": 23,
    "start_time": "2023-04-18T16:43:58.283Z"
   },
   {
    "duration": 15,
    "start_time": "2023-04-18T16:43:58.307Z"
   },
   {
    "duration": 165608,
    "start_time": "2023-04-18T16:43:58.323Z"
   },
   {
    "duration": 1791,
    "start_time": "2023-04-18T16:46:43.932Z"
   },
   {
    "duration": 310277,
    "start_time": "2023-04-18T16:46:45.726Z"
   },
   {
    "duration": 199,
    "start_time": "2023-04-18T16:51:56.013Z"
   },
   {
    "duration": 2525,
    "start_time": "2023-04-18T16:51:56.215Z"
   },
   {
    "duration": 189,
    "start_time": "2023-04-18T16:51:58.741Z"
   },
   {
    "duration": 7,
    "start_time": "2023-04-18T17:30:22.941Z"
   },
   {
    "duration": 10,
    "start_time": "2023-04-18T17:30:22.951Z"
   },
   {
    "duration": 6,
    "start_time": "2023-04-18T17:30:22.963Z"
   },
   {
    "duration": 13,
    "start_time": "2023-04-18T17:30:22.971Z"
   },
   {
    "duration": 15,
    "start_time": "2023-04-18T17:30:22.991Z"
   },
   {
    "duration": 29,
    "start_time": "2023-04-18T17:30:23.008Z"
   },
   {
    "duration": 12,
    "start_time": "2023-04-18T17:30:23.040Z"
   },
   {
    "duration": 23,
    "start_time": "2023-04-18T17:30:23.054Z"
   },
   {
    "duration": 11,
    "start_time": "2023-04-18T17:30:23.083Z"
   },
   {
    "duration": 110,
    "start_time": "2023-04-18T17:30:23.101Z"
   },
   {
    "duration": 22,
    "start_time": "2023-04-18T17:30:23.214Z"
   },
   {
    "duration": 9,
    "start_time": "2023-04-18T17:30:23.240Z"
   },
   {
    "duration": 9,
    "start_time": "2023-04-18T17:30:23.252Z"
   },
   {
    "duration": 9,
    "start_time": "2023-04-18T17:30:23.264Z"
   },
   {
    "duration": 4,
    "start_time": "2023-04-18T17:30:23.276Z"
   },
   {
    "duration": 2,
    "start_time": "2023-04-18T17:30:23.283Z"
   },
   {
    "duration": 4,
    "start_time": "2023-04-18T17:30:23.287Z"
   },
   {
    "duration": 9,
    "start_time": "2023-04-18T17:30:23.294Z"
   },
   {
    "duration": 143,
    "start_time": "2023-04-18T17:30:23.305Z"
   },
   {
    "duration": 253,
    "start_time": "2023-04-18T17:30:23.453Z"
   },
   {
    "duration": 966,
    "start_time": "2023-04-18T17:30:23.711Z"
   },
   {
    "duration": 402,
    "start_time": "2023-04-18T17:30:24.679Z"
   },
   {
    "duration": 2010,
    "start_time": "2023-04-18T17:31:13.536Z"
   },
   {
    "duration": 3,
    "start_time": "2023-04-18T17:31:15.548Z"
   },
   {
    "duration": 14,
    "start_time": "2023-04-18T17:31:15.553Z"
   },
   {
    "duration": 4,
    "start_time": "2023-04-18T17:31:15.572Z"
   },
   {
    "duration": 8,
    "start_time": "2023-04-18T17:31:15.579Z"
   },
   {
    "duration": 19,
    "start_time": "2023-04-18T17:31:15.589Z"
   },
   {
    "duration": 13,
    "start_time": "2023-04-18T17:31:15.611Z"
   },
   {
    "duration": 24,
    "start_time": "2023-04-18T17:31:15.626Z"
   },
   {
    "duration": 16,
    "start_time": "2023-04-18T17:31:15.652Z"
   },
   {
    "duration": 101,
    "start_time": "2023-04-18T17:31:15.674Z"
   },
   {
    "duration": 25,
    "start_time": "2023-04-18T17:31:15.776Z"
   },
   {
    "duration": 12,
    "start_time": "2023-04-18T17:31:15.810Z"
   },
   {
    "duration": 13,
    "start_time": "2023-04-18T17:31:15.830Z"
   },
   {
    "duration": 12,
    "start_time": "2023-04-18T17:31:15.847Z"
   },
   {
    "duration": 15,
    "start_time": "2023-04-18T17:31:15.862Z"
   },
   {
    "duration": 2,
    "start_time": "2023-04-18T17:31:15.880Z"
   },
   {
    "duration": 7,
    "start_time": "2023-04-18T17:31:15.885Z"
   },
   {
    "duration": 11,
    "start_time": "2023-04-18T17:31:15.897Z"
   },
   {
    "duration": 135,
    "start_time": "2023-04-18T17:31:15.916Z"
   },
   {
    "duration": 105,
    "start_time": "2023-04-18T17:31:16.054Z"
   },
   {
    "duration": 956,
    "start_time": "2023-04-18T17:31:16.161Z"
   },
   {
    "duration": 356,
    "start_time": "2023-04-18T17:31:17.125Z"
   },
   {
    "duration": 0,
    "start_time": "2023-04-18T17:32:30.217Z"
   },
   {
    "duration": 0,
    "start_time": "2023-04-18T17:32:30.219Z"
   },
   {
    "duration": 0,
    "start_time": "2023-04-18T17:32:30.220Z"
   },
   {
    "duration": 0,
    "start_time": "2023-04-18T17:32:30.222Z"
   },
   {
    "duration": 0,
    "start_time": "2023-04-18T17:32:30.223Z"
   },
   {
    "duration": 0,
    "start_time": "2023-04-18T17:32:30.225Z"
   },
   {
    "duration": 0,
    "start_time": "2023-04-18T17:32:30.227Z"
   },
   {
    "duration": 0,
    "start_time": "2023-04-18T17:32:30.229Z"
   },
   {
    "duration": 0,
    "start_time": "2023-04-18T17:32:30.230Z"
   },
   {
    "duration": 0,
    "start_time": "2023-04-18T17:32:30.234Z"
   },
   {
    "duration": 0,
    "start_time": "2023-04-18T17:32:30.264Z"
   },
   {
    "duration": 0,
    "start_time": "2023-04-18T17:32:30.266Z"
   },
   {
    "duration": 0,
    "start_time": "2023-04-18T17:32:30.268Z"
   },
   {
    "duration": 0,
    "start_time": "2023-04-18T17:32:30.269Z"
   },
   {
    "duration": 0,
    "start_time": "2023-04-18T17:32:30.275Z"
   },
   {
    "duration": 0,
    "start_time": "2023-04-18T17:32:30.277Z"
   },
   {
    "duration": 0,
    "start_time": "2023-04-18T17:32:30.279Z"
   },
   {
    "duration": 0,
    "start_time": "2023-04-18T17:32:30.281Z"
   },
   {
    "duration": 0,
    "start_time": "2023-04-18T17:32:30.285Z"
   },
   {
    "duration": 1,
    "start_time": "2023-04-18T17:32:30.286Z"
   },
   {
    "duration": 0,
    "start_time": "2023-04-18T17:32:30.288Z"
   },
   {
    "duration": 0,
    "start_time": "2023-04-18T17:32:30.290Z"
   },
   {
    "duration": 0,
    "start_time": "2023-04-18T17:32:30.291Z"
   },
   {
    "duration": 0,
    "start_time": "2023-04-18T17:32:30.293Z"
   },
   {
    "duration": 0,
    "start_time": "2023-04-18T17:32:30.297Z"
   },
   {
    "duration": 0,
    "start_time": "2023-04-18T17:32:30.301Z"
   },
   {
    "duration": 0,
    "start_time": "2023-04-18T17:32:30.302Z"
   },
   {
    "duration": 0,
    "start_time": "2023-04-18T17:32:30.306Z"
   },
   {
    "duration": 0,
    "start_time": "2023-04-18T17:32:30.308Z"
   },
   {
    "duration": 0,
    "start_time": "2023-04-18T17:32:30.309Z"
   },
   {
    "duration": 0,
    "start_time": "2023-04-18T17:32:30.311Z"
   },
   {
    "duration": 0,
    "start_time": "2023-04-18T17:32:30.312Z"
   },
   {
    "duration": 0,
    "start_time": "2023-04-18T17:32:30.314Z"
   },
   {
    "duration": 0,
    "start_time": "2023-04-18T17:32:30.315Z"
   },
   {
    "duration": 0,
    "start_time": "2023-04-18T17:32:30.316Z"
   },
   {
    "duration": 0,
    "start_time": "2023-04-18T17:32:30.318Z"
   },
   {
    "duration": 0,
    "start_time": "2023-04-18T17:32:30.319Z"
   },
   {
    "duration": 0,
    "start_time": "2023-04-18T17:32:30.320Z"
   },
   {
    "duration": 0,
    "start_time": "2023-04-18T17:32:30.321Z"
   },
   {
    "duration": 0,
    "start_time": "2023-04-18T17:32:30.323Z"
   },
   {
    "duration": 0,
    "start_time": "2023-04-18T17:32:30.324Z"
   },
   {
    "duration": 0,
    "start_time": "2023-04-18T17:32:30.325Z"
   },
   {
    "duration": 0,
    "start_time": "2023-04-18T17:32:30.327Z"
   },
   {
    "duration": 0,
    "start_time": "2023-04-18T17:32:30.328Z"
   },
   {
    "duration": 0,
    "start_time": "2023-04-18T17:32:30.329Z"
   },
   {
    "duration": 0,
    "start_time": "2023-04-18T17:32:30.330Z"
   },
   {
    "duration": 1958,
    "start_time": "2023-04-18T17:32:43.240Z"
   },
   {
    "duration": 5,
    "start_time": "2023-04-18T17:32:45.201Z"
   },
   {
    "duration": 7,
    "start_time": "2023-04-18T17:32:45.209Z"
   },
   {
    "duration": 6,
    "start_time": "2023-04-18T17:32:45.218Z"
   },
   {
    "duration": 5,
    "start_time": "2023-04-18T17:32:45.227Z"
   },
   {
    "duration": 32,
    "start_time": "2023-04-18T17:32:45.235Z"
   },
   {
    "duration": 10,
    "start_time": "2023-04-18T17:32:45.270Z"
   },
   {
    "duration": 13,
    "start_time": "2023-04-18T17:32:45.283Z"
   },
   {
    "duration": 8,
    "start_time": "2023-04-18T17:32:45.298Z"
   },
   {
    "duration": 87,
    "start_time": "2023-04-18T17:32:45.309Z"
   },
   {
    "duration": 29,
    "start_time": "2023-04-18T17:32:45.398Z"
   },
   {
    "duration": 17,
    "start_time": "2023-04-18T17:32:45.433Z"
   },
   {
    "duration": 18,
    "start_time": "2023-04-18T17:32:45.458Z"
   },
   {
    "duration": 16,
    "start_time": "2023-04-18T17:32:45.486Z"
   },
   {
    "duration": 8,
    "start_time": "2023-04-18T17:32:45.510Z"
   },
   {
    "duration": 5,
    "start_time": "2023-04-18T17:32:45.525Z"
   },
   {
    "duration": 4,
    "start_time": "2023-04-18T17:32:45.537Z"
   },
   {
    "duration": 11,
    "start_time": "2023-04-18T17:32:45.548Z"
   },
   {
    "duration": 141,
    "start_time": "2023-04-18T17:32:45.563Z"
   },
   {
    "duration": 120,
    "start_time": "2023-04-18T17:32:45.706Z"
   },
   {
    "duration": 902,
    "start_time": "2023-04-18T17:32:45.827Z"
   },
   {
    "duration": 359,
    "start_time": "2023-04-18T17:32:46.731Z"
   },
   {
    "duration": 71396,
    "start_time": "2023-04-18T17:32:47.092Z"
   },
   {
    "duration": 661,
    "start_time": "2023-04-18T17:33:58.490Z"
   },
   {
    "duration": 1721,
    "start_time": "2023-04-18T17:35:01.328Z"
   },
   {
    "duration": 4,
    "start_time": "2023-04-18T17:35:03.052Z"
   },
   {
    "duration": 10,
    "start_time": "2023-04-18T17:35:03.062Z"
   },
   {
    "duration": 39,
    "start_time": "2023-04-18T17:35:03.073Z"
   },
   {
    "duration": 13,
    "start_time": "2023-04-18T17:35:03.116Z"
   },
   {
    "duration": 13,
    "start_time": "2023-04-18T17:35:03.145Z"
   },
   {
    "duration": 10,
    "start_time": "2023-04-18T17:35:03.160Z"
   },
   {
    "duration": 28,
    "start_time": "2023-04-18T17:35:03.173Z"
   },
   {
    "duration": 25,
    "start_time": "2023-04-18T17:35:03.204Z"
   },
   {
    "duration": 80,
    "start_time": "2023-04-18T17:35:03.231Z"
   },
   {
    "duration": 19,
    "start_time": "2023-04-18T17:35:03.312Z"
   },
   {
    "duration": 9,
    "start_time": "2023-04-18T17:35:03.333Z"
   },
   {
    "duration": 10,
    "start_time": "2023-04-18T17:35:03.344Z"
   },
   {
    "duration": 18,
    "start_time": "2023-04-18T17:35:03.362Z"
   },
   {
    "duration": 14,
    "start_time": "2023-04-18T17:35:03.382Z"
   },
   {
    "duration": 5,
    "start_time": "2023-04-18T17:35:03.398Z"
   },
   {
    "duration": 14,
    "start_time": "2023-04-18T17:35:03.406Z"
   },
   {
    "duration": 7,
    "start_time": "2023-04-18T17:35:03.422Z"
   },
   {
    "duration": 120,
    "start_time": "2023-04-18T17:35:03.431Z"
   },
   {
    "duration": 102,
    "start_time": "2023-04-18T17:35:03.554Z"
   },
   {
    "duration": 838,
    "start_time": "2023-04-18T17:35:03.658Z"
   },
   {
    "duration": 318,
    "start_time": "2023-04-18T17:35:04.498Z"
   },
   {
    "duration": 322825,
    "start_time": "2023-04-18T17:35:04.818Z"
   },
   {
    "duration": 582,
    "start_time": "2023-04-18T17:40:27.645Z"
   },
   {
    "duration": 2253,
    "start_time": "2023-04-18T17:40:28.232Z"
   },
   {
    "duration": 7,
    "start_time": "2023-04-18T17:40:30.487Z"
   },
   {
    "duration": 27,
    "start_time": "2023-04-18T17:40:30.496Z"
   },
   {
    "duration": 33,
    "start_time": "2023-04-18T17:40:30.524Z"
   },
   {
    "duration": 51,
    "start_time": "2023-04-18T17:40:30.558Z"
   },
   {
    "duration": 131,
    "start_time": "2023-04-18T17:40:30.612Z"
   },
   {
    "duration": 14,
    "start_time": "2023-04-18T17:40:30.746Z"
   },
   {
    "duration": 41,
    "start_time": "2023-04-18T17:40:30.761Z"
   },
   {
    "duration": 34,
    "start_time": "2023-04-18T17:40:30.804Z"
   },
   {
    "duration": 467755,
    "start_time": "2023-04-18T17:40:30.840Z"
   },
   {
    "duration": 292,
    "start_time": "2023-04-18T17:48:18.603Z"
   },
   {
    "duration": 2667,
    "start_time": "2023-04-18T17:48:18.897Z"
   },
   {
    "duration": 443,
    "start_time": "2023-04-18T17:48:21.574Z"
   },
   {
    "duration": 12,
    "start_time": "2023-04-18T17:48:22.020Z"
   },
   {
    "duration": 5,
    "start_time": "2023-04-18T17:48:22.034Z"
   },
   {
    "duration": 11,
    "start_time": "2023-04-18T17:48:22.040Z"
   },
   {
    "duration": 184427,
    "start_time": "2023-04-18T17:48:22.054Z"
   },
   {
    "duration": 1962,
    "start_time": "2023-04-18T17:51:26.483Z"
   },
   {
    "duration": 327749,
    "start_time": "2023-04-18T17:51:28.446Z"
   },
   {
    "duration": 235,
    "start_time": "2023-04-18T17:56:56.197Z"
   },
   {
    "duration": 2803,
    "start_time": "2023-04-18T17:56:56.434Z"
   },
   {
    "duration": 256,
    "start_time": "2023-04-18T17:56:59.239Z"
   },
   {
    "duration": 1683,
    "start_time": "2023-04-18T19:58:01.001Z"
   },
   {
    "duration": 3,
    "start_time": "2023-04-18T19:58:02.686Z"
   },
   {
    "duration": 13,
    "start_time": "2023-04-18T19:58:02.690Z"
   },
   {
    "duration": 7,
    "start_time": "2023-04-18T19:58:02.705Z"
   },
   {
    "duration": 6,
    "start_time": "2023-04-18T19:58:02.713Z"
   },
   {
    "duration": 28,
    "start_time": "2023-04-18T19:58:02.721Z"
   },
   {
    "duration": 8,
    "start_time": "2023-04-18T19:58:02.751Z"
   },
   {
    "duration": 10,
    "start_time": "2023-04-18T19:58:02.760Z"
   },
   {
    "duration": 26,
    "start_time": "2023-04-18T19:58:02.771Z"
   },
   {
    "duration": 381,
    "start_time": "2023-04-18T19:58:02.798Z"
   },
   {
    "duration": 10,
    "start_time": "2023-04-18T19:58:03.180Z"
   },
   {
    "duration": 7,
    "start_time": "2023-04-18T19:58:03.192Z"
   },
   {
    "duration": 13,
    "start_time": "2023-04-18T19:58:03.200Z"
   },
   {
    "duration": 12,
    "start_time": "2023-04-18T19:58:03.216Z"
   },
   {
    "duration": 26,
    "start_time": "2023-04-18T19:58:03.229Z"
   },
   {
    "duration": 5,
    "start_time": "2023-04-18T19:58:03.256Z"
   },
   {
    "duration": 16,
    "start_time": "2023-04-18T19:58:03.262Z"
   },
   {
    "duration": 18,
    "start_time": "2023-04-18T19:58:03.279Z"
   },
   {
    "duration": 75,
    "start_time": "2023-04-18T19:58:03.298Z"
   },
   {
    "duration": 70,
    "start_time": "2023-04-18T19:58:03.374Z"
   },
   {
    "duration": 570,
    "start_time": "2023-04-18T19:58:03.446Z"
   },
   {
    "duration": 214,
    "start_time": "2023-04-18T19:58:04.018Z"
   },
   {
    "duration": 234780,
    "start_time": "2023-04-18T19:58:04.233Z"
   },
   {
    "duration": 490,
    "start_time": "2023-04-18T20:01:59.014Z"
   },
   {
    "duration": 2013,
    "start_time": "2023-04-18T20:01:59.506Z"
   },
   {
    "duration": 17,
    "start_time": "2023-04-18T20:02:01.520Z"
   },
   {
    "duration": 25,
    "start_time": "2023-04-18T20:02:01.538Z"
   },
   {
    "duration": 34,
    "start_time": "2023-04-18T20:02:01.564Z"
   },
   {
    "duration": 48,
    "start_time": "2023-04-18T20:02:01.599Z"
   },
   {
    "duration": 105,
    "start_time": "2023-04-18T20:02:01.649Z"
   },
   {
    "duration": 14,
    "start_time": "2023-04-18T20:02:01.757Z"
   },
   {
    "duration": 27,
    "start_time": "2023-04-18T20:02:01.773Z"
   },
   {
    "duration": 30,
    "start_time": "2023-04-18T20:02:01.802Z"
   },
   {
    "duration": 339969,
    "start_time": "2023-04-18T20:02:01.833Z"
   },
   {
    "duration": 215,
    "start_time": "2023-04-18T20:07:41.804Z"
   },
   {
    "duration": 2723,
    "start_time": "2023-04-18T20:07:42.021Z"
   },
   {
    "duration": 361,
    "start_time": "2023-04-18T20:07:44.748Z"
   },
   {
    "duration": 9,
    "start_time": "2023-04-18T20:07:45.111Z"
   },
   {
    "duration": 10,
    "start_time": "2023-04-18T20:07:45.135Z"
   },
   {
    "duration": 9,
    "start_time": "2023-04-18T20:07:45.148Z"
   }
  ],
  "kernelspec": {
   "display_name": "Python 3 (ipykernel)",
   "language": "python",
   "name": "python3"
  },
  "language_info": {
   "codemirror_mode": {
    "name": "ipython",
    "version": 3
   },
   "file_extension": ".py",
   "mimetype": "text/x-python",
   "name": "python",
   "nbconvert_exporter": "python",
   "pygments_lexer": "ipython3",
   "version": "3.10.9"
  },
  "toc": {
   "base_numbering": 1,
   "nav_menu": {},
   "number_sections": true,
   "sideBar": true,
   "skip_h1_title": true,
   "title_cell": "Table of Contents",
   "title_sidebar": "Contents",
   "toc_cell": false,
   "toc_position": {},
   "toc_section_display": true,
   "toc_window_display": false
  }
 },
 "nbformat": 4,
 "nbformat_minor": 5
}
