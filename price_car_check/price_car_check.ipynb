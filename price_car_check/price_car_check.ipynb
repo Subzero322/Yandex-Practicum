{
 "cells": [
  {
   "cell_type": "markdown",
   "metadata": {},
   "source": [
    "# Определение стоимости автомобилей"
   ]
  },
  {
   "cell_type": "markdown",
   "metadata": {},
   "source": [
    "Сервис по продаже автомобилей с пробегом «Не бит, не крашен» разрабатывает приложение для привлечения новых клиентов. В нём можно быстро узнать рыночную стоимость своего автомобиля. В вашем распоряжении исторические данные: технические характеристики, комплектации и цены автомобилей. Вам нужно построить модель для определения стоимости. \n",
    "\n",
    "Заказчику важны:\n",
    "\n",
    "- качество предсказания;\n",
    "- скорость предсказания;\n",
    "- время обучения."
   ]
  },
  {
   "cell_type": "markdown",
   "metadata": {},
   "source": [
    "## Подготовка данных"
   ]
  },
  {
   "cell_type": "code",
   "execution_count": 7,
   "metadata": {},
   "outputs": [],
   "source": [
    "import pandas as pd\n",
    "import numpy as np\n",
    "import seaborn as sns\n",
    "import matplotlib.pyplot as plt\n",
    "from lightgbm import LGBMRegressor\n",
    "from sklearn.metrics import mean_squared_error\n",
    "from sklearn.ensemble import RandomForestRegressor\n",
    "from sklearn.model_selection import GridSearchCV\n",
    "from sklearn.model_selection import train_test_split\n",
    "from sklearn.preprocessing import LabelEncoder\n",
    "from fast_ml.model_development import train_valid_test_split"
   ]
  },
  {
   "cell_type": "code",
   "execution_count": 8,
   "metadata": {},
   "outputs": [],
   "source": [
    "def transform_data(train, valid, test, cols):\n",
    "    labelencoder = LabelEncoder()\n",
    "    \n",
    "    for col in train[cols]:\n",
    "        train[col] = labelencoder.fit_transform(train[col].values)\n",
    "        valid[col] = labelencoder.transform(valid[col].values)\n",
    "        test[col] = labelencoder.transform(test[col].values)\n",
    "        \n",
    "    for col in train.columns:\n",
    "        train[col] = train[col].astype('float32')\n",
    "        valid[col] = valid[col].astype('float32')\n",
    "        test[col] = test[col].astype('float32')\n",
    "        \n",
    "    return train, valid, test\n"
   ]
  },
  {
   "cell_type": "code",
   "execution_count": 9,
   "metadata": {},
   "outputs": [],
   "source": [
    "def split_data(features, target):\n",
    "    x_train, x_test, y_train, y_test = train_test_split(features, target,\n",
    "    test_size=0.2, random_state = 12345)\n",
    "\n",
    "\n",
    "    x_train, x_val, y_train, y_val = train_test_split(x_train, y_train, \n",
    "    test_size=0.2, random_state= 12345)\n",
    "    \n",
    "    return x_train, y_train, x_test, y_test, x_val, y_val"
   ]
  },
  {
   "cell_type": "code",
   "execution_count": 10,
   "metadata": {},
   "outputs": [
    {
     "name": "stdout",
     "output_type": "stream",
     "text": [
      "(354369, 16)\n"
     ]
    },
    {
     "data": {
      "text/html": [
       "<div>\n",
       "<style scoped>\n",
       "    .dataframe tbody tr th:only-of-type {\n",
       "        vertical-align: middle;\n",
       "    }\n",
       "\n",
       "    .dataframe tbody tr th {\n",
       "        vertical-align: top;\n",
       "    }\n",
       "\n",
       "    .dataframe thead th {\n",
       "        text-align: right;\n",
       "    }\n",
       "</style>\n",
       "<table border=\"1\" class=\"dataframe\">\n",
       "  <thead>\n",
       "    <tr style=\"text-align: right;\">\n",
       "      <th></th>\n",
       "      <th>DateCrawled</th>\n",
       "      <th>Price</th>\n",
       "      <th>VehicleType</th>\n",
       "      <th>RegistrationYear</th>\n",
       "      <th>Gearbox</th>\n",
       "      <th>Power</th>\n",
       "      <th>Model</th>\n",
       "      <th>Kilometer</th>\n",
       "      <th>RegistrationMonth</th>\n",
       "      <th>FuelType</th>\n",
       "      <th>Brand</th>\n",
       "      <th>Repaired</th>\n",
       "      <th>DateCreated</th>\n",
       "      <th>NumberOfPictures</th>\n",
       "      <th>PostalCode</th>\n",
       "      <th>LastSeen</th>\n",
       "    </tr>\n",
       "  </thead>\n",
       "  <tbody>\n",
       "    <tr>\n",
       "      <th>0</th>\n",
       "      <td>2016-03-24 11:52:17</td>\n",
       "      <td>480</td>\n",
       "      <td>NaN</td>\n",
       "      <td>1993</td>\n",
       "      <td>manual</td>\n",
       "      <td>0</td>\n",
       "      <td>golf</td>\n",
       "      <td>150000</td>\n",
       "      <td>0</td>\n",
       "      <td>petrol</td>\n",
       "      <td>volkswagen</td>\n",
       "      <td>NaN</td>\n",
       "      <td>2016-03-24 00:00:00</td>\n",
       "      <td>0</td>\n",
       "      <td>70435</td>\n",
       "      <td>2016-04-07 03:16:57</td>\n",
       "    </tr>\n",
       "    <tr>\n",
       "      <th>1</th>\n",
       "      <td>2016-03-24 10:58:45</td>\n",
       "      <td>18300</td>\n",
       "      <td>coupe</td>\n",
       "      <td>2011</td>\n",
       "      <td>manual</td>\n",
       "      <td>190</td>\n",
       "      <td>NaN</td>\n",
       "      <td>125000</td>\n",
       "      <td>5</td>\n",
       "      <td>gasoline</td>\n",
       "      <td>audi</td>\n",
       "      <td>yes</td>\n",
       "      <td>2016-03-24 00:00:00</td>\n",
       "      <td>0</td>\n",
       "      <td>66954</td>\n",
       "      <td>2016-04-07 01:46:50</td>\n",
       "    </tr>\n",
       "    <tr>\n",
       "      <th>2</th>\n",
       "      <td>2016-03-14 12:52:21</td>\n",
       "      <td>9800</td>\n",
       "      <td>suv</td>\n",
       "      <td>2004</td>\n",
       "      <td>auto</td>\n",
       "      <td>163</td>\n",
       "      <td>grand</td>\n",
       "      <td>125000</td>\n",
       "      <td>8</td>\n",
       "      <td>gasoline</td>\n",
       "      <td>jeep</td>\n",
       "      <td>NaN</td>\n",
       "      <td>2016-03-14 00:00:00</td>\n",
       "      <td>0</td>\n",
       "      <td>90480</td>\n",
       "      <td>2016-04-05 12:47:46</td>\n",
       "    </tr>\n",
       "    <tr>\n",
       "      <th>3</th>\n",
       "      <td>2016-03-17 16:54:04</td>\n",
       "      <td>1500</td>\n",
       "      <td>small</td>\n",
       "      <td>2001</td>\n",
       "      <td>manual</td>\n",
       "      <td>75</td>\n",
       "      <td>golf</td>\n",
       "      <td>150000</td>\n",
       "      <td>6</td>\n",
       "      <td>petrol</td>\n",
       "      <td>volkswagen</td>\n",
       "      <td>no</td>\n",
       "      <td>2016-03-17 00:00:00</td>\n",
       "      <td>0</td>\n",
       "      <td>91074</td>\n",
       "      <td>2016-03-17 17:40:17</td>\n",
       "    </tr>\n",
       "    <tr>\n",
       "      <th>4</th>\n",
       "      <td>2016-03-31 17:25:20</td>\n",
       "      <td>3600</td>\n",
       "      <td>small</td>\n",
       "      <td>2008</td>\n",
       "      <td>manual</td>\n",
       "      <td>69</td>\n",
       "      <td>fabia</td>\n",
       "      <td>90000</td>\n",
       "      <td>7</td>\n",
       "      <td>gasoline</td>\n",
       "      <td>skoda</td>\n",
       "      <td>no</td>\n",
       "      <td>2016-03-31 00:00:00</td>\n",
       "      <td>0</td>\n",
       "      <td>60437</td>\n",
       "      <td>2016-04-06 10:17:21</td>\n",
       "    </tr>\n",
       "  </tbody>\n",
       "</table>\n",
       "</div>"
      ],
      "text/plain": [
       "           DateCrawled  Price VehicleType  RegistrationYear Gearbox  Power  \\\n",
       "0  2016-03-24 11:52:17    480         NaN              1993  manual      0   \n",
       "1  2016-03-24 10:58:45  18300       coupe              2011  manual    190   \n",
       "2  2016-03-14 12:52:21   9800         suv              2004    auto    163   \n",
       "3  2016-03-17 16:54:04   1500       small              2001  manual     75   \n",
       "4  2016-03-31 17:25:20   3600       small              2008  manual     69   \n",
       "\n",
       "   Model  Kilometer  RegistrationMonth  FuelType       Brand Repaired  \\\n",
       "0   golf     150000                  0    petrol  volkswagen      NaN   \n",
       "1    NaN     125000                  5  gasoline        audi      yes   \n",
       "2  grand     125000                  8  gasoline        jeep      NaN   \n",
       "3   golf     150000                  6    petrol  volkswagen       no   \n",
       "4  fabia      90000                  7  gasoline       skoda       no   \n",
       "\n",
       "           DateCreated  NumberOfPictures  PostalCode             LastSeen  \n",
       "0  2016-03-24 00:00:00                 0       70435  2016-04-07 03:16:57  \n",
       "1  2016-03-24 00:00:00                 0       66954  2016-04-07 01:46:50  \n",
       "2  2016-03-14 00:00:00                 0       90480  2016-04-05 12:47:46  \n",
       "3  2016-03-17 00:00:00                 0       91074  2016-03-17 17:40:17  \n",
       "4  2016-03-31 00:00:00                 0       60437  2016-04-06 10:17:21  "
      ]
     },
     "execution_count": 10,
     "metadata": {},
     "output_type": "execute_result"
    }
   ],
   "source": [
    "data = pd.read_csv('/datasets/autos.csv')\n",
    "print(data.shape)\n",
    "data.head()"
   ]
  },
  {
   "cell_type": "code",
   "execution_count": 11,
   "metadata": {},
   "outputs": [
    {
     "data": {
      "text/html": [
       "<div>\n",
       "<style scoped>\n",
       "    .dataframe tbody tr th:only-of-type {\n",
       "        vertical-align: middle;\n",
       "    }\n",
       "\n",
       "    .dataframe tbody tr th {\n",
       "        vertical-align: top;\n",
       "    }\n",
       "\n",
       "    .dataframe thead th {\n",
       "        text-align: right;\n",
       "    }\n",
       "</style>\n",
       "<table border=\"1\" class=\"dataframe\">\n",
       "  <thead>\n",
       "    <tr style=\"text-align: right;\">\n",
       "      <th></th>\n",
       "      <th>Price</th>\n",
       "      <th>VehicleType</th>\n",
       "      <th>RegistrationYear</th>\n",
       "      <th>Gearbox</th>\n",
       "      <th>Power</th>\n",
       "      <th>Kilometer</th>\n",
       "      <th>RegistrationMonth</th>\n",
       "      <th>FuelType</th>\n",
       "      <th>Brand</th>\n",
       "      <th>Repaired</th>\n",
       "    </tr>\n",
       "  </thead>\n",
       "  <tbody>\n",
       "    <tr>\n",
       "      <th>0</th>\n",
       "      <td>480</td>\n",
       "      <td>unknown</td>\n",
       "      <td>1993</td>\n",
       "      <td>manual</td>\n",
       "      <td>0</td>\n",
       "      <td>150000</td>\n",
       "      <td>0</td>\n",
       "      <td>petrol</td>\n",
       "      <td>volkswagen</td>\n",
       "      <td>unknown</td>\n",
       "    </tr>\n",
       "    <tr>\n",
       "      <th>1</th>\n",
       "      <td>18300</td>\n",
       "      <td>coupe</td>\n",
       "      <td>2011</td>\n",
       "      <td>manual</td>\n",
       "      <td>190</td>\n",
       "      <td>125000</td>\n",
       "      <td>5</td>\n",
       "      <td>gasoline</td>\n",
       "      <td>audi</td>\n",
       "      <td>yes</td>\n",
       "    </tr>\n",
       "    <tr>\n",
       "      <th>2</th>\n",
       "      <td>9800</td>\n",
       "      <td>suv</td>\n",
       "      <td>2004</td>\n",
       "      <td>auto</td>\n",
       "      <td>163</td>\n",
       "      <td>125000</td>\n",
       "      <td>8</td>\n",
       "      <td>gasoline</td>\n",
       "      <td>jeep</td>\n",
       "      <td>unknown</td>\n",
       "    </tr>\n",
       "    <tr>\n",
       "      <th>3</th>\n",
       "      <td>1500</td>\n",
       "      <td>small</td>\n",
       "      <td>2001</td>\n",
       "      <td>manual</td>\n",
       "      <td>75</td>\n",
       "      <td>150000</td>\n",
       "      <td>6</td>\n",
       "      <td>petrol</td>\n",
       "      <td>volkswagen</td>\n",
       "      <td>no</td>\n",
       "    </tr>\n",
       "    <tr>\n",
       "      <th>4</th>\n",
       "      <td>3600</td>\n",
       "      <td>small</td>\n",
       "      <td>2008</td>\n",
       "      <td>manual</td>\n",
       "      <td>69</td>\n",
       "      <td>90000</td>\n",
       "      <td>7</td>\n",
       "      <td>gasoline</td>\n",
       "      <td>skoda</td>\n",
       "      <td>no</td>\n",
       "    </tr>\n",
       "  </tbody>\n",
       "</table>\n",
       "</div>"
      ],
      "text/plain": [
       "   Price VehicleType  RegistrationYear Gearbox  Power  Kilometer  \\\n",
       "0    480     unknown              1993  manual      0     150000   \n",
       "1  18300       coupe              2011  manual    190     125000   \n",
       "2   9800         suv              2004    auto    163     125000   \n",
       "3   1500       small              2001  manual     75     150000   \n",
       "4   3600       small              2008  manual     69      90000   \n",
       "\n",
       "   RegistrationMonth  FuelType       Brand Repaired  \n",
       "0                  0    petrol  volkswagen  unknown  \n",
       "1                  5  gasoline        audi      yes  \n",
       "2                  8  gasoline        jeep  unknown  \n",
       "3                  6    petrol  volkswagen       no  \n",
       "4                  7  gasoline       skoda       no  "
      ]
     },
     "execution_count": 11,
     "metadata": {},
     "output_type": "execute_result"
    }
   ],
   "source": [
    "data = data.drop(['DateCrawled', 'DateCreated', 'NumberOfPictures', 'PostalCode', 'LastSeen', 'Model'], axis=1)\n",
    "data = data.fillna('unknown')\n",
    "data.head()"
   ]
  },
  {
   "cell_type": "markdown",
   "metadata": {},
   "source": [
    "#### Дополнительно решил удалить Model, тк это лишь название, но бренд решил не трогать. Не стал трогать, потому что в голову залезла мысль, что может быть переплата за бренд. Заменил NaN в Repaired на no, ведь если нет информации, то скорее всего машина не была в ремонте. Данных у нас не мало, поэтому думаю есть смысл просто дропнуть NaN значения в оставшихся колонках, тк восстановить их почти не возможно."
   ]
  },
  {
   "cell_type": "code",
   "execution_count": 12,
   "metadata": {},
   "outputs": [
    {
     "data": {
      "text/plain": [
       "Price                0\n",
       "VehicleType          0\n",
       "RegistrationYear     0\n",
       "Gearbox              0\n",
       "Power                0\n",
       "Kilometer            0\n",
       "RegistrationMonth    0\n",
       "FuelType             0\n",
       "Brand                0\n",
       "Repaired             0\n",
       "dtype: int64"
      ]
     },
     "execution_count": 12,
     "metadata": {},
     "output_type": "execute_result"
    }
   ],
   "source": [
    "data.isna().sum()"
   ]
  },
  {
   "cell_type": "code",
   "execution_count": 13,
   "metadata": {},
   "outputs": [
    {
     "data": {
      "text/plain": [
       "(354369, 10)"
      ]
     },
     "execution_count": 13,
     "metadata": {},
     "output_type": "execute_result"
    }
   ],
   "source": [
    "data.shape"
   ]
  },
  {
   "cell_type": "code",
   "execution_count": 14,
   "metadata": {},
   "outputs": [
    {
     "data": {
      "text/plain": [
       "(354369, 10)"
      ]
     },
     "execution_count": 14,
     "metadata": {},
     "output_type": "execute_result"
    }
   ],
   "source": [
    "data = data.dropna()\n",
    "data.shape"
   ]
  },
  {
   "cell_type": "code",
   "execution_count": 15,
   "metadata": {},
   "outputs": [
    {
     "data": {
      "text/plain": [
       "Price                0\n",
       "VehicleType          0\n",
       "RegistrationYear     0\n",
       "Gearbox              0\n",
       "Power                0\n",
       "Kilometer            0\n",
       "RegistrationMonth    0\n",
       "FuelType             0\n",
       "Brand                0\n",
       "Repaired             0\n",
       "dtype: int64"
      ]
     },
     "execution_count": 15,
     "metadata": {},
     "output_type": "execute_result"
    }
   ],
   "source": [
    "data.isna().sum()"
   ]
  },
  {
   "cell_type": "code",
   "execution_count": 16,
   "metadata": {},
   "outputs": [
    {
     "name": "stdout",
     "output_type": "stream",
     "text": [
      "<class 'pandas.core.frame.DataFrame'>\n",
      "Int64Index: 354369 entries, 0 to 354368\n",
      "Data columns (total 10 columns):\n",
      " #   Column             Non-Null Count   Dtype \n",
      "---  ------             --------------   ----- \n",
      " 0   Price              354369 non-null  int64 \n",
      " 1   VehicleType        354369 non-null  object\n",
      " 2   RegistrationYear   354369 non-null  int64 \n",
      " 3   Gearbox            354369 non-null  object\n",
      " 4   Power              354369 non-null  int64 \n",
      " 5   Kilometer          354369 non-null  int64 \n",
      " 6   RegistrationMonth  354369 non-null  int64 \n",
      " 7   FuelType           354369 non-null  object\n",
      " 8   Brand              354369 non-null  object\n",
      " 9   Repaired           354369 non-null  object\n",
      "dtypes: int64(5), object(5)\n",
      "memory usage: 29.7+ MB\n"
     ]
    }
   ],
   "source": [
    "data.info()"
   ]
  },
  {
   "cell_type": "code",
   "execution_count": 17,
   "metadata": {},
   "outputs": [
    {
     "data": {
      "text/html": [
       "<div>\n",
       "<style scoped>\n",
       "    .dataframe tbody tr th:only-of-type {\n",
       "        vertical-align: middle;\n",
       "    }\n",
       "\n",
       "    .dataframe tbody tr th {\n",
       "        vertical-align: top;\n",
       "    }\n",
       "\n",
       "    .dataframe thead th {\n",
       "        text-align: right;\n",
       "    }\n",
       "</style>\n",
       "<table border=\"1\" class=\"dataframe\">\n",
       "  <thead>\n",
       "    <tr style=\"text-align: right;\">\n",
       "      <th></th>\n",
       "      <th>Price</th>\n",
       "      <th>RegistrationYear</th>\n",
       "      <th>Power</th>\n",
       "      <th>Kilometer</th>\n",
       "      <th>RegistrationMonth</th>\n",
       "    </tr>\n",
       "  </thead>\n",
       "  <tbody>\n",
       "    <tr>\n",
       "      <th>count</th>\n",
       "      <td>354369.000000</td>\n",
       "      <td>354369.000000</td>\n",
       "      <td>354369.000000</td>\n",
       "      <td>354369.000000</td>\n",
       "      <td>354369.000000</td>\n",
       "    </tr>\n",
       "    <tr>\n",
       "      <th>mean</th>\n",
       "      <td>4416.656776</td>\n",
       "      <td>2004.234448</td>\n",
       "      <td>110.094337</td>\n",
       "      <td>128211.172535</td>\n",
       "      <td>5.714645</td>\n",
       "    </tr>\n",
       "    <tr>\n",
       "      <th>std</th>\n",
       "      <td>4514.158514</td>\n",
       "      <td>90.227958</td>\n",
       "      <td>189.850405</td>\n",
       "      <td>37905.341530</td>\n",
       "      <td>3.726421</td>\n",
       "    </tr>\n",
       "    <tr>\n",
       "      <th>min</th>\n",
       "      <td>0.000000</td>\n",
       "      <td>1000.000000</td>\n",
       "      <td>0.000000</td>\n",
       "      <td>5000.000000</td>\n",
       "      <td>0.000000</td>\n",
       "    </tr>\n",
       "    <tr>\n",
       "      <th>25%</th>\n",
       "      <td>1050.000000</td>\n",
       "      <td>1999.000000</td>\n",
       "      <td>69.000000</td>\n",
       "      <td>125000.000000</td>\n",
       "      <td>3.000000</td>\n",
       "    </tr>\n",
       "    <tr>\n",
       "      <th>50%</th>\n",
       "      <td>2700.000000</td>\n",
       "      <td>2003.000000</td>\n",
       "      <td>105.000000</td>\n",
       "      <td>150000.000000</td>\n",
       "      <td>6.000000</td>\n",
       "    </tr>\n",
       "    <tr>\n",
       "      <th>75%</th>\n",
       "      <td>6400.000000</td>\n",
       "      <td>2008.000000</td>\n",
       "      <td>143.000000</td>\n",
       "      <td>150000.000000</td>\n",
       "      <td>9.000000</td>\n",
       "    </tr>\n",
       "    <tr>\n",
       "      <th>max</th>\n",
       "      <td>20000.000000</td>\n",
       "      <td>9999.000000</td>\n",
       "      <td>20000.000000</td>\n",
       "      <td>150000.000000</td>\n",
       "      <td>12.000000</td>\n",
       "    </tr>\n",
       "  </tbody>\n",
       "</table>\n",
       "</div>"
      ],
      "text/plain": [
       "               Price  RegistrationYear          Power      Kilometer  \\\n",
       "count  354369.000000     354369.000000  354369.000000  354369.000000   \n",
       "mean     4416.656776       2004.234448     110.094337  128211.172535   \n",
       "std      4514.158514         90.227958     189.850405   37905.341530   \n",
       "min         0.000000       1000.000000       0.000000    5000.000000   \n",
       "25%      1050.000000       1999.000000      69.000000  125000.000000   \n",
       "50%      2700.000000       2003.000000     105.000000  150000.000000   \n",
       "75%      6400.000000       2008.000000     143.000000  150000.000000   \n",
       "max     20000.000000       9999.000000   20000.000000  150000.000000   \n",
       "\n",
       "       RegistrationMonth  \n",
       "count      354369.000000  \n",
       "mean            5.714645  \n",
       "std             3.726421  \n",
       "min             0.000000  \n",
       "25%             3.000000  \n",
       "50%             6.000000  \n",
       "75%             9.000000  \n",
       "max            12.000000  "
      ]
     },
     "execution_count": 17,
     "metadata": {},
     "output_type": "execute_result"
    }
   ],
   "source": [
    "data.describe()"
   ]
  },
  {
   "cell_type": "code",
   "execution_count": 18,
   "metadata": {},
   "outputs": [
    {
     "data": {
      "image/png": "[encoded data removed]",
      "text/plain": [
       "<Figure size 432x288 with 1 Axes>"
      ]
     },
     "metadata": {
      "needs_background": "light"
     },
     "output_type": "display_data"
    }
   ],
   "source": [
    "sns.boxplot(data.Price)\n",
    "plt.show()"
   ]
  },
  {
   "cell_type": "markdown",
   "metadata": {},
   "source": [
    "#### Цена у нас в диапозоне от 1000 до 7000. Оставлю от 100 до 14000."
   ]
  },
  {
   "cell_type": "code",
   "execution_count": 19,
   "metadata": {},
   "outputs": [],
   "source": [
    "data = data[(data['Price'] >= 1000) & (data['Price'] <= 14000)]"
   ]
  },
  {
   "cell_type": "markdown",
   "metadata": {},
   "source": [
    "#### Год регистрации 1910. Аномалия. Мощность = 0. Аномалия. Месяц регистрации = 0. Аномалия, тк от 0 до 12 включительно будет 13 месяцев, а это не возможно, так что скорее всего это аномалия."
   ]
  },
  {
   "cell_type": "code",
   "execution_count": 23,
   "metadata": {},
   "outputs": [
    {
     "data": {
      "text/html": [
       "<div>\n",
       "<style scoped>\n",
       "    .dataframe tbody tr th:only-of-type {\n",
       "        vertical-align: middle;\n",
       "    }\n",
       "\n",
       "    .dataframe tbody tr th {\n",
       "        vertical-align: top;\n",
       "    }\n",
       "\n",
       "    .dataframe thead th {\n",
       "        text-align: right;\n",
       "    }\n",
       "</style>\n",
       "<table border=\"1\" class=\"dataframe\">\n",
       "  <thead>\n",
       "    <tr style=\"text-align: right;\">\n",
       "      <th></th>\n",
       "      <th>Price</th>\n",
       "      <th>VehicleType</th>\n",
       "      <th>RegistrationYear</th>\n",
       "      <th>Gearbox</th>\n",
       "      <th>Power</th>\n",
       "      <th>Kilometer</th>\n",
       "      <th>RegistrationMonth</th>\n",
       "      <th>FuelType</th>\n",
       "      <th>Brand</th>\n",
       "      <th>Repaired</th>\n",
       "    </tr>\n",
       "  </thead>\n",
       "  <tbody>\n",
       "    <tr>\n",
       "      <th>2</th>\n",
       "      <td>9800</td>\n",
       "      <td>suv</td>\n",
       "      <td>2004</td>\n",
       "      <td>auto</td>\n",
       "      <td>163</td>\n",
       "      <td>125000</td>\n",
       "      <td>8</td>\n",
       "      <td>gasoline</td>\n",
       "      <td>jeep</td>\n",
       "      <td>unknown</td>\n",
       "    </tr>\n",
       "    <tr>\n",
       "      <th>3</th>\n",
       "      <td>1500</td>\n",
       "      <td>small</td>\n",
       "      <td>2001</td>\n",
       "      <td>manual</td>\n",
       "      <td>75</td>\n",
       "      <td>150000</td>\n",
       "      <td>6</td>\n",
       "      <td>petrol</td>\n",
       "      <td>volkswagen</td>\n",
       "      <td>no</td>\n",
       "    </tr>\n",
       "    <tr>\n",
       "      <th>4</th>\n",
       "      <td>3600</td>\n",
       "      <td>small</td>\n",
       "      <td>2008</td>\n",
       "      <td>manual</td>\n",
       "      <td>69</td>\n",
       "      <td>90000</td>\n",
       "      <td>7</td>\n",
       "      <td>gasoline</td>\n",
       "      <td>skoda</td>\n",
       "      <td>no</td>\n",
       "    </tr>\n",
       "    <tr>\n",
       "      <th>6</th>\n",
       "      <td>2200</td>\n",
       "      <td>convertible</td>\n",
       "      <td>2004</td>\n",
       "      <td>manual</td>\n",
       "      <td>109</td>\n",
       "      <td>150000</td>\n",
       "      <td>8</td>\n",
       "      <td>petrol</td>\n",
       "      <td>peugeot</td>\n",
       "      <td>no</td>\n",
       "    </tr>\n",
       "    <tr>\n",
       "      <th>10</th>\n",
       "      <td>2000</td>\n",
       "      <td>sedan</td>\n",
       "      <td>2004</td>\n",
       "      <td>manual</td>\n",
       "      <td>105</td>\n",
       "      <td>150000</td>\n",
       "      <td>12</td>\n",
       "      <td>petrol</td>\n",
       "      <td>mazda</td>\n",
       "      <td>no</td>\n",
       "    </tr>\n",
       "  </tbody>\n",
       "</table>\n",
       "</div>"
      ],
      "text/plain": [
       "    Price  VehicleType  RegistrationYear Gearbox  Power  Kilometer  \\\n",
       "2    9800          suv              2004    auto    163     125000   \n",
       "3    1500        small              2001  manual     75     150000   \n",
       "4    3600        small              2008  manual     69      90000   \n",
       "6    2200  convertible              2004  manual    109     150000   \n",
       "10   2000        sedan              2004  manual    105     150000   \n",
       "\n",
       "    RegistrationMonth  FuelType       Brand Repaired  \n",
       "2                   8  gasoline        jeep  unknown  \n",
       "3                   6    petrol  volkswagen       no  \n",
       "4                   7  gasoline       skoda       no  \n",
       "6                   8    petrol     peugeot       no  \n",
       "10                 12    petrol       mazda       no  "
      ]
     },
     "execution_count": 23,
     "metadata": {},
     "output_type": "execute_result"
    }
   ],
   "source": [
    "data.head()"
   ]
  },
  {
   "cell_type": "code",
   "execution_count": 24,
   "metadata": {},
   "outputs": [],
   "source": [
    "data = data[data['RegistrationYear'] >= 1970]\n",
    "\n",
    "data = data[data['Power'] >= 30]"
   ]
  },
  {
   "cell_type": "markdown",
   "metadata": {},
   "source": [
    "#### 'RegistrationMonth идет от 0 до 12 (в сумме 13 чисел), а это возможно лишь в том случае, если 0 отвечает за то, что нет данных по месяцу, мол человек не помнил и поставил 0"
   ]
  },
  {
   "cell_type": "code",
   "execution_count": 25,
   "metadata": {},
   "outputs": [
    {
     "data": {
      "text/html": [
       "<div>\n",
       "<style scoped>\n",
       "    .dataframe tbody tr th:only-of-type {\n",
       "        vertical-align: middle;\n",
       "    }\n",
       "\n",
       "    .dataframe tbody tr th {\n",
       "        vertical-align: top;\n",
       "    }\n",
       "\n",
       "    .dataframe thead th {\n",
       "        text-align: right;\n",
       "    }\n",
       "</style>\n",
       "<table border=\"1\" class=\"dataframe\">\n",
       "  <thead>\n",
       "    <tr style=\"text-align: right;\">\n",
       "      <th></th>\n",
       "      <th>Price</th>\n",
       "      <th>VehicleType</th>\n",
       "      <th>RegistrationYear</th>\n",
       "      <th>Gearbox</th>\n",
       "      <th>Power</th>\n",
       "      <th>Kilometer</th>\n",
       "      <th>RegistrationMonth</th>\n",
       "      <th>FuelType</th>\n",
       "      <th>Brand</th>\n",
       "      <th>Repaired</th>\n",
       "    </tr>\n",
       "  </thead>\n",
       "  <tbody>\n",
       "    <tr>\n",
       "      <th>2</th>\n",
       "      <td>9800</td>\n",
       "      <td>suv</td>\n",
       "      <td>2004</td>\n",
       "      <td>auto</td>\n",
       "      <td>163</td>\n",
       "      <td>125000</td>\n",
       "      <td>8</td>\n",
       "      <td>gasoline</td>\n",
       "      <td>jeep</td>\n",
       "      <td>unknown</td>\n",
       "    </tr>\n",
       "    <tr>\n",
       "      <th>3</th>\n",
       "      <td>1500</td>\n",
       "      <td>small</td>\n",
       "      <td>2001</td>\n",
       "      <td>manual</td>\n",
       "      <td>75</td>\n",
       "      <td>150000</td>\n",
       "      <td>6</td>\n",
       "      <td>petrol</td>\n",
       "      <td>volkswagen</td>\n",
       "      <td>no</td>\n",
       "    </tr>\n",
       "    <tr>\n",
       "      <th>4</th>\n",
       "      <td>3600</td>\n",
       "      <td>small</td>\n",
       "      <td>2008</td>\n",
       "      <td>manual</td>\n",
       "      <td>69</td>\n",
       "      <td>90000</td>\n",
       "      <td>7</td>\n",
       "      <td>gasoline</td>\n",
       "      <td>skoda</td>\n",
       "      <td>no</td>\n",
       "    </tr>\n",
       "    <tr>\n",
       "      <th>6</th>\n",
       "      <td>2200</td>\n",
       "      <td>convertible</td>\n",
       "      <td>2004</td>\n",
       "      <td>manual</td>\n",
       "      <td>109</td>\n",
       "      <td>150000</td>\n",
       "      <td>8</td>\n",
       "      <td>petrol</td>\n",
       "      <td>peugeot</td>\n",
       "      <td>no</td>\n",
       "    </tr>\n",
       "    <tr>\n",
       "      <th>10</th>\n",
       "      <td>2000</td>\n",
       "      <td>sedan</td>\n",
       "      <td>2004</td>\n",
       "      <td>manual</td>\n",
       "      <td>105</td>\n",
       "      <td>150000</td>\n",
       "      <td>12</td>\n",
       "      <td>petrol</td>\n",
       "      <td>mazda</td>\n",
       "      <td>no</td>\n",
       "    </tr>\n",
       "  </tbody>\n",
       "</table>\n",
       "</div>"
      ],
      "text/plain": [
       "    Price  VehicleType  RegistrationYear Gearbox  Power  Kilometer  \\\n",
       "2    9800          suv              2004    auto    163     125000   \n",
       "3    1500        small              2001  manual     75     150000   \n",
       "4    3600        small              2008  manual     69      90000   \n",
       "6    2200  convertible              2004  manual    109     150000   \n",
       "10   2000        sedan              2004  manual    105     150000   \n",
       "\n",
       "    RegistrationMonth  FuelType       Brand Repaired  \n",
       "2                   8  gasoline        jeep  unknown  \n",
       "3                   6    petrol  volkswagen       no  \n",
       "4                   7  gasoline       skoda       no  \n",
       "6                   8    petrol     peugeot       no  \n",
       "10                 12    petrol       mazda       no  "
      ]
     },
     "execution_count": 25,
     "metadata": {},
     "output_type": "execute_result"
    }
   ],
   "source": [
    "data.head()"
   ]
  },
  {
   "cell_type": "code",
   "execution_count": 26,
   "metadata": {},
   "outputs": [],
   "source": [
    "data = data.reset_index(drop=True)"
   ]
  },
  {
   "cell_type": "markdown",
   "metadata": {},
   "source": [
    "#### С аномалиями и выбросами покончено."
   ]
  },
  {
   "cell_type": "code",
   "execution_count": 27,
   "metadata": {},
   "outputs": [
    {
     "data": {
      "text/html": [
       "<div>\n",
       "<style scoped>\n",
       "    .dataframe tbody tr th:only-of-type {\n",
       "        vertical-align: middle;\n",
       "    }\n",
       "\n",
       "    .dataframe tbody tr th {\n",
       "        vertical-align: top;\n",
       "    }\n",
       "\n",
       "    .dataframe thead th {\n",
       "        text-align: right;\n",
       "    }\n",
       "</style>\n",
       "<table border=\"1\" class=\"dataframe\">\n",
       "  <thead>\n",
       "    <tr style=\"text-align: right;\">\n",
       "      <th></th>\n",
       "      <th>Price</th>\n",
       "      <th>VehicleType</th>\n",
       "      <th>RegistrationYear</th>\n",
       "      <th>Gearbox</th>\n",
       "      <th>Power</th>\n",
       "      <th>Kilometer</th>\n",
       "      <th>RegistrationMonth</th>\n",
       "      <th>FuelType</th>\n",
       "      <th>Brand</th>\n",
       "      <th>Repaired</th>\n",
       "    </tr>\n",
       "  </thead>\n",
       "  <tbody>\n",
       "    <tr>\n",
       "      <th>0</th>\n",
       "      <td>9800</td>\n",
       "      <td>suv</td>\n",
       "      <td>2004</td>\n",
       "      <td>auto</td>\n",
       "      <td>163</td>\n",
       "      <td>125000</td>\n",
       "      <td>8</td>\n",
       "      <td>gasoline</td>\n",
       "      <td>jeep</td>\n",
       "      <td>unknown</td>\n",
       "    </tr>\n",
       "    <tr>\n",
       "      <th>1</th>\n",
       "      <td>1500</td>\n",
       "      <td>small</td>\n",
       "      <td>2001</td>\n",
       "      <td>manual</td>\n",
       "      <td>75</td>\n",
       "      <td>150000</td>\n",
       "      <td>6</td>\n",
       "      <td>petrol</td>\n",
       "      <td>volkswagen</td>\n",
       "      <td>no</td>\n",
       "    </tr>\n",
       "    <tr>\n",
       "      <th>2</th>\n",
       "      <td>3600</td>\n",
       "      <td>small</td>\n",
       "      <td>2008</td>\n",
       "      <td>manual</td>\n",
       "      <td>69</td>\n",
       "      <td>90000</td>\n",
       "      <td>7</td>\n",
       "      <td>gasoline</td>\n",
       "      <td>skoda</td>\n",
       "      <td>no</td>\n",
       "    </tr>\n",
       "    <tr>\n",
       "      <th>3</th>\n",
       "      <td>2200</td>\n",
       "      <td>convertible</td>\n",
       "      <td>2004</td>\n",
       "      <td>manual</td>\n",
       "      <td>109</td>\n",
       "      <td>150000</td>\n",
       "      <td>8</td>\n",
       "      <td>petrol</td>\n",
       "      <td>peugeot</td>\n",
       "      <td>no</td>\n",
       "    </tr>\n",
       "    <tr>\n",
       "      <th>4</th>\n",
       "      <td>2000</td>\n",
       "      <td>sedan</td>\n",
       "      <td>2004</td>\n",
       "      <td>manual</td>\n",
       "      <td>105</td>\n",
       "      <td>150000</td>\n",
       "      <td>12</td>\n",
       "      <td>petrol</td>\n",
       "      <td>mazda</td>\n",
       "      <td>no</td>\n",
       "    </tr>\n",
       "  </tbody>\n",
       "</table>\n",
       "</div>"
      ],
      "text/plain": [
       "   Price  VehicleType  RegistrationYear Gearbox  Power  Kilometer  \\\n",
       "0   9800          suv              2004    auto    163     125000   \n",
       "1   1500        small              2001  manual     75     150000   \n",
       "2   3600        small              2008  manual     69      90000   \n",
       "3   2200  convertible              2004  manual    109     150000   \n",
       "4   2000        sedan              2004  manual    105     150000   \n",
       "\n",
       "   RegistrationMonth  FuelType       Brand Repaired  \n",
       "0                  8  gasoline        jeep  unknown  \n",
       "1                  6    petrol  volkswagen       no  \n",
       "2                  7  gasoline       skoda       no  \n",
       "3                  8    petrol     peugeot       no  \n",
       "4                 12    petrol       mazda       no  "
      ]
     },
     "execution_count": 27,
     "metadata": {},
     "output_type": "execute_result"
    }
   ],
   "source": [
    "data.head()"
   ]
  },
  {
   "cell_type": "markdown",
   "metadata": {},
   "source": [
    "#### Метод info() показал, что у нас в строках может использоваться тип str, а этого допустить ну уж никак нельзя, поэтому поменяем в ручную тип данных на float32:"
   ]
  },
  {
   "cell_type": "code",
   "execution_count": 28,
   "metadata": {},
   "outputs": [
    {
     "data": {
      "text/plain": [
       "(229914, 10)"
      ]
     },
     "execution_count": 28,
     "metadata": {},
     "output_type": "execute_result"
    }
   ],
   "source": [
    "data.shape"
   ]
  },
  {
   "cell_type": "markdown",
   "metadata": {},
   "source": [
    "## Обучение моделей"
   ]
  },
  {
   "cell_type": "code",
   "execution_count": 29,
   "metadata": {},
   "outputs": [],
   "source": [
    "x_train, y_train, x_test, y_test, x_valid, y_valid = split_data(data.iloc[:,1:], data['Price'])"
   ]
  },
  {
   "cell_type": "markdown",
   "metadata": {},
   "source": [
    "#### Перейдем к кодировке:"
   ]
  },
  {
   "cell_type": "markdown",
   "metadata": {},
   "source": [
    "#### Чтобы не дублировать код напишем функцию transform_data и применим её к x_train, x_valid, x_test"
   ]
  },
  {
   "cell_type": "code",
   "execution_count": 36,
   "metadata": {},
   "outputs": [],
   "source": [
    "x_train, x_valid, x_test = transform_data(x_train, x_valid, x_test, ['VehicleType', 'Gearbox', 'FuelType', 'Brand', 'Repaired'])"
   ]
  },
  {
   "cell_type": "code",
   "execution_count": 37,
   "metadata": {},
   "outputs": [],
   "source": [
    "parameters_grid_rfr = {\n",
    "    'n_estimators': range(60, 120, 10),\n",
    "    'min_samples_split': range(2, 4,1),\n",
    "    'random_state': [12345]\n",
    "}"
   ]
  },
  {
   "cell_type": "code",
   "execution_count": 38,
   "metadata": {},
   "outputs": [],
   "source": [
    "rfr = RandomForestRegressor()"
   ]
  },
  {
   "cell_type": "code",
   "execution_count": 39,
   "metadata": {},
   "outputs": [
    {
     "name": "stdout",
     "output_type": "stream",
     "text": [
      "Наилучшая точность: 1463.11\n",
      "Наилучшая модель: RandomForestRegressor(min_samples_split=3, n_estimators=110, random_state=12345)\n",
      "Наилучшие параметры: {'min_samples_split': 3, 'n_estimators': 110, 'random_state': 12345}\n",
      "CPU times: user 11min 55s, sys: 12.1 s, total: 12min 7s\n",
      "Wall time: 12min 8s\n"
     ]
    }
   ],
   "source": [
    "%%time\n",
    "\n",
    "rfr_grid_cv = GridSearchCV(rfr, parameters_grid_rfr, scoring = 'neg_root_mean_squared_error', cv = 3, n_jobs=-1)\n",
    "\n",
    "rfr_grid_cv.fit(x_train, y_train)\n",
    "\n",
    "print(f'Наилучшая точность: {(-1)*round(rfr_grid_cv.best_score_, 3)}')\n",
    "print(f'Наилучшая модель: {rfr_grid_cv.best_estimator_}') \n",
    "print(f'Наилучшие параметры: {rfr_grid_cv.best_params_}') "
   ]
  },
  {
   "cell_type": "markdown",
   "metadata": {},
   "source": [
    "#### 6 min and 31 sec. Для обучения это не такая уж и великая цифра, да и качество приемлемое, однако стоит заметить, что и гиперпараметров было не столь много. Посмотрим как быстро и насколько успешно lgmb справиться с задачей обучения."
   ]
  },
  {
   "cell_type": "code",
   "execution_count": 40,
   "metadata": {},
   "outputs": [],
   "source": [
    "parameters_grid_lgbm = {\n",
    "    'n_estimators': range(80, 120, 10),\n",
    "    'boosting_type': ['gbdt', 'dart'],\n",
    "    'random_state': [12345]\n",
    "}"
   ]
  },
  {
   "cell_type": "code",
   "execution_count": 41,
   "metadata": {},
   "outputs": [],
   "source": [
    "lgbm = LGBMRegressor()"
   ]
  },
  {
   "cell_type": "code",
   "execution_count": 42,
   "metadata": {},
   "outputs": [
    {
     "name": "stdout",
     "output_type": "stream",
     "text": [
      "Наилучшая точность: 1484.347\n",
      "Наилучшая модель: LGBMRegressor(n_estimators=110, random_state=12345)\n",
      "Наилучшие параметры: {'boosting_type': 'gbdt', 'n_estimators': 110, 'random_state': 12345}\n",
      "CPU times: user 7min 1s, sys: 1.72 s, total: 7min 3s\n",
      "Wall time: 7min 6s\n"
     ]
    }
   ],
   "source": [
    "%%time\n",
    "\n",
    "lgbm_grid_cv = GridSearchCV(lgbm, parameters_grid_lgbm, scoring = 'neg_root_mean_squared_error', cv = 3, n_jobs=-1)\n",
    "\n",
    "lgbm_grid_cv.fit(x_train, y_train)\n",
    "\n",
    "print(f'Наилучшая точность: {(-1)*round(lgbm_grid_cv.best_score_, 3)}')\n",
    "print(f'Наилучшая модель: {lgbm_grid_cv.best_estimator_}') \n",
    "print(f'Наилучшие параметры: {lgbm_grid_cv.best_params_}') "
   ]
  },
  {
   "cell_type": "markdown",
   "metadata": {},
   "source": [
    "#### Выведем точность и время предсказания для модели rfr:"
   ]
  },
  {
   "cell_type": "code",
   "execution_count": 43,
   "metadata": {},
   "outputs": [
    {
     "name": "stdout",
     "output_type": "stream",
     "text": [
      "CPU times: user 1.53 s, sys: 4.52 ms, total: 1.53 s\n",
      "Wall time: 1.59 s\n"
     ]
    },
    {
     "data": {
      "text/plain": [
       "1414.0540172594363"
      ]
     },
     "execution_count": 43,
     "metadata": {},
     "output_type": "execute_result"
    }
   ],
   "source": [
    "%%time\n",
    "mean_squared_error(y_valid, rfr_grid_cv.best_estimator_.predict(x_valid))**(1/2)"
   ]
  },
  {
   "cell_type": "markdown",
   "metadata": {},
   "source": [
    "#### В целом 1 секунда это не плохой результат. Посмотрим, что скажет lgmb."
   ]
  },
  {
   "cell_type": "markdown",
   "metadata": {},
   "source": [
    "#### Выведем точность и время предсказания для модели lgmb:"
   ]
  },
  {
   "cell_type": "code",
   "execution_count": 46,
   "metadata": {},
   "outputs": [
    {
     "name": "stdout",
     "output_type": "stream",
     "text": [
      "CPU times: user 319 ms, sys: 0 ns, total: 319 ms\n",
      "Wall time: 242 ms\n"
     ]
    },
    {
     "data": {
      "text/plain": [
       "1475.6611336689461"
      ]
     },
     "execution_count": 46,
     "metadata": {},
     "output_type": "execute_result"
    }
   ],
   "source": [
    "%%time\n",
    "\n",
    "mean_squared_error(y_valid, lgbm_grid_cv.best_estimator_.predict(x_valid))**(1/2)"
   ]
  },
  {
   "cell_type": "markdown",
   "metadata": {},
   "source": [
    "## Анализ моделей"
   ]
  },
  {
   "cell_type": "markdown",
   "metadata": {},
   "source": [
    "### Вывод: за основу возьмем валидационный набор. ~0.3 sec. для lgmb  не может не радовать, ведь по-моему мнению это не так много. Время предсказания для lgbm примерно в 3,4 раза быстрее. В этом пункте финалист явно lgbm. Разница же в точности составляет 6 единиц, много это или мало, по-хорошему, должен сказать заказчик. Я считаю, что это не большая разница. Однако время, которое уходит на ответ в 3,4 раза меньше, а это уже показатель. Единственный минус для lgmb в том, что обучается она в 2 раза дольше, а если задачу увеличить, то и время обучения, скорее всего, будет расти по экспоненте. Исходя из вышеуказанного, я считаю, что можно сделать вывод о превосходстве lgbm над rfr в данной задаче. В других же работах, думаю, стоит тщательно обдумать какой метод именно выбирать, ведь lgbm быстро предсказывает, но долго обучается, а rfr наоборот - быстро обучается (в рамках нашей задачи) и дольше предсказывает. Короче говоря всё относительно и нужно отталкиваться от условий конкретной задачи."
   ]
  },
  {
   "cell_type": "markdown",
   "metadata": {},
   "source": [
    "##### Так же проверим на тестовой выборке корректность модели (проверим, что модель не переобучилась)"
   ]
  },
  {
   "cell_type": "code",
   "execution_count": 45,
   "metadata": {},
   "outputs": [
    {
     "name": "stdout",
     "output_type": "stream",
     "text": [
      "CPU times: user 377 ms, sys: 0 ns, total: 377 ms\n",
      "Wall time: 325 ms\n"
     ]
    },
    {
     "data": {
      "text/plain": [
       "1490.6900756252992"
      ]
     },
     "execution_count": 45,
     "metadata": {},
     "output_type": "execute_result"
    }
   ],
   "source": [
    "%%time\n",
    "\n",
    "mean_squared_error(y_test, lgbm_grid_cv.best_estimator_.predict(x_test))**(1/2)"
   ]
  },
  {
   "cell_type": "markdown",
   "metadata": {},
   "source": [
    "#### Модель не переобучилась и работает корректно"
   ]
  }
 ],
 "metadata": {
  "ExecuteTimeLog": [
   {
    "duration": 3307,
    "start_time": "2023-06-10T13:20:34.452Z"
   },
   {
    "duration": 786,
    "start_time": "2023-06-10T13:20:57.866Z"
   },
   {
    "duration": 130,
    "start_time": "2023-06-10T13:25:04.156Z"
   },
   {
    "duration": 3,
    "start_time": "2023-06-10T13:25:11.061Z"
   },
   {
    "duration": 669,
    "start_time": "2023-06-10T13:25:19.878Z"
   },
   {
    "duration": 43,
    "start_time": "2023-06-10T13:26:03.190Z"
   },
   {
    "duration": 48,
    "start_time": "2023-06-10T13:26:18.550Z"
   },
   {
    "duration": 845,
    "start_time": "2023-06-10T13:27:37.669Z"
   },
   {
    "duration": 54,
    "start_time": "2023-06-10T13:27:38.516Z"
   },
   {
    "duration": 94,
    "start_time": "2023-06-10T13:28:06.432Z"
   },
   {
    "duration": 823,
    "start_time": "2023-06-10T13:29:36.117Z"
   },
   {
    "duration": 61,
    "start_time": "2023-06-10T13:29:36.949Z"
   },
   {
    "duration": 79,
    "start_time": "2023-06-10T13:29:44.213Z"
   },
   {
    "duration": 4,
    "start_time": "2023-06-10T13:29:50.444Z"
   },
   {
    "duration": 94,
    "start_time": "2023-06-10T13:34:36.712Z"
   },
   {
    "duration": 85,
    "start_time": "2023-06-10T13:34:42.192Z"
   },
   {
    "duration": 7,
    "start_time": "2023-06-10T13:34:51.445Z"
   },
   {
    "duration": 7,
    "start_time": "2023-06-10T13:34:54.320Z"
   },
   {
    "duration": 792,
    "start_time": "2023-06-10T13:34:58.310Z"
   },
   {
    "duration": 57,
    "start_time": "2023-06-10T13:34:59.104Z"
   },
   {
    "duration": 60,
    "start_time": "2023-06-10T13:34:59.163Z"
   },
   {
    "duration": 4,
    "start_time": "2023-06-10T13:34:59.225Z"
   },
   {
    "duration": 101,
    "start_time": "2023-06-10T13:34:59.257Z"
   },
   {
    "duration": 1823,
    "start_time": "2023-06-10T13:35:35.013Z"
   },
   {
    "duration": 55,
    "start_time": "2023-06-10T13:35:36.838Z"
   },
   {
    "duration": 68,
    "start_time": "2023-06-10T13:35:36.896Z"
   },
   {
    "duration": 5,
    "start_time": "2023-06-10T13:35:36.965Z"
   },
   {
    "duration": 96,
    "start_time": "2023-06-10T13:35:36.972Z"
   },
   {
    "duration": 117,
    "start_time": "2023-06-10T13:36:39.487Z"
   },
   {
    "duration": 11,
    "start_time": "2023-06-10T13:37:11.371Z"
   },
   {
    "duration": 164,
    "start_time": "2023-06-10T13:37:16.021Z"
   },
   {
    "duration": 195,
    "start_time": "2023-06-10T13:37:58.386Z"
   },
   {
    "duration": 145,
    "start_time": "2023-06-10T13:38:25.578Z"
   },
   {
    "duration": 812,
    "start_time": "2023-06-10T13:38:49.155Z"
   },
   {
    "duration": 53,
    "start_time": "2023-06-10T13:38:50.082Z"
   },
   {
    "duration": 60,
    "start_time": "2023-06-10T13:38:51.472Z"
   },
   {
    "duration": 5,
    "start_time": "2023-06-10T13:38:51.755Z"
   },
   {
    "duration": 78,
    "start_time": "2023-06-10T13:38:52.057Z"
   },
   {
    "duration": 135,
    "start_time": "2023-06-10T13:38:52.713Z"
   },
   {
    "duration": 187,
    "start_time": "2023-06-10T13:39:00.320Z"
   },
   {
    "duration": 188,
    "start_time": "2023-06-10T13:41:00.265Z"
   },
   {
    "duration": 12,
    "start_time": "2023-06-10T13:43:01.925Z"
   },
   {
    "duration": 88,
    "start_time": "2023-06-10T13:43:22.588Z"
   },
   {
    "duration": 52,
    "start_time": "2023-06-10T13:44:20.020Z"
   },
   {
    "duration": 142,
    "start_time": "2023-06-10T13:44:33.327Z"
   },
   {
    "duration": 42,
    "start_time": "2023-06-10T13:45:46.988Z"
   },
   {
    "duration": 80,
    "start_time": "2023-06-10T13:45:54.707Z"
   },
   {
    "duration": 787,
    "start_time": "2023-06-10T13:46:03.155Z"
   },
   {
    "duration": 39,
    "start_time": "2023-06-10T13:46:03.951Z"
   },
   {
    "duration": 72,
    "start_time": "2023-06-10T13:46:03.992Z"
   },
   {
    "duration": 22,
    "start_time": "2023-06-10T13:46:04.065Z"
   },
   {
    "duration": 101,
    "start_time": "2023-06-10T13:46:04.091Z"
   },
   {
    "duration": 86,
    "start_time": "2023-06-10T13:46:04.194Z"
   },
   {
    "duration": 152,
    "start_time": "2023-06-10T13:46:04.282Z"
   },
   {
    "duration": 170,
    "start_time": "2023-06-10T13:46:04.437Z"
   },
   {
    "duration": 182,
    "start_time": "2023-06-10T13:46:04.609Z"
   },
   {
    "duration": 170,
    "start_time": "2023-06-10T13:46:04.793Z"
   },
   {
    "duration": 505,
    "start_time": "2023-06-10T13:52:14.758Z"
   },
   {
    "duration": 4,
    "start_time": "2023-06-10T13:52:18.211Z"
   },
   {
    "duration": 111,
    "start_time": "2023-06-10T13:54:14.898Z"
   },
   {
    "duration": 809,
    "start_time": "2023-06-10T13:54:24.001Z"
   },
   {
    "duration": 52,
    "start_time": "2023-06-10T13:54:24.812Z"
   },
   {
    "duration": 61,
    "start_time": "2023-06-10T13:54:25.353Z"
   },
   {
    "duration": 4,
    "start_time": "2023-06-10T13:54:27.364Z"
   },
   {
    "duration": 78,
    "start_time": "2023-06-10T13:54:28.478Z"
   },
   {
    "duration": 49,
    "start_time": "2023-06-10T13:54:29.329Z"
   },
   {
    "duration": 72,
    "start_time": "2023-06-10T13:54:32.469Z"
   },
   {
    "duration": 214,
    "start_time": "2023-06-10T13:54:32.997Z"
   },
   {
    "duration": 161,
    "start_time": "2023-06-10T13:54:33.931Z"
   },
   {
    "duration": 172,
    "start_time": "2023-06-10T13:54:34.615Z"
   },
   {
    "duration": 178,
    "start_time": "2023-06-10T13:54:37.260Z"
   },
   {
    "duration": 563,
    "start_time": "2023-06-10T13:54:37.759Z"
   },
   {
    "duration": 4,
    "start_time": "2023-06-10T13:54:42.280Z"
   },
   {
    "duration": 98,
    "start_time": "2023-06-10T13:54:50.135Z"
   },
   {
    "duration": 182,
    "start_time": "2023-06-10T13:55:11.647Z"
   },
   {
    "duration": 4,
    "start_time": "2023-06-10T13:55:20.028Z"
   },
   {
    "duration": 1226,
    "start_time": "2023-06-14T14:16:56.526Z"
   },
   {
    "duration": 3,
    "start_time": "2023-06-14T14:17:00.504Z"
   },
   {
    "duration": 3275,
    "start_time": "2023-06-14T14:17:00.509Z"
   },
   {
    "duration": 45,
    "start_time": "2023-06-14T14:17:03.785Z"
   },
   {
    "duration": 70,
    "start_time": "2023-06-14T14:17:03.831Z"
   },
   {
    "duration": 4,
    "start_time": "2023-06-14T14:17:03.902Z"
   },
   {
    "duration": 111,
    "start_time": "2023-06-14T14:17:03.907Z"
   },
   {
    "duration": 60,
    "start_time": "2023-06-14T14:17:04.020Z"
   },
   {
    "duration": 73,
    "start_time": "2023-06-14T14:17:04.082Z"
   },
   {
    "duration": 133,
    "start_time": "2023-06-14T14:17:04.156Z"
   },
   {
    "duration": 184,
    "start_time": "2023-06-14T14:17:04.291Z"
   },
   {
    "duration": 165,
    "start_time": "2023-06-14T14:17:04.476Z"
   },
   {
    "duration": 214,
    "start_time": "2023-06-14T14:17:04.642Z"
   },
   {
    "duration": 561,
    "start_time": "2023-06-14T14:17:04.858Z"
   },
   {
    "duration": 112,
    "start_time": "2023-06-14T14:17:05.421Z"
   },
   {
    "duration": 185,
    "start_time": "2023-06-14T14:17:05.534Z"
   },
   {
    "duration": 4,
    "start_time": "2023-06-14T14:17:05.720Z"
   },
   {
    "duration": 2,
    "start_time": "2023-06-14T14:17:28.522Z"
   },
   {
    "duration": 827,
    "start_time": "2023-06-14T14:19:19.002Z"
   },
   {
    "duration": 67,
    "start_time": "2023-06-14T14:19:19.831Z"
   },
   {
    "duration": 75,
    "start_time": "2023-06-14T14:19:19.900Z"
   },
   {
    "duration": 4,
    "start_time": "2023-06-14T14:19:19.977Z"
   },
   {
    "duration": 105,
    "start_time": "2023-06-14T14:19:19.983Z"
   },
   {
    "duration": 72,
    "start_time": "2023-06-14T14:19:20.089Z"
   },
   {
    "duration": 70,
    "start_time": "2023-06-14T14:19:20.163Z"
   },
   {
    "duration": 176,
    "start_time": "2023-06-14T14:19:20.234Z"
   },
   {
    "duration": 179,
    "start_time": "2023-06-14T14:19:20.411Z"
   },
   {
    "duration": 271,
    "start_time": "2023-06-14T14:19:20.592Z"
   },
   {
    "duration": 175,
    "start_time": "2023-06-14T14:19:20.865Z"
   },
   {
    "duration": 535,
    "start_time": "2023-06-14T14:19:21.042Z"
   },
   {
    "duration": 111,
    "start_time": "2023-06-14T14:19:21.580Z"
   },
   {
    "duration": 197,
    "start_time": "2023-06-14T14:19:21.693Z"
   },
   {
    "duration": 4,
    "start_time": "2023-06-14T14:19:21.891Z"
   },
   {
    "duration": 12,
    "start_time": "2023-06-14T14:19:21.896Z"
   },
   {
    "duration": 3,
    "start_time": "2023-06-14T14:36:37.919Z"
   },
   {
    "duration": 788,
    "start_time": "2023-06-14T14:36:37.924Z"
   },
   {
    "duration": 61,
    "start_time": "2023-06-14T14:36:38.714Z"
   },
   {
    "duration": 81,
    "start_time": "2023-06-14T14:36:38.777Z"
   },
   {
    "duration": 4,
    "start_time": "2023-06-14T14:36:38.861Z"
   },
   {
    "duration": 100,
    "start_time": "2023-06-14T14:36:38.867Z"
   },
   {
    "duration": 58,
    "start_time": "2023-06-14T14:36:38.969Z"
   },
   {
    "duration": 80,
    "start_time": "2023-06-14T14:36:39.029Z"
   },
   {
    "duration": 136,
    "start_time": "2023-06-14T14:36:39.111Z"
   },
   {
    "duration": 168,
    "start_time": "2023-06-14T14:36:39.249Z"
   },
   {
    "duration": 174,
    "start_time": "2023-06-14T14:36:39.418Z"
   },
   {
    "duration": 178,
    "start_time": "2023-06-14T14:36:39.594Z"
   },
   {
    "duration": 481,
    "start_time": "2023-06-14T14:36:39.773Z"
   },
   {
    "duration": 112,
    "start_time": "2023-06-14T14:36:40.257Z"
   },
   {
    "duration": 201,
    "start_time": "2023-06-14T14:36:40.371Z"
   },
   {
    "duration": 4,
    "start_time": "2023-06-14T14:36:40.574Z"
   },
   {
    "duration": 8,
    "start_time": "2023-06-14T14:36:40.580Z"
   },
   {
    "duration": 24,
    "start_time": "2023-06-14T14:36:40.590Z"
   },
   {
    "duration": 3,
    "start_time": "2023-06-14T14:36:40.616Z"
   },
   {
    "duration": 36,
    "start_time": "2023-06-14T14:36:40.621Z"
   },
   {
    "duration": 3,
    "start_time": "2023-06-14T14:37:22.585Z"
   },
   {
    "duration": 55,
    "start_time": "2023-06-14T14:40:48.417Z"
   },
   {
    "duration": 106,
    "start_time": "2023-06-14T14:42:03.731Z"
   },
   {
    "duration": 3,
    "start_time": "2023-06-14T14:42:08.546Z"
   },
   {
    "duration": 2,
    "start_time": "2023-06-14T14:42:09.011Z"
   },
   {
    "duration": 15,
    "start_time": "2023-06-14T14:42:09.400Z"
   },
   {
    "duration": 9,
    "start_time": "2023-06-14T14:42:18.759Z"
   },
   {
    "duration": 2,
    "start_time": "2023-06-14T14:42:33.764Z"
   },
   {
    "duration": 5,
    "start_time": "2023-06-14T14:42:34.086Z"
   },
   {
    "duration": 92,
    "start_time": "2023-06-14T14:43:46.001Z"
   },
   {
    "duration": 92,
    "start_time": "2023-06-14T14:44:07.107Z"
   },
   {
    "duration": 100,
    "start_time": "2023-06-14T14:44:34.966Z"
   },
   {
    "duration": 13,
    "start_time": "2023-06-14T14:45:23.961Z"
   },
   {
    "duration": 5,
    "start_time": "2023-06-14T14:45:29.608Z"
   },
   {
    "duration": 13,
    "start_time": "2023-06-14T14:45:36.565Z"
   },
   {
    "duration": 5,
    "start_time": "2023-06-14T14:45:42.686Z"
   },
   {
    "duration": 6699,
    "start_time": "2023-06-14T14:46:02.934Z"
   },
   {
    "duration": 11,
    "start_time": "2023-06-14T14:47:00.285Z"
   },
   {
    "duration": 62,
    "start_time": "2023-06-14T14:52:11.051Z"
   },
   {
    "duration": 4,
    "start_time": "2023-06-14T14:52:11.757Z"
   },
   {
    "duration": 11,
    "start_time": "2023-06-14T14:52:12.644Z"
   },
   {
    "duration": 13,
    "start_time": "2023-06-14T14:53:50.188Z"
   },
   {
    "duration": 18,
    "start_time": "2023-06-14T14:53:53.931Z"
   },
   {
    "duration": 44,
    "start_time": "2023-06-14T14:53:56.496Z"
   },
   {
    "duration": 291,
    "start_time": "2023-06-14T14:53:56.984Z"
   },
   {
    "duration": 20,
    "start_time": "2023-06-14T14:53:57.602Z"
   },
   {
    "duration": 718,
    "start_time": "2023-06-14T14:54:08.591Z"
   },
   {
    "duration": 0,
    "start_time": "2023-06-14T14:54:09.311Z"
   },
   {
    "duration": 3,
    "start_time": "2023-06-14T14:54:16.085Z"
   },
   {
    "duration": 805,
    "start_time": "2023-06-14T14:54:16.090Z"
   },
   {
    "duration": 38,
    "start_time": "2023-06-14T14:54:16.896Z"
   },
   {
    "duration": 85,
    "start_time": "2023-06-14T14:54:16.936Z"
   },
   {
    "duration": 4,
    "start_time": "2023-06-14T14:54:17.023Z"
   },
   {
    "duration": 109,
    "start_time": "2023-06-14T14:54:17.028Z"
   },
   {
    "duration": 61,
    "start_time": "2023-06-14T14:54:17.139Z"
   },
   {
    "duration": 69,
    "start_time": "2023-06-14T14:54:17.202Z"
   },
   {
    "duration": 132,
    "start_time": "2023-06-14T14:54:17.272Z"
   },
   {
    "duration": 163,
    "start_time": "2023-06-14T14:54:17.406Z"
   },
   {
    "duration": 223,
    "start_time": "2023-06-14T14:54:17.571Z"
   },
   {
    "duration": 177,
    "start_time": "2023-06-14T14:54:17.796Z"
   },
   {
    "duration": 603,
    "start_time": "2023-06-14T14:54:17.975Z"
   },
   {
    "duration": 110,
    "start_time": "2023-06-14T14:54:18.580Z"
   },
   {
    "duration": 214,
    "start_time": "2023-06-14T14:54:18.691Z"
   },
   {
    "duration": 3,
    "start_time": "2023-06-14T14:54:18.907Z"
   },
   {
    "duration": 16,
    "start_time": "2023-06-14T14:54:18.912Z"
   },
   {
    "duration": 59,
    "start_time": "2023-06-14T14:54:18.929Z"
   },
   {
    "duration": 28,
    "start_time": "2023-06-14T14:54:18.990Z"
   },
   {
    "duration": 14,
    "start_time": "2023-06-14T14:54:21.715Z"
   },
   {
    "duration": 97,
    "start_time": "2023-06-14T14:54:46.314Z"
   },
   {
    "duration": 5,
    "start_time": "2023-06-14T14:54:46.597Z"
   },
   {
    "duration": 3,
    "start_time": "2023-06-14T14:54:48.712Z"
   },
   {
    "duration": 3,
    "start_time": "2023-06-14T14:54:49.088Z"
   },
   {
    "duration": 136627,
    "start_time": "2023-06-14T14:54:49.462Z"
   },
   {
    "duration": 0,
    "start_time": "2023-06-14T14:57:06.091Z"
   },
   {
    "duration": 0,
    "start_time": "2023-06-14T14:57:06.092Z"
   },
   {
    "duration": 12474,
    "start_time": "2023-06-14T14:57:28.363Z"
   },
   {
    "duration": 44,
    "start_time": "2023-06-14T14:58:34.002Z"
   },
   {
    "duration": 78,
    "start_time": "2023-06-14T15:00:00.391Z"
   },
   {
    "duration": 623,
    "start_time": "2023-06-14T15:00:07.425Z"
   },
   {
    "duration": 9,
    "start_time": "2023-06-14T15:00:12.256Z"
   },
   {
    "duration": 79,
    "start_time": "2023-06-14T15:00:12.417Z"
   },
   {
    "duration": 6,
    "start_time": "2023-06-14T15:00:12.609Z"
   },
   {
    "duration": 2,
    "start_time": "2023-06-14T15:00:12.810Z"
   },
   {
    "duration": 3,
    "start_time": "2023-06-14T15:00:12.994Z"
   },
   {
    "duration": 15892,
    "start_time": "2023-06-14T15:00:13.201Z"
   },
   {
    "duration": 0,
    "start_time": "2023-06-14T15:00:29.094Z"
   },
   {
    "duration": 0,
    "start_time": "2023-06-14T15:00:29.095Z"
   },
   {
    "duration": 0,
    "start_time": "2023-06-14T15:00:29.096Z"
   },
   {
    "duration": 3,
    "start_time": "2023-06-14T15:00:47.704Z"
   },
   {
    "duration": 3,
    "start_time": "2023-06-14T15:00:48.105Z"
   },
   {
    "duration": 16187,
    "start_time": "2023-06-14T15:00:48.524Z"
   },
   {
    "duration": 2,
    "start_time": "2023-06-14T15:01:16.007Z"
   },
   {
    "duration": 2,
    "start_time": "2023-06-14T15:01:16.858Z"
   },
   {
    "duration": 13018,
    "start_time": "2023-06-14T15:01:17.188Z"
   },
   {
    "duration": 2,
    "start_time": "2023-06-14T15:01:35.803Z"
   },
   {
    "duration": 3,
    "start_time": "2023-06-14T15:01:36.291Z"
   },
   {
    "duration": 969628,
    "start_time": "2023-06-14T15:01:36.615Z"
   },
   {
    "duration": 0,
    "start_time": "2023-06-14T15:17:46.245Z"
   },
   {
    "duration": 0,
    "start_time": "2023-06-14T15:17:46.254Z"
   },
   {
    "duration": 0,
    "start_time": "2023-06-14T15:17:46.255Z"
   },
   {
    "duration": 3,
    "start_time": "2023-06-14T15:18:05.778Z"
   },
   {
    "duration": 3,
    "start_time": "2023-06-14T15:18:06.085Z"
   },
   {
    "duration": 145345,
    "start_time": "2023-06-14T15:18:06.360Z"
   },
   {
    "duration": 5,
    "start_time": "2023-06-14T15:20:40.686Z"
   },
   {
    "duration": 3,
    "start_time": "2023-06-14T15:20:40.999Z"
   },
   {
    "duration": 35859,
    "start_time": "2023-06-14T15:20:41.368Z"
   },
   {
    "duration": 3,
    "start_time": "2023-06-14T15:22:39.616Z"
   },
   {
    "duration": 3,
    "start_time": "2023-06-14T15:22:39.827Z"
   },
   {
    "duration": 351064,
    "start_time": "2023-06-14T15:22:40.043Z"
   },
   {
    "duration": 4,
    "start_time": "2023-06-14T15:28:31.109Z"
   },
   {
    "duration": 56,
    "start_time": "2023-06-14T15:28:31.114Z"
   },
   {
    "duration": 11200,
    "start_time": "2023-06-14T15:28:31.172Z"
   },
   {
    "duration": 5,
    "start_time": "2023-06-14T16:11:46.197Z"
   },
   {
    "duration": 3,
    "start_time": "2023-06-14T16:14:01.999Z"
   },
   {
    "duration": 3,
    "start_time": "2023-06-14T16:14:23.390Z"
   },
   {
    "duration": 724,
    "start_time": "2023-06-14T16:14:23.395Z"
   },
   {
    "duration": 51,
    "start_time": "2023-06-14T16:14:24.121Z"
   },
   {
    "duration": 67,
    "start_time": "2023-06-14T16:14:24.175Z"
   },
   {
    "duration": 5,
    "start_time": "2023-06-14T16:14:24.255Z"
   },
   {
    "duration": 98,
    "start_time": "2023-06-14T16:14:24.261Z"
   },
   {
    "duration": 60,
    "start_time": "2023-06-14T16:14:24.361Z"
   },
   {
    "duration": 78,
    "start_time": "2023-06-14T16:14:24.423Z"
   },
   {
    "duration": 132,
    "start_time": "2023-06-14T16:14:24.503Z"
   },
   {
    "duration": 158,
    "start_time": "2023-06-14T16:14:24.636Z"
   },
   {
    "duration": 168,
    "start_time": "2023-06-14T16:14:24.795Z"
   },
   {
    "duration": 175,
    "start_time": "2023-06-14T16:14:24.964Z"
   },
   {
    "duration": 597,
    "start_time": "2023-06-14T16:14:25.141Z"
   },
   {
    "duration": 115,
    "start_time": "2023-06-14T16:14:25.740Z"
   },
   {
    "duration": 211,
    "start_time": "2023-06-14T16:14:25.856Z"
   },
   {
    "duration": 4,
    "start_time": "2023-06-14T16:14:26.069Z"
   },
   {
    "duration": 19,
    "start_time": "2023-06-14T16:14:26.088Z"
   },
   {
    "duration": 14,
    "start_time": "2023-06-14T16:16:09.082Z"
   },
   {
    "duration": 1123,
    "start_time": "2023-06-14T16:16:35.189Z"
   },
   {
    "duration": 11,
    "start_time": "2023-06-14T16:16:43.608Z"
   },
   {
    "duration": 945,
    "start_time": "2023-06-14T16:18:07.703Z"
   },
   {
    "duration": 15,
    "start_time": "2023-06-14T16:18:16.279Z"
   },
   {
    "duration": 19,
    "start_time": "2023-06-14T16:18:27.247Z"
   },
   {
    "duration": 153,
    "start_time": "2023-06-14T16:20:18.555Z"
   },
   {
    "duration": 9,
    "start_time": "2023-06-14T16:20:27.312Z"
   },
   {
    "duration": 4,
    "start_time": "2023-06-14T16:22:01.519Z"
   },
   {
    "duration": 783,
    "start_time": "2023-06-14T16:22:01.526Z"
   },
   {
    "duration": 53,
    "start_time": "2023-06-14T16:22:02.311Z"
   },
   {
    "duration": 93,
    "start_time": "2023-06-14T16:22:02.366Z"
   },
   {
    "duration": 4,
    "start_time": "2023-06-14T16:22:02.461Z"
   },
   {
    "duration": 95,
    "start_time": "2023-06-14T16:22:02.467Z"
   },
   {
    "duration": 62,
    "start_time": "2023-06-14T16:22:02.563Z"
   },
   {
    "duration": 80,
    "start_time": "2023-06-14T16:22:02.626Z"
   },
   {
    "duration": 136,
    "start_time": "2023-06-14T16:22:02.707Z"
   },
   {
    "duration": 175,
    "start_time": "2023-06-14T16:22:02.845Z"
   },
   {
    "duration": 169,
    "start_time": "2023-06-14T16:22:03.021Z"
   },
   {
    "duration": 183,
    "start_time": "2023-06-14T16:22:03.192Z"
   },
   {
    "duration": 564,
    "start_time": "2023-06-14T16:22:03.376Z"
   },
   {
    "duration": 118,
    "start_time": "2023-06-14T16:22:03.943Z"
   },
   {
    "duration": 216,
    "start_time": "2023-06-14T16:22:04.062Z"
   },
   {
    "duration": 4,
    "start_time": "2023-06-14T16:22:04.279Z"
   },
   {
    "duration": 11,
    "start_time": "2023-06-14T16:22:05.514Z"
   },
   {
    "duration": 4,
    "start_time": "2023-06-14T16:22:44.501Z"
   },
   {
    "duration": 780,
    "start_time": "2023-06-14T16:22:44.507Z"
   },
   {
    "duration": 38,
    "start_time": "2023-06-14T16:22:45.289Z"
   },
   {
    "duration": 80,
    "start_time": "2023-06-14T16:22:45.329Z"
   },
   {
    "duration": 10,
    "start_time": "2023-06-14T16:22:45.411Z"
   },
   {
    "duration": 100,
    "start_time": "2023-06-14T16:22:45.422Z"
   },
   {
    "duration": 60,
    "start_time": "2023-06-14T16:22:45.524Z"
   },
   {
    "duration": 69,
    "start_time": "2023-06-14T16:22:45.586Z"
   },
   {
    "duration": 127,
    "start_time": "2023-06-14T16:22:45.657Z"
   },
   {
    "duration": 165,
    "start_time": "2023-06-14T16:22:45.785Z"
   },
   {
    "duration": 166,
    "start_time": "2023-06-14T16:22:45.954Z"
   },
   {
    "duration": 171,
    "start_time": "2023-06-14T16:22:46.121Z"
   },
   {
    "duration": 607,
    "start_time": "2023-06-14T16:22:46.294Z"
   },
   {
    "duration": 123,
    "start_time": "2023-06-14T16:22:46.904Z"
   },
   {
    "duration": 12,
    "start_time": "2023-06-14T16:22:47.043Z"
   },
   {
    "duration": 4,
    "start_time": "2023-06-14T16:24:07.224Z"
   },
   {
    "duration": 701,
    "start_time": "2023-06-14T16:24:07.231Z"
   },
   {
    "duration": 52,
    "start_time": "2023-06-14T16:24:07.934Z"
   },
   {
    "duration": 80,
    "start_time": "2023-06-14T16:24:07.988Z"
   },
   {
    "duration": 4,
    "start_time": "2023-06-14T16:24:08.071Z"
   },
   {
    "duration": 110,
    "start_time": "2023-06-14T16:24:08.077Z"
   },
   {
    "duration": 68,
    "start_time": "2023-06-14T16:24:08.189Z"
   },
   {
    "duration": 61,
    "start_time": "2023-06-14T16:24:08.258Z"
   },
   {
    "duration": 152,
    "start_time": "2023-06-14T16:24:08.321Z"
   },
   {
    "duration": 158,
    "start_time": "2023-06-14T16:24:08.475Z"
   },
   {
    "duration": 167,
    "start_time": "2023-06-14T16:24:08.635Z"
   },
   {
    "duration": 179,
    "start_time": "2023-06-14T16:24:08.804Z"
   },
   {
    "duration": 15,
    "start_time": "2023-06-14T16:24:08.985Z"
   },
   {
    "duration": 501,
    "start_time": "2023-06-14T16:24:09.003Z"
   },
   {
    "duration": 11,
    "start_time": "2023-06-14T16:24:09.506Z"
   },
   {
    "duration": 117,
    "start_time": "2023-06-14T16:24:09.519Z"
   },
   {
    "duration": 0,
    "start_time": "2023-06-14T16:24:09.637Z"
   },
   {
    "duration": 0,
    "start_time": "2023-06-14T16:24:09.639Z"
   },
   {
    "duration": 0,
    "start_time": "2023-06-14T16:24:09.640Z"
   },
   {
    "duration": 0,
    "start_time": "2023-06-14T16:24:09.654Z"
   },
   {
    "duration": 0,
    "start_time": "2023-06-14T16:24:09.655Z"
   },
   {
    "duration": 0,
    "start_time": "2023-06-14T16:24:09.656Z"
   },
   {
    "duration": 0,
    "start_time": "2023-06-14T16:24:09.656Z"
   },
   {
    "duration": 0,
    "start_time": "2023-06-14T16:24:09.658Z"
   },
   {
    "duration": 0,
    "start_time": "2023-06-14T16:24:09.658Z"
   },
   {
    "duration": 0,
    "start_time": "2023-06-14T16:24:09.659Z"
   },
   {
    "duration": 0,
    "start_time": "2023-06-14T16:24:09.660Z"
   },
   {
    "duration": 0,
    "start_time": "2023-06-14T16:24:09.661Z"
   },
   {
    "duration": 0,
    "start_time": "2023-06-14T16:24:09.662Z"
   },
   {
    "duration": 0,
    "start_time": "2023-06-14T16:24:09.663Z"
   },
   {
    "duration": 0,
    "start_time": "2023-06-14T16:24:09.663Z"
   },
   {
    "duration": 3,
    "start_time": "2023-06-14T16:25:05.892Z"
   },
   {
    "duration": 735,
    "start_time": "2023-06-14T16:25:05.897Z"
   },
   {
    "duration": 56,
    "start_time": "2023-06-14T16:25:06.633Z"
   },
   {
    "duration": 81,
    "start_time": "2023-06-14T16:25:06.691Z"
   },
   {
    "duration": 4,
    "start_time": "2023-06-14T16:25:06.773Z"
   },
   {
    "duration": 105,
    "start_time": "2023-06-14T16:25:06.778Z"
   },
   {
    "duration": 73,
    "start_time": "2023-06-14T16:25:06.885Z"
   },
   {
    "duration": 58,
    "start_time": "2023-06-14T16:25:06.959Z"
   },
   {
    "duration": 136,
    "start_time": "2023-06-14T16:25:07.018Z"
   },
   {
    "duration": 15,
    "start_time": "2023-06-14T16:25:07.156Z"
   },
   {
    "duration": 146,
    "start_time": "2023-06-14T16:25:07.173Z"
   },
   {
    "duration": 11,
    "start_time": "2023-06-14T16:25:07.320Z"
   },
   {
    "duration": 22,
    "start_time": "2023-06-14T16:25:07.333Z"
   },
   {
    "duration": 29,
    "start_time": "2023-06-14T16:25:07.357Z"
   },
   {
    "duration": 9,
    "start_time": "2023-06-14T16:25:07.388Z"
   },
   {
    "duration": 39,
    "start_time": "2023-06-14T16:25:07.399Z"
   },
   {
    "duration": 38,
    "start_time": "2023-06-14T16:25:07.440Z"
   },
   {
    "duration": 3,
    "start_time": "2023-06-14T16:25:07.480Z"
   },
   {
    "duration": 129,
    "start_time": "2023-06-14T16:25:07.485Z"
   },
   {
    "duration": 8,
    "start_time": "2023-06-14T16:25:07.616Z"
   },
   {
    "duration": 12,
    "start_time": "2023-06-14T16:25:07.625Z"
   },
   {
    "duration": 17,
    "start_time": "2023-06-14T16:25:42.757Z"
   },
   {
    "duration": 3,
    "start_time": "2023-06-14T16:25:51.105Z"
   },
   {
    "duration": 3,
    "start_time": "2023-06-14T16:25:51.382Z"
   },
   {
    "duration": 25636,
    "start_time": "2023-06-14T16:25:51.942Z"
   },
   {
    "duration": 9,
    "start_time": "2023-06-14T16:26:40.360Z"
   },
   {
    "duration": 2,
    "start_time": "2023-06-14T16:26:47.089Z"
   },
   {
    "duration": 3,
    "start_time": "2023-06-14T16:26:47.439Z"
   },
   {
    "duration": 9,
    "start_time": "2023-06-14T16:26:47.699Z"
   },
   {
    "duration": 134130,
    "start_time": "2023-06-14T16:26:55.739Z"
   },
   {
    "duration": 3,
    "start_time": "2023-06-14T16:31:01.953Z"
   },
   {
    "duration": 29,
    "start_time": "2023-06-14T16:31:01.958Z"
   },
   {
    "duration": 64271,
    "start_time": "2023-06-14T16:31:02.158Z"
   },
   {
    "duration": 8357,
    "start_time": "2023-06-14T16:32:15.993Z"
   },
   {
    "duration": 391465,
    "start_time": "2023-06-14T16:32:25.402Z"
   },
   {
    "duration": 1051,
    "start_time": "2023-06-14T16:51:37.504Z"
   },
   {
    "duration": 17082,
    "start_time": "2023-06-14T16:51:52.100Z"
   },
   {
    "duration": 1047,
    "start_time": "2023-06-14T16:52:09.184Z"
   },
   {
    "duration": 1084,
    "start_time": "2023-06-14T16:52:26.984Z"
   },
   {
    "duration": 1030,
    "start_time": "2023-06-14T16:54:16.352Z"
   },
   {
    "duration": 270,
    "start_time": "2023-06-14T16:54:48.986Z"
   },
   {
    "duration": 56563,
    "start_time": "2023-06-14T16:58:54.897Z"
   },
   {
    "duration": 764983,
    "start_time": "2023-06-14T16:59:57.980Z"
   },
   {
    "duration": 2142,
    "start_time": "2023-06-15T08:31:17.871Z"
   },
   {
    "duration": 3204,
    "start_time": "2023-06-15T08:31:20.020Z"
   },
   {
    "duration": 45,
    "start_time": "2023-06-15T08:31:23.227Z"
   },
   {
    "duration": 69,
    "start_time": "2023-06-15T08:31:23.275Z"
   },
   {
    "duration": 6,
    "start_time": "2023-06-15T08:31:23.346Z"
   },
   {
    "duration": 102,
    "start_time": "2023-06-15T08:31:23.353Z"
   },
   {
    "duration": 49,
    "start_time": "2023-06-15T08:31:23.456Z"
   },
   {
    "duration": 69,
    "start_time": "2023-06-15T08:31:23.506Z"
   },
   {
    "duration": 91,
    "start_time": "2023-06-15T08:31:23.576Z"
   },
   {
    "duration": 171,
    "start_time": "2023-06-15T08:31:23.670Z"
   },
   {
    "duration": 23,
    "start_time": "2023-06-15T08:31:23.843Z"
   },
   {
    "duration": 169,
    "start_time": "2023-06-15T08:31:23.868Z"
   },
   {
    "duration": 15,
    "start_time": "2023-06-15T08:31:24.039Z"
   },
   {
    "duration": 12,
    "start_time": "2023-06-15T08:31:24.056Z"
   },
   {
    "duration": 61,
    "start_time": "2023-06-15T08:31:24.069Z"
   },
   {
    "duration": 12,
    "start_time": "2023-06-15T08:31:24.133Z"
   },
   {
    "duration": 32,
    "start_time": "2023-06-15T08:31:24.146Z"
   },
   {
    "duration": 15,
    "start_time": "2023-06-15T08:31:24.180Z"
   },
   {
    "duration": 136,
    "start_time": "2023-06-15T08:31:24.196Z"
   },
   {
    "duration": 13,
    "start_time": "2023-06-15T08:31:24.335Z"
   },
   {
    "duration": 14,
    "start_time": "2023-06-15T08:31:26.700Z"
   },
   {
    "duration": 12,
    "start_time": "2023-06-15T08:36:30.792Z"
   },
   {
    "duration": 29,
    "start_time": "2023-06-15T08:36:31.240Z"
   },
   {
    "duration": 3,
    "start_time": "2023-06-15T08:36:31.405Z"
   },
   {
    "duration": 3,
    "start_time": "2023-06-15T08:36:31.872Z"
   },
   {
    "duration": 2709,
    "start_time": "2023-06-15T08:36:32.461Z"
   },
   {
    "duration": 46,
    "start_time": "2023-06-15T08:59:35.067Z"
   },
   {
    "duration": 1842,
    "start_time": "2023-06-15T09:01:35.064Z"
   },
   {
    "duration": 1030,
    "start_time": "2023-06-15T09:01:36.908Z"
   },
   {
    "duration": 46,
    "start_time": "2023-06-15T09:01:37.940Z"
   },
   {
    "duration": 81,
    "start_time": "2023-06-15T09:01:37.988Z"
   },
   {
    "duration": 8,
    "start_time": "2023-06-15T09:01:38.072Z"
   },
   {
    "duration": 116,
    "start_time": "2023-06-15T09:01:38.081Z"
   },
   {
    "duration": 58,
    "start_time": "2023-06-15T09:01:38.199Z"
   },
   {
    "duration": 61,
    "start_time": "2023-06-15T09:01:38.258Z"
   },
   {
    "duration": 54,
    "start_time": "2023-06-15T09:01:38.332Z"
   },
   {
    "duration": 139,
    "start_time": "2023-06-15T09:01:38.387Z"
   },
   {
    "duration": 18,
    "start_time": "2023-06-15T09:01:38.531Z"
   },
   {
    "duration": 130,
    "start_time": "2023-06-15T09:01:38.551Z"
   },
   {
    "duration": 2,
    "start_time": "2023-06-15T09:01:38.683Z"
   },
   {
    "duration": 26,
    "start_time": "2023-06-15T09:01:38.687Z"
   },
   {
    "duration": 60,
    "start_time": "2023-06-15T09:01:38.715Z"
   },
   {
    "duration": 12,
    "start_time": "2023-06-15T09:01:38.777Z"
   },
   {
    "duration": 39,
    "start_time": "2023-06-15T09:01:38.790Z"
   },
   {
    "duration": 121,
    "start_time": "2023-06-15T09:01:38.831Z"
   },
   {
    "duration": 8,
    "start_time": "2023-06-15T09:01:38.954Z"
   },
   {
    "duration": 24,
    "start_time": "2023-06-15T09:01:38.964Z"
   },
   {
    "duration": 4,
    "start_time": "2023-06-15T09:01:50.721Z"
   },
   {
    "duration": 3,
    "start_time": "2023-06-15T09:03:31.190Z"
   },
   {
    "duration": 959,
    "start_time": "2023-06-15T09:03:31.195Z"
   },
   {
    "duration": 154,
    "start_time": "2023-06-15T09:03:32.156Z"
   },
   {
    "duration": 88,
    "start_time": "2023-06-15T09:03:32.312Z"
   },
   {
    "duration": 3,
    "start_time": "2023-06-15T09:03:32.402Z"
   },
   {
    "duration": 248,
    "start_time": "2023-06-15T09:03:32.407Z"
   },
   {
    "duration": 296,
    "start_time": "2023-06-15T09:03:32.657Z"
   },
   {
    "duration": 95,
    "start_time": "2023-06-15T09:03:32.955Z"
   },
   {
    "duration": 81,
    "start_time": "2023-06-15T09:03:33.051Z"
   },
   {
    "duration": 138,
    "start_time": "2023-06-15T09:03:33.133Z"
   },
   {
    "duration": 17,
    "start_time": "2023-06-15T09:03:33.272Z"
   },
   {
    "duration": 172,
    "start_time": "2023-06-15T09:03:33.290Z"
   },
   {
    "duration": 2,
    "start_time": "2023-06-15T09:03:33.464Z"
   },
   {
    "duration": 28,
    "start_time": "2023-06-15T09:03:33.468Z"
   },
   {
    "duration": 35,
    "start_time": "2023-06-15T09:03:33.498Z"
   },
   {
    "duration": 19,
    "start_time": "2023-06-15T09:03:33.536Z"
   },
   {
    "duration": 34,
    "start_time": "2023-06-15T09:03:33.557Z"
   },
   {
    "duration": 178,
    "start_time": "2023-06-15T09:03:33.593Z"
   },
   {
    "duration": 8,
    "start_time": "2023-06-15T09:03:33.772Z"
   },
   {
    "duration": 26,
    "start_time": "2023-06-15T09:03:33.781Z"
   },
   {
    "duration": 17,
    "start_time": "2023-06-15T09:03:33.808Z"
   },
   {
    "duration": 3,
    "start_time": "2023-06-15T09:04:57.794Z"
   },
   {
    "duration": 879,
    "start_time": "2023-06-15T09:04:57.799Z"
   },
   {
    "duration": 118,
    "start_time": "2023-06-15T09:04:58.679Z"
   },
   {
    "duration": 83,
    "start_time": "2023-06-15T09:04:58.799Z"
   },
   {
    "duration": 4,
    "start_time": "2023-06-15T09:04:58.884Z"
   },
   {
    "duration": 133,
    "start_time": "2023-06-15T09:04:58.889Z"
   },
   {
    "duration": 68,
    "start_time": "2023-06-15T09:04:59.023Z"
   },
   {
    "duration": 84,
    "start_time": "2023-06-15T09:04:59.093Z"
   },
   {
    "duration": 182,
    "start_time": "2023-06-15T09:04:59.179Z"
   },
   {
    "duration": 133,
    "start_time": "2023-06-15T09:04:59.363Z"
   },
   {
    "duration": 124,
    "start_time": "2023-06-15T09:04:59.497Z"
   },
   {
    "duration": 180,
    "start_time": "2023-06-15T09:04:59.623Z"
   },
   {
    "duration": 2,
    "start_time": "2023-06-15T09:04:59.805Z"
   },
   {
    "duration": 31,
    "start_time": "2023-06-15T09:04:59.809Z"
   },
   {
    "duration": 54,
    "start_time": "2023-06-15T09:04:59.842Z"
   },
   {
    "duration": 10,
    "start_time": "2023-06-15T09:04:59.897Z"
   },
   {
    "duration": 34,
    "start_time": "2023-06-15T09:04:59.909Z"
   },
   {
    "duration": 171,
    "start_time": "2023-06-15T09:04:59.945Z"
   },
   {
    "duration": 8,
    "start_time": "2023-06-15T09:05:00.118Z"
   },
   {
    "duration": 56,
    "start_time": "2023-06-15T09:05:00.127Z"
   },
   {
    "duration": 29,
    "start_time": "2023-06-15T09:05:00.185Z"
   },
   {
    "duration": 3,
    "start_time": "2023-06-15T09:05:58.306Z"
   },
   {
    "duration": 953,
    "start_time": "2023-06-15T09:05:58.311Z"
   },
   {
    "duration": 135,
    "start_time": "2023-06-15T09:05:59.266Z"
   },
   {
    "duration": 82,
    "start_time": "2023-06-15T09:05:59.403Z"
   },
   {
    "duration": 3,
    "start_time": "2023-06-15T09:05:59.487Z"
   },
   {
    "duration": 136,
    "start_time": "2023-06-15T09:05:59.492Z"
   },
   {
    "duration": 85,
    "start_time": "2023-06-15T09:05:59.630Z"
   },
   {
    "duration": 99,
    "start_time": "2023-06-15T09:05:59.716Z"
   },
   {
    "duration": 97,
    "start_time": "2023-06-15T09:05:59.816Z"
   },
   {
    "duration": 151,
    "start_time": "2023-06-15T09:05:59.915Z"
   },
   {
    "duration": 22,
    "start_time": "2023-06-15T09:06:00.068Z"
   },
   {
    "duration": 195,
    "start_time": "2023-06-15T09:06:00.092Z"
   },
   {
    "duration": 2,
    "start_time": "2023-06-15T09:06:00.289Z"
   },
   {
    "duration": 52,
    "start_time": "2023-06-15T09:06:00.293Z"
   },
   {
    "duration": 59,
    "start_time": "2023-06-15T09:06:00.348Z"
   },
   {
    "duration": 10,
    "start_time": "2023-06-15T09:06:00.409Z"
   },
   {
    "duration": 33,
    "start_time": "2023-06-15T09:06:00.420Z"
   },
   {
    "duration": 195,
    "start_time": "2023-06-15T09:06:00.456Z"
   },
   {
    "duration": 11,
    "start_time": "2023-06-15T09:06:00.653Z"
   },
   {
    "duration": 167,
    "start_time": "2023-06-15T09:06:00.666Z"
   },
   {
    "duration": 75,
    "start_time": "2023-06-15T09:06:00.836Z"
   },
   {
    "duration": 3,
    "start_time": "2023-06-15T09:09:37.911Z"
   },
   {
    "duration": 910,
    "start_time": "2023-06-15T09:09:37.916Z"
   },
   {
    "duration": 168,
    "start_time": "2023-06-15T09:09:38.827Z"
   },
   {
    "duration": 89,
    "start_time": "2023-06-15T09:09:38.997Z"
   },
   {
    "duration": 3,
    "start_time": "2023-06-15T09:09:39.089Z"
   },
   {
    "duration": 126,
    "start_time": "2023-06-15T09:09:39.094Z"
   },
   {
    "duration": 86,
    "start_time": "2023-06-15T09:09:39.222Z"
   },
   {
    "duration": 99,
    "start_time": "2023-06-15T09:09:39.309Z"
   },
   {
    "duration": 76,
    "start_time": "2023-06-15T09:09:39.409Z"
   },
   {
    "duration": 149,
    "start_time": "2023-06-15T09:09:39.486Z"
   },
   {
    "duration": 26,
    "start_time": "2023-06-15T09:09:39.638Z"
   },
   {
    "duration": 188,
    "start_time": "2023-06-15T09:09:39.666Z"
   },
   {
    "duration": 2,
    "start_time": "2023-06-15T09:09:39.856Z"
   },
   {
    "duration": 11,
    "start_time": "2023-06-15T09:09:39.862Z"
   },
   {
    "duration": 34,
    "start_time": "2023-06-15T09:09:39.874Z"
   },
   {
    "duration": 24,
    "start_time": "2023-06-15T09:09:39.910Z"
   },
   {
    "duration": 21,
    "start_time": "2023-06-15T09:09:39.936Z"
   },
   {
    "duration": 199,
    "start_time": "2023-06-15T09:09:39.959Z"
   },
   {
    "duration": 9,
    "start_time": "2023-06-15T09:09:40.161Z"
   },
   {
    "duration": 19,
    "start_time": "2023-06-15T09:09:40.172Z"
   },
   {
    "duration": 3,
    "start_time": "2023-06-15T09:09:40.193Z"
   },
   {
    "duration": 5,
    "start_time": "2023-06-15T09:10:42.347Z"
   },
   {
    "duration": 891,
    "start_time": "2023-06-15T09:10:42.355Z"
   },
   {
    "duration": 158,
    "start_time": "2023-06-15T09:10:43.248Z"
   },
   {
    "duration": 88,
    "start_time": "2023-06-15T09:10:43.407Z"
   },
   {
    "duration": 4,
    "start_time": "2023-06-15T09:10:43.497Z"
   },
   {
    "duration": 146,
    "start_time": "2023-06-15T09:10:43.502Z"
   },
   {
    "duration": 96,
    "start_time": "2023-06-15T09:10:43.650Z"
   },
   {
    "duration": 82,
    "start_time": "2023-06-15T09:10:43.750Z"
   },
   {
    "duration": 70,
    "start_time": "2023-06-15T09:10:43.834Z"
   },
   {
    "duration": 172,
    "start_time": "2023-06-15T09:10:43.906Z"
   },
   {
    "duration": 24,
    "start_time": "2023-06-15T09:10:44.080Z"
   },
   {
    "duration": 179,
    "start_time": "2023-06-15T09:10:44.105Z"
   },
   {
    "duration": 2,
    "start_time": "2023-06-15T09:10:44.285Z"
   },
   {
    "duration": 17,
    "start_time": "2023-06-15T09:10:44.290Z"
   },
   {
    "duration": 40,
    "start_time": "2023-06-15T09:10:44.309Z"
   },
   {
    "duration": 13,
    "start_time": "2023-06-15T09:10:44.351Z"
   },
   {
    "duration": 14,
    "start_time": "2023-06-15T09:10:44.365Z"
   },
   {
    "duration": 242,
    "start_time": "2023-06-15T09:10:44.380Z"
   },
   {
    "duration": 19,
    "start_time": "2023-06-15T09:10:44.624Z"
   },
   {
    "duration": 58,
    "start_time": "2023-06-15T09:10:44.649Z"
   },
   {
    "duration": 5,
    "start_time": "2023-06-15T09:10:44.708Z"
   },
   {
    "duration": 125,
    "start_time": "2023-06-15T09:13:14.655Z"
   },
   {
    "duration": 4,
    "start_time": "2023-06-15T09:18:03.846Z"
   },
   {
    "duration": 5,
    "start_time": "2023-06-15T09:20:24.916Z"
   },
   {
    "duration": 874,
    "start_time": "2023-06-15T09:20:24.923Z"
   },
   {
    "duration": 127,
    "start_time": "2023-06-15T09:20:25.799Z"
   },
   {
    "duration": 72,
    "start_time": "2023-06-15T09:20:25.928Z"
   },
   {
    "duration": 14,
    "start_time": "2023-06-15T09:20:26.003Z"
   },
   {
    "duration": 135,
    "start_time": "2023-06-15T09:20:26.019Z"
   },
   {
    "duration": 75,
    "start_time": "2023-06-15T09:20:26.156Z"
   },
   {
    "duration": 69,
    "start_time": "2023-06-15T09:20:26.233Z"
   },
   {
    "duration": 75,
    "start_time": "2023-06-15T09:20:26.304Z"
   },
   {
    "duration": 131,
    "start_time": "2023-06-15T09:20:26.381Z"
   },
   {
    "duration": 31,
    "start_time": "2023-06-15T09:20:26.514Z"
   },
   {
    "duration": 167,
    "start_time": "2023-06-15T09:20:26.547Z"
   },
   {
    "duration": 3,
    "start_time": "2023-06-15T09:20:26.716Z"
   },
   {
    "duration": 27,
    "start_time": "2023-06-15T09:20:26.721Z"
   },
   {
    "duration": 32,
    "start_time": "2023-06-15T09:20:26.751Z"
   },
   {
    "duration": 10,
    "start_time": "2023-06-15T09:20:26.785Z"
   },
   {
    "duration": 14,
    "start_time": "2023-06-15T09:20:26.797Z"
   },
   {
    "duration": 20,
    "start_time": "2023-06-15T09:20:26.812Z"
   },
   {
    "duration": 11,
    "start_time": "2023-06-15T09:20:26.835Z"
   },
   {
    "duration": 133,
    "start_time": "2023-06-15T09:20:26.848Z"
   },
   {
    "duration": 0,
    "start_time": "2023-06-15T09:20:26.982Z"
   },
   {
    "duration": 0,
    "start_time": "2023-06-15T09:20:26.983Z"
   },
   {
    "duration": 0,
    "start_time": "2023-06-15T09:20:26.985Z"
   },
   {
    "duration": 0,
    "start_time": "2023-06-15T09:20:26.986Z"
   },
   {
    "duration": 4,
    "start_time": "2023-06-15T09:21:22.116Z"
   },
   {
    "duration": 1066,
    "start_time": "2023-06-15T09:21:22.121Z"
   },
   {
    "duration": 158,
    "start_time": "2023-06-15T09:21:23.189Z"
   },
   {
    "duration": 82,
    "start_time": "2023-06-15T09:21:23.351Z"
   },
   {
    "duration": 5,
    "start_time": "2023-06-15T09:21:23.439Z"
   },
   {
    "duration": 142,
    "start_time": "2023-06-15T09:21:23.445Z"
   },
   {
    "duration": 91,
    "start_time": "2023-06-15T09:21:23.588Z"
   },
   {
    "duration": 97,
    "start_time": "2023-06-15T09:21:23.681Z"
   },
   {
    "duration": 88,
    "start_time": "2023-06-15T09:21:23.779Z"
   },
   {
    "duration": 147,
    "start_time": "2023-06-15T09:21:23.869Z"
   },
   {
    "duration": 38,
    "start_time": "2023-06-15T09:21:24.018Z"
   },
   {
    "duration": 160,
    "start_time": "2023-06-15T09:21:24.058Z"
   },
   {
    "duration": 3,
    "start_time": "2023-06-15T09:21:24.220Z"
   },
   {
    "duration": 27,
    "start_time": "2023-06-15T09:21:24.235Z"
   },
   {
    "duration": 57,
    "start_time": "2023-06-15T09:21:24.264Z"
   },
   {
    "duration": 10,
    "start_time": "2023-06-15T09:21:24.322Z"
   },
   {
    "duration": 44,
    "start_time": "2023-06-15T09:21:24.335Z"
   },
   {
    "duration": 31,
    "start_time": "2023-06-15T09:21:24.381Z"
   },
   {
    "duration": 49,
    "start_time": "2023-06-15T09:21:24.413Z"
   },
   {
    "duration": 42,
    "start_time": "2023-06-15T09:21:24.464Z"
   },
   {
    "duration": 5,
    "start_time": "2023-06-15T09:21:39.967Z"
   },
   {
    "duration": 880,
    "start_time": "2023-06-15T09:21:39.974Z"
   },
   {
    "duration": 168,
    "start_time": "2023-06-15T09:21:40.856Z"
   },
   {
    "duration": 82,
    "start_time": "2023-06-15T09:21:41.026Z"
   },
   {
    "duration": 3,
    "start_time": "2023-06-15T09:21:41.110Z"
   },
   {
    "duration": 139,
    "start_time": "2023-06-15T09:21:41.115Z"
   },
   {
    "duration": 77,
    "start_time": "2023-06-15T09:21:41.256Z"
   },
   {
    "duration": 172,
    "start_time": "2023-06-15T09:21:41.335Z"
   },
   {
    "duration": 75,
    "start_time": "2023-06-15T09:21:41.509Z"
   },
   {
    "duration": 142,
    "start_time": "2023-06-15T09:21:41.586Z"
   },
   {
    "duration": 31,
    "start_time": "2023-06-15T09:21:41.731Z"
   },
   {
    "duration": 174,
    "start_time": "2023-06-15T09:21:41.764Z"
   },
   {
    "duration": 4,
    "start_time": "2023-06-15T09:21:41.940Z"
   },
   {
    "duration": 25,
    "start_time": "2023-06-15T09:21:41.948Z"
   },
   {
    "duration": 41,
    "start_time": "2023-06-15T09:21:41.974Z"
   },
   {
    "duration": 10,
    "start_time": "2023-06-15T09:21:42.017Z"
   },
   {
    "duration": 14,
    "start_time": "2023-06-15T09:21:42.032Z"
   },
   {
    "duration": 3,
    "start_time": "2023-06-15T09:21:42.048Z"
   },
   {
    "duration": 15,
    "start_time": "2023-06-15T09:21:42.053Z"
   },
   {
    "duration": 7,
    "start_time": "2023-06-15T09:21:42.069Z"
   },
   {
    "duration": 84,
    "start_time": "2023-06-15T09:21:42.077Z"
   },
   {
    "duration": 181,
    "start_time": "2023-06-15T09:21:42.163Z"
   },
   {
    "duration": 2,
    "start_time": "2023-06-15T09:38:05.357Z"
   },
   {
    "duration": 2,
    "start_time": "2023-06-15T09:38:07.222Z"
   },
   {
    "duration": 15,
    "start_time": "2023-06-15T09:38:24.100Z"
   },
   {
    "duration": 11,
    "start_time": "2023-06-15T09:43:06.613Z"
   },
   {
    "duration": 2995,
    "start_time": "2023-06-15T09:43:23.465Z"
   },
   {
    "duration": 21,
    "start_time": "2023-06-15T09:43:28.322Z"
   },
   {
    "duration": 88,
    "start_time": "2023-06-15T09:48:01.839Z"
   },
   {
    "duration": 4,
    "start_time": "2023-06-15T09:48:50.581Z"
   },
   {
    "duration": 18,
    "start_time": "2023-06-15T09:48:50.587Z"
   },
   {
    "duration": 13,
    "start_time": "2023-06-15T09:48:50.607Z"
   },
   {
    "duration": 759,
    "start_time": "2023-06-15T09:48:50.621Z"
   },
   {
    "duration": 140,
    "start_time": "2023-06-15T09:48:51.382Z"
   },
   {
    "duration": 70,
    "start_time": "2023-06-15T09:48:51.524Z"
   },
   {
    "duration": 3,
    "start_time": "2023-06-15T09:48:51.596Z"
   },
   {
    "duration": 115,
    "start_time": "2023-06-15T09:48:51.601Z"
   },
   {
    "duration": 68,
    "start_time": "2023-06-15T09:48:51.718Z"
   },
   {
    "duration": 80,
    "start_time": "2023-06-15T09:48:51.788Z"
   },
   {
    "duration": 75,
    "start_time": "2023-06-15T09:48:51.870Z"
   },
   {
    "duration": 134,
    "start_time": "2023-06-15T09:48:51.946Z"
   },
   {
    "duration": 20,
    "start_time": "2023-06-15T09:48:52.082Z"
   },
   {
    "duration": 2,
    "start_time": "2023-06-15T09:48:52.104Z"
   },
   {
    "duration": 11,
    "start_time": "2023-06-15T09:48:52.107Z"
   },
   {
    "duration": 19,
    "start_time": "2023-06-15T09:48:52.119Z"
   },
   {
    "duration": 36,
    "start_time": "2023-06-15T09:48:52.139Z"
   },
   {
    "duration": 43,
    "start_time": "2023-06-15T09:48:52.176Z"
   },
   {
    "duration": 10,
    "start_time": "2023-06-15T09:48:52.221Z"
   },
   {
    "duration": 23,
    "start_time": "2023-06-15T09:48:52.232Z"
   },
   {
    "duration": 20,
    "start_time": "2023-06-15T09:48:52.256Z"
   },
   {
    "duration": 6,
    "start_time": "2023-06-15T09:48:52.278Z"
   },
   {
    "duration": 98,
    "start_time": "2023-06-15T09:48:52.286Z"
   },
   {
    "duration": 141,
    "start_time": "2023-06-15T09:48:52.385Z"
   },
   {
    "duration": 0,
    "start_time": "2023-06-15T09:48:52.527Z"
   },
   {
    "duration": 0,
    "start_time": "2023-06-15T09:48:52.532Z"
   },
   {
    "duration": 0,
    "start_time": "2023-06-15T09:48:52.534Z"
   },
   {
    "duration": 0,
    "start_time": "2023-06-15T09:48:52.535Z"
   },
   {
    "duration": 0,
    "start_time": "2023-06-15T09:48:52.537Z"
   },
   {
    "duration": 0,
    "start_time": "2023-06-15T09:48:52.538Z"
   },
   {
    "duration": 0,
    "start_time": "2023-06-15T09:48:52.539Z"
   },
   {
    "duration": 0,
    "start_time": "2023-06-15T09:48:52.541Z"
   },
   {
    "duration": 0,
    "start_time": "2023-06-15T09:48:52.542Z"
   },
   {
    "duration": 0,
    "start_time": "2023-06-15T09:48:52.544Z"
   },
   {
    "duration": 121,
    "start_time": "2023-06-15T09:50:00.496Z"
   },
   {
    "duration": 142,
    "start_time": "2023-06-15T09:50:43.399Z"
   },
   {
    "duration": 3,
    "start_time": "2023-06-15T09:52:50.095Z"
   },
   {
    "duration": 54,
    "start_time": "2023-06-15T09:53:35.959Z"
   },
   {
    "duration": 4,
    "start_time": "2023-06-15T09:54:05.071Z"
   },
   {
    "duration": 119,
    "start_time": "2023-06-15T09:54:09.590Z"
   },
   {
    "duration": 1472,
    "start_time": "2023-06-15T09:54:42.268Z"
   },
   {
    "duration": 3,
    "start_time": "2023-06-15T09:54:43.742Z"
   },
   {
    "duration": 112,
    "start_time": "2023-06-15T09:54:43.746Z"
   },
   {
    "duration": 8,
    "start_time": "2023-06-15T09:54:43.860Z"
   },
   {
    "duration": 846,
    "start_time": "2023-06-15T09:54:43.870Z"
   },
   {
    "duration": 145,
    "start_time": "2023-06-15T09:54:44.717Z"
   },
   {
    "duration": 76,
    "start_time": "2023-06-15T09:54:44.864Z"
   },
   {
    "duration": 4,
    "start_time": "2023-06-15T09:54:44.942Z"
   },
   {
    "duration": 173,
    "start_time": "2023-06-15T09:54:44.947Z"
   },
   {
    "duration": 84,
    "start_time": "2023-06-15T09:54:45.123Z"
   },
   {
    "duration": 86,
    "start_time": "2023-06-15T09:54:45.209Z"
   },
   {
    "duration": 78,
    "start_time": "2023-06-15T09:54:45.296Z"
   },
   {
    "duration": 139,
    "start_time": "2023-06-15T09:54:45.376Z"
   },
   {
    "duration": 29,
    "start_time": "2023-06-15T09:54:45.516Z"
   },
   {
    "duration": 5,
    "start_time": "2023-06-15T09:54:45.546Z"
   },
   {
    "duration": 9,
    "start_time": "2023-06-15T09:54:45.552Z"
   },
   {
    "duration": 23,
    "start_time": "2023-06-15T09:54:45.566Z"
   },
   {
    "duration": 34,
    "start_time": "2023-06-15T09:54:45.590Z"
   },
   {
    "duration": 43,
    "start_time": "2023-06-15T09:54:45.626Z"
   },
   {
    "duration": 13,
    "start_time": "2023-06-15T09:54:45.672Z"
   },
   {
    "duration": 37,
    "start_time": "2023-06-15T09:54:45.687Z"
   },
   {
    "duration": 27,
    "start_time": "2023-06-15T09:54:45.726Z"
   },
   {
    "duration": 23,
    "start_time": "2023-06-15T09:54:45.755Z"
   },
   {
    "duration": 116,
    "start_time": "2023-06-15T09:54:45.781Z"
   },
   {
    "duration": 151,
    "start_time": "2023-06-15T09:54:45.899Z"
   },
   {
    "duration": 3,
    "start_time": "2023-06-15T09:54:46.052Z"
   },
   {
    "duration": 60,
    "start_time": "2023-06-15T09:54:46.056Z"
   },
   {
    "duration": 187568,
    "start_time": "2023-06-15T09:54:46.120Z"
   },
   {
    "duration": 3,
    "start_time": "2023-06-15T09:57:53.689Z"
   },
   {
    "duration": 23,
    "start_time": "2023-06-15T09:57:53.694Z"
   },
   {
    "duration": 1411,
    "start_time": "2023-06-15T09:58:16.556Z"
   },
   {
    "duration": 3,
    "start_time": "2023-06-15T09:58:17.969Z"
   },
   {
    "duration": 108,
    "start_time": "2023-06-15T09:58:17.973Z"
   },
   {
    "duration": 0,
    "start_time": "2023-06-15T09:58:18.083Z"
   },
   {
    "duration": 0,
    "start_time": "2023-06-15T09:58:18.085Z"
   },
   {
    "duration": 0,
    "start_time": "2023-06-15T09:58:18.087Z"
   },
   {
    "duration": 0,
    "start_time": "2023-06-15T09:58:18.088Z"
   },
   {
    "duration": 0,
    "start_time": "2023-06-15T09:58:18.090Z"
   },
   {
    "duration": 0,
    "start_time": "2023-06-15T09:58:18.091Z"
   },
   {
    "duration": 0,
    "start_time": "2023-06-15T09:58:18.092Z"
   },
   {
    "duration": 0,
    "start_time": "2023-06-15T09:58:18.093Z"
   },
   {
    "duration": 0,
    "start_time": "2023-06-15T09:58:18.094Z"
   },
   {
    "duration": 0,
    "start_time": "2023-06-15T09:58:18.095Z"
   },
   {
    "duration": 0,
    "start_time": "2023-06-15T09:58:18.097Z"
   },
   {
    "duration": 0,
    "start_time": "2023-06-15T09:58:18.098Z"
   },
   {
    "duration": 0,
    "start_time": "2023-06-15T09:58:18.099Z"
   },
   {
    "duration": 0,
    "start_time": "2023-06-15T09:58:18.100Z"
   },
   {
    "duration": 0,
    "start_time": "2023-06-15T09:58:18.101Z"
   },
   {
    "duration": 0,
    "start_time": "2023-06-15T09:58:18.102Z"
   },
   {
    "duration": 0,
    "start_time": "2023-06-15T09:58:18.103Z"
   },
   {
    "duration": 0,
    "start_time": "2023-06-15T09:58:18.104Z"
   },
   {
    "duration": 0,
    "start_time": "2023-06-15T09:58:18.105Z"
   },
   {
    "duration": 0,
    "start_time": "2023-06-15T09:58:18.106Z"
   },
   {
    "duration": 0,
    "start_time": "2023-06-15T09:58:18.107Z"
   },
   {
    "duration": 0,
    "start_time": "2023-06-15T09:58:18.108Z"
   },
   {
    "duration": 0,
    "start_time": "2023-06-15T09:58:18.109Z"
   },
   {
    "duration": 0,
    "start_time": "2023-06-15T09:58:18.111Z"
   },
   {
    "duration": 0,
    "start_time": "2023-06-15T09:58:18.113Z"
   },
   {
    "duration": 0,
    "start_time": "2023-06-15T09:58:18.114Z"
   },
   {
    "duration": 0,
    "start_time": "2023-06-15T09:58:18.115Z"
   },
   {
    "duration": 0,
    "start_time": "2023-06-15T09:58:18.117Z"
   },
   {
    "duration": 0,
    "start_time": "2023-06-15T09:58:18.118Z"
   },
   {
    "duration": 0,
    "start_time": "2023-06-15T09:58:18.119Z"
   },
   {
    "duration": 0,
    "start_time": "2023-06-15T09:58:18.120Z"
   },
   {
    "duration": 4,
    "start_time": "2023-06-15T09:58:56.703Z"
   },
   {
    "duration": 26,
    "start_time": "2023-06-15T09:58:56.709Z"
   },
   {
    "duration": 19,
    "start_time": "2023-06-15T09:58:56.737Z"
   },
   {
    "duration": 25,
    "start_time": "2023-06-15T09:58:56.758Z"
   },
   {
    "duration": 817,
    "start_time": "2023-06-15T09:58:56.785Z"
   },
   {
    "duration": 148,
    "start_time": "2023-06-15T09:58:57.604Z"
   },
   {
    "duration": 95,
    "start_time": "2023-06-15T09:58:57.754Z"
   },
   {
    "duration": 3,
    "start_time": "2023-06-15T09:58:57.851Z"
   },
   {
    "duration": 151,
    "start_time": "2023-06-15T09:58:57.856Z"
   },
   {
    "duration": 68,
    "start_time": "2023-06-15T09:58:58.009Z"
   },
   {
    "duration": 97,
    "start_time": "2023-06-15T09:58:58.079Z"
   },
   {
    "duration": 70,
    "start_time": "2023-06-15T09:58:58.177Z"
   },
   {
    "duration": 142,
    "start_time": "2023-06-15T09:58:58.249Z"
   },
   {
    "duration": 23,
    "start_time": "2023-06-15T09:58:58.395Z"
   },
   {
    "duration": 13,
    "start_time": "2023-06-15T09:58:58.419Z"
   },
   {
    "duration": 13,
    "start_time": "2023-06-15T09:58:58.433Z"
   },
   {
    "duration": 18,
    "start_time": "2023-06-15T09:58:58.448Z"
   },
   {
    "duration": 15,
    "start_time": "2023-06-15T09:58:58.467Z"
   },
   {
    "duration": 48,
    "start_time": "2023-06-15T09:58:58.484Z"
   },
   {
    "duration": 9,
    "start_time": "2023-06-15T09:58:58.534Z"
   },
   {
    "duration": 13,
    "start_time": "2023-06-15T09:58:58.545Z"
   },
   {
    "duration": 15,
    "start_time": "2023-06-15T09:58:58.560Z"
   },
   {
    "duration": 8,
    "start_time": "2023-06-15T09:58:58.577Z"
   },
   {
    "duration": 126,
    "start_time": "2023-06-15T09:58:58.587Z"
   },
   {
    "duration": 108,
    "start_time": "2023-06-15T09:58:58.714Z"
   },
   {
    "duration": 0,
    "start_time": "2023-06-15T09:58:58.824Z"
   },
   {
    "duration": 0,
    "start_time": "2023-06-15T09:58:58.825Z"
   },
   {
    "duration": 0,
    "start_time": "2023-06-15T09:58:58.831Z"
   },
   {
    "duration": 0,
    "start_time": "2023-06-15T09:58:58.832Z"
   },
   {
    "duration": 0,
    "start_time": "2023-06-15T09:58:58.833Z"
   },
   {
    "duration": 0,
    "start_time": "2023-06-15T09:58:58.834Z"
   },
   {
    "duration": 0,
    "start_time": "2023-06-15T09:58:58.835Z"
   },
   {
    "duration": 0,
    "start_time": "2023-06-15T09:58:58.836Z"
   },
   {
    "duration": 0,
    "start_time": "2023-06-15T09:58:58.838Z"
   },
   {
    "duration": 93,
    "start_time": "2023-06-15T09:59:43.710Z"
   },
   {
    "duration": 1480,
    "start_time": "2023-06-15T09:59:44.993Z"
   },
   {
    "duration": 4,
    "start_time": "2023-06-15T10:00:07.414Z"
   },
   {
    "duration": 2176,
    "start_time": "2023-06-15T10:00:10.250Z"
   },
   {
    "duration": 4,
    "start_time": "2023-06-15T10:00:33.843Z"
   },
   {
    "duration": 1411,
    "start_time": "2023-06-15T10:00:36.920Z"
   },
   {
    "duration": 4,
    "start_time": "2023-06-15T10:01:26.472Z"
   },
   {
    "duration": 83,
    "start_time": "2023-06-15T10:01:29.368Z"
   },
   {
    "duration": 2,
    "start_time": "2023-06-15T10:01:46.678Z"
   },
   {
    "duration": 2,
    "start_time": "2023-06-15T10:01:46.843Z"
   },
   {
    "duration": 728630,
    "start_time": "2023-06-15T10:01:47.019Z"
   },
   {
    "duration": 3,
    "start_time": "2023-06-15T10:13:55.650Z"
   },
   {
    "duration": 20,
    "start_time": "2023-06-15T10:13:55.654Z"
   },
   {
    "duration": 426763,
    "start_time": "2023-06-15T10:13:55.676Z"
   },
   {
    "duration": 1594,
    "start_time": "2023-06-15T10:21:02.440Z"
   },
   {
    "duration": 485,
    "start_time": "2023-06-15T10:21:04.035Z"
   },
   {
    "duration": 329,
    "start_time": "2023-06-15T10:21:04.522Z"
   },
   {
    "duration": 247,
    "start_time": "2023-06-15T10:27:32.495Z"
   },
   {
    "duration": 1856,
    "start_time": "2023-06-15T11:02:45.116Z"
   },
   {
    "duration": 0,
    "start_time": "2023-06-15T11:02:46.973Z"
   },
   {
    "duration": 0,
    "start_time": "2023-06-15T11:02:46.975Z"
   },
   {
    "duration": 0,
    "start_time": "2023-06-15T11:02:46.976Z"
   },
   {
    "duration": 0,
    "start_time": "2023-06-15T11:02:46.977Z"
   },
   {
    "duration": 0,
    "start_time": "2023-06-15T11:02:46.978Z"
   },
   {
    "duration": 0,
    "start_time": "2023-06-15T11:02:46.979Z"
   },
   {
    "duration": 0,
    "start_time": "2023-06-15T11:02:46.980Z"
   },
   {
    "duration": 0,
    "start_time": "2023-06-15T11:02:46.981Z"
   },
   {
    "duration": 11,
    "start_time": "2023-06-15T11:02:47.111Z"
   },
   {
    "duration": 9,
    "start_time": "2023-06-15T11:02:47.245Z"
   },
   {
    "duration": 8,
    "start_time": "2023-06-15T11:02:47.406Z"
   },
   {
    "duration": 9,
    "start_time": "2023-06-15T11:02:47.526Z"
   },
   {
    "duration": 3154,
    "start_time": "2023-06-15T11:02:59.843Z"
   },
   {
    "duration": 22,
    "start_time": "2023-06-15T11:03:09.926Z"
   },
   {
    "duration": 4,
    "start_time": "2023-06-15T11:03:11.017Z"
   },
   {
    "duration": 3,
    "start_time": "2023-06-15T11:03:11.414Z"
   },
   {
    "duration": 2931,
    "start_time": "2023-06-15T11:03:11.733Z"
   },
   {
    "duration": 114,
    "start_time": "2023-06-15T11:03:14.667Z"
   },
   {
    "duration": 55,
    "start_time": "2023-06-15T11:03:14.782Z"
   },
   {
    "duration": 3,
    "start_time": "2023-06-15T11:03:14.839Z"
   },
   {
    "duration": 121,
    "start_time": "2023-06-15T11:03:14.856Z"
   },
   {
    "duration": 55,
    "start_time": "2023-06-15T11:03:14.978Z"
   },
   {
    "duration": 77,
    "start_time": "2023-06-15T11:03:15.035Z"
   },
   {
    "duration": 79,
    "start_time": "2023-06-15T11:03:15.113Z"
   },
   {
    "duration": 150,
    "start_time": "2023-06-15T11:03:15.194Z"
   },
   {
    "duration": 23,
    "start_time": "2023-06-15T11:03:17.202Z"
   },
   {
    "duration": 2,
    "start_time": "2023-06-15T11:03:17.343Z"
   },
   {
    "duration": 3,
    "start_time": "2023-06-15T11:03:17.482Z"
   },
   {
    "duration": 2,
    "start_time": "2023-06-15T11:03:18.256Z"
   },
   {
    "duration": 9,
    "start_time": "2023-06-15T11:03:18.632Z"
   },
   {
    "duration": 40,
    "start_time": "2023-06-15T11:03:18.794Z"
   },
   {
    "duration": 10,
    "start_time": "2023-06-15T11:03:19.249Z"
   },
   {
    "duration": 8,
    "start_time": "2023-06-15T11:03:19.546Z"
   },
   {
    "duration": 10,
    "start_time": "2023-06-15T11:03:23.584Z"
   },
   {
    "duration": 4,
    "start_time": "2023-06-15T11:03:24.606Z"
   }
  ],
  "kernelspec": {
   "display_name": "Python 3 (ipykernel)",
   "language": "python",
   "name": "python3"
  },
  "language_info": {
   "codemirror_mode": {
    "name": "ipython",
    "version": 3
   },
   "file_extension": ".py",
   "mimetype": "text/x-python",
   "name": "python",
   "nbconvert_exporter": "python",
   "pygments_lexer": "ipython3",
   "version": "3.10.9"
  },
  "toc": {
   "base_numbering": 1,
   "nav_menu": {},
   "number_sections": true,
   "sideBar": true,
   "skip_h1_title": true,
   "title_cell": "Table of Contents",
   "title_sidebar": "Contents",
   "toc_cell": false,
   "toc_position": {},
   "toc_section_display": true,
   "toc_window_display": false
  }
 },
 "nbformat": 4,
 "nbformat_minor": 2
}
